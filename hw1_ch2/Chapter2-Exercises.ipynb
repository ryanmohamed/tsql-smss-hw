{
    "metadata": {
        "kernelspec": {
            "name": "SQL",
            "display_name": "SQL",
            "language": "sql"
        },
        "language_info": {
            "name": "sql",
            "version": ""
        }
    },
    "nbformat_minor": 2,
    "nbformat": 4,
    "cells": [
        {
            "cell_type": "markdown",
            "source": [
                "**Here we see the conversion of the TSQLV4 db queries to Pascal Case naming convention (kind of like camel cased) in NorthWinds...**"
            ],
            "metadata": {
                "language": "sql",
                "azdata_cell_guid": "b1d97358-eae3-4288-9fe9-95696f3c5d3f"
            },
            "attachments": {}
        },
        {
            "cell_type": "code",
            "source": [
                "use TSQLV4\n",
                "go\n",
                "select * from hr.Employees\n",
                "\n",
                "use Northwinds2022TSQLV7\n",
                "go\n",
                "select * from HumanResources.Employee"
            ],
            "metadata": {
                "language": "sql",
                "azdata_cell_guid": "d1d5b03e-0a08-4401-8abd-e52c875447a7",
                "tags": []
            },
            "outputs": [
                {
                    "output_type": "display_data",
                    "data": {
                        "text/html": "Commands completed successfully."
                    },
                    "metadata": {}
                },
                {
                    "output_type": "display_data",
                    "data": {
                        "text/html": "(9 rows affected)"
                    },
                    "metadata": {}
                },
                {
                    "output_type": "display_data",
                    "data": {
                        "text/html": "(9 rows affected)"
                    },
                    "metadata": {}
                },
                {
                    "output_type": "display_data",
                    "data": {
                        "text/html": "Total execution time: 00:00:00.040"
                    },
                    "metadata": {}
                },
                {
                    "output_type": "execute_result",
                    "execution_count": 140,
                    "data": {
                        "application/vnd.dataresource+json": {
                            "schema": {
                                "fields": [
                                    {
                                        "name": "empid"
                                    },
                                    {
                                        "name": "lastname"
                                    },
                                    {
                                        "name": "firstname"
                                    },
                                    {
                                        "name": "FullName"
                                    },
                                    {
                                        "name": "title"
                                    },
                                    {
                                        "name": "titleofcourtesy"
                                    },
                                    {
                                        "name": "birthdate"
                                    },
                                    {
                                        "name": "hiredate"
                                    },
                                    {
                                        "name": "address"
                                    },
                                    {
                                        "name": "city"
                                    },
                                    {
                                        "name": "region"
                                    },
                                    {
                                        "name": "postalcode"
                                    },
                                    {
                                        "name": "country"
                                    },
                                    {
                                        "name": "phone"
                                    },
                                    {
                                        "name": "mgrid"
                                    }
                                ]
                            },
                            "data": [
                                {
                                    "0": "1",
                                    "1": "Davis",
                                    "2": "Sara",
                                    "3": "Sara Davis",
                                    "4": "CEO",
                                    "5": "Ms.",
                                    "6": "1968-12-08",
                                    "7": "2013-05-01",
                                    "8": "7890 - 20th Ave. E., Apt. 2A",
                                    "9": "Seattle",
                                    "10": "WA",
                                    "11": "10003",
                                    "12": "USA",
                                    "13": "(206) 555-0101",
                                    "14": "NULL"
                                },
                                {
                                    "0": "2",
                                    "1": "Funk",
                                    "2": "Don",
                                    "3": "Don Funk",
                                    "4": "Vice President, Sales",
                                    "5": "Dr.",
                                    "6": "1972-02-19",
                                    "7": "2013-08-14",
                                    "8": "9012 W. Capital Way",
                                    "9": "Tacoma",
                                    "10": "WA",
                                    "11": "10001",
                                    "12": "USA",
                                    "13": "(206) 555-0100",
                                    "14": "1"
                                },
                                {
                                    "0": "3",
                                    "1": "Lew",
                                    "2": "Judy",
                                    "3": "Judy Lew",
                                    "4": "Sales Manager",
                                    "5": "Ms.",
                                    "6": "1983-08-30",
                                    "7": "2013-04-01",
                                    "8": "2345 Moss Bay Blvd.",
                                    "9": "Kirkland",
                                    "10": "WA",
                                    "11": "10007",
                                    "12": "USA",
                                    "13": "(206) 555-0103",
                                    "14": "2"
                                },
                                {
                                    "0": "4",
                                    "1": "Peled",
                                    "2": "Yael",
                                    "3": "Yael Peled",
                                    "4": "Sales Representative",
                                    "5": "Mrs.",
                                    "6": "1957-09-19",
                                    "7": "2014-05-03",
                                    "8": "5678 Old Redmond Rd.",
                                    "9": "Redmond",
                                    "10": "WA",
                                    "11": "10009",
                                    "12": "USA",
                                    "13": "(206) 555-0104",
                                    "14": "3"
                                },
                                {
                                    "0": "5",
                                    "1": "Mortensen",
                                    "2": "Sven",
                                    "3": "Sven Mortensen",
                                    "4": "Sales Manager",
                                    "5": "Mr.",
                                    "6": "1975-03-04",
                                    "7": "2014-10-17",
                                    "8": "8901 Garrett Hill",
                                    "9": "London",
                                    "10": "NULL",
                                    "11": "10004",
                                    "12": "UK",
                                    "13": "(71) 234-5678",
                                    "14": "2"
                                },
                                {
                                    "0": "6",
                                    "1": "Suurs",
                                    "2": "Paul",
                                    "3": "Paul Suurs",
                                    "4": "Sales Representative",
                                    "5": "Mr.",
                                    "6": "1983-07-02",
                                    "7": "2014-10-17",
                                    "8": "3456 Coventry House, Miner Rd.",
                                    "9": "London",
                                    "10": "NULL",
                                    "11": "10005",
                                    "12": "UK",
                                    "13": "(71) 345-6789",
                                    "14": "5"
                                },
                                {
                                    "0": "7",
                                    "1": "King",
                                    "2": "Russell",
                                    "3": "Russell King",
                                    "4": "Sales Representative",
                                    "5": "Mr.",
                                    "6": "1980-05-29",
                                    "7": "2015-01-02",
                                    "8": "6789 Edgeham Hollow, Winchester Way",
                                    "9": "London",
                                    "10": "NULL",
                                    "11": "10002",
                                    "12": "UK",
                                    "13": "(71) 123-4567",
                                    "14": "5"
                                },
                                {
                                    "0": "8",
                                    "1": "Cameron",
                                    "2": "Maria",
                                    "3": "Maria Cameron",
                                    "4": "Sales Representative",
                                    "5": "Ms.",
                                    "6": "1978-01-09",
                                    "7": "2015-03-05",
                                    "8": "4567 - 11th Ave. N.E.",
                                    "9": "Seattle",
                                    "10": "WA",
                                    "11": "10006",
                                    "12": "USA",
                                    "13": "(206) 555-0102",
                                    "14": "3"
                                },
                                {
                                    "0": "9",
                                    "1": "Doyle",
                                    "2": "Patricia",
                                    "3": "Patricia Doyle",
                                    "4": "Sales Representative",
                                    "5": "Ms.",
                                    "6": "1986-01-27",
                                    "7": "2015-11-15",
                                    "8": "1234 Houndstooth Rd.",
                                    "9": "London",
                                    "10": "NULL",
                                    "11": "10008",
                                    "12": "UK",
                                    "13": "(71) 456-7890",
                                    "14": "5"
                                }
                            ]
                        },
                        "text/html": "<table><tr><th>empid</th><th>lastname</th><th>firstname</th><th>FullName</th><th>title</th><th>titleofcourtesy</th><th>birthdate</th><th>hiredate</th><th>address</th><th>city</th><th>region</th><th>postalcode</th><th>country</th><th>phone</th><th>mgrid</th></tr><tr><td>1</td><td>Davis</td><td>Sara</td><td>Sara Davis</td><td>CEO</td><td>Ms.</td><td>1968-12-08</td><td>2013-05-01</td><td>7890 - 20th Ave. E., Apt. 2A</td><td>Seattle</td><td>WA</td><td>10003</td><td>USA</td><td>(206) 555-0101</td><td>NULL</td></tr><tr><td>2</td><td>Funk</td><td>Don</td><td>Don Funk</td><td>Vice President, Sales</td><td>Dr.</td><td>1972-02-19</td><td>2013-08-14</td><td>9012 W. Capital Way</td><td>Tacoma</td><td>WA</td><td>10001</td><td>USA</td><td>(206) 555-0100</td><td>1</td></tr><tr><td>3</td><td>Lew</td><td>Judy</td><td>Judy Lew</td><td>Sales Manager</td><td>Ms.</td><td>1983-08-30</td><td>2013-04-01</td><td>2345 Moss Bay Blvd.</td><td>Kirkland</td><td>WA</td><td>10007</td><td>USA</td><td>(206) 555-0103</td><td>2</td></tr><tr><td>4</td><td>Peled</td><td>Yael</td><td>Yael Peled</td><td>Sales Representative</td><td>Mrs.</td><td>1957-09-19</td><td>2014-05-03</td><td>5678 Old Redmond Rd.</td><td>Redmond</td><td>WA</td><td>10009</td><td>USA</td><td>(206) 555-0104</td><td>3</td></tr><tr><td>5</td><td>Mortensen</td><td>Sven</td><td>Sven Mortensen</td><td>Sales Manager</td><td>Mr.</td><td>1975-03-04</td><td>2014-10-17</td><td>8901 Garrett Hill</td><td>London</td><td>NULL</td><td>10004</td><td>UK</td><td>(71) 234-5678</td><td>2</td></tr><tr><td>6</td><td>Suurs</td><td>Paul</td><td>Paul Suurs</td><td>Sales Representative</td><td>Mr.</td><td>1983-07-02</td><td>2014-10-17</td><td>3456 Coventry House, Miner Rd.</td><td>London</td><td>NULL</td><td>10005</td><td>UK</td><td>(71) 345-6789</td><td>5</td></tr><tr><td>7</td><td>King</td><td>Russell</td><td>Russell King</td><td>Sales Representative</td><td>Mr.</td><td>1980-05-29</td><td>2015-01-02</td><td>6789 Edgeham Hollow, Winchester Way</td><td>London</td><td>NULL</td><td>10002</td><td>UK</td><td>(71) 123-4567</td><td>5</td></tr><tr><td>8</td><td>Cameron</td><td>Maria</td><td>Maria Cameron</td><td>Sales Representative</td><td>Ms.</td><td>1978-01-09</td><td>2015-03-05</td><td>4567 - 11th Ave. N.E.</td><td>Seattle</td><td>WA</td><td>10006</td><td>USA</td><td>(206) 555-0102</td><td>3</td></tr><tr><td>9</td><td>Doyle</td><td>Patricia</td><td>Patricia Doyle</td><td>Sales Representative</td><td>Ms.</td><td>1986-01-27</td><td>2015-11-15</td><td>1234 Houndstooth Rd.</td><td>London</td><td>NULL</td><td>10008</td><td>UK</td><td>(71) 456-7890</td><td>5</td></tr></table>"
                    },
                    "metadata": {}
                },
                {
                    "output_type": "execute_result",
                    "execution_count": 140,
                    "data": {
                        "application/vnd.dataresource+json": {
                            "schema": {
                                "fields": [
                                    {
                                        "name": "EmployeeId"
                                    },
                                    {
                                        "name": "EmployeeLastName"
                                    },
                                    {
                                        "name": "EmployeeFirstName"
                                    },
                                    {
                                        "name": "EmployeeTitle"
                                    },
                                    {
                                        "name": "EmployeeTitleOfCourtesy"
                                    },
                                    {
                                        "name": "BirthDate"
                                    },
                                    {
                                        "name": "HireDate"
                                    },
                                    {
                                        "name": "EmployeeAddress"
                                    },
                                    {
                                        "name": "EmployeeCity"
                                    },
                                    {
                                        "name": "EmployeeRegion"
                                    },
                                    {
                                        "name": "EmployeePostalCode"
                                    },
                                    {
                                        "name": "EmployeeCountry"
                                    },
                                    {
                                        "name": "EmployeePhoneNumber"
                                    },
                                    {
                                        "name": "EmployeeManagerId"
                                    }
                                ]
                            },
                            "data": [
                                {
                                    "0": "1",
                                    "1": "Davis",
                                    "2": "Sara",
                                    "3": "CEO",
                                    "4": "Ms.",
                                    "5": "1968-12-08",
                                    "6": "2013-05-01",
                                    "7": "7890 - 20th Ave. E., Apt. 2A",
                                    "8": "Seattle",
                                    "9": "WA",
                                    "10": "10003",
                                    "11": "USA",
                                    "12": "(206) 555-0101",
                                    "13": "NULL"
                                },
                                {
                                    "0": "2",
                                    "1": "Funk",
                                    "2": "Don",
                                    "3": "Vice President, Sales",
                                    "4": "Dr.",
                                    "5": "1972-02-19",
                                    "6": "2013-08-14",
                                    "7": "9012 W. Capital Way",
                                    "8": "Tacoma",
                                    "9": "WA",
                                    "10": "10001",
                                    "11": "USA",
                                    "12": "(206) 555-0100",
                                    "13": "1"
                                },
                                {
                                    "0": "3",
                                    "1": "Lew",
                                    "2": "Judy",
                                    "3": "Sales Manager",
                                    "4": "Ms.",
                                    "5": "1983-08-30",
                                    "6": "2013-04-01",
                                    "7": "2345 Moss Bay Blvd.",
                                    "8": "Kirkland",
                                    "9": "WA",
                                    "10": "10007",
                                    "11": "USA",
                                    "12": "(206) 555-0103",
                                    "13": "2"
                                },
                                {
                                    "0": "4",
                                    "1": "Peled",
                                    "2": "Yael",
                                    "3": "Sales Representative",
                                    "4": "Mrs.",
                                    "5": "1957-09-19",
                                    "6": "2014-05-03",
                                    "7": "5678 Old Redmond Rd.",
                                    "8": "Redmond",
                                    "9": "WA",
                                    "10": "10009",
                                    "11": "USA",
                                    "12": "(206) 555-0104",
                                    "13": "3"
                                },
                                {
                                    "0": "5",
                                    "1": "Mortensen",
                                    "2": "Sven",
                                    "3": "Sales Manager",
                                    "4": "Mr.",
                                    "5": "1975-03-04",
                                    "6": "2014-10-17",
                                    "7": "8901 Garrett Hill",
                                    "8": "London",
                                    "9": "NULL",
                                    "10": "10004",
                                    "11": "UK",
                                    "12": "(71) 234-5678",
                                    "13": "2"
                                },
                                {
                                    "0": "6",
                                    "1": "Suurs",
                                    "2": "Paul",
                                    "3": "Sales Representative",
                                    "4": "Mr.",
                                    "5": "1983-07-02",
                                    "6": "2014-10-17",
                                    "7": "3456 Coventry House, Miner Rd.",
                                    "8": "London",
                                    "9": "NULL",
                                    "10": "10005",
                                    "11": "UK",
                                    "12": "(71) 345-6789",
                                    "13": "5"
                                },
                                {
                                    "0": "7",
                                    "1": "King",
                                    "2": "Russell",
                                    "3": "Sales Representative",
                                    "4": "Mr.",
                                    "5": "1980-05-29",
                                    "6": "2015-01-02",
                                    "7": "6789 Edgeham Hollow, Winchester Way",
                                    "8": "London",
                                    "9": "NULL",
                                    "10": "10002",
                                    "11": "UK",
                                    "12": "(71) 123-4567",
                                    "13": "5"
                                },
                                {
                                    "0": "8",
                                    "1": "Cameron",
                                    "2": "Maria",
                                    "3": "Sales Representative",
                                    "4": "Ms.",
                                    "5": "1978-01-09",
                                    "6": "2015-03-05",
                                    "7": "4567 - 11th Ave. N.E.",
                                    "8": "Seattle",
                                    "9": "WA",
                                    "10": "10006",
                                    "11": "USA",
                                    "12": "(206) 555-0102",
                                    "13": "3"
                                },
                                {
                                    "0": "9",
                                    "1": "Doyle",
                                    "2": "Patricia",
                                    "3": "Sales Representative",
                                    "4": "Ms.",
                                    "5": "1986-01-27",
                                    "6": "2015-11-15",
                                    "7": "1234 Houndstooth Rd.",
                                    "8": "London",
                                    "9": "NULL",
                                    "10": "10008",
                                    "11": "UK",
                                    "12": "(71) 456-7890",
                                    "13": "5"
                                }
                            ]
                        },
                        "text/html": "<table><tr><th>EmployeeId</th><th>EmployeeLastName</th><th>EmployeeFirstName</th><th>EmployeeTitle</th><th>EmployeeTitleOfCourtesy</th><th>BirthDate</th><th>HireDate</th><th>EmployeeAddress</th><th>EmployeeCity</th><th>EmployeeRegion</th><th>EmployeePostalCode</th><th>EmployeeCountry</th><th>EmployeePhoneNumber</th><th>EmployeeManagerId</th></tr><tr><td>1</td><td>Davis</td><td>Sara</td><td>CEO</td><td>Ms.</td><td>1968-12-08</td><td>2013-05-01</td><td>7890 - 20th Ave. E., Apt. 2A</td><td>Seattle</td><td>WA</td><td>10003</td><td>USA</td><td>(206) 555-0101</td><td>NULL</td></tr><tr><td>2</td><td>Funk</td><td>Don</td><td>Vice President, Sales</td><td>Dr.</td><td>1972-02-19</td><td>2013-08-14</td><td>9012 W. Capital Way</td><td>Tacoma</td><td>WA</td><td>10001</td><td>USA</td><td>(206) 555-0100</td><td>1</td></tr><tr><td>3</td><td>Lew</td><td>Judy</td><td>Sales Manager</td><td>Ms.</td><td>1983-08-30</td><td>2013-04-01</td><td>2345 Moss Bay Blvd.</td><td>Kirkland</td><td>WA</td><td>10007</td><td>USA</td><td>(206) 555-0103</td><td>2</td></tr><tr><td>4</td><td>Peled</td><td>Yael</td><td>Sales Representative</td><td>Mrs.</td><td>1957-09-19</td><td>2014-05-03</td><td>5678 Old Redmond Rd.</td><td>Redmond</td><td>WA</td><td>10009</td><td>USA</td><td>(206) 555-0104</td><td>3</td></tr><tr><td>5</td><td>Mortensen</td><td>Sven</td><td>Sales Manager</td><td>Mr.</td><td>1975-03-04</td><td>2014-10-17</td><td>8901 Garrett Hill</td><td>London</td><td>NULL</td><td>10004</td><td>UK</td><td>(71) 234-5678</td><td>2</td></tr><tr><td>6</td><td>Suurs</td><td>Paul</td><td>Sales Representative</td><td>Mr.</td><td>1983-07-02</td><td>2014-10-17</td><td>3456 Coventry House, Miner Rd.</td><td>London</td><td>NULL</td><td>10005</td><td>UK</td><td>(71) 345-6789</td><td>5</td></tr><tr><td>7</td><td>King</td><td>Russell</td><td>Sales Representative</td><td>Mr.</td><td>1980-05-29</td><td>2015-01-02</td><td>6789 Edgeham Hollow, Winchester Way</td><td>London</td><td>NULL</td><td>10002</td><td>UK</td><td>(71) 123-4567</td><td>5</td></tr><tr><td>8</td><td>Cameron</td><td>Maria</td><td>Sales Representative</td><td>Ms.</td><td>1978-01-09</td><td>2015-03-05</td><td>4567 - 11th Ave. N.E.</td><td>Seattle</td><td>WA</td><td>10006</td><td>USA</td><td>(206) 555-0102</td><td>3</td></tr><tr><td>9</td><td>Doyle</td><td>Patricia</td><td>Sales Representative</td><td>Ms.</td><td>1986-01-27</td><td>2015-11-15</td><td>1234 Houndstooth Rd.</td><td>London</td><td>NULL</td><td>10008</td><td>UK</td><td>(71) 456-7890</td><td>5</td></tr></table>"
                    },
                    "metadata": {}
                }
            ],
            "execution_count": 140
        },
        {
            "cell_type": "markdown",
            "source": [
                "# `QUERY 1) Return orders placed in June 2015`\n",
                "\n",
                "### `TABLES INVOLVED) Sales.Order`\n",
                "\n",
                "```\n",
                "orderid     orderdate  custid      empid\n",
                "----------- ---------- ----------- -----------\n",
                "10555       2015-06-02 71          6\n",
                "10556       2015-06-03 73          2\n",
                "10557       2015-06-03 44          9\n",
                "10558       2015-06-04 4           1\n",
                "10559       2015-06-05 7           6\n",
                "10560       2015-06-06 25          8\n",
                "10561       2015-06-06 24          2\n",
                "10562       2015-06-09 66          1\n",
                "10563       2015-06-10 67          2\n",
                "10564       2015-06-10 65          4\n",
                "\n",
                "```\n",
                "```\n",
                "(30 row(s) affected)\n",
                "\n",
                "```"
            ],
            "metadata": {
                "language": "sql",
                "azdata_cell_guid": "985968ec-3387-4c49-bc0e-4955a3bc5646"
            },
            "attachments": {}
        },
        {
            "cell_type": "code",
            "source": [
                "use Northwinds2022TSQLV7\n",
                "go \n",
                "\n",
                "select OrderId as orderid, \n",
                "    OrderDate as orderdate,\n",
                "    CustomerId as custid,\n",
                "    EmployeeId as empid\n",
                "from Sales.[Order]\n",
                "where YEAR(OrderDate) = 2015 and MONTH(OrderDate) = 6\n",
                "order by orderid, orderdate, custid, empid\n",
                " \n",
                ""
            ],
            "metadata": {
                "language": "sql",
                "azdata_cell_guid": "51ad3be2-6e9b-40ea-b3d2-dd5063c73fe1",
                "tags": []
            },
            "outputs": [
                {
                    "output_type": "display_data",
                    "data": {
                        "text/html": "Commands completed successfully."
                    },
                    "metadata": {}
                },
                {
                    "output_type": "display_data",
                    "data": {
                        "text/html": "(30 rows affected)"
                    },
                    "metadata": {}
                },
                {
                    "output_type": "display_data",
                    "data": {
                        "text/html": "Total execution time: 00:00:00.022"
                    },
                    "metadata": {}
                },
                {
                    "output_type": "execute_result",
                    "execution_count": 141,
                    "data": {
                        "application/vnd.dataresource+json": {
                            "schema": {
                                "fields": [
                                    {
                                        "name": "orderid"
                                    },
                                    {
                                        "name": "orderdate"
                                    },
                                    {
                                        "name": "custid"
                                    },
                                    {
                                        "name": "empid"
                                    }
                                ]
                            },
                            "data": [
                                {
                                    "0": "10555",
                                    "1": "2015-06-02",
                                    "2": "71",
                                    "3": "6"
                                },
                                {
                                    "0": "10556",
                                    "1": "2015-06-03",
                                    "2": "73",
                                    "3": "2"
                                },
                                {
                                    "0": "10557",
                                    "1": "2015-06-03",
                                    "2": "44",
                                    "3": "9"
                                },
                                {
                                    "0": "10558",
                                    "1": "2015-06-04",
                                    "2": "4",
                                    "3": "1"
                                },
                                {
                                    "0": "10559",
                                    "1": "2015-06-05",
                                    "2": "7",
                                    "3": "6"
                                },
                                {
                                    "0": "10560",
                                    "1": "2015-06-06",
                                    "2": "25",
                                    "3": "8"
                                },
                                {
                                    "0": "10561",
                                    "1": "2015-06-06",
                                    "2": "24",
                                    "3": "2"
                                },
                                {
                                    "0": "10562",
                                    "1": "2015-06-09",
                                    "2": "66",
                                    "3": "1"
                                },
                                {
                                    "0": "10563",
                                    "1": "2015-06-10",
                                    "2": "67",
                                    "3": "2"
                                },
                                {
                                    "0": "10564",
                                    "1": "2015-06-10",
                                    "2": "65",
                                    "3": "4"
                                },
                                {
                                    "0": "10565",
                                    "1": "2015-06-11",
                                    "2": "51",
                                    "3": "8"
                                },
                                {
                                    "0": "10566",
                                    "1": "2015-06-12",
                                    "2": "7",
                                    "3": "9"
                                },
                                {
                                    "0": "10567",
                                    "1": "2015-06-12",
                                    "2": "37",
                                    "3": "1"
                                },
                                {
                                    "0": "10568",
                                    "1": "2015-06-13",
                                    "2": "29",
                                    "3": "3"
                                },
                                {
                                    "0": "10569",
                                    "1": "2015-06-16",
                                    "2": "65",
                                    "3": "5"
                                },
                                {
                                    "0": "10570",
                                    "1": "2015-06-17",
                                    "2": "51",
                                    "3": "3"
                                },
                                {
                                    "0": "10571",
                                    "1": "2015-06-17",
                                    "2": "20",
                                    "3": "8"
                                },
                                {
                                    "0": "10572",
                                    "1": "2015-06-18",
                                    "2": "5",
                                    "3": "3"
                                },
                                {
                                    "0": "10573",
                                    "1": "2015-06-19",
                                    "2": "3",
                                    "3": "7"
                                },
                                {
                                    "0": "10574",
                                    "1": "2015-06-19",
                                    "2": "82",
                                    "3": "4"
                                },
                                {
                                    "0": "10575",
                                    "1": "2015-06-20",
                                    "2": "52",
                                    "3": "5"
                                },
                                {
                                    "0": "10576",
                                    "1": "2015-06-23",
                                    "2": "80",
                                    "3": "3"
                                },
                                {
                                    "0": "10577",
                                    "1": "2015-06-23",
                                    "2": "82",
                                    "3": "9"
                                },
                                {
                                    "0": "10578",
                                    "1": "2015-06-24",
                                    "2": "11",
                                    "3": "4"
                                },
                                {
                                    "0": "10579",
                                    "1": "2015-06-25",
                                    "2": "45",
                                    "3": "1"
                                },
                                {
                                    "0": "10580",
                                    "1": "2015-06-26",
                                    "2": "56",
                                    "3": "4"
                                },
                                {
                                    "0": "10581",
                                    "1": "2015-06-26",
                                    "2": "21",
                                    "3": "3"
                                },
                                {
                                    "0": "10582",
                                    "1": "2015-06-27",
                                    "2": "6",
                                    "3": "3"
                                },
                                {
                                    "0": "10583",
                                    "1": "2015-06-30",
                                    "2": "87",
                                    "3": "2"
                                },
                                {
                                    "0": "10584",
                                    "1": "2015-06-30",
                                    "2": "7",
                                    "3": "4"
                                }
                            ]
                        },
                        "text/html": "<table><tr><th>orderid</th><th>orderdate</th><th>custid</th><th>empid</th></tr><tr><td>10555</td><td>2015-06-02</td><td>71</td><td>6</td></tr><tr><td>10556</td><td>2015-06-03</td><td>73</td><td>2</td></tr><tr><td>10557</td><td>2015-06-03</td><td>44</td><td>9</td></tr><tr><td>10558</td><td>2015-06-04</td><td>4</td><td>1</td></tr><tr><td>10559</td><td>2015-06-05</td><td>7</td><td>6</td></tr><tr><td>10560</td><td>2015-06-06</td><td>25</td><td>8</td></tr><tr><td>10561</td><td>2015-06-06</td><td>24</td><td>2</td></tr><tr><td>10562</td><td>2015-06-09</td><td>66</td><td>1</td></tr><tr><td>10563</td><td>2015-06-10</td><td>67</td><td>2</td></tr><tr><td>10564</td><td>2015-06-10</td><td>65</td><td>4</td></tr><tr><td>10565</td><td>2015-06-11</td><td>51</td><td>8</td></tr><tr><td>10566</td><td>2015-06-12</td><td>7</td><td>9</td></tr><tr><td>10567</td><td>2015-06-12</td><td>37</td><td>1</td></tr><tr><td>10568</td><td>2015-06-13</td><td>29</td><td>3</td></tr><tr><td>10569</td><td>2015-06-16</td><td>65</td><td>5</td></tr><tr><td>10570</td><td>2015-06-17</td><td>51</td><td>3</td></tr><tr><td>10571</td><td>2015-06-17</td><td>20</td><td>8</td></tr><tr><td>10572</td><td>2015-06-18</td><td>5</td><td>3</td></tr><tr><td>10573</td><td>2015-06-19</td><td>3</td><td>7</td></tr><tr><td>10574</td><td>2015-06-19</td><td>82</td><td>4</td></tr><tr><td>10575</td><td>2015-06-20</td><td>52</td><td>5</td></tr><tr><td>10576</td><td>2015-06-23</td><td>80</td><td>3</td></tr><tr><td>10577</td><td>2015-06-23</td><td>82</td><td>9</td></tr><tr><td>10578</td><td>2015-06-24</td><td>11</td><td>4</td></tr><tr><td>10579</td><td>2015-06-25</td><td>45</td><td>1</td></tr><tr><td>10580</td><td>2015-06-26</td><td>56</td><td>4</td></tr><tr><td>10581</td><td>2015-06-26</td><td>21</td><td>3</td></tr><tr><td>10582</td><td>2015-06-27</td><td>6</td><td>3</td></tr><tr><td>10583</td><td>2015-06-30</td><td>87</td><td>2</td></tr><tr><td>10584</td><td>2015-06-30</td><td>7</td><td>4</td></tr></table>"
                    },
                    "metadata": {}
                }
            ],
            "execution_count": 141
        },
        {
            "cell_type": "markdown",
            "source": [
                "# `QUERY 2) Return orders placed on the last day of the month`\n",
                "\n",
                "### `TABLES INVOLVED) tsqlv4 db, Sales.Order`\n",
                "\n",
                "```\n",
                "orderid     orderdate  custid      empid\n",
                "----------- ---------- ----------- -----------\n",
                "10269       2014-07-31 89          5\n",
                "10317       2014-09-30 48          6\n",
                "10343       2014-10-31 44          4\n",
                "10399       2014-12-31 83          8\n",
                "10432       2015-01-31 75          3\n",
                "10460       2015-02-28 24          8\n",
                "10461       2015-02-28 46          1\n",
                "10490       2015-03-31 35          7\n",
                "10491       2015-03-31 28          8\n",
                "10522       2015-04-30 44          4\n",
                "\n",
                "```\n",
                "```\n",
                "(26 row(s) affected)\n",
                "\n",
                "```"
            ],
            "metadata": {
                "language": "sql",
                "azdata_cell_guid": "972ebe08-1666-4735-945d-6fff2afb33de"
            },
            "attachments": {}
        },
        {
            "cell_type": "code",
            "source": [
                "use Northwinds2022TSQLV7\n",
                "go\n",
                "\n",
                "select OrderId as orderid,\n",
                "    OrderDate as orderdate, \n",
                "    CustomerId as custid,\n",
                "    EmployeeId as empid \n",
                "from Sales.[Order]\n",
                "where EOMONTH(OrderDate) = OrderDate\n",
                "order by orderid, orderdate, custid, empid"
            ],
            "metadata": {
                "language": "sql",
                "azdata_cell_guid": "8434921b-3521-42e5-96e8-2a76d49cd375"
            },
            "outputs": [
                {
                    "output_type": "display_data",
                    "data": {
                        "text/html": "Commands completed successfully."
                    },
                    "metadata": {}
                },
                {
                    "output_type": "display_data",
                    "data": {
                        "text/html": "(26 rows affected)"
                    },
                    "metadata": {}
                },
                {
                    "output_type": "display_data",
                    "data": {
                        "text/html": "Total execution time: 00:00:00.036"
                    },
                    "metadata": {}
                },
                {
                    "output_type": "execute_result",
                    "execution_count": 142,
                    "data": {
                        "application/vnd.dataresource+json": {
                            "schema": {
                                "fields": [
                                    {
                                        "name": "orderid"
                                    },
                                    {
                                        "name": "orderdate"
                                    },
                                    {
                                        "name": "custid"
                                    },
                                    {
                                        "name": "empid"
                                    }
                                ]
                            },
                            "data": [
                                {
                                    "0": "10269",
                                    "1": "2014-07-31",
                                    "2": "89",
                                    "3": "5"
                                },
                                {
                                    "0": "10317",
                                    "1": "2014-09-30",
                                    "2": "48",
                                    "3": "6"
                                },
                                {
                                    "0": "10343",
                                    "1": "2014-10-31",
                                    "2": "44",
                                    "3": "4"
                                },
                                {
                                    "0": "10399",
                                    "1": "2014-12-31",
                                    "2": "83",
                                    "3": "8"
                                },
                                {
                                    "0": "10432",
                                    "1": "2015-01-31",
                                    "2": "75",
                                    "3": "3"
                                },
                                {
                                    "0": "10460",
                                    "1": "2015-02-28",
                                    "2": "24",
                                    "3": "8"
                                },
                                {
                                    "0": "10461",
                                    "1": "2015-02-28",
                                    "2": "46",
                                    "3": "1"
                                },
                                {
                                    "0": "10490",
                                    "1": "2015-03-31",
                                    "2": "35",
                                    "3": "7"
                                },
                                {
                                    "0": "10491",
                                    "1": "2015-03-31",
                                    "2": "28",
                                    "3": "8"
                                },
                                {
                                    "0": "10522",
                                    "1": "2015-04-30",
                                    "2": "44",
                                    "3": "4"
                                },
                                {
                                    "0": "10583",
                                    "1": "2015-06-30",
                                    "2": "87",
                                    "3": "2"
                                },
                                {
                                    "0": "10584",
                                    "1": "2015-06-30",
                                    "2": "7",
                                    "3": "4"
                                },
                                {
                                    "0": "10616",
                                    "1": "2015-07-31",
                                    "2": "32",
                                    "3": "1"
                                },
                                {
                                    "0": "10617",
                                    "1": "2015-07-31",
                                    "2": "32",
                                    "3": "4"
                                },
                                {
                                    "0": "10686",
                                    "1": "2015-09-30",
                                    "2": "59",
                                    "3": "2"
                                },
                                {
                                    "0": "10687",
                                    "1": "2015-09-30",
                                    "2": "37",
                                    "3": "9"
                                },
                                {
                                    "0": "10725",
                                    "1": "2015-10-31",
                                    "2": "21",
                                    "3": "4"
                                },
                                {
                                    "0": "10806",
                                    "1": "2015-12-31",
                                    "2": "84",
                                    "3": "3"
                                },
                                {
                                    "0": "10807",
                                    "1": "2015-12-31",
                                    "2": "27",
                                    "3": "4"
                                },
                                {
                                    "0": "10987",
                                    "1": "2016-03-31",
                                    "2": "19",
                                    "3": "8"
                                },
                                {
                                    "0": "10988",
                                    "1": "2016-03-31",
                                    "2": "65",
                                    "3": "3"
                                },
                                {
                                    "0": "10989",
                                    "1": "2016-03-31",
                                    "2": "61",
                                    "3": "2"
                                },
                                {
                                    "0": "11060",
                                    "1": "2016-04-30",
                                    "2": "27",
                                    "3": "2"
                                },
                                {
                                    "0": "11061",
                                    "1": "2016-04-30",
                                    "2": "32",
                                    "3": "4"
                                },
                                {
                                    "0": "11062",
                                    "1": "2016-04-30",
                                    "2": "66",
                                    "3": "4"
                                },
                                {
                                    "0": "11063",
                                    "1": "2016-04-30",
                                    "2": "37",
                                    "3": "3"
                                }
                            ]
                        },
                        "text/html": "<table><tr><th>orderid</th><th>orderdate</th><th>custid</th><th>empid</th></tr><tr><td>10269</td><td>2014-07-31</td><td>89</td><td>5</td></tr><tr><td>10317</td><td>2014-09-30</td><td>48</td><td>6</td></tr><tr><td>10343</td><td>2014-10-31</td><td>44</td><td>4</td></tr><tr><td>10399</td><td>2014-12-31</td><td>83</td><td>8</td></tr><tr><td>10432</td><td>2015-01-31</td><td>75</td><td>3</td></tr><tr><td>10460</td><td>2015-02-28</td><td>24</td><td>8</td></tr><tr><td>10461</td><td>2015-02-28</td><td>46</td><td>1</td></tr><tr><td>10490</td><td>2015-03-31</td><td>35</td><td>7</td></tr><tr><td>10491</td><td>2015-03-31</td><td>28</td><td>8</td></tr><tr><td>10522</td><td>2015-04-30</td><td>44</td><td>4</td></tr><tr><td>10583</td><td>2015-06-30</td><td>87</td><td>2</td></tr><tr><td>10584</td><td>2015-06-30</td><td>7</td><td>4</td></tr><tr><td>10616</td><td>2015-07-31</td><td>32</td><td>1</td></tr><tr><td>10617</td><td>2015-07-31</td><td>32</td><td>4</td></tr><tr><td>10686</td><td>2015-09-30</td><td>59</td><td>2</td></tr><tr><td>10687</td><td>2015-09-30</td><td>37</td><td>9</td></tr><tr><td>10725</td><td>2015-10-31</td><td>21</td><td>4</td></tr><tr><td>10806</td><td>2015-12-31</td><td>84</td><td>3</td></tr><tr><td>10807</td><td>2015-12-31</td><td>27</td><td>4</td></tr><tr><td>10987</td><td>2016-03-31</td><td>19</td><td>8</td></tr><tr><td>10988</td><td>2016-03-31</td><td>65</td><td>3</td></tr><tr><td>10989</td><td>2016-03-31</td><td>61</td><td>2</td></tr><tr><td>11060</td><td>2016-04-30</td><td>27</td><td>2</td></tr><tr><td>11061</td><td>2016-04-30</td><td>32</td><td>4</td></tr><tr><td>11062</td><td>2016-04-30</td><td>66</td><td>4</td></tr><tr><td>11063</td><td>2016-04-30</td><td>37</td><td>3</td></tr></table>"
                    },
                    "metadata": {}
                }
            ],
            "execution_count": 142
        },
        {
            "cell_type": "markdown",
            "source": [
                "# `QUERY 3)` Return employees with last name containing the letter 'e' twice or more\n",
                "\n",
                "### `TABLES INVOLVED) HR.Employees`\\`\n",
                "\n",
                "```\n",
                "empid       firstname  lastname\n",
                "----------- ---------- --------------------\n",
                "4           Yael       Peled\n",
                "5           Sven       Mortensen\n",
                "\n",
                "```\n",
                "```\n",
                "(2 row(s) affected)\n",
                "```"
            ],
            "metadata": {
                "language": "sql",
                "azdata_cell_guid": "477d29c8-f5b9-4dd2-bd9e-fc5eaeeec603"
            },
            "attachments": {}
        },
        {
            "cell_type": "code",
            "source": [
                "use Northwinds2022TSQLV7\n",
                "go \n",
                "\n",
                "select EmployeeId as empid,\n",
                "    EmployeeFirstName as firstname,\n",
                "    EmployeeLastName as lastname\n",
                "from HumanResources.[Employee]\n",
                "where EmployeeLastName LIKE N'%e%e%'\n",
                "order by empid, firstname, lastname"
            ],
            "metadata": {
                "language": "sql",
                "azdata_cell_guid": "7a923076-1625-4f77-9641-64f8c7e2b025",
                "tags": []
            },
            "outputs": [
                {
                    "output_type": "display_data",
                    "data": {
                        "text/html": "Commands completed successfully."
                    },
                    "metadata": {}
                },
                {
                    "output_type": "display_data",
                    "data": {
                        "text/html": "(2 rows affected)"
                    },
                    "metadata": {}
                },
                {
                    "output_type": "display_data",
                    "data": {
                        "text/html": "Total execution time: 00:00:00.034"
                    },
                    "metadata": {}
                },
                {
                    "output_type": "execute_result",
                    "execution_count": 143,
                    "data": {
                        "application/vnd.dataresource+json": {
                            "schema": {
                                "fields": [
                                    {
                                        "name": "empid"
                                    },
                                    {
                                        "name": "firstname"
                                    },
                                    {
                                        "name": "lastname"
                                    }
                                ]
                            },
                            "data": [
                                {
                                    "0": "4",
                                    "1": "Yael",
                                    "2": "Peled"
                                },
                                {
                                    "0": "5",
                                    "1": "Sven",
                                    "2": "Mortensen"
                                }
                            ]
                        },
                        "text/html": "<table><tr><th>empid</th><th>firstname</th><th>lastname</th></tr><tr><td>4</td><td>Yael</td><td>Peled</td></tr><tr><td>5</td><td>Sven</td><td>Mortensen</td></tr></table>"
                    },
                    "metadata": {}
                }
            ],
            "execution_count": 143
        },
        {
            "cell_type": "markdown",
            "source": [
                "# `QUERY 4)` Return orders with total value(qty\\*unitprice) greater than 10000, sorted by total value\n",
                "\n",
                "### `TABLES INVOLVED) Sales.OrderDetails`\n",
                "\n",
                "`\n",
                "```\n",
                "orderid     totalvalue\n",
                "----------- ---------------------\n",
                "10865       17250.00\n",
                "11030       16321.90\n",
                "10981       15810.00\n",
                "10372       12281.20\n",
                "10424       11493.20\n",
                "10817       11490.70\n",
                "10889       11380.00\n",
                "10417       11283.20\n",
                "10897       10835.24\n",
                "10353       10741.60\n",
                "10515       10588.50\n",
                "10479       10495.60\n",
                "10540       10191.70\n",
                "10691       10164.80\n",
                "```\n",
                "```\n",
                "(14 row(s) affected)\n",
                "```\n",
                "`"
            ],
            "metadata": {
                "language": "sql",
                "azdata_cell_guid": "fa036284-9f4a-4e18-b940-ef93a19c1858"
            },
            "attachments": {}
        },
        {
            "cell_type": "code",
            "source": [
                "use Northwinds2022TSQLV7\n",
                "go \n",
                "\n",
                "select OrderId as orderid,\n",
                "    --sum all total order prices for the order id\n",
                "    SUM(Quantity * UnitPrice) as totalvalue \n",
                "from Sales.[OrderDetail]\n",
                "--cant have this here, should be a having clause, no aggregate in WHERE unless its a subquery\n",
                "--where SUM(Quantity * UnitPrice) > 10000.00\n",
                "\n",
                "--orderid cant be in the select statement alone now that we have an aggregate,\n",
                "--  because we'd be returning the same value multiple times for the same orderid\n",
                "--hence the reason we should group our table by distinct orderids\n",
                "group by orderid\n",
                "\n",
                "--but we only want totalvalues > 10000! and recall why this instead of having\n",
                "having SUM(Quantity * UnitPrice) > 10000\n",
                "\n",
                "--we dont want it in that order so...\n",
                "--and we can do this because our alias is now understood by the parser\n",
                "order by totalvalue desc\n",
                ""
            ],
            "metadata": {
                "language": "sql",
                "azdata_cell_guid": "3c347b12-2769-43a4-9629-7e97494ac657"
            },
            "outputs": [
                {
                    "output_type": "display_data",
                    "data": {
                        "text/html": "Commands completed successfully."
                    },
                    "metadata": {}
                },
                {
                    "output_type": "display_data",
                    "data": {
                        "text/html": "(14 rows affected)"
                    },
                    "metadata": {}
                },
                {
                    "output_type": "display_data",
                    "data": {
                        "text/html": "Total execution time: 00:00:00.022"
                    },
                    "metadata": {}
                },
                {
                    "output_type": "execute_result",
                    "execution_count": 144,
                    "data": {
                        "application/vnd.dataresource+json": {
                            "schema": {
                                "fields": [
                                    {
                                        "name": "orderid"
                                    },
                                    {
                                        "name": "totalvalue"
                                    }
                                ]
                            },
                            "data": [
                                {
                                    "0": "10865",
                                    "1": "17250.00"
                                },
                                {
                                    "0": "11030",
                                    "1": "16321.90"
                                },
                                {
                                    "0": "10981",
                                    "1": "15810.00"
                                },
                                {
                                    "0": "10372",
                                    "1": "12281.20"
                                },
                                {
                                    "0": "10424",
                                    "1": "11493.20"
                                },
                                {
                                    "0": "10817",
                                    "1": "11490.70"
                                },
                                {
                                    "0": "10889",
                                    "1": "11380.00"
                                },
                                {
                                    "0": "10417",
                                    "1": "11283.20"
                                },
                                {
                                    "0": "10897",
                                    "1": "10835.24"
                                },
                                {
                                    "0": "10353",
                                    "1": "10741.60"
                                },
                                {
                                    "0": "10515",
                                    "1": "10588.50"
                                },
                                {
                                    "0": "10479",
                                    "1": "10495.60"
                                },
                                {
                                    "0": "10540",
                                    "1": "10191.70"
                                },
                                {
                                    "0": "10691",
                                    "1": "10164.80"
                                }
                            ]
                        },
                        "text/html": "<table><tr><th>orderid</th><th>totalvalue</th></tr><tr><td>10865</td><td>17250.00</td></tr><tr><td>11030</td><td>16321.90</td></tr><tr><td>10981</td><td>15810.00</td></tr><tr><td>10372</td><td>12281.20</td></tr><tr><td>10424</td><td>11493.20</td></tr><tr><td>10817</td><td>11490.70</td></tr><tr><td>10889</td><td>11380.00</td></tr><tr><td>10417</td><td>11283.20</td></tr><tr><td>10897</td><td>10835.24</td></tr><tr><td>10353</td><td>10741.60</td></tr><tr><td>10515</td><td>10588.50</td></tr><tr><td>10479</td><td>10495.60</td></tr><tr><td>10540</td><td>10191.70</td></tr><tr><td>10691</td><td>10164.80</td></tr></table>"
                    },
                    "metadata": {}
                }
            ],
            "execution_count": 144
        },
        {
            "cell_type": "markdown",
            "source": [
                "# `QUERY 5)` Write a query against the HR.Employees table that returns employees with a last name that starts with a lower case letter. Remember that the collation of the sample database is case insensitive (Latin1\\_General\\_CI\\_AS). For simplicity, you can assume that only English letters are used in the employee last names.\n",
                "\n",
                "### `TABLES INVOLVED) Sales.OrderDetails`\n",
                "\n",
                "```\n",
                "empid       lastname\n",
                "----------- --------------------\n",
                "\n",
                "```\n",
                "```\n",
                "(0 row(s) affected)\n",
                "```"
            ],
            "metadata": {
                "language": "sql",
                "azdata_cell_guid": "64ad98b3-6be9-40e4-a313-4d186b9b39f3"
            },
            "attachments": {}
        },
        {
            "cell_type": "code",
            "source": [
                "use Northwinds2022TSQLV7\n",
                "go\n",
                "\n",
                "select EmployeeId as empid,\n",
                "    EmployeeLastName as lastname\n",
                "from HumanResources.Employee\n",
                "\n",
                "--collate is our set of character and character encoding rules\n",
                "--  we can change how data is matched using it in comparison statement\n",
                "--  here we change our rules from CI to CS (case sensitive)\n",
                "where LEFT(EmployeeLastName, 1) COLLATE Latin1_General_CS_AS LIKE N'[abcdefghijklmnopqrstuvwxyz]%'"
            ],
            "metadata": {
                "language": "sql",
                "azdata_cell_guid": "5f20a398-cba1-464b-8c18-07a2ea5158fa",
                "tags": []
            },
            "outputs": [
                {
                    "output_type": "display_data",
                    "data": {
                        "text/html": "Commands completed successfully."
                    },
                    "metadata": {}
                },
                {
                    "output_type": "display_data",
                    "data": {
                        "text/html": "(0 rows affected)"
                    },
                    "metadata": {}
                },
                {
                    "output_type": "display_data",
                    "data": {
                        "text/html": "Total execution time: 00:00:00.020"
                    },
                    "metadata": {}
                },
                {
                    "output_type": "execute_result",
                    "execution_count": 145,
                    "data": {
                        "application/vnd.dataresource+json": {
                            "schema": {
                                "fields": [
                                    {
                                        "name": "empid"
                                    },
                                    {
                                        "name": "lastname"
                                    }
                                ]
                            },
                            "data": []
                        },
                        "text/html": "<table><tr><th>empid</th><th>lastname</th></tr></table>"
                    },
                    "metadata": {}
                }
            ],
            "execution_count": 145
        },
        {
            "cell_type": "markdown",
            "source": [
                "# `QUERY 6)` Explain the difference between the following 2 queries"
            ],
            "metadata": {
                "language": "sql",
                "azdata_cell_guid": "62fd27eb-9168-4729-94b8-9453ecdc4b14"
            },
            "attachments": {}
        },
        {
            "cell_type": "code",
            "source": [
                "use TSQLV4\n",
                "go \n",
                "\n",
                "--Query 1\n",
                "SELECT empid, COUNT(*) AS numorders\n",
                "FROM Sales.Orders\n",
                "WHERE orderdate < '20160501'\n",
                "GROUP BY empid;\n",
                "\n",
                "--test\n",
                "-- SELECT empid, orderdate\n",
                "-- FROM Sales.Orders\n",
                "-- WHERE empid = 1\n",
                "-- order by orderdate\n",
                "\n",
                "--this query returns rows of individual empids (not found in more than one row as provided by GROUP BY)\n",
                "    --and num of orders BEFORE 20160501 simply\n",
                "\n",
                "-- Query 2\n",
                "SELECT empid, COUNT(*) AS numorders\n",
                "FROM Sales.Orders\n",
                "GROUP BY empid\n",
                "HAVING MAX(orderdate) < '20160501';\n",
                "\n",
                "--test\n",
                "-- SELECT empid, COUNT(*) AS numorders, MAX(orderdate) as maxorderdate\n",
                "-- FROM Sales.Orders\n",
                "-- GROUP BY empid\n",
                "\n",
                "-- ** recall we must group by for unique empid column cells, since we're using an aggregate\n",
                "-- ** recall aggregate functions like max cant be in WHERE, only HAVING\n",
                "\n",
                "--this query returns rows of individ empis, and num of orders, of ONLY the empids\n",
                "-- with a MOST RECENT orderdate BEFORE than 20160501\n",
                "\n",
                "-- ** most simply the main difference between these queries is that \n",
                "-- QUERY 1 returns ALL empids and their number of orders before May 1st 2016\n",
                "-- QUERY 2 returns only the empids with a MOST RECENT order before May 1st 2016\n",
                "\n",
                "-- their PascalCaseConvention equivalent would be..\n",
                "\n",
                "use Northwinds2022TSQLV7\n",
                "\n",
                "--query 1\n",
                "select EmployeeId as empid,\n",
                "    COUNT(*) as numorders\n",
                "from Sales.[Order]\n",
                "where OrderDate < '20160501'\n",
                "group by EmployeeId\n",
                "order by EmployeeId --not entirely necessary\n",
                "\n",
                "--query 2\n",
                "select EmployeeId as empid,\n",
                "    COUNT(*) as numorders\n",
                "from Sales.[Order]\n",
                "group by EmployeeId\n",
                "having MAX(OrderDate) < '20160501'"
            ],
            "metadata": {
                "language": "sql",
                "azdata_cell_guid": "306b3fb1-ce5b-46ae-9b46-0db529b6d351"
            },
            "outputs": [
                {
                    "output_type": "display_data",
                    "data": {
                        "text/html": "Commands completed successfully."
                    },
                    "metadata": {}
                },
                {
                    "output_type": "display_data",
                    "data": {
                        "text/html": "(9 rows affected)"
                    },
                    "metadata": {}
                },
                {
                    "output_type": "display_data",
                    "data": {
                        "text/html": "(4 rows affected)"
                    },
                    "metadata": {}
                },
                {
                    "output_type": "display_data",
                    "data": {
                        "text/html": "(9 rows affected)"
                    },
                    "metadata": {}
                },
                {
                    "output_type": "display_data",
                    "data": {
                        "text/html": "(4 rows affected)"
                    },
                    "metadata": {}
                },
                {
                    "output_type": "display_data",
                    "data": {
                        "text/html": "Total execution time: 00:00:00.070"
                    },
                    "metadata": {}
                },
                {
                    "output_type": "execute_result",
                    "execution_count": 146,
                    "data": {
                        "application/vnd.dataresource+json": {
                            "schema": {
                                "fields": [
                                    {
                                        "name": "empid"
                                    },
                                    {
                                        "name": "numorders"
                                    }
                                ]
                            },
                            "data": [
                                {
                                    "0": "1",
                                    "1": "118"
                                },
                                {
                                    "0": "2",
                                    "1": "94"
                                },
                                {
                                    "0": "3",
                                    "1": "127"
                                },
                                {
                                    "0": "4",
                                    "1": "154"
                                },
                                {
                                    "0": "5",
                                    "1": "42"
                                },
                                {
                                    "0": "6",
                                    "1": "67"
                                },
                                {
                                    "0": "7",
                                    "1": "70"
                                },
                                {
                                    "0": "8",
                                    "1": "101"
                                },
                                {
                                    "0": "9",
                                    "1": "43"
                                }
                            ]
                        },
                        "text/html": "<table><tr><th>empid</th><th>numorders</th></tr><tr><td>1</td><td>118</td></tr><tr><td>2</td><td>94</td></tr><tr><td>3</td><td>127</td></tr><tr><td>4</td><td>154</td></tr><tr><td>5</td><td>42</td></tr><tr><td>6</td><td>67</td></tr><tr><td>7</td><td>70</td></tr><tr><td>8</td><td>101</td></tr><tr><td>9</td><td>43</td></tr></table>"
                    },
                    "metadata": {}
                },
                {
                    "output_type": "execute_result",
                    "execution_count": 146,
                    "data": {
                        "application/vnd.dataresource+json": {
                            "schema": {
                                "fields": [
                                    {
                                        "name": "empid"
                                    },
                                    {
                                        "name": "numorders"
                                    }
                                ]
                            },
                            "data": [
                                {
                                    "0": "9",
                                    "1": "43"
                                },
                                {
                                    "0": "3",
                                    "1": "127"
                                },
                                {
                                    "0": "6",
                                    "1": "67"
                                },
                                {
                                    "0": "5",
                                    "1": "42"
                                }
                            ]
                        },
                        "text/html": "<table><tr><th>empid</th><th>numorders</th></tr><tr><td>9</td><td>43</td></tr><tr><td>3</td><td>127</td></tr><tr><td>6</td><td>67</td></tr><tr><td>5</td><td>42</td></tr></table>"
                    },
                    "metadata": {}
                },
                {
                    "output_type": "execute_result",
                    "execution_count": 146,
                    "data": {
                        "application/vnd.dataresource+json": {
                            "schema": {
                                "fields": [
                                    {
                                        "name": "empid"
                                    },
                                    {
                                        "name": "numorders"
                                    }
                                ]
                            },
                            "data": [
                                {
                                    "0": "1",
                                    "1": "118"
                                },
                                {
                                    "0": "2",
                                    "1": "94"
                                },
                                {
                                    "0": "3",
                                    "1": "127"
                                },
                                {
                                    "0": "4",
                                    "1": "154"
                                },
                                {
                                    "0": "5",
                                    "1": "42"
                                },
                                {
                                    "0": "6",
                                    "1": "67"
                                },
                                {
                                    "0": "7",
                                    "1": "70"
                                },
                                {
                                    "0": "8",
                                    "1": "101"
                                },
                                {
                                    "0": "9",
                                    "1": "43"
                                }
                            ]
                        },
                        "text/html": "<table><tr><th>empid</th><th>numorders</th></tr><tr><td>1</td><td>118</td></tr><tr><td>2</td><td>94</td></tr><tr><td>3</td><td>127</td></tr><tr><td>4</td><td>154</td></tr><tr><td>5</td><td>42</td></tr><tr><td>6</td><td>67</td></tr><tr><td>7</td><td>70</td></tr><tr><td>8</td><td>101</td></tr><tr><td>9</td><td>43</td></tr></table>"
                    },
                    "metadata": {}
                },
                {
                    "output_type": "execute_result",
                    "execution_count": 146,
                    "data": {
                        "application/vnd.dataresource+json": {
                            "schema": {
                                "fields": [
                                    {
                                        "name": "empid"
                                    },
                                    {
                                        "name": "numorders"
                                    }
                                ]
                            },
                            "data": [
                                {
                                    "0": "9",
                                    "1": "43"
                                },
                                {
                                    "0": "3",
                                    "1": "127"
                                },
                                {
                                    "0": "6",
                                    "1": "67"
                                },
                                {
                                    "0": "5",
                                    "1": "42"
                                }
                            ]
                        },
                        "text/html": "<table><tr><th>empid</th><th>numorders</th></tr><tr><td>9</td><td>43</td></tr><tr><td>3</td><td>127</td></tr><tr><td>6</td><td>67</td></tr><tr><td>5</td><td>42</td></tr></table>"
                    },
                    "metadata": {}
                }
            ],
            "execution_count": 146
        },
        {
            "cell_type": "markdown",
            "source": [
                "# `QUERY 7)` Return the three ship countries with the highest average freight for orders placed in 2015\n",
                "\n",
                "### `TABLES INVOLVED) Sales.Orders`\n",
                "\n",
                "```\n",
                "shipcountry     avgfreight\n",
                "--------------- ---------------------\n",
                "Austria         178.3642\n",
                "Switzerland     117.1775\n",
                "Sweden          105.16\n",
                "\n",
                "```\n",
                "```\n",
                "(3 row(s) affected)\n",
                "\n",
                "```"
            ],
            "metadata": {
                "language": "sql",
                "azdata_cell_guid": "6754e3f0-11d7-4b3e-bdbf-c420ee8c7c8e"
            },
            "attachments": {}
        },
        {
            "cell_type": "code",
            "source": [
                "use Northwinds2022TSQLV7\n",
                "go\n",
                "\n",
                "select top 3 ShipToCountry as shipcountry,\n",
                "    AVG(Freight) as avgfreight\n",
                "from Sales.[Order]\n",
                "where YEAR(OrderDate) = 2015 --initally thought this wouldn't work, but YEAR is not an aggregate, it simply works on a datestring, not rows of cells\n",
                "group by ShipToCountry\n",
                "order by avgfreight desc -- got an error with top 3, bc first we have to order it by highest avgfreight"
            ],
            "metadata": {
                "language": "sql",
                "azdata_cell_guid": "a8c0011a-4d5f-480c-9c71-7d707d2559f4",
                "tags": []
            },
            "outputs": [
                {
                    "output_type": "display_data",
                    "data": {
                        "text/html": "Commands completed successfully."
                    },
                    "metadata": {}
                },
                {
                    "output_type": "display_data",
                    "data": {
                        "text/html": "(3 rows affected)"
                    },
                    "metadata": {}
                },
                {
                    "output_type": "display_data",
                    "data": {
                        "text/html": "Total execution time: 00:00:00.029"
                    },
                    "metadata": {}
                },
                {
                    "output_type": "execute_result",
                    "execution_count": 147,
                    "data": {
                        "application/vnd.dataresource+json": {
                            "schema": {
                                "fields": [
                                    {
                                        "name": "shipcountry"
                                    },
                                    {
                                        "name": "avgfreight"
                                    }
                                ]
                            },
                            "data": [
                                {
                                    "0": "Austria",
                                    "1": "178.3642"
                                },
                                {
                                    "0": "Switzerland",
                                    "1": "117.1775"
                                },
                                {
                                    "0": "Sweden",
                                    "1": "105.16"
                                }
                            ]
                        },
                        "text/html": "<table><tr><th>shipcountry</th><th>avgfreight</th></tr><tr><td>Austria</td><td>178.3642</td></tr><tr><td>Switzerland</td><td>117.1775</td></tr><tr><td>Sweden</td><td>105.16</td></tr></table>"
                    },
                    "metadata": {}
                }
            ],
            "execution_count": 147
        },
        {
            "cell_type": "markdown",
            "source": [
                "# `QUERY 8)` Calculate row numbers for orders based on order date ordering (using order id as tiebreaker) for each customer separately\n",
                "\n",
                "### `TABLES INVOLVED) Sales.Orders`\n",
                "\n",
                "```\n",
                "custid      orderdate  orderid     rownum\n",
                "----------- ---------- ----------- --------------------\n",
                "1           2015-08-25 10643       1\n",
                "1           2015-10-03 10692       2\n",
                "1           2015-10-13 10702       3\n",
                "1           2016-01-15 10835       4\n",
                "1           2016-03-16 10952       5\n",
                "1           2016-04-09 11011       6\n",
                "2           2014-09-18 10308       1\n",
                "2           2015-08-08 10625       2\n",
                "2           2015-11-28 10759       3\n",
                "2           2016-03-04 10926       4\n",
                "```\n",
                "```\n",
                "(830 row(s) affected)\n",
                "```"
            ],
            "metadata": {
                "language": "sql",
                "azdata_cell_guid": "5792fec4-b7cd-4511-9fae-d4fb2e03fb34"
            },
            "attachments": {}
        },
        {
            "cell_type": "code",
            "source": [
                "use Northwinds2022TSQLV7\n",
                "go \n",
                "\n",
                "select CustomerId as custid,\n",
                "    OrderDate as orderdate,\n",
                "    OrderId as orderid,\n",
                "    ROW_NUMBER() over (partition by CustomerId order by orderdate, orderid) as rownum\n",
                "from Sales.[Order]"
            ],
            "metadata": {
                "language": "sql",
                "azdata_cell_guid": "73f72fff-ed1f-453b-aa2d-d18333f4a60a",
                "tags": []
            },
            "outputs": [
                {
                    "output_type": "display_data",
                    "data": {
                        "text/html": "Commands completed successfully."
                    },
                    "metadata": {}
                },
                {
                    "output_type": "display_data",
                    "data": {
                        "text/html": "(830 rows affected)"
                    },
                    "metadata": {}
                },
                {
                    "output_type": "display_data",
                    "data": {
                        "text/html": "Total execution time: 00:00:00.411"
                    },
                    "metadata": {}
                },
                {
                    "output_type": "execute_result",
                    "execution_count": 1,
                    "data": {
                        "application/vnd.dataresource+json": {
                            "schema": {
                                "fields": [
                                    {
                                        "name": "custid"
                                    },
                                    {
                                        "name": "orderdate"
                                    },
                                    {
                                        "name": "orderid"
                                    },
                                    {
                                        "name": "rownum"
                                    }
                                ]
                            },
                            "data": [
                                {
                                    "0": "1",
                                    "1": "2015-08-25",
                                    "2": "10643",
                                    "3": "1"
                                },
                                {
                                    "0": "1",
                                    "1": "2015-10-03",
                                    "2": "10692",
                                    "3": "2"
                                },
                                {
                                    "0": "1",
                                    "1": "2015-10-13",
                                    "2": "10702",
                                    "3": "3"
                                },
                                {
                                    "0": "1",
                                    "1": "2016-01-15",
                                    "2": "10835",
                                    "3": "4"
                                },
                                {
                                    "0": "1",
                                    "1": "2016-03-16",
                                    "2": "10952",
                                    "3": "5"
                                },
                                {
                                    "0": "1",
                                    "1": "2016-04-09",
                                    "2": "11011",
                                    "3": "6"
                                },
                                {
                                    "0": "2",
                                    "1": "2014-09-18",
                                    "2": "10308",
                                    "3": "1"
                                },
                                {
                                    "0": "2",
                                    "1": "2015-08-08",
                                    "2": "10625",
                                    "3": "2"
                                },
                                {
                                    "0": "2",
                                    "1": "2015-11-28",
                                    "2": "10759",
                                    "3": "3"
                                },
                                {
                                    "0": "2",
                                    "1": "2016-03-04",
                                    "2": "10926",
                                    "3": "4"
                                },
                                {
                                    "0": "3",
                                    "1": "2014-11-27",
                                    "2": "10365",
                                    "3": "1"
                                },
                                {
                                    "0": "3",
                                    "1": "2015-04-15",
                                    "2": "10507",
                                    "3": "2"
                                },
                                {
                                    "0": "3",
                                    "1": "2015-05-13",
                                    "2": "10535",
                                    "3": "3"
                                },
                                {
                                    "0": "3",
                                    "1": "2015-06-19",
                                    "2": "10573",
                                    "3": "4"
                                },
                                {
                                    "0": "3",
                                    "1": "2015-09-22",
                                    "2": "10677",
                                    "3": "5"
                                },
                                {
                                    "0": "3",
                                    "1": "2015-09-25",
                                    "2": "10682",
                                    "3": "6"
                                },
                                {
                                    "0": "3",
                                    "1": "2016-01-28",
                                    "2": "10856",
                                    "3": "7"
                                },
                                {
                                    "0": "4",
                                    "1": "2014-11-15",
                                    "2": "10355",
                                    "3": "1"
                                },
                                {
                                    "0": "4",
                                    "1": "2014-12-16",
                                    "2": "10383",
                                    "3": "2"
                                },
                                {
                                    "0": "4",
                                    "1": "2015-02-21",
                                    "2": "10453",
                                    "3": "3"
                                },
                                {
                                    "0": "4",
                                    "1": "2015-06-04",
                                    "2": "10558",
                                    "3": "4"
                                },
                                {
                                    "0": "4",
                                    "1": "2015-10-16",
                                    "2": "10707",
                                    "3": "5"
                                },
                                {
                                    "0": "4",
                                    "1": "2015-11-14",
                                    "2": "10741",
                                    "3": "6"
                                },
                                {
                                    "0": "4",
                                    "1": "2015-11-17",
                                    "2": "10743",
                                    "3": "7"
                                },
                                {
                                    "0": "4",
                                    "1": "2015-12-08",
                                    "2": "10768",
                                    "3": "8"
                                },
                                {
                                    "0": "4",
                                    "1": "2015-12-24",
                                    "2": "10793",
                                    "3": "9"
                                },
                                {
                                    "0": "4",
                                    "1": "2016-02-02",
                                    "2": "10864",
                                    "3": "10"
                                },
                                {
                                    "0": "4",
                                    "1": "2016-03-03",
                                    "2": "10920",
                                    "3": "11"
                                },
                                {
                                    "0": "4",
                                    "1": "2016-03-16",
                                    "2": "10953",
                                    "3": "12"
                                },
                                {
                                    "0": "4",
                                    "1": "2016-04-10",
                                    "2": "11016",
                                    "3": "13"
                                },
                                {
                                    "0": "5",
                                    "1": "2014-08-12",
                                    "2": "10278",
                                    "3": "1"
                                },
                                {
                                    "0": "5",
                                    "1": "2014-08-14",
                                    "2": "10280",
                                    "3": "2"
                                },
                                {
                                    "0": "5",
                                    "1": "2014-12-16",
                                    "2": "10384",
                                    "3": "3"
                                },
                                {
                                    "0": "5",
                                    "1": "2015-02-12",
                                    "2": "10444",
                                    "3": "4"
                                },
                                {
                                    "0": "5",
                                    "1": "2015-02-13",
                                    "2": "10445",
                                    "3": "5"
                                },
                                {
                                    "0": "5",
                                    "1": "2015-05-01",
                                    "2": "10524",
                                    "3": "6"
                                },
                                {
                                    "0": "5",
                                    "1": "2015-06-18",
                                    "2": "10572",
                                    "3": "7"
                                },
                                {
                                    "0": "5",
                                    "1": "2015-08-11",
                                    "2": "10626",
                                    "3": "8"
                                },
                                {
                                    "0": "5",
                                    "1": "2015-09-02",
                                    "2": "10654",
                                    "3": "9"
                                },
                                {
                                    "0": "5",
                                    "1": "2015-09-17",
                                    "2": "10672",
                                    "3": "10"
                                },
                                {
                                    "0": "5",
                                    "1": "2015-10-01",
                                    "2": "10689",
                                    "3": "11"
                                },
                                {
                                    "0": "5",
                                    "1": "2015-11-07",
                                    "2": "10733",
                                    "3": "12"
                                },
                                {
                                    "0": "5",
                                    "1": "2015-12-16",
                                    "2": "10778",
                                    "3": "13"
                                },
                                {
                                    "0": "5",
                                    "1": "2016-01-16",
                                    "2": "10837",
                                    "3": "14"
                                },
                                {
                                    "0": "5",
                                    "1": "2016-01-28",
                                    "2": "10857",
                                    "3": "15"
                                },
                                {
                                    "0": "5",
                                    "1": "2016-02-03",
                                    "2": "10866",
                                    "3": "16"
                                },
                                {
                                    "0": "5",
                                    "1": "2016-02-06",
                                    "2": "10875",
                                    "3": "17"
                                },
                                {
                                    "0": "5",
                                    "1": "2016-03-04",
                                    "2": "10924",
                                    "3": "18"
                                },
                                {
                                    "0": "6",
                                    "1": "2015-04-09",
                                    "2": "10501",
                                    "3": "1"
                                },
                                {
                                    "0": "6",
                                    "1": "2015-04-17",
                                    "2": "10509",
                                    "3": "2"
                                },
                                {
                                    "0": "6",
                                    "1": "2015-06-27",
                                    "2": "10582",
                                    "3": "3"
                                },
                                {
                                    "0": "6",
                                    "1": "2015-07-29",
                                    "2": "10614",
                                    "3": "4"
                                },
                                {
                                    "0": "6",
                                    "1": "2016-01-27",
                                    "2": "10853",
                                    "3": "5"
                                },
                                {
                                    "0": "6",
                                    "1": "2016-03-17",
                                    "2": "10956",
                                    "3": "6"
                                },
                                {
                                    "0": "6",
                                    "1": "2016-04-29",
                                    "2": "11058",
                                    "3": "7"
                                },
                                {
                                    "0": "7",
                                    "1": "2014-07-25",
                                    "2": "10265",
                                    "3": "1"
                                },
                                {
                                    "0": "7",
                                    "1": "2014-09-04",
                                    "2": "10297",
                                    "3": "2"
                                },
                                {
                                    "0": "7",
                                    "1": "2014-11-22",
                                    "2": "10360",
                                    "3": "3"
                                },
                                {
                                    "0": "7",
                                    "1": "2015-02-05",
                                    "2": "10436",
                                    "3": "4"
                                },
                                {
                                    "0": "7",
                                    "1": "2015-02-18",
                                    "2": "10449",
                                    "3": "5"
                                },
                                {
                                    "0": "7",
                                    "1": "2015-06-05",
                                    "2": "10559",
                                    "3": "6"
                                },
                                {
                                    "0": "7",
                                    "1": "2015-06-12",
                                    "2": "10566",
                                    "3": "7"
                                },
                                {
                                    "0": "7",
                                    "1": "2015-06-30",
                                    "2": "10584",
                                    "3": "8"
                                },
                                {
                                    "0": "7",
                                    "1": "2015-08-12",
                                    "2": "10628",
                                    "3": "9"
                                },
                                {
                                    "0": "7",
                                    "1": "2015-09-23",
                                    "2": "10679",
                                    "3": "10"
                                },
                                {
                                    "0": "7",
                                    "1": "2016-01-12",
                                    "2": "10826",
                                    "3": "11"
                                },
                                {
                                    "0": "8",
                                    "1": "2014-10-10",
                                    "2": "10326",
                                    "3": "1"
                                },
                                {
                                    "0": "8",
                                    "1": "2015-12-29",
                                    "2": "10801",
                                    "3": "2"
                                },
                                {
                                    "0": "8",
                                    "1": "2016-03-24",
                                    "2": "10970",
                                    "3": "3"
                                },
                                {
                                    "0": "9",
                                    "1": "2014-10-16",
                                    "2": "10331",
                                    "3": "1"
                                },
                                {
                                    "0": "9",
                                    "1": "2014-10-29",
                                    "2": "10340",
                                    "3": "2"
                                },
                                {
                                    "0": "9",
                                    "1": "2014-11-25",
                                    "2": "10362",
                                    "3": "3"
                                },
                                {
                                    "0": "9",
                                    "1": "2015-03-11",
                                    "2": "10470",
                                    "3": "4"
                                },
                                {
                                    "0": "9",
                                    "1": "2015-04-18",
                                    "2": "10511",
                                    "3": "5"
                                },
                                {
                                    "0": "9",
                                    "1": "2015-05-02",
                                    "2": "10525",
                                    "3": "6"
                                },
                                {
                                    "0": "9",
                                    "1": "2015-09-10",
                                    "2": "10663",
                                    "3": "7"
                                },
                                {
                                    "0": "9",
                                    "1": "2015-10-23",
                                    "2": "10715",
                                    "3": "8"
                                },
                                {
                                    "0": "9",
                                    "1": "2015-11-05",
                                    "2": "10730",
                                    "3": "9"
                                },
                                {
                                    "0": "9",
                                    "1": "2015-11-06",
                                    "2": "10732",
                                    "3": "10"
                                },
                                {
                                    "0": "9",
                                    "1": "2015-11-26",
                                    "2": "10755",
                                    "3": "11"
                                },
                                {
                                    "0": "9",
                                    "1": "2016-01-12",
                                    "2": "10827",
                                    "3": "12"
                                },
                                {
                                    "0": "9",
                                    "1": "2016-02-05",
                                    "2": "10871",
                                    "3": "13"
                                },
                                {
                                    "0": "9",
                                    "1": "2016-02-09",
                                    "2": "10876",
                                    "3": "14"
                                },
                                {
                                    "0": "9",
                                    "1": "2016-03-06",
                                    "2": "10932",
                                    "3": "15"
                                },
                                {
                                    "0": "9",
                                    "1": "2016-03-11",
                                    "2": "10940",
                                    "3": "16"
                                },
                                {
                                    "0": "9",
                                    "1": "2016-05-06",
                                    "2": "11076",
                                    "3": "17"
                                },
                                {
                                    "0": "10",
                                    "1": "2014-12-20",
                                    "2": "10389",
                                    "3": "1"
                                },
                                {
                                    "0": "10",
                                    "1": "2015-01-10",
                                    "2": "10410",
                                    "3": "2"
                                },
                                {
                                    "0": "10",
                                    "1": "2015-01-10",
                                    "2": "10411",
                                    "3": "3"
                                },
                                {
                                    "0": "10",
                                    "1": "2015-01-30",
                                    "2": "10431",
                                    "3": "4"
                                },
                                {
                                    "0": "10",
                                    "1": "2015-04-01",
                                    "2": "10492",
                                    "3": "5"
                                },
                                {
                                    "0": "10",
                                    "1": "2015-11-14",
                                    "2": "10742",
                                    "3": "6"
                                },
                                {
                                    "0": "10",
                                    "1": "2016-03-02",
                                    "2": "10918",
                                    "3": "7"
                                },
                                {
                                    "0": "10",
                                    "1": "2016-03-12",
                                    "2": "10944",
                                    "3": "8"
                                },
                                {
                                    "0": "10",
                                    "1": "2016-03-13",
                                    "2": "10949",
                                    "3": "9"
                                },
                                {
                                    "0": "10",
                                    "1": "2016-03-25",
                                    "2": "10975",
                                    "3": "10"
                                },
                                {
                                    "0": "10",
                                    "1": "2016-03-27",
                                    "2": "10982",
                                    "3": "11"
                                },
                                {
                                    "0": "10",
                                    "1": "2016-04-16",
                                    "2": "11027",
                                    "3": "12"
                                },
                                {
                                    "0": "10",
                                    "1": "2016-04-23",
                                    "2": "11045",
                                    "3": "13"
                                },
                                {
                                    "0": "10",
                                    "1": "2016-04-24",
                                    "2": "11048",
                                    "3": "14"
                                },
                                {
                                    "0": "11",
                                    "1": "2014-08-26",
                                    "2": "10289",
                                    "3": "1"
                                },
                                {
                                    "0": "11",
                                    "1": "2015-03-11",
                                    "2": "10471",
                                    "3": "2"
                                },
                                {
                                    "0": "11",
                                    "1": "2015-03-24",
                                    "2": "10484",
                                    "3": "3"
                                },
                                {
                                    "0": "11",
                                    "1": "2015-05-15",
                                    "2": "10538",
                                    "3": "4"
                                },
                                {
                                    "0": "11",
                                    "1": "2015-05-16",
                                    "2": "10539",
                                    "3": "5"
                                },
                                {
                                    "0": "11",
                                    "1": "2015-06-24",
                                    "2": "10578",
                                    "3": "6"
                                },
                                {
                                    "0": "11",
                                    "1": "2015-07-15",
                                    "2": "10599",
                                    "3": "7"
                                },
                                {
                                    "0": "11",
                                    "1": "2016-03-11",
                                    "2": "10943",
                                    "3": "8"
                                },
                                {
                                    "0": "11",
                                    "1": "2016-03-13",
                                    "2": "10947",
                                    "3": "9"
                                },
                                {
                                    "0": "11",
                                    "1": "2016-04-14",
                                    "2": "11023",
                                    "3": "10"
                                },
                                {
                                    "0": "12",
                                    "1": "2015-04-29",
                                    "2": "10521",
                                    "3": "1"
                                },
                                {
                                    "0": "12",
                                    "1": "2015-12-17",
                                    "2": "10782",
                                    "3": "2"
                                },
                                {
                                    "0": "12",
                                    "1": "2016-01-07",
                                    "2": "10819",
                                    "3": "3"
                                },
                                {
                                    "0": "12",
                                    "1": "2016-02-11",
                                    "2": "10881",
                                    "3": "4"
                                },
                                {
                                    "0": "12",
                                    "1": "2016-03-10",
                                    "2": "10937",
                                    "3": "5"
                                },
                                {
                                    "0": "12",
                                    "1": "2016-04-28",
                                    "2": "11054",
                                    "3": "6"
                                },
                                {
                                    "0": "13",
                                    "1": "2014-07-18",
                                    "2": "10259",
                                    "3": "1"
                                },
                                {
                                    "0": "14",
                                    "1": "2014-07-11",
                                    "2": "10254",
                                    "3": "1"
                                },
                                {
                                    "0": "14",
                                    "1": "2014-12-03",
                                    "2": "10370",
                                    "3": "2"
                                },
                                {
                                    "0": "14",
                                    "1": "2015-04-28",
                                    "2": "10519",
                                    "3": "3"
                                },
                                {
                                    "0": "14",
                                    "1": "2015-11-06",
                                    "2": "10731",
                                    "3": "4"
                                },
                                {
                                    "0": "14",
                                    "1": "2015-11-19",
                                    "2": "10746",
                                    "3": "5"
                                },
                                {
                                    "0": "14",
                                    "1": "2016-03-20",
                                    "2": "10966",
                                    "3": "6"
                                },
                                {
                                    "0": "14",
                                    "1": "2016-04-16",
                                    "2": "11029",
                                    "3": "7"
                                },
                                {
                                    "0": "14",
                                    "1": "2016-04-22",
                                    "2": "11041",
                                    "3": "8"
                                },
                                {
                                    "0": "15",
                                    "1": "2014-08-27",
                                    "2": "10290",
                                    "3": "1"
                                },
                                {
                                    "0": "15",
                                    "1": "2015-03-06",
                                    "2": "10466",
                                    "3": "2"
                                },
                                {
                                    "0": "15",
                                    "1": "2015-04-02",
                                    "2": "10494",
                                    "3": "3"
                                },
                                {
                                    "0": "15",
                                    "1": "2016-03-23",
                                    "2": "10969",
                                    "3": "4"
                                },
                                {
                                    "0": "15",
                                    "1": "2016-04-22",
                                    "2": "11042",
                                    "3": "5"
                                },
                                {
                                    "0": "16",
                                    "1": "2015-02-04",
                                    "2": "10435",
                                    "3": "1"
                                },
                                {
                                    "0": "16",
                                    "1": "2015-03-03",
                                    "2": "10462",
                                    "3": "2"
                                },
                                {
                                    "0": "16",
                                    "1": "2016-01-23",
                                    "2": "10848",
                                    "3": "3"
                                },
                                {
                                    "0": "17",
                                    "1": "2014-11-26",
                                    "2": "10363",
                                    "3": "1"
                                },
                                {
                                    "0": "17",
                                    "1": "2014-12-23",
                                    "2": "10391",
                                    "3": "2"
                                },
                                {
                                    "0": "17",
                                    "1": "2015-12-25",
                                    "2": "10797",
                                    "3": "3"
                                },
                                {
                                    "0": "17",
                                    "1": "2016-01-09",
                                    "2": "10825",
                                    "3": "4"
                                },
                                {
                                    "0": "17",
                                    "1": "2016-04-20",
                                    "2": "11036",
                                    "3": "5"
                                },
                                {
                                    "0": "17",
                                    "1": "2016-05-04",
                                    "2": "11067",
                                    "3": "6"
                                },
                                {
                                    "0": "18",
                                    "1": "2014-09-20",
                                    "2": "10311",
                                    "3": "1"
                                },
                                {
                                    "0": "18",
                                    "1": "2015-07-24",
                                    "2": "10609",
                                    "3": "2"
                                },
                                {
                                    "0": "18",
                                    "1": "2015-09-26",
                                    "2": "10683",
                                    "3": "3"
                                },
                                {
                                    "0": "18",
                                    "1": "2016-02-16",
                                    "2": "10890",
                                    "3": "4"
                                },
                                {
                                    "0": "19",
                                    "1": "2014-11-26",
                                    "2": "10364",
                                    "3": "1"
                                },
                                {
                                    "0": "19",
                                    "1": "2015-01-01",
                                    "2": "10400",
                                    "3": "2"
                                },
                                {
                                    "0": "19",
                                    "1": "2015-05-09",
                                    "2": "10532",
                                    "3": "3"
                                },
                                {
                                    "0": "19",
                                    "1": "2015-11-03",
                                    "2": "10726",
                                    "3": "4"
                                },
                                {
                                    "0": "19",
                                    "1": "2016-03-31",
                                    "2": "10987",
                                    "3": "5"
                                },
                                {
                                    "0": "19",
                                    "1": "2016-04-15",
                                    "2": "11024",
                                    "3": "6"
                                },
                                {
                                    "0": "19",
                                    "1": "2016-04-24",
                                    "2": "11047",
                                    "3": "7"
                                },
                                {
                                    "0": "19",
                                    "1": "2016-04-28",
                                    "2": "11056",
                                    "3": "8"
                                },
                                {
                                    "0": "20",
                                    "1": "2014-07-17",
                                    "2": "10258",
                                    "3": "1"
                                },
                                {
                                    "0": "20",
                                    "1": "2014-07-23",
                                    "2": "10263",
                                    "3": "2"
                                },
                                {
                                    "0": "20",
                                    "1": "2014-11-11",
                                    "2": "10351",
                                    "3": "3"
                                },
                                {
                                    "0": "20",
                                    "1": "2014-11-29",
                                    "2": "10368",
                                    "3": "4"
                                },
                                {
                                    "0": "20",
                                    "1": "2014-12-13",
                                    "2": "10382",
                                    "3": "5"
                                },
                                {
                                    "0": "20",
                                    "1": "2014-12-23",
                                    "2": "10390",
                                    "3": "6"
                                },
                                {
                                    "0": "20",
                                    "1": "2015-01-02",
                                    "2": "10402",
                                    "3": "7"
                                },
                                {
                                    "0": "20",
                                    "1": "2015-01-03",
                                    "2": "10403",
                                    "3": "8"
                                },
                                {
                                    "0": "20",
                                    "1": "2015-01-30",
                                    "2": "10430",
                                    "3": "9"
                                },
                                {
                                    "0": "20",
                                    "1": "2015-02-11",
                                    "2": "10442",
                                    "3": "10"
                                },
                                {
                                    "0": "20",
                                    "1": "2015-04-22",
                                    "2": "10514",
                                    "3": "11"
                                },
                                {
                                    "0": "20",
                                    "1": "2015-06-17",
                                    "2": "10571",
                                    "3": "12"
                                },
                                {
                                    "0": "20",
                                    "1": "2015-07-10",
                                    "2": "10595",
                                    "3": "13"
                                },
                                {
                                    "0": "20",
                                    "1": "2015-08-15",
                                    "2": "10633",
                                    "3": "14"
                                },
                                {
                                    "0": "20",
                                    "1": "2015-09-12",
                                    "2": "10667",
                                    "3": "15"
                                },
                                {
                                    "0": "20",
                                    "1": "2015-10-09",
                                    "2": "10698",
                                    "3": "16"
                                },
                                {
                                    "0": "20",
                                    "1": "2015-12-03",
                                    "2": "10764",
                                    "3": "17"
                                },
                                {
                                    "0": "20",
                                    "1": "2015-12-10",
                                    "2": "10771",
                                    "3": "18"
                                },
                                {
                                    "0": "20",
                                    "1": "2015-12-11",
                                    "2": "10773",
                                    "3": "19"
                                },
                                {
                                    "0": "20",
                                    "1": "2015-12-15",
                                    "2": "10776",
                                    "3": "20"
                                },
                                {
                                    "0": "20",
                                    "1": "2015-12-24",
                                    "2": "10795",
                                    "3": "21"
                                },
                                {
                                    "0": "20",
                                    "1": "2016-01-16",
                                    "2": "10836",
                                    "3": "22"
                                },
                                {
                                    "0": "20",
                                    "1": "2016-01-27",
                                    "2": "10854",
                                    "3": "23"
                                },
                                {
                                    "0": "20",
                                    "1": "2016-02-18",
                                    "2": "10895",
                                    "3": "24"
                                },
                                {
                                    "0": "20",
                                    "1": "2016-03-23",
                                    "2": "10968",
                                    "3": "25"
                                },
                                {
                                    "0": "20",
                                    "1": "2016-03-26",
                                    "2": "10979",
                                    "3": "26"
                                },
                                {
                                    "0": "20",
                                    "1": "2016-04-01",
                                    "2": "10990",
                                    "3": "27"
                                },
                                {
                                    "0": "20",
                                    "1": "2016-04-08",
                                    "2": "11008",
                                    "3": "28"
                                },
                                {
                                    "0": "20",
                                    "1": "2016-04-13",
                                    "2": "11017",
                                    "3": "29"
                                },
                                {
                                    "0": "20",
                                    "1": "2016-05-05",
                                    "2": "11072",
                                    "3": "30"
                                },
                                {
                                    "0": "21",
                                    "1": "2014-11-06",
                                    "2": "10347",
                                    "3": "1"
                                },
                                {
                                    "0": "21",
                                    "1": "2014-12-18",
                                    "2": "10386",
                                    "3": "2"
                                },
                                {
                                    "0": "21",
                                    "1": "2015-01-14",
                                    "2": "10414",
                                    "3": "3"
                                },
                                {
                                    "0": "21",
                                    "1": "2015-04-21",
                                    "2": "10512",
                                    "3": "4"
                                },
                                {
                                    "0": "21",
                                    "1": "2015-06-26",
                                    "2": "10581",
                                    "3": "5"
                                },
                                {
                                    "0": "21",
                                    "1": "2015-08-29",
                                    "2": "10650",
                                    "3": "6"
                                },
                                {
                                    "0": "21",
                                    "1": "2015-10-31",
                                    "2": "10725",
                                    "3": "7"
                                },
                                {
                                    "0": "23",
                                    "1": "2015-01-08",
                                    "2": "10408",
                                    "3": "1"
                                },
                                {
                                    "0": "23",
                                    "1": "2015-03-20",
                                    "2": "10480",
                                    "3": "2"
                                },
                                {
                                    "0": "23",
                                    "1": "2015-08-15",
                                    "2": "10634",
                                    "3": "3"
                                },
                                {
                                    "0": "23",
                                    "1": "2015-12-03",
                                    "2": "10763",
                                    "3": "4"
                                },
                                {
                                    "0": "23",
                                    "1": "2015-12-22",
                                    "2": "10789",
                                    "3": "5"
                                },
                                {
                                    "0": "24",
                                    "1": "2014-07-24",
                                    "2": "10264",
                                    "3": "1"
                                },
                                {
                                    "0": "24",
                                    "1": "2014-10-11",
                                    "2": "10327",
                                    "3": "2"
                                },
                                {
                                    "0": "24",
                                    "1": "2014-12-10",
                                    "2": "10378",
                                    "3": "3"
                                },
                                {
                                    "0": "24",
                                    "1": "2015-02-03",
                                    "2": "10434",
                                    "3": "4"
                                },
                                {
                                    "0": "24",
                                    "1": "2015-02-28",
                                    "2": "10460",
                                    "3": "5"
                                },
                                {
                                    "0": "24",
                                    "1": "2015-05-12",
                                    "2": "10533",
                                    "3": "6"
                                },
                                {
                                    "0": "24",
                                    "1": "2015-06-06",
                                    "2": "10561",
                                    "3": "7"
                                },
                                {
                                    "0": "24",
                                    "1": "2015-10-14",
                                    "2": "10703",
                                    "3": "8"
                                },
                                {
                                    "0": "24",
                                    "1": "2015-12-02",
                                    "2": "10762",
                                    "3": "9"
                                },
                                {
                                    "0": "24",
                                    "1": "2015-12-11",
                                    "2": "10774",
                                    "3": "10"
                                },
                                {
                                    "0": "24",
                                    "1": "2016-01-09",
                                    "2": "10824",
                                    "3": "11"
                                },
                                {
                                    "0": "24",
                                    "1": "2016-02-10",
                                    "2": "10880",
                                    "3": "12"
                                },
                                {
                                    "0": "24",
                                    "1": "2016-02-23",
                                    "2": "10902",
                                    "3": "13"
                                },
                                {
                                    "0": "24",
                                    "1": "2016-03-17",
                                    "2": "10955",
                                    "3": "14"
                                },
                                {
                                    "0": "24",
                                    "1": "2016-03-26",
                                    "2": "10977",
                                    "3": "15"
                                },
                                {
                                    "0": "24",
                                    "1": "2016-03-27",
                                    "2": "10980",
                                    "3": "16"
                                },
                                {
                                    "0": "24",
                                    "1": "2016-04-01",
                                    "2": "10993",
                                    "3": "17"
                                },
                                {
                                    "0": "24",
                                    "1": "2016-04-06",
                                    "2": "11001",
                                    "3": "18"
                                },
                                {
                                    "0": "24",
                                    "1": "2016-04-27",
                                    "2": "11050",
                                    "3": "19"
                                },
                                {
                                    "0": "25",
                                    "1": "2014-07-29",
                                    "2": "10267",
                                    "3": "1"
                                },
                                {
                                    "0": "25",
                                    "1": "2014-10-24",
                                    "2": "10337",
                                    "3": "2"
                                },
                                {
                                    "0": "25",
                                    "1": "2014-10-30",
                                    "2": "10342",
                                    "3": "3"
                                },
                                {
                                    "0": "25",
                                    "1": "2014-12-27",
                                    "2": "10396",
                                    "3": "4"
                                },
                                {
                                    "0": "25",
                                    "1": "2015-03-27",
                                    "2": "10488",
                                    "3": "5"
                                },
                                {
                                    "0": "25",
                                    "1": "2015-06-06",
                                    "2": "10560",
                                    "3": "6"
                                },
                                {
                                    "0": "25",
                                    "1": "2015-08-07",
                                    "2": "10623",
                                    "3": "7"
                                },
                                {
                                    "0": "25",
                                    "1": "2015-09-02",
                                    "2": "10653",
                                    "3": "8"
                                },
                                {
                                    "0": "25",
                                    "1": "2015-09-16",
                                    "2": "10670",
                                    "3": "9"
                                },
                                {
                                    "0": "25",
                                    "1": "2015-09-19",
                                    "2": "10675",
                                    "3": "10"
                                },
                                {
                                    "0": "25",
                                    "1": "2015-10-24",
                                    "2": "10717",
                                    "3": "11"
                                },
                                {
                                    "0": "25",
                                    "1": "2015-12-23",
                                    "2": "10791",
                                    "3": "12"
                                },
                                {
                                    "0": "25",
                                    "1": "2016-01-29",
                                    "2": "10859",
                                    "3": "13"
                                },
                                {
                                    "0": "25",
                                    "1": "2016-03-05",
                                    "2": "10929",
                                    "3": "14"
                                },
                                {
                                    "0": "25",
                                    "1": "2016-04-09",
                                    "2": "11012",
                                    "3": "15"
                                },
                                {
                                    "0": "26",
                                    "1": "2015-09-17",
                                    "2": "10671",
                                    "3": "1"
                                },
                                {
                                    "0": "26",
                                    "1": "2016-01-29",
                                    "2": "10860",
                                    "3": "2"
                                },
                                {
                                    "0": "26",
                                    "1": "2016-03-24",
                                    "2": "10971",
                                    "3": "3"
                                },
                                {
                                    "0": "27",
                                    "1": "2015-01-22",
                                    "2": "10422",
                                    "3": "1"
                                },
                                {
                                    "0": "27",
                                    "1": "2015-10-20",
                                    "2": "10710",
                                    "3": "2"
                                },
                                {
                                    "0": "27",
                                    "1": "2015-11-25",
                                    "2": "10753",
                                    "3": "3"
                                },
                                {
                                    "0": "27",
                                    "1": "2015-12-31",
                                    "2": "10807",
                                    "3": "4"
                                },
                                {
                                    "0": "27",
                                    "1": "2016-04-15",
                                    "2": "11026",
                                    "3": "5"
                                },
                                {
                                    "0": "27",
                                    "1": "2016-04-30",
                                    "2": "11060",
                                    "3": "6"
                                },
                                {
                                    "0": "28",
                                    "1": "2014-10-14",
                                    "2": "10328",
                                    "3": "1"
                                },
                                {
                                    "0": "28",
                                    "1": "2014-11-12",
                                    "2": "10352",
                                    "3": "2"
                                },
                                {
                                    "0": "28",
                                    "1": "2015-03-04",
                                    "2": "10464",
                                    "3": "3"
                                },
                                {
                                    "0": "28",
                                    "1": "2015-03-31",
                                    "2": "10491",
                                    "3": "4"
                                },
                                {
                                    "0": "28",
                                    "1": "2015-05-28",
                                    "2": "10551",
                                    "3": "5"
                                },
                                {
                                    "0": "28",
                                    "1": "2015-07-18",
                                    "2": "10604",
                                    "3": "6"
                                },
                                {
                                    "0": "28",
                                    "1": "2015-09-10",
                                    "2": "10664",
                                    "3": "7"
                                },
                                {
                                    "0": "28",
                                    "1": "2016-03-19",
                                    "2": "10963",
                                    "3": "8"
                                },
                                {
                                    "0": "29",
                                    "1": "2014-11-28",
                                    "2": "10366",
                                    "3": "1"
                                },
                                {
                                    "0": "29",
                                    "1": "2015-01-27",
                                    "2": "10426",
                                    "3": "2"
                                },
                                {
                                    "0": "29",
                                    "1": "2015-06-13",
                                    "2": "10568",
                                    "3": "3"
                                },
                                {
                                    "0": "29",
                                    "1": "2016-02-13",
                                    "2": "10887",
                                    "3": "4"
                                },
                                {
                                    "0": "29",
                                    "1": "2016-03-05",
                                    "2": "10928",
                                    "3": "5"
                                },
                                {
                                    "0": "30",
                                    "1": "2014-09-11",
                                    "2": "10303",
                                    "3": "1"
                                },
                                {
                                    "0": "30",
                                    "1": "2015-05-28",
                                    "2": "10550",
                                    "3": "2"
                                },
                                {
                                    "0": "30",
                                    "1": "2015-08-12",
                                    "2": "10629",
                                    "3": "3"
                                },
                                {
                                    "0": "30",
                                    "1": "2016-02-05",
                                    "2": "10872",
                                    "3": "4"
                                },
                                {
                                    "0": "30",
                                    "1": "2016-02-06",
                                    "2": "10874",
                                    "3": "5"
                                },
                                {
                                    "0": "30",
                                    "1": "2016-02-16",
                                    "2": "10888",
                                    "3": "6"
                                },
                                {
                                    "0": "30",
                                    "1": "2016-02-26",
                                    "2": "10911",
                                    "3": "7"
                                },
                                {
                                    "0": "30",
                                    "1": "2016-03-13",
                                    "2": "10948",
                                    "3": "8"
                                },
                                {
                                    "0": "30",
                                    "1": "2016-04-08",
                                    "2": "11009",
                                    "3": "9"
                                },
                                {
                                    "0": "30",
                                    "1": "2016-04-21",
                                    "2": "11037",
                                    "3": "10"
                                },
                                {
                                    "0": "31",
                                    "1": "2015-01-23",
                                    "2": "10423",
                                    "3": "1"
                                },
                                {
                                    "0": "31",
                                    "1": "2015-09-01",
                                    "2": "10652",
                                    "3": "2"
                                },
                                {
                                    "0": "31",
                                    "1": "2015-09-29",
                                    "2": "10685",
                                    "3": "3"
                                },
                                {
                                    "0": "31",
                                    "1": "2015-10-17",
                                    "2": "10709",
                                    "3": "4"
                                },
                                {
                                    "0": "31",
                                    "1": "2015-11-07",
                                    "2": "10734",
                                    "3": "5"
                                },
                                {
                                    "0": "31",
                                    "1": "2015-12-15",
                                    "2": "10777",
                                    "3": "6"
                                },
                                {
                                    "0": "31",
                                    "1": "2015-12-22",
                                    "2": "10790",
                                    "3": "7"
                                },
                                {
                                    "0": "31",
                                    "1": "2016-03-18",
                                    "2": "10959",
                                    "3": "8"
                                },
                                {
                                    "0": "31",
                                    "1": "2016-04-24",
                                    "2": "11049",
                                    "3": "9"
                                },
                                {
                                    "0": "32",
                                    "1": "2015-05-06",
                                    "2": "10528",
                                    "3": "1"
                                },
                                {
                                    "0": "32",
                                    "1": "2015-07-04",
                                    "2": "10589",
                                    "3": "2"
                                },
                                {
                                    "0": "32",
                                    "1": "2015-07-31",
                                    "2": "10616",
                                    "3": "3"
                                },
                                {
                                    "0": "32",
                                    "1": "2015-07-31",
                                    "2": "10617",
                                    "3": "4"
                                },
                                {
                                    "0": "32",
                                    "1": "2015-09-04",
                                    "2": "10656",
                                    "3": "5"
                                },
                                {
                                    "0": "32",
                                    "1": "2015-09-25",
                                    "2": "10681",
                                    "3": "6"
                                },
                                {
                                    "0": "32",
                                    "1": "2016-01-06",
                                    "2": "10816",
                                    "3": "7"
                                },
                                {
                                    "0": "32",
                                    "1": "2016-03-09",
                                    "2": "10936",
                                    "3": "8"
                                },
                                {
                                    "0": "32",
                                    "1": "2016-04-07",
                                    "2": "11006",
                                    "3": "9"
                                },
                                {
                                    "0": "32",
                                    "1": "2016-04-22",
                                    "2": "11040",
                                    "3": "10"
                                },
                                {
                                    "0": "32",
                                    "1": "2016-04-30",
                                    "2": "11061",
                                    "3": "11"
                                },
                                {
                                    "0": "33",
                                    "1": "2014-07-30",
                                    "2": "10268",
                                    "3": "1"
                                },
                                {
                                    "0": "33",
                                    "1": "2015-12-18",
                                    "2": "10785",
                                    "3": "2"
                                },
                                {
                                    "0": "34",
                                    "1": "2014-07-08",
                                    "2": "10250",
                                    "3": "1"
                                },
                                {
                                    "0": "34",
                                    "1": "2014-07-10",
                                    "2": "10253",
                                    "3": "2"
                                },
                                {
                                    "0": "34",
                                    "1": "2015-05-19",
                                    "2": "10541",
                                    "3": "3"
                                },
                                {
                                    "0": "34",
                                    "1": "2015-08-26",
                                    "2": "10645",
                                    "3": "4"
                                },
                                {
                                    "0": "34",
                                    "1": "2015-10-02",
                                    "2": "10690",
                                    "3": "5"
                                },
                                {
                                    "0": "34",
                                    "1": "2015-12-09",
                                    "2": "10770",
                                    "3": "6"
                                },
                                {
                                    "0": "34",
                                    "1": "2015-12-18",
                                    "2": "10783",
                                    "3": "7"
                                },
                                {
                                    "0": "34",
                                    "1": "2016-02-13",
                                    "2": "10886",
                                    "3": "8"
                                },
                                {
                                    "0": "34",
                                    "1": "2016-02-24",
                                    "2": "10903",
                                    "3": "9"
                                },
                                {
                                    "0": "34",
                                    "1": "2016-03-03",
                                    "2": "10922",
                                    "3": "10"
                                },
                                {
                                    "0": "34",
                                    "1": "2016-03-04",
                                    "2": "10925",
                                    "3": "11"
                                },
                                {
                                    "0": "34",
                                    "1": "2016-03-27",
                                    "2": "10981",
                                    "3": "12"
                                },
                                {
                                    "0": "34",
                                    "1": "2016-04-14",
                                    "2": "11022",
                                    "3": "13"
                                },
                                {
                                    "0": "34",
                                    "1": "2016-04-27",
                                    "2": "11052",
                                    "3": "14"
                                },
                                {
                                    "0": "35",
                                    "1": "2014-07-16",
                                    "2": "10257",
                                    "3": "1"
                                },
                                {
                                    "0": "35",
                                    "1": "2014-12-26",
                                    "2": "10395",
                                    "3": "2"
                                },
                                {
                                    "0": "35",
                                    "1": "2015-03-17",
                                    "2": "10476",
                                    "3": "3"
                                },
                                {
                                    "0": "35",
                                    "1": "2015-03-26",
                                    "2": "10486",
                                    "3": "4"
                                },
                                {
                                    "0": "35",
                                    "1": "2015-03-31",
                                    "2": "10490",
                                    "3": "5"
                                },
                                {
                                    "0": "35",
                                    "1": "2015-04-07",
                                    "2": "10498",
                                    "3": "6"
                                },
                                {
                                    "0": "35",
                                    "1": "2015-05-29",
                                    "2": "10552",
                                    "3": "7"
                                },
                                {
                                    "0": "35",
                                    "1": "2015-07-16",
                                    "2": "10601",
                                    "3": "8"
                                },
                                {
                                    "0": "35",
                                    "1": "2015-07-29",
                                    "2": "10613",
                                    "3": "9"
                                },
                                {
                                    "0": "35",
                                    "1": "2015-08-22",
                                    "2": "10641",
                                    "3": "10"
                                },
                                {
                                    "0": "35",
                                    "1": "2015-10-15",
                                    "2": "10705",
                                    "3": "11"
                                },
                                {
                                    "0": "35",
                                    "1": "2015-12-25",
                                    "2": "10796",
                                    "3": "12"
                                },
                                {
                                    "0": "35",
                                    "1": "2016-02-02",
                                    "2": "10863",
                                    "3": "13"
                                },
                                {
                                    "0": "35",
                                    "1": "2016-02-23",
                                    "2": "10901",
                                    "3": "14"
                                },
                                {
                                    "0": "35",
                                    "1": "2016-03-18",
                                    "2": "10957",
                                    "3": "15"
                                },
                                {
                                    "0": "35",
                                    "1": "2016-03-19",
                                    "2": "10960",
                                    "3": "16"
                                },
                                {
                                    "0": "35",
                                    "1": "2016-03-25",
                                    "2": "10976",
                                    "3": "17"
                                },
                                {
                                    "0": "35",
                                    "1": "2016-04-28",
                                    "2": "11055",
                                    "3": "18"
                                },
                                {
                                    "0": "36",
                                    "1": "2014-12-06",
                                    "2": "10375",
                                    "3": "1"
                                },
                                {
                                    "0": "36",
                                    "1": "2014-12-25",
                                    "2": "10394",
                                    "3": "2"
                                },
                                {
                                    "0": "36",
                                    "1": "2015-01-15",
                                    "2": "10415",
                                    "3": "3"
                                },
                                {
                                    "0": "36",
                                    "1": "2015-07-16",
                                    "2": "10600",
                                    "3": "4"
                                },
                                {
                                    "0": "36",
                                    "1": "2015-09-08",
                                    "2": "10660",
                                    "3": "5"
                                },
                                {
                                    "0": "37",
                                    "1": "2014-09-05",
                                    "2": "10298",
                                    "3": "1"
                                },
                                {
                                    "0": "37",
                                    "1": "2014-09-19",
                                    "2": "10309",
                                    "3": "2"
                                },
                                {
                                    "0": "37",
                                    "1": "2014-10-22",
                                    "2": "10335",
                                    "3": "3"
                                },
                                {
                                    "0": "37",
                                    "1": "2014-12-05",
                                    "2": "10373",
                                    "3": "4"
                                },
                                {
                                    "0": "37",
                                    "1": "2014-12-12",
                                    "2": "10380",
                                    "3": "5"
                                },
                                {
                                    "0": "37",
                                    "1": "2015-01-29",
                                    "2": "10429",
                                    "3": "6"
                                },
                                {
                                    "0": "37",
                                    "1": "2015-04-11",
                                    "2": "10503",
                                    "3": "7"
                                },
                                {
                                    "0": "37",
                                    "1": "2015-04-24",
                                    "2": "10516",
                                    "3": "8"
                                },
                                {
                                    "0": "37",
                                    "1": "2015-06-12",
                                    "2": "10567",
                                    "3": "9"
                                },
                                {
                                    "0": "37",
                                    "1": "2015-08-27",
                                    "2": "10646",
                                    "3": "10"
                                },
                                {
                                    "0": "37",
                                    "1": "2015-09-09",
                                    "2": "10661",
                                    "3": "11"
                                },
                                {
                                    "0": "37",
                                    "1": "2015-09-30",
                                    "2": "10687",
                                    "3": "12"
                                },
                                {
                                    "0": "37",
                                    "1": "2015-10-13",
                                    "2": "10701",
                                    "3": "13"
                                },
                                {
                                    "0": "37",
                                    "1": "2015-10-21",
                                    "2": "10712",
                                    "3": "14"
                                },
                                {
                                    "0": "37",
                                    "1": "2015-11-11",
                                    "2": "10736",
                                    "3": "15"
                                },
                                {
                                    "0": "37",
                                    "1": "2016-02-19",
                                    "2": "10897",
                                    "3": "16"
                                },
                                {
                                    "0": "37",
                                    "1": "2016-02-26",
                                    "2": "10912",
                                    "3": "17"
                                },
                                {
                                    "0": "37",
                                    "1": "2016-03-30",
                                    "2": "10985",
                                    "3": "18"
                                },
                                {
                                    "0": "37",
                                    "1": "2016-04-30",
                                    "2": "11063",
                                    "3": "19"
                                },
                                {
                                    "0": "38",
                                    "1": "2014-09-26",
                                    "2": "10315",
                                    "3": "1"
                                },
                                {
                                    "0": "38",
                                    "1": "2014-10-01",
                                    "2": "10318",
                                    "3": "2"
                                },
                                {
                                    "0": "38",
                                    "1": "2014-10-03",
                                    "2": "10321",
                                    "3": "3"
                                },
                                {
                                    "0": "38",
                                    "1": "2015-03-13",
                                    "2": "10473",
                                    "3": "4"
                                },
                                {
                                    "0": "38",
                                    "1": "2015-08-05",
                                    "2": "10621",
                                    "3": "5"
                                },
                                {
                                    "0": "38",
                                    "1": "2015-09-18",
                                    "2": "10674",
                                    "3": "6"
                                },
                                {
                                    "0": "38",
                                    "1": "2015-11-20",
                                    "2": "10749",
                                    "3": "7"
                                },
                                {
                                    "0": "38",
                                    "1": "2015-12-26",
                                    "2": "10798",
                                    "3": "8"
                                },
                                {
                                    "0": "38",
                                    "1": "2016-01-13",
                                    "2": "10829",
                                    "3": "9"
                                },
                                {
                                    "0": "38",
                                    "1": "2016-03-06",
                                    "2": "10933",
                                    "3": "10"
                                },
                                {
                                    "0": "39",
                                    "1": "2014-10-07",
                                    "2": "10323",
                                    "3": "1"
                                },
                                {
                                    "0": "39",
                                    "1": "2014-10-09",
                                    "2": "10325",
                                    "3": "2"
                                },
                                {
                                    "0": "39",
                                    "1": "2015-02-25",
                                    "2": "10456",
                                    "3": "3"
                                },
                                {
                                    "0": "39",
                                    "1": "2015-02-25",
                                    "2": "10457",
                                    "3": "4"
                                },
                                {
                                    "0": "39",
                                    "1": "2015-03-07",
                                    "2": "10468",
                                    "3": "5"
                                },
                                {
                                    "0": "39",
                                    "1": "2015-04-15",
                                    "2": "10506",
                                    "3": "6"
                                },
                                {
                                    "0": "39",
                                    "1": "2015-05-20",
                                    "2": "10542",
                                    "3": "7"
                                },
                                {
                                    "0": "39",
                                    "1": "2015-08-13",
                                    "2": "10630",
                                    "3": "8"
                                },
                                {
                                    "0": "39",
                                    "1": "2015-10-27",
                                    "2": "10718",
                                    "3": "9"
                                },
                                {
                                    "0": "39",
                                    "1": "2015-12-26",
                                    "2": "10799",
                                    "3": "10"
                                },
                                {
                                    "0": "39",
                                    "1": "2016-01-06",
                                    "2": "10817",
                                    "3": "11"
                                },
                                {
                                    "0": "39",
                                    "1": "2016-01-23",
                                    "2": "10849",
                                    "3": "12"
                                },
                                {
                                    "0": "39",
                                    "1": "2016-02-18",
                                    "2": "10893",
                                    "3": "13"
                                },
                                {
                                    "0": "39",
                                    "1": "2016-04-16",
                                    "2": "11028",
                                    "3": "14"
                                },
                                {
                                    "0": "40",
                                    "1": "2016-01-29",
                                    "2": "10858",
                                    "3": "1"
                                },
                                {
                                    "0": "40",
                                    "1": "2016-03-05",
                                    "2": "10927",
                                    "3": "2"
                                },
                                {
                                    "0": "40",
                                    "1": "2016-03-24",
                                    "2": "10972",
                                    "3": "3"
                                },
                                {
                                    "0": "40",
                                    "1": "2016-03-24",
                                    "2": "10973",
                                    "3": "4"
                                },
                                {
                                    "0": "41",
                                    "1": "2014-11-11",
                                    "2": "10350",
                                    "3": "1"
                                },
                                {
                                    "0": "41",
                                    "1": "2014-11-20",
                                    "2": "10358",
                                    "3": "2"
                                },
                                {
                                    "0": "41",
                                    "1": "2014-12-03",
                                    "2": "10371",
                                    "3": "3"
                                },
                                {
                                    "0": "41",
                                    "1": "2015-01-14",
                                    "2": "10413",
                                    "3": "4"
                                },
                                {
                                    "0": "41",
                                    "1": "2015-01-24",
                                    "2": "10425",
                                    "3": "5"
                                },
                                {
                                    "0": "41",
                                    "1": "2015-02-21",
                                    "2": "10454",
                                    "3": "6"
                                },
                                {
                                    "0": "41",
                                    "1": "2015-04-02",
                                    "2": "10493",
                                    "3": "7"
                                },
                                {
                                    "0": "41",
                                    "1": "2015-04-09",
                                    "2": "10500",
                                    "3": "8"
                                },
                                {
                                    "0": "41",
                                    "1": "2015-07-25",
                                    "2": "10610",
                                    "3": "9"
                                },
                                {
                                    "0": "41",
                                    "1": "2015-08-14",
                                    "2": "10631",
                                    "3": "10"
                                },
                                {
                                    "0": "41",
                                    "1": "2015-12-19",
                                    "2": "10787",
                                    "3": "11"
                                },
                                {
                                    "0": "41",
                                    "1": "2016-01-14",
                                    "2": "10832",
                                    "3": "12"
                                },
                                {
                                    "0": "41",
                                    "1": "2016-03-03",
                                    "2": "10923",
                                    "3": "13"
                                },
                                {
                                    "0": "41",
                                    "1": "2016-04-27",
                                    "2": "11051",
                                    "3": "14"
                                },
                                {
                                    "0": "42",
                                    "1": "2015-04-03",
                                    "2": "10495",
                                    "3": "1"
                                },
                                {
                                    "0": "42",
                                    "1": "2015-08-05",
                                    "2": "10620",
                                    "3": "2"
                                },
                                {
                                    "0": "42",
                                    "1": "2016-01-01",
                                    "2": "10810",
                                    "3": "3"
                                },
                                {
                                    "0": "43",
                                    "1": "2015-03-21",
                                    "2": "10482",
                                    "3": "1"
                                },
                                {
                                    "0": "43",
                                    "1": "2015-05-22",
                                    "2": "10545",
                                    "3": "2"
                                },
                                {
                                    "0": "44",
                                    "1": "2014-08-13",
                                    "2": "10279",
                                    "3": "1"
                                },
                                {
                                    "0": "44",
                                    "1": "2014-08-19",
                                    "2": "10284",
                                    "3": "2"
                                },
                                {
                                    "0": "44",
                                    "1": "2014-10-31",
                                    "2": "10343",
                                    "3": "3"
                                },
                                {
                                    "0": "44",
                                    "1": "2015-04-04",
                                    "2": "10497",
                                    "3": "4"
                                },
                                {
                                    "0": "44",
                                    "1": "2015-04-30",
                                    "2": "10522",
                                    "3": "5"
                                },
                                {
                                    "0": "44",
                                    "1": "2015-05-12",
                                    "2": "10534",
                                    "3": "6"
                                },
                                {
                                    "0": "44",
                                    "1": "2015-05-14",
                                    "2": "10536",
                                    "3": "7"
                                },
                                {
                                    "0": "44",
                                    "1": "2015-06-03",
                                    "2": "10557",
                                    "3": "8"
                                },
                                {
                                    "0": "44",
                                    "1": "2015-07-08",
                                    "2": "10592",
                                    "3": "9"
                                },
                                {
                                    "0": "44",
                                    "1": "2015-07-09",
                                    "2": "10593",
                                    "3": "10"
                                },
                                {
                                    "0": "44",
                                    "1": "2015-12-10",
                                    "2": "10772",
                                    "3": "11"
                                },
                                {
                                    "0": "44",
                                    "1": "2016-01-30",
                                    "2": "10862",
                                    "3": "12"
                                },
                                {
                                    "0": "44",
                                    "1": "2016-02-17",
                                    "2": "10891",
                                    "3": "13"
                                },
                                {
                                    "0": "44",
                                    "1": "2016-03-09",
                                    "2": "10934",
                                    "3": "14"
                                },
                                {
                                    "0": "44",
                                    "1": "2016-05-05",
                                    "2": "11070",
                                    "3": "15"
                                },
                                {
                                    "0": "45",
                                    "1": "2015-06-25",
                                    "2": "10579",
                                    "3": "1"
                                },
                                {
                                    "0": "45",
                                    "1": "2015-10-27",
                                    "2": "10719",
                                    "3": "2"
                                },
                                {
                                    "0": "45",
                                    "1": "2015-11-10",
                                    "2": "10735",
                                    "3": "3"
                                },
                                {
                                    "0": "45",
                                    "1": "2016-02-12",
                                    "2": "10884",
                                    "3": "4"
                                },
                                {
                                    "0": "46",
                                    "1": "2014-08-16",
                                    "2": "10283",
                                    "3": "1"
                                },
                                {
                                    "0": "46",
                                    "1": "2014-09-03",
                                    "2": "10296",
                                    "3": "2"
                                },
                                {
                                    "0": "46",
                                    "1": "2014-10-16",
                                    "2": "10330",
                                    "3": "3"
                                },
                                {
                                    "0": "46",
                                    "1": "2014-11-19",
                                    "2": "10357",
                                    "3": "4"
                                },
                                {
                                    "0": "46",
                                    "1": "2014-12-12",
                                    "2": "10381",
                                    "3": "5"
                                },
                                {
                                    "0": "46",
                                    "1": "2015-02-28",
                                    "2": "10461",
                                    "3": "6"
                                },
                                {
                                    "0": "46",
                                    "1": "2015-04-08",
                                    "2": "10499",
                                    "3": "7"
                                },
                                {
                                    "0": "46",
                                    "1": "2015-05-21",
                                    "2": "10543",
                                    "3": "8"
                                },
                                {
                                    "0": "46",
                                    "1": "2015-12-16",
                                    "2": "10780",
                                    "3": "9"
                                },
                                {
                                    "0": "46",
                                    "1": "2016-01-09",
                                    "2": "10823",
                                    "3": "10"
                                },
                                {
                                    "0": "46",
                                    "1": "2016-02-20",
                                    "2": "10899",
                                    "3": "11"
                                },
                                {
                                    "0": "46",
                                    "1": "2016-04-03",
                                    "2": "10997",
                                    "3": "12"
                                },
                                {
                                    "0": "46",
                                    "1": "2016-05-01",
                                    "2": "11065",
                                    "3": "13"
                                },
                                {
                                    "0": "46",
                                    "1": "2016-05-05",
                                    "2": "11071",
                                    "3": "14"
                                },
                                {
                                    "0": "47",
                                    "1": "2015-01-06",
                                    "2": "10405",
                                    "3": "1"
                                },
                                {
                                    "0": "47",
                                    "1": "2015-03-25",
                                    "2": "10485",
                                    "3": "2"
                                },
                                {
                                    "0": "47",
                                    "1": "2015-08-20",
                                    "2": "10638",
                                    "3": "3"
                                },
                                {
                                    "0": "47",
                                    "1": "2015-10-08",
                                    "2": "10697",
                                    "3": "4"
                                },
                                {
                                    "0": "47",
                                    "1": "2015-11-04",
                                    "2": "10729",
                                    "3": "5"
                                },
                                {
                                    "0": "47",
                                    "1": "2016-01-02",
                                    "2": "10811",
                                    "3": "6"
                                },
                                {
                                    "0": "47",
                                    "1": "2016-01-19",
                                    "2": "10838",
                                    "3": "7"
                                },
                                {
                                    "0": "47",
                                    "1": "2016-01-19",
                                    "2": "10840",
                                    "3": "8"
                                },
                                {
                                    "0": "47",
                                    "1": "2016-03-02",
                                    "2": "10919",
                                    "3": "9"
                                },
                                {
                                    "0": "47",
                                    "1": "2016-03-17",
                                    "2": "10954",
                                    "3": "10"
                                },
                                {
                                    "0": "47",
                                    "1": "2016-04-10",
                                    "2": "11014",
                                    "3": "11"
                                },
                                {
                                    "0": "47",
                                    "1": "2016-04-21",
                                    "2": "11039",
                                    "3": "12"
                                },
                                {
                                    "0": "48",
                                    "1": "2014-09-17",
                                    "2": "10307",
                                    "3": "1"
                                },
                                {
                                    "0": "48",
                                    "1": "2014-09-30",
                                    "2": "10317",
                                    "3": "2"
                                },
                                {
                                    "0": "48",
                                    "1": "2015-05-21",
                                    "2": "10544",
                                    "3": "3"
                                },
                                {
                                    "0": "48",
                                    "1": "2015-09-09",
                                    "2": "10662",
                                    "3": "4"
                                },
                                {
                                    "0": "48",
                                    "1": "2015-09-11",
                                    "2": "10665",
                                    "3": "5"
                                },
                                {
                                    "0": "48",
                                    "1": "2016-02-03",
                                    "2": "10867",
                                    "3": "6"
                                },
                                {
                                    "0": "48",
                                    "1": "2016-02-12",
                                    "2": "10883",
                                    "3": "7"
                                },
                                {
                                    "0": "48",
                                    "1": "2016-04-13",
                                    "2": "11018",
                                    "3": "8"
                                },
                                {
                                    "0": "49",
                                    "1": "2014-08-07",
                                    "2": "10275",
                                    "3": "1"
                                },
                                {
                                    "0": "49",
                                    "1": "2014-09-09",
                                    "2": "10300",
                                    "3": "2"
                                },
                                {
                                    "0": "49",
                                    "1": "2015-01-03",
                                    "2": "10404",
                                    "3": "3"
                                },
                                {
                                    "0": "49",
                                    "1": "2015-03-06",
                                    "2": "10467",
                                    "3": "4"
                                },
                                {
                                    "0": "49",
                                    "1": "2015-08-18",
                                    "2": "10635",
                                    "3": "5"
                                },
                                {
                                    "0": "49",
                                    "1": "2015-11-25",
                                    "2": "10754",
                                    "3": "6"
                                },
                                {
                                    "0": "49",
                                    "1": "2015-12-18",
                                    "2": "10784",
                                    "3": "7"
                                },
                                {
                                    "0": "49",
                                    "1": "2016-01-07",
                                    "2": "10818",
                                    "3": "8"
                                },
                                {
                                    "0": "49",
                                    "1": "2016-03-10",
                                    "2": "10939",
                                    "3": "9"
                                },
                                {
                                    "0": "49",
                                    "1": "2016-03-16",
                                    "2": "10950",
                                    "3": "10"
                                },
                                {
                                    "0": "50",
                                    "1": "2015-05-07",
                                    "2": "10529",
                                    "3": "1"
                                },
                                {
                                    "0": "50",
                                    "1": "2015-08-28",
                                    "2": "10649",
                                    "3": "2"
                                },
                                {
                                    "0": "50",
                                    "1": "2015-12-01",
                                    "2": "10760",
                                    "3": "3"
                                },
                                {
                                    "0": "50",
                                    "1": "2016-02-17",
                                    "2": "10892",
                                    "3": "4"
                                },
                                {
                                    "0": "50",
                                    "1": "2016-02-19",
                                    "2": "10896",
                                    "3": "5"
                                },
                                {
                                    "0": "50",
                                    "1": "2016-03-26",
                                    "2": "10978",
                                    "3": "6"
                                },
                                {
                                    "0": "50",
                                    "1": "2016-04-07",
                                    "2": "11004",
                                    "3": "7"
                                },
                                {
                                    "0": "51",
                                    "1": "2014-10-17",
                                    "2": "10332",
                                    "3": "1"
                                },
                                {
                                    "0": "51",
                                    "1": "2014-10-28",
                                    "2": "10339",
                                    "3": "2"
                                },
                                {
                                    "0": "51",
                                    "1": "2014-12-09",
                                    "2": "10376",
                                    "3": "3"
                                },
                                {
                                    "0": "51",
                                    "1": "2015-01-23",
                                    "2": "10424",
                                    "3": "4"
                                },
                                {
                                    "0": "51",
                                    "1": "2015-02-07",
                                    "2": "10439",
                                    "3": "5"
                                },
                                {
                                    "0": "51",
                                    "1": "2015-04-14",
                                    "2": "10505",
                                    "3": "6"
                                },
                                {
                                    "0": "51",
                                    "1": "2015-06-11",
                                    "2": "10565",
                                    "3": "7"
                                },
                                {
                                    "0": "51",
                                    "1": "2015-06-17",
                                    "2": "10570",
                                    "3": "8"
                                },
                                {
                                    "0": "51",
                                    "1": "2015-07-07",
                                    "2": "10590",
                                    "3": "9"
                                },
                                {
                                    "0": "51",
                                    "1": "2015-07-21",
                                    "2": "10605",
                                    "3": "10"
                                },
                                {
                                    "0": "51",
                                    "1": "2015-08-01",
                                    "2": "10618",
                                    "3": "11"
                                },
                                {
                                    "0": "51",
                                    "1": "2015-08-04",
                                    "2": "10619",
                                    "3": "12"
                                },
                                {
                                    "0": "51",
                                    "1": "2015-10-30",
                                    "2": "10724",
                                    "3": "13"
                                },
                                {
                                    "0": "52",
                                    "1": "2014-08-09",
                                    "2": "10277",
                                    "3": "1"
                                },
                                {
                                    "0": "52",
                                    "1": "2015-06-20",
                                    "2": "10575",
                                    "3": "2"
                                },
                                {
                                    "0": "52",
                                    "1": "2015-10-09",
                                    "2": "10699",
                                    "3": "3"
                                },
                                {
                                    "0": "52",
                                    "1": "2015-12-16",
                                    "2": "10779",
                                    "3": "4"
                                },
                                {
                                    "0": "52",
                                    "1": "2016-03-12",
                                    "2": "10945",
                                    "3": "5"
                                },
                                {
                                    "0": "53",
                                    "1": "2015-04-24",
                                    "2": "10517",
                                    "3": "1"
                                },
                                {
                                    "0": "53",
                                    "1": "2015-11-24",
                                    "2": "10752",
                                    "3": "2"
                                },
                                {
                                    "0": "53",
                                    "1": "2016-04-29",
                                    "2": "11057",
                                    "3": "3"
                                },
                                {
                                    "0": "54",
                                    "1": "2015-01-09",
                                    "2": "10409",
                                    "3": "1"
                                },
                                {
                                    "0": "54",
                                    "1": "2015-05-08",
                                    "2": "10531",
                                    "3": "2"
                                },
                                {
                                    "0": "54",
                                    "1": "2016-02-20",
                                    "2": "10898",
                                    "3": "3"
                                },
                                {
                                    "0": "54",
                                    "1": "2016-03-18",
                                    "2": "10958",
                                    "3": "4"
                                },
                                {
                                    "0": "54",
                                    "1": "2016-03-30",
                                    "2": "10986",
                                    "3": "5"
                                },
                                {
                                    "0": "55",
                                    "1": "2014-09-13",
                                    "2": "10305",
                                    "3": "1"
                                },
                                {
                                    "0": "55",
                                    "1": "2014-10-25",
                                    "2": "10338",
                                    "3": "2"
                                },
                                {
                                    "0": "55",
                                    "1": "2015-02-10",
                                    "2": "10441",
                                    "3": "3"
                                },
                                {
                                    "0": "55",
                                    "1": "2015-07-09",
                                    "2": "10594",
                                    "3": "4"
                                },
                                {
                                    "0": "55",
                                    "1": "2015-09-24",
                                    "2": "10680",
                                    "3": "5"
                                },
                                {
                                    "0": "55",
                                    "1": "2015-10-16",
                                    "2": "10706",
                                    "3": "6"
                                },
                                {
                                    "0": "55",
                                    "1": "2016-01-01",
                                    "2": "10808",
                                    "3": "7"
                                },
                                {
                                    "0": "55",
                                    "1": "2016-01-27",
                                    "2": "10855",
                                    "3": "8"
                                },
                                {
                                    "0": "55",
                                    "1": "2016-03-20",
                                    "2": "10965",
                                    "3": "9"
                                },
                                {
                                    "0": "55",
                                    "1": "2016-04-20",
                                    "2": "11034",
                                    "3": "10"
                                },
                                {
                                    "0": "56",
                                    "1": "2014-07-19",
                                    "2": "10260",
                                    "3": "1"
                                },
                                {
                                    "0": "56",
                                    "1": "2015-01-07",
                                    "2": "10407",
                                    "3": "2"
                                },
                                {
                                    "0": "56",
                                    "1": "2015-04-16",
                                    "2": "10508",
                                    "3": "3"
                                },
                                {
                                    "0": "56",
                                    "1": "2015-05-30",
                                    "2": "10554",
                                    "3": "4"
                                },
                                {
                                    "0": "56",
                                    "1": "2015-06-26",
                                    "2": "10580",
                                    "3": "5"
                                },
                                {
                                    "0": "56",
                                    "1": "2015-09-26",
                                    "2": "10684",
                                    "3": "6"
                                },
                                {
                                    "0": "56",
                                    "1": "2015-12-05",
                                    "2": "10766",
                                    "3": "7"
                                },
                                {
                                    "0": "56",
                                    "1": "2016-01-15",
                                    "2": "10833",
                                    "3": "8"
                                },
                                {
                                    "0": "56",
                                    "1": "2016-04-03",
                                    "2": "10999",
                                    "3": "9"
                                },
                                {
                                    "0": "56",
                                    "1": "2016-04-14",
                                    "2": "11020",
                                    "3": "10"
                                },
                                {
                                    "0": "58",
                                    "1": "2014-10-04",
                                    "2": "10322",
                                    "3": "1"
                                },
                                {
                                    "0": "58",
                                    "1": "2014-11-14",
                                    "2": "10354",
                                    "3": "2"
                                },
                                {
                                    "0": "58",
                                    "1": "2015-03-13",
                                    "2": "10474",
                                    "3": "3"
                                },
                                {
                                    "0": "58",
                                    "1": "2015-04-10",
                                    "2": "10502",
                                    "3": "4"
                                },
                                {
                                    "0": "58",
                                    "1": "2016-04-02",
                                    "2": "10995",
                                    "3": "5"
                                },
                                {
                                    "0": "58",
                                    "1": "2016-05-05",
                                    "2": "11073",
                                    "3": "6"
                                },
                                {
                                    "0": "59",
                                    "1": "2014-11-13",
                                    "2": "10353",
                                    "3": "1"
                                },
                                {
                                    "0": "59",
                                    "1": "2014-12-24",
                                    "2": "10392",
                                    "3": "2"
                                },
                                {
                                    "0": "59",
                                    "1": "2015-01-27",
                                    "2": "10427",
                                    "3": "3"
                                },
                                {
                                    "0": "59",
                                    "1": "2015-03-28",
                                    "2": "10489",
                                    "3": "4"
                                },
                                {
                                    "0": "59",
                                    "1": "2015-05-08",
                                    "2": "10530",
                                    "3": "5"
                                },
                                {
                                    "0": "59",
                                    "1": "2015-07-11",
                                    "2": "10597",
                                    "3": "6"
                                },
                                {
                                    "0": "59",
                                    "1": "2015-09-30",
                                    "2": "10686",
                                    "3": "7"
                                },
                                {
                                    "0": "59",
                                    "1": "2015-11-19",
                                    "2": "10747",
                                    "3": "8"
                                },
                                {
                                    "0": "59",
                                    "1": "2016-01-21",
                                    "2": "10844",
                                    "3": "9"
                                },
                                {
                                    "0": "59",
                                    "1": "2016-04-27",
                                    "2": "11053",
                                    "3": "10"
                                },
                                {
                                    "0": "60",
                                    "1": "2014-10-23",
                                    "2": "10336",
                                    "3": "1"
                                },
                                {
                                    "0": "60",
                                    "1": "2014-12-27",
                                    "2": "10397",
                                    "3": "2"
                                },
                                {
                                    "0": "60",
                                    "1": "2015-02-03",
                                    "2": "10433",
                                    "3": "3"
                                },
                                {
                                    "0": "60",
                                    "1": "2015-03-17",
                                    "2": "10477",
                                    "3": "4"
                                },
                                {
                                    "0": "60",
                                    "1": "2016-04-08",
                                    "2": "11007",
                                    "3": "5"
                                },
                                {
                                    "0": "61",
                                    "1": "2014-07-19",
                                    "2": "10261",
                                    "3": "1"
                                },
                                {
                                    "0": "61",
                                    "1": "2014-08-27",
                                    "2": "10291",
                                    "3": "2"
                                },
                                {
                                    "0": "61",
                                    "1": "2014-12-11",
                                    "2": "10379",
                                    "3": "3"
                                },
                                {
                                    "0": "61",
                                    "1": "2015-01-21",
                                    "2": "10421",
                                    "3": "4"
                                },
                                {
                                    "0": "61",
                                    "1": "2015-07-02",
                                    "2": "10587",
                                    "3": "5"
                                },
                                {
                                    "0": "61",
                                    "1": "2015-08-27",
                                    "2": "10647",
                                    "3": "6"
                                },
                                {
                                    "0": "61",
                                    "1": "2015-10-28",
                                    "2": "10720",
                                    "3": "7"
                                },
                                {
                                    "0": "61",
                                    "1": "2015-12-24",
                                    "2": "10794",
                                    "3": "8"
                                },
                                {
                                    "0": "61",
                                    "1": "2016-03-31",
                                    "2": "10989",
                                    "3": "9"
                                },
                                {
                                    "0": "62",
                                    "1": "2014-12-04",
                                    "2": "10372",
                                    "3": "1"
                                },
                                {
                                    "0": "62",
                                    "1": "2015-01-07",
                                    "2": "10406",
                                    "3": "2"
                                },
                                {
                                    "0": "62",
                                    "1": "2015-03-26",
                                    "2": "10487",
                                    "3": "3"
                                },
                                {
                                    "0": "62",
                                    "1": "2015-08-19",
                                    "2": "10637",
                                    "3": "4"
                                },
                                {
                                    "0": "62",
                                    "1": "2015-09-05",
                                    "2": "10659",
                                    "3": "5"
                                },
                                {
                                    "0": "62",
                                    "1": "2015-10-14",
                                    "2": "10704",
                                    "3": "6"
                                },
                                {
                                    "0": "62",
                                    "1": "2015-11-04",
                                    "2": "10728",
                                    "3": "7"
                                },
                                {
                                    "0": "62",
                                    "1": "2015-12-19",
                                    "2": "10786",
                                    "3": "8"
                                },
                                {
                                    "0": "62",
                                    "1": "2016-02-04",
                                    "2": "10868",
                                    "3": "9"
                                },
                                {
                                    "0": "62",
                                    "1": "2016-02-26",
                                    "2": "10913",
                                    "3": "10"
                                },
                                {
                                    "0": "62",
                                    "1": "2016-02-27",
                                    "2": "10914",
                                    "3": "11"
                                },
                                {
                                    "0": "62",
                                    "1": "2016-03-19",
                                    "2": "10961",
                                    "3": "12"
                                },
                                {
                                    "0": "62",
                                    "1": "2016-05-04",
                                    "2": "11068",
                                    "3": "13"
                                },
                                {
                                    "0": "63",
                                    "1": "2014-08-05",
                                    "2": "10273",
                                    "3": "1"
                                },
                                {
                                    "0": "63",
                                    "1": "2014-08-20",
                                    "2": "10285",
                                    "3": "2"
                                },
                                {
                                    "0": "63",
                                    "1": "2014-08-21",
                                    "2": "10286",
                                    "3": "3"
                                },
                                {
                                    "0": "63",
                                    "1": "2014-09-24",
                                    "2": "10313",
                                    "3": "4"
                                },
                                {
                                    "0": "63",
                                    "1": "2014-11-04",
                                    "2": "10345",
                                    "3": "5"
                                },
                                {
                                    "0": "63",
                                    "1": "2014-11-22",
                                    "2": "10361",
                                    "3": "6"
                                },
                                {
                                    "0": "63",
                                    "1": "2015-01-17",
                                    "2": "10418",
                                    "3": "7"
                                },
                                {
                                    "0": "63",
                                    "1": "2015-02-19",
                                    "2": "10451",
                                    "3": "8"
                                },
                                {
                                    "0": "63",
                                    "1": "2015-04-23",
                                    "2": "10515",
                                    "3": "9"
                                },
                                {
                                    "0": "63",
                                    "1": "2015-05-05",
                                    "2": "10527",
                                    "3": "10"
                                },
                                {
                                    "0": "63",
                                    "1": "2015-05-19",
                                    "2": "10540",
                                    "3": "11"
                                },
                                {
                                    "0": "63",
                                    "1": "2015-05-27",
                                    "2": "10549",
                                    "3": "12"
                                },
                                {
                                    "0": "63",
                                    "1": "2015-07-03",
                                    "2": "10588",
                                    "3": "13"
                                },
                                {
                                    "0": "63",
                                    "1": "2015-09-05",
                                    "2": "10658",
                                    "3": "14"
                                },
                                {
                                    "0": "63",
                                    "1": "2015-10-03",
                                    "2": "10691",
                                    "3": "15"
                                },
                                {
                                    "0": "63",
                                    "1": "2015-10-06",
                                    "2": "10694",
                                    "3": "16"
                                },
                                {
                                    "0": "63",
                                    "1": "2015-10-29",
                                    "2": "10721",
                                    "3": "17"
                                },
                                {
                                    "0": "63",
                                    "1": "2015-11-18",
                                    "2": "10745",
                                    "3": "18"
                                },
                                {
                                    "0": "63",
                                    "1": "2015-12-04",
                                    "2": "10765",
                                    "3": "19"
                                },
                                {
                                    "0": "63",
                                    "1": "2015-12-22",
                                    "2": "10788",
                                    "3": "20"
                                },
                                {
                                    "0": "63",
                                    "1": "2016-01-21",
                                    "2": "10845",
                                    "3": "21"
                                },
                                {
                                    "0": "63",
                                    "1": "2016-02-02",
                                    "2": "10865",
                                    "3": "22"
                                },
                                {
                                    "0": "63",
                                    "1": "2016-02-10",
                                    "2": "10878",
                                    "3": "23"
                                },
                                {
                                    "0": "63",
                                    "1": "2016-03-10",
                                    "2": "10938",
                                    "3": "24"
                                },
                                {
                                    "0": "63",
                                    "1": "2016-03-19",
                                    "2": "10962",
                                    "3": "25"
                                },
                                {
                                    "0": "63",
                                    "1": "2016-04-01",
                                    "2": "10991",
                                    "3": "26"
                                },
                                {
                                    "0": "63",
                                    "1": "2016-04-02",
                                    "2": "10996",
                                    "3": "27"
                                },
                                {
                                    "0": "63",
                                    "1": "2016-04-14",
                                    "2": "11021",
                                    "3": "28"
                                },
                                {
                                    "0": "64",
                                    "1": "2015-02-17",
                                    "2": "10448",
                                    "3": "1"
                                },
                                {
                                    "0": "64",
                                    "1": "2015-10-24",
                                    "2": "10716",
                                    "3": "2"
                                },
                                {
                                    "0": "64",
                                    "1": "2016-01-13",
                                    "2": "10828",
                                    "3": "3"
                                },
                                {
                                    "0": "64",
                                    "1": "2016-02-27",
                                    "2": "10916",
                                    "3": "4"
                                },
                                {
                                    "0": "64",
                                    "1": "2016-04-13",
                                    "2": "11019",
                                    "3": "5"
                                },
                                {
                                    "0": "65",
                                    "1": "2014-07-22",
                                    "2": "10262",
                                    "3": "1"
                                },
                                {
                                    "0": "65",
                                    "1": "2014-08-02",
                                    "2": "10272",
                                    "3": "2"
                                },
                                {
                                    "0": "65",
                                    "1": "2014-08-30",
                                    "2": "10294",
                                    "3": "3"
                                },
                                {
                                    "0": "65",
                                    "1": "2014-09-25",
                                    "2": "10314",
                                    "3": "4"
                                },
                                {
                                    "0": "65",
                                    "1": "2014-09-27",
                                    "2": "10316",
                                    "3": "5"
                                },
                                {
                                    "0": "65",
                                    "1": "2014-11-05",
                                    "2": "10346",
                                    "3": "6"
                                },
                                {
                                    "0": "65",
                                    "1": "2015-01-01",
                                    "2": "10401",
                                    "3": "7"
                                },
                                {
                                    "0": "65",
                                    "1": "2015-03-19",
                                    "2": "10479",
                                    "3": "8"
                                },
                                {
                                    "0": "65",
                                    "1": "2015-06-10",
                                    "2": "10564",
                                    "3": "9"
                                },
                                {
                                    "0": "65",
                                    "1": "2015-06-16",
                                    "2": "10569",
                                    "3": "10"
                                },
                                {
                                    "0": "65",
                                    "1": "2015-07-14",
                                    "2": "10598",
                                    "3": "11"
                                },
                                {
                                    "0": "65",
                                    "1": "2015-12-02",
                                    "2": "10761",
                                    "3": "12"
                                },
                                {
                                    "0": "65",
                                    "1": "2016-01-07",
                                    "2": "10820",
                                    "3": "13"
                                },
                                {
                                    "0": "65",
                                    "1": "2016-01-26",
                                    "2": "10852",
                                    "3": "14"
                                },
                                {
                                    "0": "65",
                                    "1": "2016-02-16",
                                    "2": "10889",
                                    "3": "15"
                                },
                                {
                                    "0": "65",
                                    "1": "2016-03-31",
                                    "2": "10988",
                                    "3": "16"
                                },
                                {
                                    "0": "65",
                                    "1": "2016-04-06",
                                    "2": "11000",
                                    "3": "17"
                                },
                                {
                                    "0": "65",
                                    "1": "2016-05-06",
                                    "2": "11077",
                                    "3": "18"
                                },
                                {
                                    "0": "66",
                                    "1": "2014-08-23",
                                    "2": "10288",
                                    "3": "1"
                                },
                                {
                                    "0": "66",
                                    "1": "2015-01-28",
                                    "2": "10428",
                                    "3": "2"
                                },
                                {
                                    "0": "66",
                                    "1": "2015-02-12",
                                    "2": "10443",
                                    "3": "3"
                                },
                                {
                                    "0": "66",
                                    "1": "2015-06-09",
                                    "2": "10562",
                                    "3": "4"
                                },
                                {
                                    "0": "66",
                                    "1": "2015-07-02",
                                    "2": "10586",
                                    "3": "5"
                                },
                                {
                                    "0": "66",
                                    "1": "2015-09-03",
                                    "2": "10655",
                                    "3": "6"
                                },
                                {
                                    "0": "66",
                                    "1": "2015-11-03",
                                    "2": "10727",
                                    "3": "7"
                                },
                                {
                                    "0": "66",
                                    "1": "2016-01-02",
                                    "2": "10812",
                                    "3": "8"
                                },
                                {
                                    "0": "66",
                                    "1": "2016-02-26",
                                    "2": "10908",
                                    "3": "9"
                                },
                                {
                                    "0": "66",
                                    "1": "2016-03-11",
                                    "2": "10942",
                                    "3": "10"
                                },
                                {
                                    "0": "66",
                                    "1": "2016-04-09",
                                    "2": "11010",
                                    "3": "11"
                                },
                                {
                                    "0": "66",
                                    "1": "2016-04-30",
                                    "2": "11062",
                                    "3": "12"
                                },
                                {
                                    "0": "67",
                                    "1": "2014-08-22",
                                    "2": "10287",
                                    "3": "1"
                                },
                                {
                                    "0": "67",
                                    "1": "2014-09-06",
                                    "2": "10299",
                                    "3": "2"
                                },
                                {
                                    "0": "67",
                                    "1": "2015-02-14",
                                    "2": "10447",
                                    "3": "3"
                                },
                                {
                                    "0": "67",
                                    "1": "2015-03-20",
                                    "2": "10481",
                                    "3": "4"
                                },
                                {
                                    "0": "67",
                                    "1": "2015-06-10",
                                    "2": "10563",
                                    "3": "5"
                                },
                                {
                                    "0": "67",
                                    "1": "2015-08-06",
                                    "2": "10622",
                                    "3": "6"
                                },
                                {
                                    "0": "67",
                                    "1": "2015-08-28",
                                    "2": "10648",
                                    "3": "7"
                                },
                                {
                                    "0": "67",
                                    "1": "2016-01-05",
                                    "2": "10813",
                                    "3": "8"
                                },
                                {
                                    "0": "67",
                                    "1": "2016-01-26",
                                    "2": "10851",
                                    "3": "9"
                                },
                                {
                                    "0": "67",
                                    "1": "2016-02-09",
                                    "2": "10877",
                                    "3": "10"
                                },
                                {
                                    "0": "67",
                                    "1": "2016-04-29",
                                    "2": "11059",
                                    "3": "11"
                                },
                                {
                                    "0": "68",
                                    "1": "2014-07-12",
                                    "2": "10255",
                                    "3": "1"
                                },
                                {
                                    "0": "68",
                                    "1": "2015-01-20",
                                    "2": "10419",
                                    "3": "2"
                                },
                                {
                                    "0": "68",
                                    "1": "2015-05-14",
                                    "2": "10537",
                                    "3": "3"
                                },
                                {
                                    "0": "68",
                                    "1": "2015-09-12",
                                    "2": "10666",
                                    "3": "4"
                                },
                                {
                                    "0": "68",
                                    "1": "2015-11-24",
                                    "2": "10751",
                                    "3": "5"
                                },
                                {
                                    "0": "68",
                                    "1": "2015-11-28",
                                    "2": "10758",
                                    "3": "6"
                                },
                                {
                                    "0": "68",
                                    "1": "2016-03-06",
                                    "2": "10931",
                                    "3": "7"
                                },
                                {
                                    "0": "68",
                                    "1": "2016-03-16",
                                    "2": "10951",
                                    "3": "8"
                                },
                                {
                                    "0": "68",
                                    "1": "2016-04-17",
                                    "2": "11033",
                                    "3": "9"
                                },
                                {
                                    "0": "68",
                                    "1": "2016-05-06",
                                    "2": "11075",
                                    "3": "10"
                                },
                                {
                                    "0": "69",
                                    "1": "2014-08-14",
                                    "2": "10281",
                                    "3": "1"
                                },
                                {
                                    "0": "69",
                                    "1": "2014-08-15",
                                    "2": "10282",
                                    "3": "2"
                                },
                                {
                                    "0": "69",
                                    "1": "2014-09-16",
                                    "2": "10306",
                                    "3": "3"
                                },
                                {
                                    "0": "69",
                                    "1": "2016-03-02",
                                    "2": "10917",
                                    "3": "4"
                                },
                                {
                                    "0": "69",
                                    "1": "2016-04-09",
                                    "2": "11013",
                                    "3": "5"
                                },
                                {
                                    "0": "70",
                                    "1": "2014-12-18",
                                    "2": "10387",
                                    "3": "1"
                                },
                                {
                                    "0": "70",
                                    "1": "2015-04-29",
                                    "2": "10520",
                                    "3": "2"
                                },
                                {
                                    "0": "70",
                                    "1": "2015-08-20",
                                    "2": "10639",
                                    "3": "3"
                                },
                                {
                                    "0": "70",
                                    "1": "2016-01-14",
                                    "2": "10831",
                                    "3": "4"
                                },
                                {
                                    "0": "70",
                                    "1": "2016-02-26",
                                    "2": "10909",
                                    "3": "5"
                                },
                                {
                                    "0": "70",
                                    "1": "2016-04-10",
                                    "2": "11015",
                                    "3": "6"
                                },
                                {
                                    "0": "71",
                                    "1": "2014-10-08",
                                    "2": "10324",
                                    "3": "1"
                                },
                                {
                                    "0": "71",
                                    "1": "2014-12-25",
                                    "2": "10393",
                                    "3": "2"
                                },
                                {
                                    "0": "71",
                                    "1": "2014-12-30",
                                    "2": "10398",
                                    "3": "3"
                                },
                                {
                                    "0": "71",
                                    "1": "2015-02-10",
                                    "2": "10440",
                                    "3": "4"
                                },
                                {
                                    "0": "71",
                                    "1": "2015-02-20",
                                    "2": "10452",
                                    "3": "5"
                                },
                                {
                                    "0": "71",
                                    "1": "2015-04-18",
                                    "2": "10510",
                                    "3": "6"
                                },
                                {
                                    "0": "71",
                                    "1": "2015-06-02",
                                    "2": "10555",
                                    "3": "7"
                                },
                                {
                                    "0": "71",
                                    "1": "2015-07-18",
                                    "2": "10603",
                                    "3": "8"
                                },
                                {
                                    "0": "71",
                                    "1": "2015-07-22",
                                    "2": "10607",
                                    "3": "9"
                                },
                                {
                                    "0": "71",
                                    "1": "2015-07-28",
                                    "2": "10612",
                                    "3": "10"
                                },
                                {
                                    "0": "71",
                                    "1": "2015-08-11",
                                    "2": "10627",
                                    "3": "11"
                                },
                                {
                                    "0": "71",
                                    "1": "2015-09-04",
                                    "2": "10657",
                                    "3": "12"
                                },
                                {
                                    "0": "71",
                                    "1": "2015-09-23",
                                    "2": "10678",
                                    "3": "13"
                                },
                                {
                                    "0": "71",
                                    "1": "2015-10-10",
                                    "2": "10700",
                                    "3": "14"
                                },
                                {
                                    "0": "71",
                                    "1": "2015-10-21",
                                    "2": "10711",
                                    "3": "15"
                                },
                                {
                                    "0": "71",
                                    "1": "2015-10-22",
                                    "2": "10713",
                                    "3": "16"
                                },
                                {
                                    "0": "71",
                                    "1": "2015-10-22",
                                    "2": "10714",
                                    "3": "17"
                                },
                                {
                                    "0": "71",
                                    "1": "2015-10-29",
                                    "2": "10722",
                                    "3": "18"
                                },
                                {
                                    "0": "71",
                                    "1": "2015-11-20",
                                    "2": "10748",
                                    "3": "19"
                                },
                                {
                                    "0": "71",
                                    "1": "2015-11-27",
                                    "2": "10757",
                                    "3": "20"
                                },
                                {
                                    "0": "71",
                                    "1": "2016-01-05",
                                    "2": "10815",
                                    "3": "21"
                                },
                                {
                                    "0": "71",
                                    "1": "2016-01-22",
                                    "2": "10847",
                                    "3": "22"
                                },
                                {
                                    "0": "71",
                                    "1": "2016-02-11",
                                    "2": "10882",
                                    "3": "23"
                                },
                                {
                                    "0": "71",
                                    "1": "2016-02-18",
                                    "2": "10894",
                                    "3": "24"
                                },
                                {
                                    "0": "71",
                                    "1": "2016-03-11",
                                    "2": "10941",
                                    "3": "25"
                                },
                                {
                                    "0": "71",
                                    "1": "2016-03-27",
                                    "2": "10983",
                                    "3": "26"
                                },
                                {
                                    "0": "71",
                                    "1": "2016-03-30",
                                    "2": "10984",
                                    "3": "27"
                                },
                                {
                                    "0": "71",
                                    "1": "2016-04-06",
                                    "2": "11002",
                                    "3": "28"
                                },
                                {
                                    "0": "71",
                                    "1": "2016-04-17",
                                    "2": "11030",
                                    "3": "29"
                                },
                                {
                                    "0": "71",
                                    "1": "2016-04-17",
                                    "2": "11031",
                                    "3": "30"
                                },
                                {
                                    "0": "71",
                                    "1": "2016-05-01",
                                    "2": "11064",
                                    "3": "31"
                                },
                                {
                                    "0": "72",
                                    "1": "2014-11-21",
                                    "2": "10359",
                                    "3": "1"
                                },
                                {
                                    "0": "72",
                                    "1": "2014-12-09",
                                    "2": "10377",
                                    "3": "2"
                                },
                                {
                                    "0": "72",
                                    "1": "2014-12-19",
                                    "2": "10388",
                                    "3": "3"
                                },
                                {
                                    "0": "72",
                                    "1": "2015-03-12",
                                    "2": "10472",
                                    "3": "4"
                                },
                                {
                                    "0": "72",
                                    "1": "2015-05-01",
                                    "2": "10523",
                                    "3": "5"
                                },
                                {
                                    "0": "72",
                                    "1": "2015-05-23",
                                    "2": "10547",
                                    "3": "6"
                                },
                                {
                                    "0": "72",
                                    "1": "2015-12-26",
                                    "2": "10800",
                                    "3": "7"
                                },
                                {
                                    "0": "72",
                                    "1": "2015-12-30",
                                    "2": "10804",
                                    "3": "8"
                                },
                                {
                                    "0": "72",
                                    "1": "2016-02-04",
                                    "2": "10869",
                                    "3": "9"
                                },
                                {
                                    "0": "73",
                                    "1": "2014-10-29",
                                    "2": "10341",
                                    "3": "1"
                                },
                                {
                                    "0": "73",
                                    "1": "2015-01-16",
                                    "2": "10417",
                                    "3": "2"
                                },
                                {
                                    "0": "73",
                                    "1": "2015-06-03",
                                    "2": "10556",
                                    "3": "3"
                                },
                                {
                                    "0": "73",
                                    "1": "2015-08-22",
                                    "2": "10642",
                                    "3": "4"
                                },
                                {
                                    "0": "73",
                                    "1": "2015-09-15",
                                    "2": "10669",
                                    "3": "5"
                                },
                                {
                                    "0": "73",
                                    "1": "2015-12-29",
                                    "2": "10802",
                                    "3": "6"
                                },
                                {
                                    "0": "73",
                                    "1": "2016-05-06",
                                    "2": "11074",
                                    "3": "7"
                                },
                                {
                                    "0": "74",
                                    "1": "2015-11-12",
                                    "2": "10738",
                                    "3": "1"
                                },
                                {
                                    "0": "74",
                                    "1": "2016-02-25",
                                    "2": "10907",
                                    "3": "2"
                                },
                                {
                                    "0": "74",
                                    "1": "2016-03-20",
                                    "2": "10964",
                                    "3": "3"
                                },
                                {
                                    "0": "74",
                                    "1": "2016-04-22",
                                    "2": "11043",
                                    "3": "4"
                                },
                                {
                                    "0": "75",
                                    "1": "2014-08-01",
                                    "2": "10271",
                                    "3": "1"
                                },
                                {
                                    "0": "75",
                                    "1": "2014-10-15",
                                    "2": "10329",
                                    "3": "2"
                                },
                                {
                                    "0": "75",
                                    "1": "2014-11-08",
                                    "2": "10349",
                                    "3": "3"
                                },
                                {
                                    "0": "75",
                                    "1": "2014-12-02",
                                    "2": "10369",
                                    "3": "4"
                                },
                                {
                                    "0": "75",
                                    "1": "2014-12-17",
                                    "2": "10385",
                                    "3": "5"
                                },
                                {
                                    "0": "75",
                                    "1": "2015-01-31",
                                    "2": "10432",
                                    "3": "6"
                                },
                                {
                                    "0": "75",
                                    "1": "2015-11-27",
                                    "2": "10756",
                                    "3": "7"
                                },
                                {
                                    "0": "75",
                                    "1": "2016-01-08",
                                    "2": "10821",
                                    "3": "8"
                                },
                                {
                                    "0": "75",
                                    "1": "2016-03-25",
                                    "2": "10974",
                                    "3": "9"
                                },
                                {
                                    "0": "76",
                                    "1": "2014-07-09",
                                    "2": "10252",
                                    "3": "1"
                                },
                                {
                                    "0": "76",
                                    "1": "2014-09-10",
                                    "2": "10302",
                                    "3": "2"
                                },
                                {
                                    "0": "76",
                                    "1": "2015-02-26",
                                    "2": "10458",
                                    "3": "3"
                                },
                                {
                                    "0": "76",
                                    "1": "2015-03-04",
                                    "2": "10463",
                                    "3": "4"
                                },
                                {
                                    "0": "76",
                                    "1": "2015-03-14",
                                    "2": "10475",
                                    "3": "5"
                                },
                                {
                                    "0": "76",
                                    "1": "2015-12-05",
                                    "2": "10767",
                                    "3": "6"
                                },
                                {
                                    "0": "76",
                                    "1": "2016-01-20",
                                    "2": "10841",
                                    "3": "7"
                                },
                                {
                                    "0": "76",
                                    "1": "2016-01-22",
                                    "2": "10846",
                                    "3": "8"
                                },
                                {
                                    "0": "76",
                                    "1": "2016-02-12",
                                    "2": "10885",
                                    "3": "9"
                                },
                                {
                                    "0": "76",
                                    "1": "2016-03-06",
                                    "2": "10930",
                                    "3": "10"
                                },
                                {
                                    "0": "76",
                                    "1": "2016-04-20",
                                    "2": "11035",
                                    "3": "11"
                                },
                                {
                                    "0": "76",
                                    "1": "2016-04-21",
                                    "2": "11038",
                                    "3": "12"
                                },
                                {
                                    "0": "77",
                                    "1": "2014-09-20",
                                    "2": "10310",
                                    "3": "1"
                                },
                                {
                                    "0": "77",
                                    "1": "2015-10-17",
                                    "2": "10708",
                                    "3": "2"
                                },
                                {
                                    "0": "77",
                                    "1": "2015-12-30",
                                    "2": "10805",
                                    "3": "3"
                                },
                                {
                                    "0": "77",
                                    "1": "2016-04-01",
                                    "2": "10992",
                                    "3": "4"
                                },
                                {
                                    "0": "78",
                                    "1": "2015-08-07",
                                    "2": "10624",
                                    "3": "1"
                                },
                                {
                                    "0": "78",
                                    "1": "2015-12-12",
                                    "2": "10775",
                                    "3": "2"
                                },
                                {
                                    "0": "78",
                                    "1": "2016-04-06",
                                    "2": "11003",
                                    "3": "3"
                                },
                                {
                                    "0": "79",
                                    "1": "2014-07-05",
                                    "2": "10249",
                                    "3": "1"
                                },
                                {
                                    "0": "79",
                                    "1": "2015-02-06",
                                    "2": "10438",
                                    "3": "2"
                                },
                                {
                                    "0": "79",
                                    "1": "2015-02-14",
                                    "2": "10446",
                                    "3": "3"
                                },
                                {
                                    "0": "79",
                                    "1": "2015-05-26",
                                    "2": "10548",
                                    "3": "4"
                                },
                                {
                                    "0": "79",
                                    "1": "2015-07-23",
                                    "2": "10608",
                                    "3": "5"
                                },
                                {
                                    "0": "79",
                                    "1": "2016-03-23",
                                    "2": "10967",
                                    "3": "6"
                                },
                                {
                                    "0": "80",
                                    "1": "2014-08-08",
                                    "2": "10276",
                                    "3": "1"
                                },
                                {
                                    "0": "80",
                                    "1": "2014-08-29",
                                    "2": "10293",
                                    "3": "2"
                                },
                                {
                                    "0": "80",
                                    "1": "2014-09-12",
                                    "2": "10304",
                                    "3": "3"
                                },
                                {
                                    "0": "80",
                                    "1": "2014-10-02",
                                    "2": "10319",
                                    "3": "4"
                                },
                                {
                                    "0": "80",
                                    "1": "2015-04-25",
                                    "2": "10518",
                                    "3": "5"
                                },
                                {
                                    "0": "80",
                                    "1": "2015-06-23",
                                    "2": "10576",
                                    "3": "6"
                                },
                                {
                                    "0": "80",
                                    "1": "2015-09-22",
                                    "2": "10676",
                                    "3": "7"
                                },
                                {
                                    "0": "80",
                                    "1": "2016-01-20",
                                    "2": "10842",
                                    "3": "8"
                                },
                                {
                                    "0": "80",
                                    "1": "2016-02-27",
                                    "2": "10915",
                                    "3": "9"
                                },
                                {
                                    "0": "80",
                                    "1": "2016-05-04",
                                    "2": "11069",
                                    "3": "10"
                                },
                                {
                                    "0": "81",
                                    "1": "2014-08-28",
                                    "2": "10292",
                                    "3": "1"
                                },
                                {
                                    "0": "81",
                                    "1": "2015-04-04",
                                    "2": "10496",
                                    "3": "2"
                                },
                                {
                                    "0": "81",
                                    "1": "2015-07-22",
                                    "2": "10606",
                                    "3": "3"
                                },
                                {
                                    "0": "81",
                                    "1": "2016-01-13",
                                    "2": "10830",
                                    "3": "4"
                                },
                                {
                                    "0": "81",
                                    "1": "2016-01-15",
                                    "2": "10834",
                                    "3": "5"
                                },
                                {
                                    "0": "81",
                                    "1": "2016-01-19",
                                    "2": "10839",
                                    "3": "6"
                                },
                                {
                                    "0": "82",
                                    "1": "2015-06-19",
                                    "2": "10574",
                                    "3": "1"
                                },
                                {
                                    "0": "82",
                                    "1": "2015-06-23",
                                    "2": "10577",
                                    "3": "2"
                                },
                                {
                                    "0": "82",
                                    "1": "2016-01-08",
                                    "2": "10822",
                                    "3": "3"
                                },
                                {
                                    "0": "83",
                                    "1": "2014-11-28",
                                    "2": "10367",
                                    "3": "1"
                                },
                                {
                                    "0": "83",
                                    "1": "2014-12-31",
                                    "2": "10399",
                                    "3": "2"
                                },
                                {
                                    "0": "83",
                                    "1": "2015-03-05",
                                    "2": "10465",
                                    "3": "3"
                                },
                                {
                                    "0": "83",
                                    "1": "2015-07-07",
                                    "2": "10591",
                                    "3": "4"
                                },
                                {
                                    "0": "83",
                                    "1": "2015-07-17",
                                    "2": "10602",
                                    "3": "5"
                                },
                                {
                                    "0": "83",
                                    "1": "2015-10-01",
                                    "2": "10688",
                                    "3": "6"
                                },
                                {
                                    "0": "83",
                                    "1": "2015-11-17",
                                    "2": "10744",
                                    "3": "7"
                                },
                                {
                                    "0": "83",
                                    "1": "2015-12-08",
                                    "2": "10769",
                                    "3": "8"
                                },
                                {
                                    "0": "83",
                                    "1": "2016-03-03",
                                    "2": "10921",
                                    "3": "9"
                                },
                                {
                                    "0": "83",
                                    "1": "2016-03-12",
                                    "2": "10946",
                                    "3": "10"
                                },
                                {
                                    "0": "83",
                                    "1": "2016-04-02",
                                    "2": "10994",
                                    "3": "11"
                                },
                                {
                                    "0": "84",
                                    "1": "2014-07-08",
                                    "2": "10251",
                                    "3": "1"
                                },
                                {
                                    "0": "84",
                                    "1": "2014-10-21",
                                    "2": "10334",
                                    "3": "2"
                                },
                                {
                                    "0": "84",
                                    "1": "2015-02-19",
                                    "2": "10450",
                                    "3": "3"
                                },
                                {
                                    "0": "84",
                                    "1": "2015-02-27",
                                    "2": "10459",
                                    "3": "4"
                                },
                                {
                                    "0": "84",
                                    "1": "2015-03-18",
                                    "2": "10478",
                                    "3": "5"
                                },
                                {
                                    "0": "84",
                                    "1": "2015-05-23",
                                    "2": "10546",
                                    "3": "6"
                                },
                                {
                                    "0": "84",
                                    "1": "2015-12-31",
                                    "2": "10806",
                                    "3": "7"
                                },
                                {
                                    "0": "84",
                                    "1": "2016-01-05",
                                    "2": "10814",
                                    "3": "8"
                                },
                                {
                                    "0": "84",
                                    "1": "2016-01-21",
                                    "2": "10843",
                                    "3": "9"
                                },
                                {
                                    "0": "84",
                                    "1": "2016-01-23",
                                    "2": "10850",
                                    "3": "10"
                                },
                                {
                                    "0": "85",
                                    "1": "2014-07-04",
                                    "2": "10248",
                                    "3": "1"
                                },
                                {
                                    "0": "85",
                                    "1": "2014-08-06",
                                    "2": "10274",
                                    "3": "2"
                                },
                                {
                                    "0": "85",
                                    "1": "2014-09-02",
                                    "2": "10295",
                                    "3": "3"
                                },
                                {
                                    "0": "85",
                                    "1": "2015-11-11",
                                    "2": "10737",
                                    "3": "4"
                                },
                                {
                                    "0": "85",
                                    "1": "2015-11-12",
                                    "2": "10739",
                                    "3": "5"
                                },
                                {
                                    "0": "86",
                                    "1": "2014-09-09",
                                    "2": "10301",
                                    "3": "1"
                                },
                                {
                                    "0": "86",
                                    "1": "2014-09-23",
                                    "2": "10312",
                                    "3": "2"
                                },
                                {
                                    "0": "86",
                                    "1": "2014-11-07",
                                    "2": "10348",
                                    "3": "3"
                                },
                                {
                                    "0": "86",
                                    "1": "2014-11-18",
                                    "2": "10356",
                                    "3": "4"
                                },
                                {
                                    "0": "86",
                                    "1": "2015-04-22",
                                    "2": "10513",
                                    "3": "5"
                                },
                                {
                                    "0": "86",
                                    "1": "2015-08-14",
                                    "2": "10632",
                                    "3": "6"
                                },
                                {
                                    "0": "86",
                                    "1": "2015-08-21",
                                    "2": "10640",
                                    "3": "7"
                                },
                                {
                                    "0": "86",
                                    "1": "2015-09-01",
                                    "2": "10651",
                                    "3": "8"
                                },
                                {
                                    "0": "86",
                                    "1": "2015-09-15",
                                    "2": "10668",
                                    "3": "9"
                                },
                                {
                                    "0": "86",
                                    "1": "2016-04-23",
                                    "2": "11046",
                                    "3": "10"
                                },
                                {
                                    "0": "87",
                                    "1": "2014-07-26",
                                    "2": "10266",
                                    "3": "1"
                                },
                                {
                                    "0": "87",
                                    "1": "2014-08-01",
                                    "2": "10270",
                                    "3": "2"
                                },
                                {
                                    "0": "87",
                                    "1": "2014-10-03",
                                    "2": "10320",
                                    "3": "3"
                                },
                                {
                                    "0": "87",
                                    "1": "2014-10-18",
                                    "2": "10333",
                                    "3": "4"
                                },
                                {
                                    "0": "87",
                                    "1": "2015-01-13",
                                    "2": "10412",
                                    "3": "5"
                                },
                                {
                                    "0": "87",
                                    "1": "2015-01-16",
                                    "2": "10416",
                                    "3": "6"
                                },
                                {
                                    "0": "87",
                                    "1": "2015-02-05",
                                    "2": "10437",
                                    "3": "7"
                                },
                                {
                                    "0": "87",
                                    "1": "2015-02-24",
                                    "2": "10455",
                                    "3": "8"
                                },
                                {
                                    "0": "87",
                                    "1": "2015-05-05",
                                    "2": "10526",
                                    "3": "9"
                                },
                                {
                                    "0": "87",
                                    "1": "2015-05-30",
                                    "2": "10553",
                                    "3": "10"
                                },
                                {
                                    "0": "87",
                                    "1": "2015-06-30",
                                    "2": "10583",
                                    "3": "11"
                                },
                                {
                                    "0": "87",
                                    "1": "2015-08-19",
                                    "2": "10636",
                                    "3": "12"
                                },
                                {
                                    "0": "87",
                                    "1": "2015-11-21",
                                    "2": "10750",
                                    "3": "13"
                                },
                                {
                                    "0": "87",
                                    "1": "2015-12-17",
                                    "2": "10781",
                                    "3": "14"
                                },
                                {
                                    "0": "87",
                                    "1": "2016-04-15",
                                    "2": "11025",
                                    "3": "15"
                                },
                                {
                                    "0": "88",
                                    "1": "2014-07-15",
                                    "2": "10256",
                                    "3": "1"
                                },
                                {
                                    "0": "88",
                                    "1": "2015-01-21",
                                    "2": "10420",
                                    "3": "2"
                                },
                                {
                                    "0": "88",
                                    "1": "2015-07-01",
                                    "2": "10585",
                                    "3": "3"
                                },
                                {
                                    "0": "88",
                                    "1": "2015-08-25",
                                    "2": "10644",
                                    "3": "4"
                                },
                                {
                                    "0": "88",
                                    "1": "2015-12-30",
                                    "2": "10803",
                                    "3": "5"
                                },
                                {
                                    "0": "88",
                                    "1": "2016-01-01",
                                    "2": "10809",
                                    "3": "6"
                                },
                                {
                                    "0": "88",
                                    "1": "2016-02-20",
                                    "2": "10900",
                                    "3": "7"
                                },
                                {
                                    "0": "88",
                                    "1": "2016-02-24",
                                    "2": "10905",
                                    "3": "8"
                                },
                                {
                                    "0": "88",
                                    "1": "2016-03-09",
                                    "2": "10935",
                                    "3": "9"
                                },
                                {
                                    "0": "89",
                                    "1": "2014-07-31",
                                    "2": "10269",
                                    "3": "1"
                                },
                                {
                                    "0": "89",
                                    "1": "2014-11-01",
                                    "2": "10344",
                                    "3": "2"
                                },
                                {
                                    "0": "89",
                                    "1": "2015-03-10",
                                    "2": "10469",
                                    "3": "3"
                                },
                                {
                                    "0": "89",
                                    "1": "2015-03-24",
                                    "2": "10483",
                                    "3": "4"
                                },
                                {
                                    "0": "89",
                                    "1": "2015-04-11",
                                    "2": "10504",
                                    "3": "5"
                                },
                                {
                                    "0": "89",
                                    "1": "2015-07-11",
                                    "2": "10596",
                                    "3": "6"
                                },
                                {
                                    "0": "89",
                                    "1": "2015-10-06",
                                    "2": "10693",
                                    "3": "7"
                                },
                                {
                                    "0": "89",
                                    "1": "2015-10-08",
                                    "2": "10696",
                                    "3": "8"
                                },
                                {
                                    "0": "89",
                                    "1": "2015-10-30",
                                    "2": "10723",
                                    "3": "9"
                                },
                                {
                                    "0": "89",
                                    "1": "2015-11-13",
                                    "2": "10740",
                                    "3": "10"
                                },
                                {
                                    "0": "89",
                                    "1": "2016-01-30",
                                    "2": "10861",
                                    "3": "11"
                                },
                                {
                                    "0": "89",
                                    "1": "2016-02-24",
                                    "2": "10904",
                                    "3": "12"
                                },
                                {
                                    "0": "89",
                                    "1": "2016-04-17",
                                    "2": "11032",
                                    "3": "13"
                                },
                                {
                                    "0": "89",
                                    "1": "2016-05-01",
                                    "2": "11066",
                                    "3": "14"
                                },
                                {
                                    "0": "90",
                                    "1": "2015-07-30",
                                    "2": "10615",
                                    "3": "1"
                                },
                                {
                                    "0": "90",
                                    "1": "2015-09-18",
                                    "2": "10673",
                                    "3": "2"
                                },
                                {
                                    "0": "90",
                                    "1": "2015-10-07",
                                    "2": "10695",
                                    "3": "3"
                                },
                                {
                                    "0": "90",
                                    "1": "2016-02-06",
                                    "2": "10873",
                                    "3": "4"
                                },
                                {
                                    "0": "90",
                                    "1": "2016-02-10",
                                    "2": "10879",
                                    "3": "5"
                                },
                                {
                                    "0": "90",
                                    "1": "2016-02-26",
                                    "2": "10910",
                                    "3": "6"
                                },
                                {
                                    "0": "90",
                                    "1": "2016-04-07",
                                    "2": "11005",
                                    "3": "7"
                                },
                                {
                                    "0": "91",
                                    "1": "2014-12-05",
                                    "2": "10374",
                                    "3": "1"
                                },
                                {
                                    "0": "91",
                                    "1": "2015-07-25",
                                    "2": "10611",
                                    "3": "2"
                                },
                                {
                                    "0": "91",
                                    "1": "2015-12-23",
                                    "2": "10792",
                                    "3": "3"
                                },
                                {
                                    "0": "91",
                                    "1": "2016-02-04",
                                    "2": "10870",
                                    "3": "4"
                                },
                                {
                                    "0": "91",
                                    "1": "2016-02-25",
                                    "2": "10906",
                                    "3": "5"
                                },
                                {
                                    "0": "91",
                                    "1": "2016-04-03",
                                    "2": "10998",
                                    "3": "6"
                                },
                                {
                                    "0": "91",
                                    "1": "2016-04-23",
                                    "2": "11044",
                                    "3": "7"
                                }
                            ]
                        },
                        "text/html": "<table><tr><th>custid</th><th>orderdate</th><th>orderid</th><th>rownum</th></tr><tr><td>1</td><td>2015-08-25</td><td>10643</td><td>1</td></tr><tr><td>1</td><td>2015-10-03</td><td>10692</td><td>2</td></tr><tr><td>1</td><td>2015-10-13</td><td>10702</td><td>3</td></tr><tr><td>1</td><td>2016-01-15</td><td>10835</td><td>4</td></tr><tr><td>1</td><td>2016-03-16</td><td>10952</td><td>5</td></tr><tr><td>1</td><td>2016-04-09</td><td>11011</td><td>6</td></tr><tr><td>2</td><td>2014-09-18</td><td>10308</td><td>1</td></tr><tr><td>2</td><td>2015-08-08</td><td>10625</td><td>2</td></tr><tr><td>2</td><td>2015-11-28</td><td>10759</td><td>3</td></tr><tr><td>2</td><td>2016-03-04</td><td>10926</td><td>4</td></tr><tr><td>3</td><td>2014-11-27</td><td>10365</td><td>1</td></tr><tr><td>3</td><td>2015-04-15</td><td>10507</td><td>2</td></tr><tr><td>3</td><td>2015-05-13</td><td>10535</td><td>3</td></tr><tr><td>3</td><td>2015-06-19</td><td>10573</td><td>4</td></tr><tr><td>3</td><td>2015-09-22</td><td>10677</td><td>5</td></tr><tr><td>3</td><td>2015-09-25</td><td>10682</td><td>6</td></tr><tr><td>3</td><td>2016-01-28</td><td>10856</td><td>7</td></tr><tr><td>4</td><td>2014-11-15</td><td>10355</td><td>1</td></tr><tr><td>4</td><td>2014-12-16</td><td>10383</td><td>2</td></tr><tr><td>4</td><td>2015-02-21</td><td>10453</td><td>3</td></tr><tr><td>4</td><td>2015-06-04</td><td>10558</td><td>4</td></tr><tr><td>4</td><td>2015-10-16</td><td>10707</td><td>5</td></tr><tr><td>4</td><td>2015-11-14</td><td>10741</td><td>6</td></tr><tr><td>4</td><td>2015-11-17</td><td>10743</td><td>7</td></tr><tr><td>4</td><td>2015-12-08</td><td>10768</td><td>8</td></tr><tr><td>4</td><td>2015-12-24</td><td>10793</td><td>9</td></tr><tr><td>4</td><td>2016-02-02</td><td>10864</td><td>10</td></tr><tr><td>4</td><td>2016-03-03</td><td>10920</td><td>11</td></tr><tr><td>4</td><td>2016-03-16</td><td>10953</td><td>12</td></tr><tr><td>4</td><td>2016-04-10</td><td>11016</td><td>13</td></tr><tr><td>5</td><td>2014-08-12</td><td>10278</td><td>1</td></tr><tr><td>5</td><td>2014-08-14</td><td>10280</td><td>2</td></tr><tr><td>5</td><td>2014-12-16</td><td>10384</td><td>3</td></tr><tr><td>5</td><td>2015-02-12</td><td>10444</td><td>4</td></tr><tr><td>5</td><td>2015-02-13</td><td>10445</td><td>5</td></tr><tr><td>5</td><td>2015-05-01</td><td>10524</td><td>6</td></tr><tr><td>5</td><td>2015-06-18</td><td>10572</td><td>7</td></tr><tr><td>5</td><td>2015-08-11</td><td>10626</td><td>8</td></tr><tr><td>5</td><td>2015-09-02</td><td>10654</td><td>9</td></tr><tr><td>5</td><td>2015-09-17</td><td>10672</td><td>10</td></tr><tr><td>5</td><td>2015-10-01</td><td>10689</td><td>11</td></tr><tr><td>5</td><td>2015-11-07</td><td>10733</td><td>12</td></tr><tr><td>5</td><td>2015-12-16</td><td>10778</td><td>13</td></tr><tr><td>5</td><td>2016-01-16</td><td>10837</td><td>14</td></tr><tr><td>5</td><td>2016-01-28</td><td>10857</td><td>15</td></tr><tr><td>5</td><td>2016-02-03</td><td>10866</td><td>16</td></tr><tr><td>5</td><td>2016-02-06</td><td>10875</td><td>17</td></tr><tr><td>5</td><td>2016-03-04</td><td>10924</td><td>18</td></tr><tr><td>6</td><td>2015-04-09</td><td>10501</td><td>1</td></tr><tr><td>6</td><td>2015-04-17</td><td>10509</td><td>2</td></tr><tr><td>6</td><td>2015-06-27</td><td>10582</td><td>3</td></tr><tr><td>6</td><td>2015-07-29</td><td>10614</td><td>4</td></tr><tr><td>6</td><td>2016-01-27</td><td>10853</td><td>5</td></tr><tr><td>6</td><td>2016-03-17</td><td>10956</td><td>6</td></tr><tr><td>6</td><td>2016-04-29</td><td>11058</td><td>7</td></tr><tr><td>7</td><td>2014-07-25</td><td>10265</td><td>1</td></tr><tr><td>7</td><td>2014-09-04</td><td>10297</td><td>2</td></tr><tr><td>7</td><td>2014-11-22</td><td>10360</td><td>3</td></tr><tr><td>7</td><td>2015-02-05</td><td>10436</td><td>4</td></tr><tr><td>7</td><td>2015-02-18</td><td>10449</td><td>5</td></tr><tr><td>7</td><td>2015-06-05</td><td>10559</td><td>6</td></tr><tr><td>7</td><td>2015-06-12</td><td>10566</td><td>7</td></tr><tr><td>7</td><td>2015-06-30</td><td>10584</td><td>8</td></tr><tr><td>7</td><td>2015-08-12</td><td>10628</td><td>9</td></tr><tr><td>7</td><td>2015-09-23</td><td>10679</td><td>10</td></tr><tr><td>7</td><td>2016-01-12</td><td>10826</td><td>11</td></tr><tr><td>8</td><td>2014-10-10</td><td>10326</td><td>1</td></tr><tr><td>8</td><td>2015-12-29</td><td>10801</td><td>2</td></tr><tr><td>8</td><td>2016-03-24</td><td>10970</td><td>3</td></tr><tr><td>9</td><td>2014-10-16</td><td>10331</td><td>1</td></tr><tr><td>9</td><td>2014-10-29</td><td>10340</td><td>2</td></tr><tr><td>9</td><td>2014-11-25</td><td>10362</td><td>3</td></tr><tr><td>9</td><td>2015-03-11</td><td>10470</td><td>4</td></tr><tr><td>9</td><td>2015-04-18</td><td>10511</td><td>5</td></tr><tr><td>9</td><td>2015-05-02</td><td>10525</td><td>6</td></tr><tr><td>9</td><td>2015-09-10</td><td>10663</td><td>7</td></tr><tr><td>9</td><td>2015-10-23</td><td>10715</td><td>8</td></tr><tr><td>9</td><td>2015-11-05</td><td>10730</td><td>9</td></tr><tr><td>9</td><td>2015-11-06</td><td>10732</td><td>10</td></tr><tr><td>9</td><td>2015-11-26</td><td>10755</td><td>11</td></tr><tr><td>9</td><td>2016-01-12</td><td>10827</td><td>12</td></tr><tr><td>9</td><td>2016-02-05</td><td>10871</td><td>13</td></tr><tr><td>9</td><td>2016-02-09</td><td>10876</td><td>14</td></tr><tr><td>9</td><td>2016-03-06</td><td>10932</td><td>15</td></tr><tr><td>9</td><td>2016-03-11</td><td>10940</td><td>16</td></tr><tr><td>9</td><td>2016-05-06</td><td>11076</td><td>17</td></tr><tr><td>10</td><td>2014-12-20</td><td>10389</td><td>1</td></tr><tr><td>10</td><td>2015-01-10</td><td>10410</td><td>2</td></tr><tr><td>10</td><td>2015-01-10</td><td>10411</td><td>3</td></tr><tr><td>10</td><td>2015-01-30</td><td>10431</td><td>4</td></tr><tr><td>10</td><td>2015-04-01</td><td>10492</td><td>5</td></tr><tr><td>10</td><td>2015-11-14</td><td>10742</td><td>6</td></tr><tr><td>10</td><td>2016-03-02</td><td>10918</td><td>7</td></tr><tr><td>10</td><td>2016-03-12</td><td>10944</td><td>8</td></tr><tr><td>10</td><td>2016-03-13</td><td>10949</td><td>9</td></tr><tr><td>10</td><td>2016-03-25</td><td>10975</td><td>10</td></tr><tr><td>10</td><td>2016-03-27</td><td>10982</td><td>11</td></tr><tr><td>10</td><td>2016-04-16</td><td>11027</td><td>12</td></tr><tr><td>10</td><td>2016-04-23</td><td>11045</td><td>13</td></tr><tr><td>10</td><td>2016-04-24</td><td>11048</td><td>14</td></tr><tr><td>11</td><td>2014-08-26</td><td>10289</td><td>1</td></tr><tr><td>11</td><td>2015-03-11</td><td>10471</td><td>2</td></tr><tr><td>11</td><td>2015-03-24</td><td>10484</td><td>3</td></tr><tr><td>11</td><td>2015-05-15</td><td>10538</td><td>4</td></tr><tr><td>11</td><td>2015-05-16</td><td>10539</td><td>5</td></tr><tr><td>11</td><td>2015-06-24</td><td>10578</td><td>6</td></tr><tr><td>11</td><td>2015-07-15</td><td>10599</td><td>7</td></tr><tr><td>11</td><td>2016-03-11</td><td>10943</td><td>8</td></tr><tr><td>11</td><td>2016-03-13</td><td>10947</td><td>9</td></tr><tr><td>11</td><td>2016-04-14</td><td>11023</td><td>10</td></tr><tr><td>12</td><td>2015-04-29</td><td>10521</td><td>1</td></tr><tr><td>12</td><td>2015-12-17</td><td>10782</td><td>2</td></tr><tr><td>12</td><td>2016-01-07</td><td>10819</td><td>3</td></tr><tr><td>12</td><td>2016-02-11</td><td>10881</td><td>4</td></tr><tr><td>12</td><td>2016-03-10</td><td>10937</td><td>5</td></tr><tr><td>12</td><td>2016-04-28</td><td>11054</td><td>6</td></tr><tr><td>13</td><td>2014-07-18</td><td>10259</td><td>1</td></tr><tr><td>14</td><td>2014-07-11</td><td>10254</td><td>1</td></tr><tr><td>14</td><td>2014-12-03</td><td>10370</td><td>2</td></tr><tr><td>14</td><td>2015-04-28</td><td>10519</td><td>3</td></tr><tr><td>14</td><td>2015-11-06</td><td>10731</td><td>4</td></tr><tr><td>14</td><td>2015-11-19</td><td>10746</td><td>5</td></tr><tr><td>14</td><td>2016-03-20</td><td>10966</td><td>6</td></tr><tr><td>14</td><td>2016-04-16</td><td>11029</td><td>7</td></tr><tr><td>14</td><td>2016-04-22</td><td>11041</td><td>8</td></tr><tr><td>15</td><td>2014-08-27</td><td>10290</td><td>1</td></tr><tr><td>15</td><td>2015-03-06</td><td>10466</td><td>2</td></tr><tr><td>15</td><td>2015-04-02</td><td>10494</td><td>3</td></tr><tr><td>15</td><td>2016-03-23</td><td>10969</td><td>4</td></tr><tr><td>15</td><td>2016-04-22</td><td>11042</td><td>5</td></tr><tr><td>16</td><td>2015-02-04</td><td>10435</td><td>1</td></tr><tr><td>16</td><td>2015-03-03</td><td>10462</td><td>2</td></tr><tr><td>16</td><td>2016-01-23</td><td>10848</td><td>3</td></tr><tr><td>17</td><td>2014-11-26</td><td>10363</td><td>1</td></tr><tr><td>17</td><td>2014-12-23</td><td>10391</td><td>2</td></tr><tr><td>17</td><td>2015-12-25</td><td>10797</td><td>3</td></tr><tr><td>17</td><td>2016-01-09</td><td>10825</td><td>4</td></tr><tr><td>17</td><td>2016-04-20</td><td>11036</td><td>5</td></tr><tr><td>17</td><td>2016-05-04</td><td>11067</td><td>6</td></tr><tr><td>18</td><td>2014-09-20</td><td>10311</td><td>1</td></tr><tr><td>18</td><td>2015-07-24</td><td>10609</td><td>2</td></tr><tr><td>18</td><td>2015-09-26</td><td>10683</td><td>3</td></tr><tr><td>18</td><td>2016-02-16</td><td>10890</td><td>4</td></tr><tr><td>19</td><td>2014-11-26</td><td>10364</td><td>1</td></tr><tr><td>19</td><td>2015-01-01</td><td>10400</td><td>2</td></tr><tr><td>19</td><td>2015-05-09</td><td>10532</td><td>3</td></tr><tr><td>19</td><td>2015-11-03</td><td>10726</td><td>4</td></tr><tr><td>19</td><td>2016-03-31</td><td>10987</td><td>5</td></tr><tr><td>19</td><td>2016-04-15</td><td>11024</td><td>6</td></tr><tr><td>19</td><td>2016-04-24</td><td>11047</td><td>7</td></tr><tr><td>19</td><td>2016-04-28</td><td>11056</td><td>8</td></tr><tr><td>20</td><td>2014-07-17</td><td>10258</td><td>1</td></tr><tr><td>20</td><td>2014-07-23</td><td>10263</td><td>2</td></tr><tr><td>20</td><td>2014-11-11</td><td>10351</td><td>3</td></tr><tr><td>20</td><td>2014-11-29</td><td>10368</td><td>4</td></tr><tr><td>20</td><td>2014-12-13</td><td>10382</td><td>5</td></tr><tr><td>20</td><td>2014-12-23</td><td>10390</td><td>6</td></tr><tr><td>20</td><td>2015-01-02</td><td>10402</td><td>7</td></tr><tr><td>20</td><td>2015-01-03</td><td>10403</td><td>8</td></tr><tr><td>20</td><td>2015-01-30</td><td>10430</td><td>9</td></tr><tr><td>20</td><td>2015-02-11</td><td>10442</td><td>10</td></tr><tr><td>20</td><td>2015-04-22</td><td>10514</td><td>11</td></tr><tr><td>20</td><td>2015-06-17</td><td>10571</td><td>12</td></tr><tr><td>20</td><td>2015-07-10</td><td>10595</td><td>13</td></tr><tr><td>20</td><td>2015-08-15</td><td>10633</td><td>14</td></tr><tr><td>20</td><td>2015-09-12</td><td>10667</td><td>15</td></tr><tr><td>20</td><td>2015-10-09</td><td>10698</td><td>16</td></tr><tr><td>20</td><td>2015-12-03</td><td>10764</td><td>17</td></tr><tr><td>20</td><td>2015-12-10</td><td>10771</td><td>18</td></tr><tr><td>20</td><td>2015-12-11</td><td>10773</td><td>19</td></tr><tr><td>20</td><td>2015-12-15</td><td>10776</td><td>20</td></tr><tr><td>20</td><td>2015-12-24</td><td>10795</td><td>21</td></tr><tr><td>20</td><td>2016-01-16</td><td>10836</td><td>22</td></tr><tr><td>20</td><td>2016-01-27</td><td>10854</td><td>23</td></tr><tr><td>20</td><td>2016-02-18</td><td>10895</td><td>24</td></tr><tr><td>20</td><td>2016-03-23</td><td>10968</td><td>25</td></tr><tr><td>20</td><td>2016-03-26</td><td>10979</td><td>26</td></tr><tr><td>20</td><td>2016-04-01</td><td>10990</td><td>27</td></tr><tr><td>20</td><td>2016-04-08</td><td>11008</td><td>28</td></tr><tr><td>20</td><td>2016-04-13</td><td>11017</td><td>29</td></tr><tr><td>20</td><td>2016-05-05</td><td>11072</td><td>30</td></tr><tr><td>21</td><td>2014-11-06</td><td>10347</td><td>1</td></tr><tr><td>21</td><td>2014-12-18</td><td>10386</td><td>2</td></tr><tr><td>21</td><td>2015-01-14</td><td>10414</td><td>3</td></tr><tr><td>21</td><td>2015-04-21</td><td>10512</td><td>4</td></tr><tr><td>21</td><td>2015-06-26</td><td>10581</td><td>5</td></tr><tr><td>21</td><td>2015-08-29</td><td>10650</td><td>6</td></tr><tr><td>21</td><td>2015-10-31</td><td>10725</td><td>7</td></tr><tr><td>23</td><td>2015-01-08</td><td>10408</td><td>1</td></tr><tr><td>23</td><td>2015-03-20</td><td>10480</td><td>2</td></tr><tr><td>23</td><td>2015-08-15</td><td>10634</td><td>3</td></tr><tr><td>23</td><td>2015-12-03</td><td>10763</td><td>4</td></tr><tr><td>23</td><td>2015-12-22</td><td>10789</td><td>5</td></tr><tr><td>24</td><td>2014-07-24</td><td>10264</td><td>1</td></tr><tr><td>24</td><td>2014-10-11</td><td>10327</td><td>2</td></tr><tr><td>24</td><td>2014-12-10</td><td>10378</td><td>3</td></tr><tr><td>24</td><td>2015-02-03</td><td>10434</td><td>4</td></tr><tr><td>24</td><td>2015-02-28</td><td>10460</td><td>5</td></tr><tr><td>24</td><td>2015-05-12</td><td>10533</td><td>6</td></tr><tr><td>24</td><td>2015-06-06</td><td>10561</td><td>7</td></tr><tr><td>24</td><td>2015-10-14</td><td>10703</td><td>8</td></tr><tr><td>24</td><td>2015-12-02</td><td>10762</td><td>9</td></tr><tr><td>24</td><td>2015-12-11</td><td>10774</td><td>10</td></tr><tr><td>24</td><td>2016-01-09</td><td>10824</td><td>11</td></tr><tr><td>24</td><td>2016-02-10</td><td>10880</td><td>12</td></tr><tr><td>24</td><td>2016-02-23</td><td>10902</td><td>13</td></tr><tr><td>24</td><td>2016-03-17</td><td>10955</td><td>14</td></tr><tr><td>24</td><td>2016-03-26</td><td>10977</td><td>15</td></tr><tr><td>24</td><td>2016-03-27</td><td>10980</td><td>16</td></tr><tr><td>24</td><td>2016-04-01</td><td>10993</td><td>17</td></tr><tr><td>24</td><td>2016-04-06</td><td>11001</td><td>18</td></tr><tr><td>24</td><td>2016-04-27</td><td>11050</td><td>19</td></tr><tr><td>25</td><td>2014-07-29</td><td>10267</td><td>1</td></tr><tr><td>25</td><td>2014-10-24</td><td>10337</td><td>2</td></tr><tr><td>25</td><td>2014-10-30</td><td>10342</td><td>3</td></tr><tr><td>25</td><td>2014-12-27</td><td>10396</td><td>4</td></tr><tr><td>25</td><td>2015-03-27</td><td>10488</td><td>5</td></tr><tr><td>25</td><td>2015-06-06</td><td>10560</td><td>6</td></tr><tr><td>25</td><td>2015-08-07</td><td>10623</td><td>7</td></tr><tr><td>25</td><td>2015-09-02</td><td>10653</td><td>8</td></tr><tr><td>25</td><td>2015-09-16</td><td>10670</td><td>9</td></tr><tr><td>25</td><td>2015-09-19</td><td>10675</td><td>10</td></tr><tr><td>25</td><td>2015-10-24</td><td>10717</td><td>11</td></tr><tr><td>25</td><td>2015-12-23</td><td>10791</td><td>12</td></tr><tr><td>25</td><td>2016-01-29</td><td>10859</td><td>13</td></tr><tr><td>25</td><td>2016-03-05</td><td>10929</td><td>14</td></tr><tr><td>25</td><td>2016-04-09</td><td>11012</td><td>15</td></tr><tr><td>26</td><td>2015-09-17</td><td>10671</td><td>1</td></tr><tr><td>26</td><td>2016-01-29</td><td>10860</td><td>2</td></tr><tr><td>26</td><td>2016-03-24</td><td>10971</td><td>3</td></tr><tr><td>27</td><td>2015-01-22</td><td>10422</td><td>1</td></tr><tr><td>27</td><td>2015-10-20</td><td>10710</td><td>2</td></tr><tr><td>27</td><td>2015-11-25</td><td>10753</td><td>3</td></tr><tr><td>27</td><td>2015-12-31</td><td>10807</td><td>4</td></tr><tr><td>27</td><td>2016-04-15</td><td>11026</td><td>5</td></tr><tr><td>27</td><td>2016-04-30</td><td>11060</td><td>6</td></tr><tr><td>28</td><td>2014-10-14</td><td>10328</td><td>1</td></tr><tr><td>28</td><td>2014-11-12</td><td>10352</td><td>2</td></tr><tr><td>28</td><td>2015-03-04</td><td>10464</td><td>3</td></tr><tr><td>28</td><td>2015-03-31</td><td>10491</td><td>4</td></tr><tr><td>28</td><td>2015-05-28</td><td>10551</td><td>5</td></tr><tr><td>28</td><td>2015-07-18</td><td>10604</td><td>6</td></tr><tr><td>28</td><td>2015-09-10</td><td>10664</td><td>7</td></tr><tr><td>28</td><td>2016-03-19</td><td>10963</td><td>8</td></tr><tr><td>29</td><td>2014-11-28</td><td>10366</td><td>1</td></tr><tr><td>29</td><td>2015-01-27</td><td>10426</td><td>2</td></tr><tr><td>29</td><td>2015-06-13</td><td>10568</td><td>3</td></tr><tr><td>29</td><td>2016-02-13</td><td>10887</td><td>4</td></tr><tr><td>29</td><td>2016-03-05</td><td>10928</td><td>5</td></tr><tr><td>30</td><td>2014-09-11</td><td>10303</td><td>1</td></tr><tr><td>30</td><td>2015-05-28</td><td>10550</td><td>2</td></tr><tr><td>30</td><td>2015-08-12</td><td>10629</td><td>3</td></tr><tr><td>30</td><td>2016-02-05</td><td>10872</td><td>4</td></tr><tr><td>30</td><td>2016-02-06</td><td>10874</td><td>5</td></tr><tr><td>30</td><td>2016-02-16</td><td>10888</td><td>6</td></tr><tr><td>30</td><td>2016-02-26</td><td>10911</td><td>7</td></tr><tr><td>30</td><td>2016-03-13</td><td>10948</td><td>8</td></tr><tr><td>30</td><td>2016-04-08</td><td>11009</td><td>9</td></tr><tr><td>30</td><td>2016-04-21</td><td>11037</td><td>10</td></tr><tr><td>31</td><td>2015-01-23</td><td>10423</td><td>1</td></tr><tr><td>31</td><td>2015-09-01</td><td>10652</td><td>2</td></tr><tr><td>31</td><td>2015-09-29</td><td>10685</td><td>3</td></tr><tr><td>31</td><td>2015-10-17</td><td>10709</td><td>4</td></tr><tr><td>31</td><td>2015-11-07</td><td>10734</td><td>5</td></tr><tr><td>31</td><td>2015-12-15</td><td>10777</td><td>6</td></tr><tr><td>31</td><td>2015-12-22</td><td>10790</td><td>7</td></tr><tr><td>31</td><td>2016-03-18</td><td>10959</td><td>8</td></tr><tr><td>31</td><td>2016-04-24</td><td>11049</td><td>9</td></tr><tr><td>32</td><td>2015-05-06</td><td>10528</td><td>1</td></tr><tr><td>32</td><td>2015-07-04</td><td>10589</td><td>2</td></tr><tr><td>32</td><td>2015-07-31</td><td>10616</td><td>3</td></tr><tr><td>32</td><td>2015-07-31</td><td>10617</td><td>4</td></tr><tr><td>32</td><td>2015-09-04</td><td>10656</td><td>5</td></tr><tr><td>32</td><td>2015-09-25</td><td>10681</td><td>6</td></tr><tr><td>32</td><td>2016-01-06</td><td>10816</td><td>7</td></tr><tr><td>32</td><td>2016-03-09</td><td>10936</td><td>8</td></tr><tr><td>32</td><td>2016-04-07</td><td>11006</td><td>9</td></tr><tr><td>32</td><td>2016-04-22</td><td>11040</td><td>10</td></tr><tr><td>32</td><td>2016-04-30</td><td>11061</td><td>11</td></tr><tr><td>33</td><td>2014-07-30</td><td>10268</td><td>1</td></tr><tr><td>33</td><td>2015-12-18</td><td>10785</td><td>2</td></tr><tr><td>34</td><td>2014-07-08</td><td>10250</td><td>1</td></tr><tr><td>34</td><td>2014-07-10</td><td>10253</td><td>2</td></tr><tr><td>34</td><td>2015-05-19</td><td>10541</td><td>3</td></tr><tr><td>34</td><td>2015-08-26</td><td>10645</td><td>4</td></tr><tr><td>34</td><td>2015-10-02</td><td>10690</td><td>5</td></tr><tr><td>34</td><td>2015-12-09</td><td>10770</td><td>6</td></tr><tr><td>34</td><td>2015-12-18</td><td>10783</td><td>7</td></tr><tr><td>34</td><td>2016-02-13</td><td>10886</td><td>8</td></tr><tr><td>34</td><td>2016-02-24</td><td>10903</td><td>9</td></tr><tr><td>34</td><td>2016-03-03</td><td>10922</td><td>10</td></tr><tr><td>34</td><td>2016-03-04</td><td>10925</td><td>11</td></tr><tr><td>34</td><td>2016-03-27</td><td>10981</td><td>12</td></tr><tr><td>34</td><td>2016-04-14</td><td>11022</td><td>13</td></tr><tr><td>34</td><td>2016-04-27</td><td>11052</td><td>14</td></tr><tr><td>35</td><td>2014-07-16</td><td>10257</td><td>1</td></tr><tr><td>35</td><td>2014-12-26</td><td>10395</td><td>2</td></tr><tr><td>35</td><td>2015-03-17</td><td>10476</td><td>3</td></tr><tr><td>35</td><td>2015-03-26</td><td>10486</td><td>4</td></tr><tr><td>35</td><td>2015-03-31</td><td>10490</td><td>5</td></tr><tr><td>35</td><td>2015-04-07</td><td>10498</td><td>6</td></tr><tr><td>35</td><td>2015-05-29</td><td>10552</td><td>7</td></tr><tr><td>35</td><td>2015-07-16</td><td>10601</td><td>8</td></tr><tr><td>35</td><td>2015-07-29</td><td>10613</td><td>9</td></tr><tr><td>35</td><td>2015-08-22</td><td>10641</td><td>10</td></tr><tr><td>35</td><td>2015-10-15</td><td>10705</td><td>11</td></tr><tr><td>35</td><td>2015-12-25</td><td>10796</td><td>12</td></tr><tr><td>35</td><td>2016-02-02</td><td>10863</td><td>13</td></tr><tr><td>35</td><td>2016-02-23</td><td>10901</td><td>14</td></tr><tr><td>35</td><td>2016-03-18</td><td>10957</td><td>15</td></tr><tr><td>35</td><td>2016-03-19</td><td>10960</td><td>16</td></tr><tr><td>35</td><td>2016-03-25</td><td>10976</td><td>17</td></tr><tr><td>35</td><td>2016-04-28</td><td>11055</td><td>18</td></tr><tr><td>36</td><td>2014-12-06</td><td>10375</td><td>1</td></tr><tr><td>36</td><td>2014-12-25</td><td>10394</td><td>2</td></tr><tr><td>36</td><td>2015-01-15</td><td>10415</td><td>3</td></tr><tr><td>36</td><td>2015-07-16</td><td>10600</td><td>4</td></tr><tr><td>36</td><td>2015-09-08</td><td>10660</td><td>5</td></tr><tr><td>37</td><td>2014-09-05</td><td>10298</td><td>1</td></tr><tr><td>37</td><td>2014-09-19</td><td>10309</td><td>2</td></tr><tr><td>37</td><td>2014-10-22</td><td>10335</td><td>3</td></tr><tr><td>37</td><td>2014-12-05</td><td>10373</td><td>4</td></tr><tr><td>37</td><td>2014-12-12</td><td>10380</td><td>5</td></tr><tr><td>37</td><td>2015-01-29</td><td>10429</td><td>6</td></tr><tr><td>37</td><td>2015-04-11</td><td>10503</td><td>7</td></tr><tr><td>37</td><td>2015-04-24</td><td>10516</td><td>8</td></tr><tr><td>37</td><td>2015-06-12</td><td>10567</td><td>9</td></tr><tr><td>37</td><td>2015-08-27</td><td>10646</td><td>10</td></tr><tr><td>37</td><td>2015-09-09</td><td>10661</td><td>11</td></tr><tr><td>37</td><td>2015-09-30</td><td>10687</td><td>12</td></tr><tr><td>37</td><td>2015-10-13</td><td>10701</td><td>13</td></tr><tr><td>37</td><td>2015-10-21</td><td>10712</td><td>14</td></tr><tr><td>37</td><td>2015-11-11</td><td>10736</td><td>15</td></tr><tr><td>37</td><td>2016-02-19</td><td>10897</td><td>16</td></tr><tr><td>37</td><td>2016-02-26</td><td>10912</td><td>17</td></tr><tr><td>37</td><td>2016-03-30</td><td>10985</td><td>18</td></tr><tr><td>37</td><td>2016-04-30</td><td>11063</td><td>19</td></tr><tr><td>38</td><td>2014-09-26</td><td>10315</td><td>1</td></tr><tr><td>38</td><td>2014-10-01</td><td>10318</td><td>2</td></tr><tr><td>38</td><td>2014-10-03</td><td>10321</td><td>3</td></tr><tr><td>38</td><td>2015-03-13</td><td>10473</td><td>4</td></tr><tr><td>38</td><td>2015-08-05</td><td>10621</td><td>5</td></tr><tr><td>38</td><td>2015-09-18</td><td>10674</td><td>6</td></tr><tr><td>38</td><td>2015-11-20</td><td>10749</td><td>7</td></tr><tr><td>38</td><td>2015-12-26</td><td>10798</td><td>8</td></tr><tr><td>38</td><td>2016-01-13</td><td>10829</td><td>9</td></tr><tr><td>38</td><td>2016-03-06</td><td>10933</td><td>10</td></tr><tr><td>39</td><td>2014-10-07</td><td>10323</td><td>1</td></tr><tr><td>39</td><td>2014-10-09</td><td>10325</td><td>2</td></tr><tr><td>39</td><td>2015-02-25</td><td>10456</td><td>3</td></tr><tr><td>39</td><td>2015-02-25</td><td>10457</td><td>4</td></tr><tr><td>39</td><td>2015-03-07</td><td>10468</td><td>5</td></tr><tr><td>39</td><td>2015-04-15</td><td>10506</td><td>6</td></tr><tr><td>39</td><td>2015-05-20</td><td>10542</td><td>7</td></tr><tr><td>39</td><td>2015-08-13</td><td>10630</td><td>8</td></tr><tr><td>39</td><td>2015-10-27</td><td>10718</td><td>9</td></tr><tr><td>39</td><td>2015-12-26</td><td>10799</td><td>10</td></tr><tr><td>39</td><td>2016-01-06</td><td>10817</td><td>11</td></tr><tr><td>39</td><td>2016-01-23</td><td>10849</td><td>12</td></tr><tr><td>39</td><td>2016-02-18</td><td>10893</td><td>13</td></tr><tr><td>39</td><td>2016-04-16</td><td>11028</td><td>14</td></tr><tr><td>40</td><td>2016-01-29</td><td>10858</td><td>1</td></tr><tr><td>40</td><td>2016-03-05</td><td>10927</td><td>2</td></tr><tr><td>40</td><td>2016-03-24</td><td>10972</td><td>3</td></tr><tr><td>40</td><td>2016-03-24</td><td>10973</td><td>4</td></tr><tr><td>41</td><td>2014-11-11</td><td>10350</td><td>1</td></tr><tr><td>41</td><td>2014-11-20</td><td>10358</td><td>2</td></tr><tr><td>41</td><td>2014-12-03</td><td>10371</td><td>3</td></tr><tr><td>41</td><td>2015-01-14</td><td>10413</td><td>4</td></tr><tr><td>41</td><td>2015-01-24</td><td>10425</td><td>5</td></tr><tr><td>41</td><td>2015-02-21</td><td>10454</td><td>6</td></tr><tr><td>41</td><td>2015-04-02</td><td>10493</td><td>7</td></tr><tr><td>41</td><td>2015-04-09</td><td>10500</td><td>8</td></tr><tr><td>41</td><td>2015-07-25</td><td>10610</td><td>9</td></tr><tr><td>41</td><td>2015-08-14</td><td>10631</td><td>10</td></tr><tr><td>41</td><td>2015-12-19</td><td>10787</td><td>11</td></tr><tr><td>41</td><td>2016-01-14</td><td>10832</td><td>12</td></tr><tr><td>41</td><td>2016-03-03</td><td>10923</td><td>13</td></tr><tr><td>41</td><td>2016-04-27</td><td>11051</td><td>14</td></tr><tr><td>42</td><td>2015-04-03</td><td>10495</td><td>1</td></tr><tr><td>42</td><td>2015-08-05</td><td>10620</td><td>2</td></tr><tr><td>42</td><td>2016-01-01</td><td>10810</td><td>3</td></tr><tr><td>43</td><td>2015-03-21</td><td>10482</td><td>1</td></tr><tr><td>43</td><td>2015-05-22</td><td>10545</td><td>2</td></tr><tr><td>44</td><td>2014-08-13</td><td>10279</td><td>1</td></tr><tr><td>44</td><td>2014-08-19</td><td>10284</td><td>2</td></tr><tr><td>44</td><td>2014-10-31</td><td>10343</td><td>3</td></tr><tr><td>44</td><td>2015-04-04</td><td>10497</td><td>4</td></tr><tr><td>44</td><td>2015-04-30</td><td>10522</td><td>5</td></tr><tr><td>44</td><td>2015-05-12</td><td>10534</td><td>6</td></tr><tr><td>44</td><td>2015-05-14</td><td>10536</td><td>7</td></tr><tr><td>44</td><td>2015-06-03</td><td>10557</td><td>8</td></tr><tr><td>44</td><td>2015-07-08</td><td>10592</td><td>9</td></tr><tr><td>44</td><td>2015-07-09</td><td>10593</td><td>10</td></tr><tr><td>44</td><td>2015-12-10</td><td>10772</td><td>11</td></tr><tr><td>44</td><td>2016-01-30</td><td>10862</td><td>12</td></tr><tr><td>44</td><td>2016-02-17</td><td>10891</td><td>13</td></tr><tr><td>44</td><td>2016-03-09</td><td>10934</td><td>14</td></tr><tr><td>44</td><td>2016-05-05</td><td>11070</td><td>15</td></tr><tr><td>45</td><td>2015-06-25</td><td>10579</td><td>1</td></tr><tr><td>45</td><td>2015-10-27</td><td>10719</td><td>2</td></tr><tr><td>45</td><td>2015-11-10</td><td>10735</td><td>3</td></tr><tr><td>45</td><td>2016-02-12</td><td>10884</td><td>4</td></tr><tr><td>46</td><td>2014-08-16</td><td>10283</td><td>1</td></tr><tr><td>46</td><td>2014-09-03</td><td>10296</td><td>2</td></tr><tr><td>46</td><td>2014-10-16</td><td>10330</td><td>3</td></tr><tr><td>46</td><td>2014-11-19</td><td>10357</td><td>4</td></tr><tr><td>46</td><td>2014-12-12</td><td>10381</td><td>5</td></tr><tr><td>46</td><td>2015-02-28</td><td>10461</td><td>6</td></tr><tr><td>46</td><td>2015-04-08</td><td>10499</td><td>7</td></tr><tr><td>46</td><td>2015-05-21</td><td>10543</td><td>8</td></tr><tr><td>46</td><td>2015-12-16</td><td>10780</td><td>9</td></tr><tr><td>46</td><td>2016-01-09</td><td>10823</td><td>10</td></tr><tr><td>46</td><td>2016-02-20</td><td>10899</td><td>11</td></tr><tr><td>46</td><td>2016-04-03</td><td>10997</td><td>12</td></tr><tr><td>46</td><td>2016-05-01</td><td>11065</td><td>13</td></tr><tr><td>46</td><td>2016-05-05</td><td>11071</td><td>14</td></tr><tr><td>47</td><td>2015-01-06</td><td>10405</td><td>1</td></tr><tr><td>47</td><td>2015-03-25</td><td>10485</td><td>2</td></tr><tr><td>47</td><td>2015-08-20</td><td>10638</td><td>3</td></tr><tr><td>47</td><td>2015-10-08</td><td>10697</td><td>4</td></tr><tr><td>47</td><td>2015-11-04</td><td>10729</td><td>5</td></tr><tr><td>47</td><td>2016-01-02</td><td>10811</td><td>6</td></tr><tr><td>47</td><td>2016-01-19</td><td>10838</td><td>7</td></tr><tr><td>47</td><td>2016-01-19</td><td>10840</td><td>8</td></tr><tr><td>47</td><td>2016-03-02</td><td>10919</td><td>9</td></tr><tr><td>47</td><td>2016-03-17</td><td>10954</td><td>10</td></tr><tr><td>47</td><td>2016-04-10</td><td>11014</td><td>11</td></tr><tr><td>47</td><td>2016-04-21</td><td>11039</td><td>12</td></tr><tr><td>48</td><td>2014-09-17</td><td>10307</td><td>1</td></tr><tr><td>48</td><td>2014-09-30</td><td>10317</td><td>2</td></tr><tr><td>48</td><td>2015-05-21</td><td>10544</td><td>3</td></tr><tr><td>48</td><td>2015-09-09</td><td>10662</td><td>4</td></tr><tr><td>48</td><td>2015-09-11</td><td>10665</td><td>5</td></tr><tr><td>48</td><td>2016-02-03</td><td>10867</td><td>6</td></tr><tr><td>48</td><td>2016-02-12</td><td>10883</td><td>7</td></tr><tr><td>48</td><td>2016-04-13</td><td>11018</td><td>8</td></tr><tr><td>49</td><td>2014-08-07</td><td>10275</td><td>1</td></tr><tr><td>49</td><td>2014-09-09</td><td>10300</td><td>2</td></tr><tr><td>49</td><td>2015-01-03</td><td>10404</td><td>3</td></tr><tr><td>49</td><td>2015-03-06</td><td>10467</td><td>4</td></tr><tr><td>49</td><td>2015-08-18</td><td>10635</td><td>5</td></tr><tr><td>49</td><td>2015-11-25</td><td>10754</td><td>6</td></tr><tr><td>49</td><td>2015-12-18</td><td>10784</td><td>7</td></tr><tr><td>49</td><td>2016-01-07</td><td>10818</td><td>8</td></tr><tr><td>49</td><td>2016-03-10</td><td>10939</td><td>9</td></tr><tr><td>49</td><td>2016-03-16</td><td>10950</td><td>10</td></tr><tr><td>50</td><td>2015-05-07</td><td>10529</td><td>1</td></tr><tr><td>50</td><td>2015-08-28</td><td>10649</td><td>2</td></tr><tr><td>50</td><td>2015-12-01</td><td>10760</td><td>3</td></tr><tr><td>50</td><td>2016-02-17</td><td>10892</td><td>4</td></tr><tr><td>50</td><td>2016-02-19</td><td>10896</td><td>5</td></tr><tr><td>50</td><td>2016-03-26</td><td>10978</td><td>6</td></tr><tr><td>50</td><td>2016-04-07</td><td>11004</td><td>7</td></tr><tr><td>51</td><td>2014-10-17</td><td>10332</td><td>1</td></tr><tr><td>51</td><td>2014-10-28</td><td>10339</td><td>2</td></tr><tr><td>51</td><td>2014-12-09</td><td>10376</td><td>3</td></tr><tr><td>51</td><td>2015-01-23</td><td>10424</td><td>4</td></tr><tr><td>51</td><td>2015-02-07</td><td>10439</td><td>5</td></tr><tr><td>51</td><td>2015-04-14</td><td>10505</td><td>6</td></tr><tr><td>51</td><td>2015-06-11</td><td>10565</td><td>7</td></tr><tr><td>51</td><td>2015-06-17</td><td>10570</td><td>8</td></tr><tr><td>51</td><td>2015-07-07</td><td>10590</td><td>9</td></tr><tr><td>51</td><td>2015-07-21</td><td>10605</td><td>10</td></tr><tr><td>51</td><td>2015-08-01</td><td>10618</td><td>11</td></tr><tr><td>51</td><td>2015-08-04</td><td>10619</td><td>12</td></tr><tr><td>51</td><td>2015-10-30</td><td>10724</td><td>13</td></tr><tr><td>52</td><td>2014-08-09</td><td>10277</td><td>1</td></tr><tr><td>52</td><td>2015-06-20</td><td>10575</td><td>2</td></tr><tr><td>52</td><td>2015-10-09</td><td>10699</td><td>3</td></tr><tr><td>52</td><td>2015-12-16</td><td>10779</td><td>4</td></tr><tr><td>52</td><td>2016-03-12</td><td>10945</td><td>5</td></tr><tr><td>53</td><td>2015-04-24</td><td>10517</td><td>1</td></tr><tr><td>53</td><td>2015-11-24</td><td>10752</td><td>2</td></tr><tr><td>53</td><td>2016-04-29</td><td>11057</td><td>3</td></tr><tr><td>54</td><td>2015-01-09</td><td>10409</td><td>1</td></tr><tr><td>54</td><td>2015-05-08</td><td>10531</td><td>2</td></tr><tr><td>54</td><td>2016-02-20</td><td>10898</td><td>3</td></tr><tr><td>54</td><td>2016-03-18</td><td>10958</td><td>4</td></tr><tr><td>54</td><td>2016-03-30</td><td>10986</td><td>5</td></tr><tr><td>55</td><td>2014-09-13</td><td>10305</td><td>1</td></tr><tr><td>55</td><td>2014-10-25</td><td>10338</td><td>2</td></tr><tr><td>55</td><td>2015-02-10</td><td>10441</td><td>3</td></tr><tr><td>55</td><td>2015-07-09</td><td>10594</td><td>4</td></tr><tr><td>55</td><td>2015-09-24</td><td>10680</td><td>5</td></tr><tr><td>55</td><td>2015-10-16</td><td>10706</td><td>6</td></tr><tr><td>55</td><td>2016-01-01</td><td>10808</td><td>7</td></tr><tr><td>55</td><td>2016-01-27</td><td>10855</td><td>8</td></tr><tr><td>55</td><td>2016-03-20</td><td>10965</td><td>9</td></tr><tr><td>55</td><td>2016-04-20</td><td>11034</td><td>10</td></tr><tr><td>56</td><td>2014-07-19</td><td>10260</td><td>1</td></tr><tr><td>56</td><td>2015-01-07</td><td>10407</td><td>2</td></tr><tr><td>56</td><td>2015-04-16</td><td>10508</td><td>3</td></tr><tr><td>56</td><td>2015-05-30</td><td>10554</td><td>4</td></tr><tr><td>56</td><td>2015-06-26</td><td>10580</td><td>5</td></tr><tr><td>56</td><td>2015-09-26</td><td>10684</td><td>6</td></tr><tr><td>56</td><td>2015-12-05</td><td>10766</td><td>7</td></tr><tr><td>56</td><td>2016-01-15</td><td>10833</td><td>8</td></tr><tr><td>56</td><td>2016-04-03</td><td>10999</td><td>9</td></tr><tr><td>56</td><td>2016-04-14</td><td>11020</td><td>10</td></tr><tr><td>58</td><td>2014-10-04</td><td>10322</td><td>1</td></tr><tr><td>58</td><td>2014-11-14</td><td>10354</td><td>2</td></tr><tr><td>58</td><td>2015-03-13</td><td>10474</td><td>3</td></tr><tr><td>58</td><td>2015-04-10</td><td>10502</td><td>4</td></tr><tr><td>58</td><td>2016-04-02</td><td>10995</td><td>5</td></tr><tr><td>58</td><td>2016-05-05</td><td>11073</td><td>6</td></tr><tr><td>59</td><td>2014-11-13</td><td>10353</td><td>1</td></tr><tr><td>59</td><td>2014-12-24</td><td>10392</td><td>2</td></tr><tr><td>59</td><td>2015-01-27</td><td>10427</td><td>3</td></tr><tr><td>59</td><td>2015-03-28</td><td>10489</td><td>4</td></tr><tr><td>59</td><td>2015-05-08</td><td>10530</td><td>5</td></tr><tr><td>59</td><td>2015-07-11</td><td>10597</td><td>6</td></tr><tr><td>59</td><td>2015-09-30</td><td>10686</td><td>7</td></tr><tr><td>59</td><td>2015-11-19</td><td>10747</td><td>8</td></tr><tr><td>59</td><td>2016-01-21</td><td>10844</td><td>9</td></tr><tr><td>59</td><td>2016-04-27</td><td>11053</td><td>10</td></tr><tr><td>60</td><td>2014-10-23</td><td>10336</td><td>1</td></tr><tr><td>60</td><td>2014-12-27</td><td>10397</td><td>2</td></tr><tr><td>60</td><td>2015-02-03</td><td>10433</td><td>3</td></tr><tr><td>60</td><td>2015-03-17</td><td>10477</td><td>4</td></tr><tr><td>60</td><td>2016-04-08</td><td>11007</td><td>5</td></tr><tr><td>61</td><td>2014-07-19</td><td>10261</td><td>1</td></tr><tr><td>61</td><td>2014-08-27</td><td>10291</td><td>2</td></tr><tr><td>61</td><td>2014-12-11</td><td>10379</td><td>3</td></tr><tr><td>61</td><td>2015-01-21</td><td>10421</td><td>4</td></tr><tr><td>61</td><td>2015-07-02</td><td>10587</td><td>5</td></tr><tr><td>61</td><td>2015-08-27</td><td>10647</td><td>6</td></tr><tr><td>61</td><td>2015-10-28</td><td>10720</td><td>7</td></tr><tr><td>61</td><td>2015-12-24</td><td>10794</td><td>8</td></tr><tr><td>61</td><td>2016-03-31</td><td>10989</td><td>9</td></tr><tr><td>62</td><td>2014-12-04</td><td>10372</td><td>1</td></tr><tr><td>62</td><td>2015-01-07</td><td>10406</td><td>2</td></tr><tr><td>62</td><td>2015-03-26</td><td>10487</td><td>3</td></tr><tr><td>62</td><td>2015-08-19</td><td>10637</td><td>4</td></tr><tr><td>62</td><td>2015-09-05</td><td>10659</td><td>5</td></tr><tr><td>62</td><td>2015-10-14</td><td>10704</td><td>6</td></tr><tr><td>62</td><td>2015-11-04</td><td>10728</td><td>7</td></tr><tr><td>62</td><td>2015-12-19</td><td>10786</td><td>8</td></tr><tr><td>62</td><td>2016-02-04</td><td>10868</td><td>9</td></tr><tr><td>62</td><td>2016-02-26</td><td>10913</td><td>10</td></tr><tr><td>62</td><td>2016-02-27</td><td>10914</td><td>11</td></tr><tr><td>62</td><td>2016-03-19</td><td>10961</td><td>12</td></tr><tr><td>62</td><td>2016-05-04</td><td>11068</td><td>13</td></tr><tr><td>63</td><td>2014-08-05</td><td>10273</td><td>1</td></tr><tr><td>63</td><td>2014-08-20</td><td>10285</td><td>2</td></tr><tr><td>63</td><td>2014-08-21</td><td>10286</td><td>3</td></tr><tr><td>63</td><td>2014-09-24</td><td>10313</td><td>4</td></tr><tr><td>63</td><td>2014-11-04</td><td>10345</td><td>5</td></tr><tr><td>63</td><td>2014-11-22</td><td>10361</td><td>6</td></tr><tr><td>63</td><td>2015-01-17</td><td>10418</td><td>7</td></tr><tr><td>63</td><td>2015-02-19</td><td>10451</td><td>8</td></tr><tr><td>63</td><td>2015-04-23</td><td>10515</td><td>9</td></tr><tr><td>63</td><td>2015-05-05</td><td>10527</td><td>10</td></tr><tr><td>63</td><td>2015-05-19</td><td>10540</td><td>11</td></tr><tr><td>63</td><td>2015-05-27</td><td>10549</td><td>12</td></tr><tr><td>63</td><td>2015-07-03</td><td>10588</td><td>13</td></tr><tr><td>63</td><td>2015-09-05</td><td>10658</td><td>14</td></tr><tr><td>63</td><td>2015-10-03</td><td>10691</td><td>15</td></tr><tr><td>63</td><td>2015-10-06</td><td>10694</td><td>16</td></tr><tr><td>63</td><td>2015-10-29</td><td>10721</td><td>17</td></tr><tr><td>63</td><td>2015-11-18</td><td>10745</td><td>18</td></tr><tr><td>63</td><td>2015-12-04</td><td>10765</td><td>19</td></tr><tr><td>63</td><td>2015-12-22</td><td>10788</td><td>20</td></tr><tr><td>63</td><td>2016-01-21</td><td>10845</td><td>21</td></tr><tr><td>63</td><td>2016-02-02</td><td>10865</td><td>22</td></tr><tr><td>63</td><td>2016-02-10</td><td>10878</td><td>23</td></tr><tr><td>63</td><td>2016-03-10</td><td>10938</td><td>24</td></tr><tr><td>63</td><td>2016-03-19</td><td>10962</td><td>25</td></tr><tr><td>63</td><td>2016-04-01</td><td>10991</td><td>26</td></tr><tr><td>63</td><td>2016-04-02</td><td>10996</td><td>27</td></tr><tr><td>63</td><td>2016-04-14</td><td>11021</td><td>28</td></tr><tr><td>64</td><td>2015-02-17</td><td>10448</td><td>1</td></tr><tr><td>64</td><td>2015-10-24</td><td>10716</td><td>2</td></tr><tr><td>64</td><td>2016-01-13</td><td>10828</td><td>3</td></tr><tr><td>64</td><td>2016-02-27</td><td>10916</td><td>4</td></tr><tr><td>64</td><td>2016-04-13</td><td>11019</td><td>5</td></tr><tr><td>65</td><td>2014-07-22</td><td>10262</td><td>1</td></tr><tr><td>65</td><td>2014-08-02</td><td>10272</td><td>2</td></tr><tr><td>65</td><td>2014-08-30</td><td>10294</td><td>3</td></tr><tr><td>65</td><td>2014-09-25</td><td>10314</td><td>4</td></tr><tr><td>65</td><td>2014-09-27</td><td>10316</td><td>5</td></tr><tr><td>65</td><td>2014-11-05</td><td>10346</td><td>6</td></tr><tr><td>65</td><td>2015-01-01</td><td>10401</td><td>7</td></tr><tr><td>65</td><td>2015-03-19</td><td>10479</td><td>8</td></tr><tr><td>65</td><td>2015-06-10</td><td>10564</td><td>9</td></tr><tr><td>65</td><td>2015-06-16</td><td>10569</td><td>10</td></tr><tr><td>65</td><td>2015-07-14</td><td>10598</td><td>11</td></tr><tr><td>65</td><td>2015-12-02</td><td>10761</td><td>12</td></tr><tr><td>65</td><td>2016-01-07</td><td>10820</td><td>13</td></tr><tr><td>65</td><td>2016-01-26</td><td>10852</td><td>14</td></tr><tr><td>65</td><td>2016-02-16</td><td>10889</td><td>15</td></tr><tr><td>65</td><td>2016-03-31</td><td>10988</td><td>16</td></tr><tr><td>65</td><td>2016-04-06</td><td>11000</td><td>17</td></tr><tr><td>65</td><td>2016-05-06</td><td>11077</td><td>18</td></tr><tr><td>66</td><td>2014-08-23</td><td>10288</td><td>1</td></tr><tr><td>66</td><td>2015-01-28</td><td>10428</td><td>2</td></tr><tr><td>66</td><td>2015-02-12</td><td>10443</td><td>3</td></tr><tr><td>66</td><td>2015-06-09</td><td>10562</td><td>4</td></tr><tr><td>66</td><td>2015-07-02</td><td>10586</td><td>5</td></tr><tr><td>66</td><td>2015-09-03</td><td>10655</td><td>6</td></tr><tr><td>66</td><td>2015-11-03</td><td>10727</td><td>7</td></tr><tr><td>66</td><td>2016-01-02</td><td>10812</td><td>8</td></tr><tr><td>66</td><td>2016-02-26</td><td>10908</td><td>9</td></tr><tr><td>66</td><td>2016-03-11</td><td>10942</td><td>10</td></tr><tr><td>66</td><td>2016-04-09</td><td>11010</td><td>11</td></tr><tr><td>66</td><td>2016-04-30</td><td>11062</td><td>12</td></tr><tr><td>67</td><td>2014-08-22</td><td>10287</td><td>1</td></tr><tr><td>67</td><td>2014-09-06</td><td>10299</td><td>2</td></tr><tr><td>67</td><td>2015-02-14</td><td>10447</td><td>3</td></tr><tr><td>67</td><td>2015-03-20</td><td>10481</td><td>4</td></tr><tr><td>67</td><td>2015-06-10</td><td>10563</td><td>5</td></tr><tr><td>67</td><td>2015-08-06</td><td>10622</td><td>6</td></tr><tr><td>67</td><td>2015-08-28</td><td>10648</td><td>7</td></tr><tr><td>67</td><td>2016-01-05</td><td>10813</td><td>8</td></tr><tr><td>67</td><td>2016-01-26</td><td>10851</td><td>9</td></tr><tr><td>67</td><td>2016-02-09</td><td>10877</td><td>10</td></tr><tr><td>67</td><td>2016-04-29</td><td>11059</td><td>11</td></tr><tr><td>68</td><td>2014-07-12</td><td>10255</td><td>1</td></tr><tr><td>68</td><td>2015-01-20</td><td>10419</td><td>2</td></tr><tr><td>68</td><td>2015-05-14</td><td>10537</td><td>3</td></tr><tr><td>68</td><td>2015-09-12</td><td>10666</td><td>4</td></tr><tr><td>68</td><td>2015-11-24</td><td>10751</td><td>5</td></tr><tr><td>68</td><td>2015-11-28</td><td>10758</td><td>6</td></tr><tr><td>68</td><td>2016-03-06</td><td>10931</td><td>7</td></tr><tr><td>68</td><td>2016-03-16</td><td>10951</td><td>8</td></tr><tr><td>68</td><td>2016-04-17</td><td>11033</td><td>9</td></tr><tr><td>68</td><td>2016-05-06</td><td>11075</td><td>10</td></tr><tr><td>69</td><td>2014-08-14</td><td>10281</td><td>1</td></tr><tr><td>69</td><td>2014-08-15</td><td>10282</td><td>2</td></tr><tr><td>69</td><td>2014-09-16</td><td>10306</td><td>3</td></tr><tr><td>69</td><td>2016-03-02</td><td>10917</td><td>4</td></tr><tr><td>69</td><td>2016-04-09</td><td>11013</td><td>5</td></tr><tr><td>70</td><td>2014-12-18</td><td>10387</td><td>1</td></tr><tr><td>70</td><td>2015-04-29</td><td>10520</td><td>2</td></tr><tr><td>70</td><td>2015-08-20</td><td>10639</td><td>3</td></tr><tr><td>70</td><td>2016-01-14</td><td>10831</td><td>4</td></tr><tr><td>70</td><td>2016-02-26</td><td>10909</td><td>5</td></tr><tr><td>70</td><td>2016-04-10</td><td>11015</td><td>6</td></tr><tr><td>71</td><td>2014-10-08</td><td>10324</td><td>1</td></tr><tr><td>71</td><td>2014-12-25</td><td>10393</td><td>2</td></tr><tr><td>71</td><td>2014-12-30</td><td>10398</td><td>3</td></tr><tr><td>71</td><td>2015-02-10</td><td>10440</td><td>4</td></tr><tr><td>71</td><td>2015-02-20</td><td>10452</td><td>5</td></tr><tr><td>71</td><td>2015-04-18</td><td>10510</td><td>6</td></tr><tr><td>71</td><td>2015-06-02</td><td>10555</td><td>7</td></tr><tr><td>71</td><td>2015-07-18</td><td>10603</td><td>8</td></tr><tr><td>71</td><td>2015-07-22</td><td>10607</td><td>9</td></tr><tr><td>71</td><td>2015-07-28</td><td>10612</td><td>10</td></tr><tr><td>71</td><td>2015-08-11</td><td>10627</td><td>11</td></tr><tr><td>71</td><td>2015-09-04</td><td>10657</td><td>12</td></tr><tr><td>71</td><td>2015-09-23</td><td>10678</td><td>13</td></tr><tr><td>71</td><td>2015-10-10</td><td>10700</td><td>14</td></tr><tr><td>71</td><td>2015-10-21</td><td>10711</td><td>15</td></tr><tr><td>71</td><td>2015-10-22</td><td>10713</td><td>16</td></tr><tr><td>71</td><td>2015-10-22</td><td>10714</td><td>17</td></tr><tr><td>71</td><td>2015-10-29</td><td>10722</td><td>18</td></tr><tr><td>71</td><td>2015-11-20</td><td>10748</td><td>19</td></tr><tr><td>71</td><td>2015-11-27</td><td>10757</td><td>20</td></tr><tr><td>71</td><td>2016-01-05</td><td>10815</td><td>21</td></tr><tr><td>71</td><td>2016-01-22</td><td>10847</td><td>22</td></tr><tr><td>71</td><td>2016-02-11</td><td>10882</td><td>23</td></tr><tr><td>71</td><td>2016-02-18</td><td>10894</td><td>24</td></tr><tr><td>71</td><td>2016-03-11</td><td>10941</td><td>25</td></tr><tr><td>71</td><td>2016-03-27</td><td>10983</td><td>26</td></tr><tr><td>71</td><td>2016-03-30</td><td>10984</td><td>27</td></tr><tr><td>71</td><td>2016-04-06</td><td>11002</td><td>28</td></tr><tr><td>71</td><td>2016-04-17</td><td>11030</td><td>29</td></tr><tr><td>71</td><td>2016-04-17</td><td>11031</td><td>30</td></tr><tr><td>71</td><td>2016-05-01</td><td>11064</td><td>31</td></tr><tr><td>72</td><td>2014-11-21</td><td>10359</td><td>1</td></tr><tr><td>72</td><td>2014-12-09</td><td>10377</td><td>2</td></tr><tr><td>72</td><td>2014-12-19</td><td>10388</td><td>3</td></tr><tr><td>72</td><td>2015-03-12</td><td>10472</td><td>4</td></tr><tr><td>72</td><td>2015-05-01</td><td>10523</td><td>5</td></tr><tr><td>72</td><td>2015-05-23</td><td>10547</td><td>6</td></tr><tr><td>72</td><td>2015-12-26</td><td>10800</td><td>7</td></tr><tr><td>72</td><td>2015-12-30</td><td>10804</td><td>8</td></tr><tr><td>72</td><td>2016-02-04</td><td>10869</td><td>9</td></tr><tr><td>73</td><td>2014-10-29</td><td>10341</td><td>1</td></tr><tr><td>73</td><td>2015-01-16</td><td>10417</td><td>2</td></tr><tr><td>73</td><td>2015-06-03</td><td>10556</td><td>3</td></tr><tr><td>73</td><td>2015-08-22</td><td>10642</td><td>4</td></tr><tr><td>73</td><td>2015-09-15</td><td>10669</td><td>5</td></tr><tr><td>73</td><td>2015-12-29</td><td>10802</td><td>6</td></tr><tr><td>73</td><td>2016-05-06</td><td>11074</td><td>7</td></tr><tr><td>74</td><td>2015-11-12</td><td>10738</td><td>1</td></tr><tr><td>74</td><td>2016-02-25</td><td>10907</td><td>2</td></tr><tr><td>74</td><td>2016-03-20</td><td>10964</td><td>3</td></tr><tr><td>74</td><td>2016-04-22</td><td>11043</td><td>4</td></tr><tr><td>75</td><td>2014-08-01</td><td>10271</td><td>1</td></tr><tr><td>75</td><td>2014-10-15</td><td>10329</td><td>2</td></tr><tr><td>75</td><td>2014-11-08</td><td>10349</td><td>3</td></tr><tr><td>75</td><td>2014-12-02</td><td>10369</td><td>4</td></tr><tr><td>75</td><td>2014-12-17</td><td>10385</td><td>5</td></tr><tr><td>75</td><td>2015-01-31</td><td>10432</td><td>6</td></tr><tr><td>75</td><td>2015-11-27</td><td>10756</td><td>7</td></tr><tr><td>75</td><td>2016-01-08</td><td>10821</td><td>8</td></tr><tr><td>75</td><td>2016-03-25</td><td>10974</td><td>9</td></tr><tr><td>76</td><td>2014-07-09</td><td>10252</td><td>1</td></tr><tr><td>76</td><td>2014-09-10</td><td>10302</td><td>2</td></tr><tr><td>76</td><td>2015-02-26</td><td>10458</td><td>3</td></tr><tr><td>76</td><td>2015-03-04</td><td>10463</td><td>4</td></tr><tr><td>76</td><td>2015-03-14</td><td>10475</td><td>5</td></tr><tr><td>76</td><td>2015-12-05</td><td>10767</td><td>6</td></tr><tr><td>76</td><td>2016-01-20</td><td>10841</td><td>7</td></tr><tr><td>76</td><td>2016-01-22</td><td>10846</td><td>8</td></tr><tr><td>76</td><td>2016-02-12</td><td>10885</td><td>9</td></tr><tr><td>76</td><td>2016-03-06</td><td>10930</td><td>10</td></tr><tr><td>76</td><td>2016-04-20</td><td>11035</td><td>11</td></tr><tr><td>76</td><td>2016-04-21</td><td>11038</td><td>12</td></tr><tr><td>77</td><td>2014-09-20</td><td>10310</td><td>1</td></tr><tr><td>77</td><td>2015-10-17</td><td>10708</td><td>2</td></tr><tr><td>77</td><td>2015-12-30</td><td>10805</td><td>3</td></tr><tr><td>77</td><td>2016-04-01</td><td>10992</td><td>4</td></tr><tr><td>78</td><td>2015-08-07</td><td>10624</td><td>1</td></tr><tr><td>78</td><td>2015-12-12</td><td>10775</td><td>2</td></tr><tr><td>78</td><td>2016-04-06</td><td>11003</td><td>3</td></tr><tr><td>79</td><td>2014-07-05</td><td>10249</td><td>1</td></tr><tr><td>79</td><td>2015-02-06</td><td>10438</td><td>2</td></tr><tr><td>79</td><td>2015-02-14</td><td>10446</td><td>3</td></tr><tr><td>79</td><td>2015-05-26</td><td>10548</td><td>4</td></tr><tr><td>79</td><td>2015-07-23</td><td>10608</td><td>5</td></tr><tr><td>79</td><td>2016-03-23</td><td>10967</td><td>6</td></tr><tr><td>80</td><td>2014-08-08</td><td>10276</td><td>1</td></tr><tr><td>80</td><td>2014-08-29</td><td>10293</td><td>2</td></tr><tr><td>80</td><td>2014-09-12</td><td>10304</td><td>3</td></tr><tr><td>80</td><td>2014-10-02</td><td>10319</td><td>4</td></tr><tr><td>80</td><td>2015-04-25</td><td>10518</td><td>5</td></tr><tr><td>80</td><td>2015-06-23</td><td>10576</td><td>6</td></tr><tr><td>80</td><td>2015-09-22</td><td>10676</td><td>7</td></tr><tr><td>80</td><td>2016-01-20</td><td>10842</td><td>8</td></tr><tr><td>80</td><td>2016-02-27</td><td>10915</td><td>9</td></tr><tr><td>80</td><td>2016-05-04</td><td>11069</td><td>10</td></tr><tr><td>81</td><td>2014-08-28</td><td>10292</td><td>1</td></tr><tr><td>81</td><td>2015-04-04</td><td>10496</td><td>2</td></tr><tr><td>81</td><td>2015-07-22</td><td>10606</td><td>3</td></tr><tr><td>81</td><td>2016-01-13</td><td>10830</td><td>4</td></tr><tr><td>81</td><td>2016-01-15</td><td>10834</td><td>5</td></tr><tr><td>81</td><td>2016-01-19</td><td>10839</td><td>6</td></tr><tr><td>82</td><td>2015-06-19</td><td>10574</td><td>1</td></tr><tr><td>82</td><td>2015-06-23</td><td>10577</td><td>2</td></tr><tr><td>82</td><td>2016-01-08</td><td>10822</td><td>3</td></tr><tr><td>83</td><td>2014-11-28</td><td>10367</td><td>1</td></tr><tr><td>83</td><td>2014-12-31</td><td>10399</td><td>2</td></tr><tr><td>83</td><td>2015-03-05</td><td>10465</td><td>3</td></tr><tr><td>83</td><td>2015-07-07</td><td>10591</td><td>4</td></tr><tr><td>83</td><td>2015-07-17</td><td>10602</td><td>5</td></tr><tr><td>83</td><td>2015-10-01</td><td>10688</td><td>6</td></tr><tr><td>83</td><td>2015-11-17</td><td>10744</td><td>7</td></tr><tr><td>83</td><td>2015-12-08</td><td>10769</td><td>8</td></tr><tr><td>83</td><td>2016-03-03</td><td>10921</td><td>9</td></tr><tr><td>83</td><td>2016-03-12</td><td>10946</td><td>10</td></tr><tr><td>83</td><td>2016-04-02</td><td>10994</td><td>11</td></tr><tr><td>84</td><td>2014-07-08</td><td>10251</td><td>1</td></tr><tr><td>84</td><td>2014-10-21</td><td>10334</td><td>2</td></tr><tr><td>84</td><td>2015-02-19</td><td>10450</td><td>3</td></tr><tr><td>84</td><td>2015-02-27</td><td>10459</td><td>4</td></tr><tr><td>84</td><td>2015-03-18</td><td>10478</td><td>5</td></tr><tr><td>84</td><td>2015-05-23</td><td>10546</td><td>6</td></tr><tr><td>84</td><td>2015-12-31</td><td>10806</td><td>7</td></tr><tr><td>84</td><td>2016-01-05</td><td>10814</td><td>8</td></tr><tr><td>84</td><td>2016-01-21</td><td>10843</td><td>9</td></tr><tr><td>84</td><td>2016-01-23</td><td>10850</td><td>10</td></tr><tr><td>85</td><td>2014-07-04</td><td>10248</td><td>1</td></tr><tr><td>85</td><td>2014-08-06</td><td>10274</td><td>2</td></tr><tr><td>85</td><td>2014-09-02</td><td>10295</td><td>3</td></tr><tr><td>85</td><td>2015-11-11</td><td>10737</td><td>4</td></tr><tr><td>85</td><td>2015-11-12</td><td>10739</td><td>5</td></tr><tr><td>86</td><td>2014-09-09</td><td>10301</td><td>1</td></tr><tr><td>86</td><td>2014-09-23</td><td>10312</td><td>2</td></tr><tr><td>86</td><td>2014-11-07</td><td>10348</td><td>3</td></tr><tr><td>86</td><td>2014-11-18</td><td>10356</td><td>4</td></tr><tr><td>86</td><td>2015-04-22</td><td>10513</td><td>5</td></tr><tr><td>86</td><td>2015-08-14</td><td>10632</td><td>6</td></tr><tr><td>86</td><td>2015-08-21</td><td>10640</td><td>7</td></tr><tr><td>86</td><td>2015-09-01</td><td>10651</td><td>8</td></tr><tr><td>86</td><td>2015-09-15</td><td>10668</td><td>9</td></tr><tr><td>86</td><td>2016-04-23</td><td>11046</td><td>10</td></tr><tr><td>87</td><td>2014-07-26</td><td>10266</td><td>1</td></tr><tr><td>87</td><td>2014-08-01</td><td>10270</td><td>2</td></tr><tr><td>87</td><td>2014-10-03</td><td>10320</td><td>3</td></tr><tr><td>87</td><td>2014-10-18</td><td>10333</td><td>4</td></tr><tr><td>87</td><td>2015-01-13</td><td>10412</td><td>5</td></tr><tr><td>87</td><td>2015-01-16</td><td>10416</td><td>6</td></tr><tr><td>87</td><td>2015-02-05</td><td>10437</td><td>7</td></tr><tr><td>87</td><td>2015-02-24</td><td>10455</td><td>8</td></tr><tr><td>87</td><td>2015-05-05</td><td>10526</td><td>9</td></tr><tr><td>87</td><td>2015-05-30</td><td>10553</td><td>10</td></tr><tr><td>87</td><td>2015-06-30</td><td>10583</td><td>11</td></tr><tr><td>87</td><td>2015-08-19</td><td>10636</td><td>12</td></tr><tr><td>87</td><td>2015-11-21</td><td>10750</td><td>13</td></tr><tr><td>87</td><td>2015-12-17</td><td>10781</td><td>14</td></tr><tr><td>87</td><td>2016-04-15</td><td>11025</td><td>15</td></tr><tr><td>88</td><td>2014-07-15</td><td>10256</td><td>1</td></tr><tr><td>88</td><td>2015-01-21</td><td>10420</td><td>2</td></tr><tr><td>88</td><td>2015-07-01</td><td>10585</td><td>3</td></tr><tr><td>88</td><td>2015-08-25</td><td>10644</td><td>4</td></tr><tr><td>88</td><td>2015-12-30</td><td>10803</td><td>5</td></tr><tr><td>88</td><td>2016-01-01</td><td>10809</td><td>6</td></tr><tr><td>88</td><td>2016-02-20</td><td>10900</td><td>7</td></tr><tr><td>88</td><td>2016-02-24</td><td>10905</td><td>8</td></tr><tr><td>88</td><td>2016-03-09</td><td>10935</td><td>9</td></tr><tr><td>89</td><td>2014-07-31</td><td>10269</td><td>1</td></tr><tr><td>89</td><td>2014-11-01</td><td>10344</td><td>2</td></tr><tr><td>89</td><td>2015-03-10</td><td>10469</td><td>3</td></tr><tr><td>89</td><td>2015-03-24</td><td>10483</td><td>4</td></tr><tr><td>89</td><td>2015-04-11</td><td>10504</td><td>5</td></tr><tr><td>89</td><td>2015-07-11</td><td>10596</td><td>6</td></tr><tr><td>89</td><td>2015-10-06</td><td>10693</td><td>7</td></tr><tr><td>89</td><td>2015-10-08</td><td>10696</td><td>8</td></tr><tr><td>89</td><td>2015-10-30</td><td>10723</td><td>9</td></tr><tr><td>89</td><td>2015-11-13</td><td>10740</td><td>10</td></tr><tr><td>89</td><td>2016-01-30</td><td>10861</td><td>11</td></tr><tr><td>89</td><td>2016-02-24</td><td>10904</td><td>12</td></tr><tr><td>89</td><td>2016-04-17</td><td>11032</td><td>13</td></tr><tr><td>89</td><td>2016-05-01</td><td>11066</td><td>14</td></tr><tr><td>90</td><td>2015-07-30</td><td>10615</td><td>1</td></tr><tr><td>90</td><td>2015-09-18</td><td>10673</td><td>2</td></tr><tr><td>90</td><td>2015-10-07</td><td>10695</td><td>3</td></tr><tr><td>90</td><td>2016-02-06</td><td>10873</td><td>4</td></tr><tr><td>90</td><td>2016-02-10</td><td>10879</td><td>5</td></tr><tr><td>90</td><td>2016-02-26</td><td>10910</td><td>6</td></tr><tr><td>90</td><td>2016-04-07</td><td>11005</td><td>7</td></tr><tr><td>91</td><td>2014-12-05</td><td>10374</td><td>1</td></tr><tr><td>91</td><td>2015-07-25</td><td>10611</td><td>2</td></tr><tr><td>91</td><td>2015-12-23</td><td>10792</td><td>3</td></tr><tr><td>91</td><td>2016-02-04</td><td>10870</td><td>4</td></tr><tr><td>91</td><td>2016-02-25</td><td>10906</td><td>5</td></tr><tr><td>91</td><td>2016-04-03</td><td>10998</td><td>6</td></tr><tr><td>91</td><td>2016-04-23</td><td>11044</td><td>7</td></tr></table>"
                    },
                    "metadata": {}
                }
            ],
            "execution_count": 1
        },
        {
            "cell_type": "markdown",
            "source": [
                "# `QUERY 9)` Figure out and return for each employee the gender based on the title of courtesy Ms., Mrs. - Female, Mr. - Male, Dr. - Unknown\n",
                "\n",
                "### `TABLES INVOLVED) HR.Employees`\n",
                "\n",
                "```\n",
                "empid       firstname  lastname             titleofcourtesy           gender\n",
                "----------- ---------- -------------------- ------------------------- -------\n",
                "1           Sara       Davis                Ms.                       Female\n",
                "2           Don        Funk                 Dr.                       Unknown\n",
                "3           Judy       Lew                  Ms.                       Female\n",
                "4           Yael       Peled                Mrs.                      Female\n",
                "5           Sven       Mortensen            Mr.                       Male\n",
                "6           Paul       Suurs                Mr.                       Male\n",
                "7           Russell    King                 Mr.                       Male\n",
                "8           Maria      Cameron              Ms.                       Female\n",
                "9           Patricia   Doyle                Ms.                       Female\n",
                "\n",
                "```\n",
                "```\n",
                "(9 row(s) affected)\n",
                "```"
            ],
            "metadata": {
                "language": "sql",
                "azdata_cell_guid": "d82292d6-066d-41b7-8618-3b6135a0572c"
            },
            "attachments": {}
        },
        {
            "cell_type": "code",
            "source": [
                "use Northwinds2022TSQLV7\n",
                "go\n",
                "\n",
                "select EmployeeId as empid, \n",
                "    EmployeeFirstName as firstname, \n",
                "    EmployeeLastName as lastname, \n",
                "    EmployeeTitleOfCourtesy as titleofcourtesy,\n",
                "\n",
                "case EmployeeTitleOfCourtesy\n",
                "    when 'Ms.' then 'Female'\n",
                "    when 'Mrs.' then 'Female'\n",
                "    when 'Mr.' then 'Male'\n",
                "    when 'Dr.' then 'Unknown'\n",
                "    else 'Unknown'\n",
                "end as gender\n",
                "\n",
                "from HumanResources.Employee\n",
                "\n",
                "order by empid"
            ],
            "metadata": {
                "language": "sql",
                "azdata_cell_guid": "2556fc90-527d-4f63-b9fe-e7d0f67762d3",
                "tags": []
            },
            "outputs": [
                {
                    "output_type": "display_data",
                    "data": {
                        "text/html": "Commands completed successfully."
                    },
                    "metadata": {}
                },
                {
                    "output_type": "display_data",
                    "data": {
                        "text/html": "(9 rows affected)"
                    },
                    "metadata": {}
                },
                {
                    "output_type": "display_data",
                    "data": {
                        "text/html": "Total execution time: 00:00:00.030"
                    },
                    "metadata": {}
                },
                {
                    "output_type": "execute_result",
                    "metadata": {},
                    "execution_count": 7,
                    "data": {
                        "application/vnd.dataresource+json": {
                            "schema": {
                                "fields": [
                                    {
                                        "name": "empid"
                                    },
                                    {
                                        "name": "firstname"
                                    },
                                    {
                                        "name": "lastname"
                                    },
                                    {
                                        "name": "titleofcourtesy"
                                    },
                                    {
                                        "name": "gender"
                                    }
                                ]
                            },
                            "data": [
                                {
                                    "0": "1",
                                    "1": "Sara",
                                    "2": "Davis",
                                    "3": "Ms.",
                                    "4": "Female"
                                },
                                {
                                    "0": "2",
                                    "1": "Don",
                                    "2": "Funk",
                                    "3": "Dr.",
                                    "4": "Unknown"
                                },
                                {
                                    "0": "3",
                                    "1": "Judy",
                                    "2": "Lew",
                                    "3": "Ms.",
                                    "4": "Female"
                                },
                                {
                                    "0": "4",
                                    "1": "Yael",
                                    "2": "Peled",
                                    "3": "Mrs.",
                                    "4": "Female"
                                },
                                {
                                    "0": "5",
                                    "1": "Sven",
                                    "2": "Mortensen",
                                    "3": "Mr.",
                                    "4": "Male"
                                },
                                {
                                    "0": "6",
                                    "1": "Paul",
                                    "2": "Suurs",
                                    "3": "Mr.",
                                    "4": "Male"
                                },
                                {
                                    "0": "7",
                                    "1": "Russell",
                                    "2": "King",
                                    "3": "Mr.",
                                    "4": "Male"
                                },
                                {
                                    "0": "8",
                                    "1": "Maria",
                                    "2": "Cameron",
                                    "3": "Ms.",
                                    "4": "Female"
                                },
                                {
                                    "0": "9",
                                    "1": "Patricia",
                                    "2": "Doyle",
                                    "3": "Ms.",
                                    "4": "Female"
                                }
                            ]
                        },
                        "text/html": [
                            "<table>",
                            "<tr><th>empid</th><th>firstname</th><th>lastname</th><th>titleofcourtesy</th><th>gender</th></tr>",
                            "<tr><td>1</td><td>Sara</td><td>Davis</td><td>Ms.</td><td>Female</td></tr>",
                            "<tr><td>2</td><td>Don</td><td>Funk</td><td>Dr.</td><td>Unknown</td></tr>",
                            "<tr><td>3</td><td>Judy</td><td>Lew</td><td>Ms.</td><td>Female</td></tr>",
                            "<tr><td>4</td><td>Yael</td><td>Peled</td><td>Mrs.</td><td>Female</td></tr>",
                            "<tr><td>5</td><td>Sven</td><td>Mortensen</td><td>Mr.</td><td>Male</td></tr>",
                            "<tr><td>6</td><td>Paul</td><td>Suurs</td><td>Mr.</td><td>Male</td></tr>",
                            "<tr><td>7</td><td>Russell</td><td>King</td><td>Mr.</td><td>Male</td></tr>",
                            "<tr><td>8</td><td>Maria</td><td>Cameron</td><td>Ms.</td><td>Female</td></tr>",
                            "<tr><td>9</td><td>Patricia</td><td>Doyle</td><td>Ms.</td><td>Female</td></tr>",
                            "</table>"
                        ]
                    }
                }
            ],
            "execution_count": 7
        },
        {
            "cell_type": "markdown",
            "source": [
                "# `QUERY 10)` Return for each customer the customer ID and region \n",
                "\n",
                "# Sort the rows in the output by region having NULLs sort last (after non-NULL values)\n",
                "\n",
                "# Note that the default in T-SQL is that NULLs sort first\n",
                "\n",
                "### `TABLES INVOLVED) Sales.Customers`\n",
                "\n",
                "```\n",
                "custid      region\n",
                "----------- ---------------\n",
                "55          AK\n",
                "10          BC\n",
                "42          BC\n",
                "45          CA\n",
                "37          Co. Cork\n",
                "33          DF\n",
                "71          ID\n",
                "38          Isle of Wight\n",
                "46          Lara\n",
                "78          MT\n",
                "...\n",
                "1           NULL\n",
                "2           NULL\n",
                "3           NULL\n",
                "4           NULL\n",
                "5           NULL\n",
                "6           NULL\n",
                "7           NULL\n",
                "8           NULL\n",
                "9           NULL\n",
                "11          NULL\n",
                "\n",
                "```\n",
                "```\n",
                "(91 row(s) affected)\n",
                "\n",
                "```"
            ],
            "metadata": {
                "language": "sql",
                "azdata_cell_guid": "9c681ad4-7d50-4f02-901b-a6716f525c81"
            },
            "attachments": {}
        },
        {
            "cell_type": "code",
            "source": [
                "use Northwinds2022TSQLV7\n",
                "go \n",
                "\n",
                "select CustomerId as custid,\n",
                "    CustomerRegion as region\n",
                "from Sales.[Customer]\n",
                "order by\n",
                "    case --this is our own ordering scheme, notice when we change 1 to a value < 0 it changes the order\n",
                "        when CustomerRegion is null then 1\n",
                "        else 0 \n",
                "    end, region, custid --this gurantees order at the end, so all nulls are ordered by id"
            ],
            "metadata": {
                "language": "sql",
                "azdata_cell_guid": "0e567763-16c7-4f83-87f4-c6401b4dd923"
            },
            "outputs": [
                {
                    "output_type": "display_data",
                    "data": {
                        "text/html": "Commands completed successfully."
                    },
                    "metadata": {}
                },
                {
                    "output_type": "display_data",
                    "data": {
                        "text/html": "(91 rows affected)"
                    },
                    "metadata": {}
                },
                {
                    "output_type": "display_data",
                    "data": {
                        "text/html": "Total execution time: 00:00:00.032"
                    },
                    "metadata": {}
                },
                {
                    "output_type": "execute_result",
                    "metadata": {},
                    "execution_count": 29,
                    "data": {
                        "application/vnd.dataresource+json": {
                            "schema": {
                                "fields": [
                                    {
                                        "name": "custid"
                                    },
                                    {
                                        "name": "region"
                                    }
                                ]
                            },
                            "data": [
                                {
                                    "0": "55",
                                    "1": "AK"
                                },
                                {
                                    "0": "10",
                                    "1": "BC"
                                },
                                {
                                    "0": "42",
                                    "1": "BC"
                                },
                                {
                                    "0": "45",
                                    "1": "CA"
                                },
                                {
                                    "0": "37",
                                    "1": "Co. Cork"
                                },
                                {
                                    "0": "33",
                                    "1": "DF"
                                },
                                {
                                    "0": "71",
                                    "1": "ID"
                                },
                                {
                                    "0": "38",
                                    "1": "Isle of Wight"
                                },
                                {
                                    "0": "46",
                                    "1": "Lara"
                                },
                                {
                                    "0": "78",
                                    "1": "MT"
                                },
                                {
                                    "0": "65",
                                    "1": "NM"
                                },
                                {
                                    "0": "47",
                                    "1": "Nueva Esparta"
                                },
                                {
                                    "0": "32",
                                    "1": "OR"
                                },
                                {
                                    "0": "36",
                                    "1": "OR"
                                },
                                {
                                    "0": "48",
                                    "1": "OR"
                                },
                                {
                                    "0": "77",
                                    "1": "OR"
                                },
                                {
                                    "0": "51",
                                    "1": "Québec"
                                },
                                {
                                    "0": "34",
                                    "1": "RJ"
                                },
                                {
                                    "0": "61",
                                    "1": "RJ"
                                },
                                {
                                    "0": "67",
                                    "1": "RJ"
                                },
                                {
                                    "0": "15",
                                    "1": "SP"
                                },
                                {
                                    "0": "21",
                                    "1": "SP"
                                },
                                {
                                    "0": "31",
                                    "1": "SP"
                                },
                                {
                                    "0": "62",
                                    "1": "SP"
                                },
                                {
                                    "0": "81",
                                    "1": "SP"
                                },
                                {
                                    "0": "88",
                                    "1": "SP"
                                },
                                {
                                    "0": "35",
                                    "1": "Táchira"
                                },
                                {
                                    "0": "43",
                                    "1": "WA"
                                },
                                {
                                    "0": "82",
                                    "1": "WA"
                                },
                                {
                                    "0": "89",
                                    "1": "WA"
                                },
                                {
                                    "0": "75",
                                    "1": "WY"
                                },
                                {
                                    "0": "1",
                                    "1": "NULL"
                                },
                                {
                                    "0": "2",
                                    "1": "NULL"
                                },
                                {
                                    "0": "3",
                                    "1": "NULL"
                                },
                                {
                                    "0": "4",
                                    "1": "NULL"
                                },
                                {
                                    "0": "5",
                                    "1": "NULL"
                                },
                                {
                                    "0": "6",
                                    "1": "NULL"
                                },
                                {
                                    "0": "7",
                                    "1": "NULL"
                                },
                                {
                                    "0": "8",
                                    "1": "NULL"
                                },
                                {
                                    "0": "9",
                                    "1": "NULL"
                                },
                                {
                                    "0": "11",
                                    "1": "NULL"
                                },
                                {
                                    "0": "12",
                                    "1": "NULL"
                                },
                                {
                                    "0": "13",
                                    "1": "NULL"
                                },
                                {
                                    "0": "14",
                                    "1": "NULL"
                                },
                                {
                                    "0": "16",
                                    "1": "NULL"
                                },
                                {
                                    "0": "17",
                                    "1": "NULL"
                                },
                                {
                                    "0": "18",
                                    "1": "NULL"
                                },
                                {
                                    "0": "19",
                                    "1": "NULL"
                                },
                                {
                                    "0": "20",
                                    "1": "NULL"
                                },
                                {
                                    "0": "22",
                                    "1": "NULL"
                                },
                                {
                                    "0": "23",
                                    "1": "NULL"
                                },
                                {
                                    "0": "24",
                                    "1": "NULL"
                                },
                                {
                                    "0": "25",
                                    "1": "NULL"
                                },
                                {
                                    "0": "26",
                                    "1": "NULL"
                                },
                                {
                                    "0": "27",
                                    "1": "NULL"
                                },
                                {
                                    "0": "28",
                                    "1": "NULL"
                                },
                                {
                                    "0": "29",
                                    "1": "NULL"
                                },
                                {
                                    "0": "30",
                                    "1": "NULL"
                                },
                                {
                                    "0": "39",
                                    "1": "NULL"
                                },
                                {
                                    "0": "40",
                                    "1": "NULL"
                                },
                                {
                                    "0": "41",
                                    "1": "NULL"
                                },
                                {
                                    "0": "44",
                                    "1": "NULL"
                                },
                                {
                                    "0": "49",
                                    "1": "NULL"
                                },
                                {
                                    "0": "50",
                                    "1": "NULL"
                                },
                                {
                                    "0": "52",
                                    "1": "NULL"
                                },
                                {
                                    "0": "53",
                                    "1": "NULL"
                                },
                                {
                                    "0": "54",
                                    "1": "NULL"
                                },
                                {
                                    "0": "56",
                                    "1": "NULL"
                                },
                                {
                                    "0": "57",
                                    "1": "NULL"
                                },
                                {
                                    "0": "58",
                                    "1": "NULL"
                                },
                                {
                                    "0": "59",
                                    "1": "NULL"
                                },
                                {
                                    "0": "60",
                                    "1": "NULL"
                                },
                                {
                                    "0": "63",
                                    "1": "NULL"
                                },
                                {
                                    "0": "64",
                                    "1": "NULL"
                                },
                                {
                                    "0": "66",
                                    "1": "NULL"
                                },
                                {
                                    "0": "68",
                                    "1": "NULL"
                                },
                                {
                                    "0": "69",
                                    "1": "NULL"
                                },
                                {
                                    "0": "70",
                                    "1": "NULL"
                                },
                                {
                                    "0": "72",
                                    "1": "NULL"
                                },
                                {
                                    "0": "73",
                                    "1": "NULL"
                                },
                                {
                                    "0": "74",
                                    "1": "NULL"
                                },
                                {
                                    "0": "76",
                                    "1": "NULL"
                                },
                                {
                                    "0": "79",
                                    "1": "NULL"
                                },
                                {
                                    "0": "80",
                                    "1": "NULL"
                                },
                                {
                                    "0": "83",
                                    "1": "NULL"
                                },
                                {
                                    "0": "84",
                                    "1": "NULL"
                                },
                                {
                                    "0": "85",
                                    "1": "NULL"
                                },
                                {
                                    "0": "86",
                                    "1": "NULL"
                                },
                                {
                                    "0": "87",
                                    "1": "NULL"
                                },
                                {
                                    "0": "90",
                                    "1": "NULL"
                                },
                                {
                                    "0": "91",
                                    "1": "NULL"
                                }
                            ]
                        },
                        "text/html": [
                            "<table>",
                            "<tr><th>custid</th><th>region</th></tr>",
                            "<tr><td>55</td><td>AK</td></tr>",
                            "<tr><td>10</td><td>BC</td></tr>",
                            "<tr><td>42</td><td>BC</td></tr>",
                            "<tr><td>45</td><td>CA</td></tr>",
                            "<tr><td>37</td><td>Co. Cork</td></tr>",
                            "<tr><td>33</td><td>DF</td></tr>",
                            "<tr><td>71</td><td>ID</td></tr>",
                            "<tr><td>38</td><td>Isle of Wight</td></tr>",
                            "<tr><td>46</td><td>Lara</td></tr>",
                            "<tr><td>78</td><td>MT</td></tr>",
                            "<tr><td>65</td><td>NM</td></tr>",
                            "<tr><td>47</td><td>Nueva Esparta</td></tr>",
                            "<tr><td>32</td><td>OR</td></tr>",
                            "<tr><td>36</td><td>OR</td></tr>",
                            "<tr><td>48</td><td>OR</td></tr>",
                            "<tr><td>77</td><td>OR</td></tr>",
                            "<tr><td>51</td><td>Québec</td></tr>",
                            "<tr><td>34</td><td>RJ</td></tr>",
                            "<tr><td>61</td><td>RJ</td></tr>",
                            "<tr><td>67</td><td>RJ</td></tr>",
                            "<tr><td>15</td><td>SP</td></tr>",
                            "<tr><td>21</td><td>SP</td></tr>",
                            "<tr><td>31</td><td>SP</td></tr>",
                            "<tr><td>62</td><td>SP</td></tr>",
                            "<tr><td>81</td><td>SP</td></tr>",
                            "<tr><td>88</td><td>SP</td></tr>",
                            "<tr><td>35</td><td>Táchira</td></tr>",
                            "<tr><td>43</td><td>WA</td></tr>",
                            "<tr><td>82</td><td>WA</td></tr>",
                            "<tr><td>89</td><td>WA</td></tr>",
                            "<tr><td>75</td><td>WY</td></tr>",
                            "<tr><td>1</td><td>NULL</td></tr>",
                            "<tr><td>2</td><td>NULL</td></tr>",
                            "<tr><td>3</td><td>NULL</td></tr>",
                            "<tr><td>4</td><td>NULL</td></tr>",
                            "<tr><td>5</td><td>NULL</td></tr>",
                            "<tr><td>6</td><td>NULL</td></tr>",
                            "<tr><td>7</td><td>NULL</td></tr>",
                            "<tr><td>8</td><td>NULL</td></tr>",
                            "<tr><td>9</td><td>NULL</td></tr>",
                            "<tr><td>11</td><td>NULL</td></tr>",
                            "<tr><td>12</td><td>NULL</td></tr>",
                            "<tr><td>13</td><td>NULL</td></tr>",
                            "<tr><td>14</td><td>NULL</td></tr>",
                            "<tr><td>16</td><td>NULL</td></tr>",
                            "<tr><td>17</td><td>NULL</td></tr>",
                            "<tr><td>18</td><td>NULL</td></tr>",
                            "<tr><td>19</td><td>NULL</td></tr>",
                            "<tr><td>20</td><td>NULL</td></tr>",
                            "<tr><td>22</td><td>NULL</td></tr>",
                            "<tr><td>23</td><td>NULL</td></tr>",
                            "<tr><td>24</td><td>NULL</td></tr>",
                            "<tr><td>25</td><td>NULL</td></tr>",
                            "<tr><td>26</td><td>NULL</td></tr>",
                            "<tr><td>27</td><td>NULL</td></tr>",
                            "<tr><td>28</td><td>NULL</td></tr>",
                            "<tr><td>29</td><td>NULL</td></tr>",
                            "<tr><td>30</td><td>NULL</td></tr>",
                            "<tr><td>39</td><td>NULL</td></tr>",
                            "<tr><td>40</td><td>NULL</td></tr>",
                            "<tr><td>41</td><td>NULL</td></tr>",
                            "<tr><td>44</td><td>NULL</td></tr>",
                            "<tr><td>49</td><td>NULL</td></tr>",
                            "<tr><td>50</td><td>NULL</td></tr>",
                            "<tr><td>52</td><td>NULL</td></tr>",
                            "<tr><td>53</td><td>NULL</td></tr>",
                            "<tr><td>54</td><td>NULL</td></tr>",
                            "<tr><td>56</td><td>NULL</td></tr>",
                            "<tr><td>57</td><td>NULL</td></tr>",
                            "<tr><td>58</td><td>NULL</td></tr>",
                            "<tr><td>59</td><td>NULL</td></tr>",
                            "<tr><td>60</td><td>NULL</td></tr>",
                            "<tr><td>63</td><td>NULL</td></tr>",
                            "<tr><td>64</td><td>NULL</td></tr>",
                            "<tr><td>66</td><td>NULL</td></tr>",
                            "<tr><td>68</td><td>NULL</td></tr>",
                            "<tr><td>69</td><td>NULL</td></tr>",
                            "<tr><td>70</td><td>NULL</td></tr>",
                            "<tr><td>72</td><td>NULL</td></tr>",
                            "<tr><td>73</td><td>NULL</td></tr>",
                            "<tr><td>74</td><td>NULL</td></tr>",
                            "<tr><td>76</td><td>NULL</td></tr>",
                            "<tr><td>79</td><td>NULL</td></tr>",
                            "<tr><td>80</td><td>NULL</td></tr>",
                            "<tr><td>83</td><td>NULL</td></tr>",
                            "<tr><td>84</td><td>NULL</td></tr>",
                            "<tr><td>85</td><td>NULL</td></tr>",
                            "<tr><td>86</td><td>NULL</td></tr>",
                            "<tr><td>87</td><td>NULL</td></tr>",
                            "<tr><td>90</td><td>NULL</td></tr>",
                            "<tr><td>91</td><td>NULL</td></tr>",
                            "</table>"
                        ]
                    }
                }
            ],
            "execution_count": 29
        }
    ]
}