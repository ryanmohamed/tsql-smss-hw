{
    "metadata": {
        "kernelspec": {
            "name": "SQL",
            "display_name": "SQL",
            "language": "sql"
        },
        "language_info": {
            "name": "sql",
            "version": ""
        }
    },
    "nbformat_minor": 2,
    "nbformat": 4,
    "cells": [
        {
            "cell_type": "markdown",
            "source": [
                "1) Explain the difference between the UNION ALL and UNION operators. What cases are they equivalent? When they are equivalent, which one should you use?"
            ],
            "metadata": {
                "azdata_cell_guid": "428bcbce-8ab0-4403-b02a-0cd9ff1c68f4"
            },
            "attachments": {}
        },
        {
            "cell_type": "code",
            "source": [
                "/* \n",
                "    UNION ALL combines the records found in two tables, whilst keeping\n",
                "    duplicates. UNION does the same but discards duplicates.\n",
                "\n",
                "    They are equivalent when both sets are completely unique.\n",
                "    If this were the case, the preferred method would be \n",
                "    UNION ALL to avoid unnecessary duplicate removal when\n",
                "    they are no duplicates in the first place.\n",
                "*/"
            ],
            "metadata": {
                "azdata_cell_guid": "1c2f7738-0c84-4738-bb48-5baa191b803b",
                "language": "sql",
                "tags": []
            },
            "outputs": [],
            "execution_count": null
        },
        {
            "cell_type": "markdown",
            "source": [
                "2\\. Write a query that generates a virtual auxillary table of the numbers in the range 1-10."
            ],
            "metadata": {
                "language": "sql",
                "azdata_cell_guid": "65456503-bf4e-4505-b0cb-efe3aa65284b"
            },
            "attachments": {}
        },
        {
            "cell_type": "code",
            "source": [
                "select 1 as num\n",
                "UNION \n",
                "select 2\n",
                "UNION \n",
                "select 3\n",
                "UNION \n",
                "select 4\n",
                "UNION \n",
                "select 5\n",
                "UNION \n",
                "select 6\n",
                "UNION \n",
                "select 7\n",
                "UNION \n",
                "select 8\n",
                "UNION \n",
                "select 9\n",
                "UNION \n",
                "select 10\n",
                ""
            ],
            "metadata": {
                "language": "sql",
                "azdata_cell_guid": "2ef1ba2b-264e-4f6d-9f9e-3a7d7cc200e5"
            },
            "outputs": [
                {
                    "output_type": "display_data",
                    "data": {
                        "text/html": "(10 rows affected)"
                    },
                    "metadata": {}
                },
                {
                    "output_type": "display_data",
                    "data": {
                        "text/html": "Total execution time: 00:00:00.077"
                    },
                    "metadata": {}
                },
                {
                    "output_type": "execute_result",
                    "metadata": {},
                    "execution_count": 13,
                    "data": {
                        "application/vnd.dataresource+json": {
                            "schema": {
                                "fields": [
                                    {
                                        "name": "num"
                                    }
                                ]
                            },
                            "data": [
                                {
                                    "0": "1"
                                },
                                {
                                    "0": "2"
                                },
                                {
                                    "0": "3"
                                },
                                {
                                    "0": "4"
                                },
                                {
                                    "0": "5"
                                },
                                {
                                    "0": "6"
                                },
                                {
                                    "0": "7"
                                },
                                {
                                    "0": "8"
                                },
                                {
                                    "0": "9"
                                },
                                {
                                    "0": "10"
                                }
                            ]
                        },
                        "text/html": [
                            "<table>",
                            "<tr><th>num</th></tr>",
                            "<tr><td>1</td></tr>",
                            "<tr><td>2</td></tr>",
                            "<tr><td>3</td></tr>",
                            "<tr><td>4</td></tr>",
                            "<tr><td>5</td></tr>",
                            "<tr><td>6</td></tr>",
                            "<tr><td>7</td></tr>",
                            "<tr><td>8</td></tr>",
                            "<tr><td>9</td></tr>",
                            "<tr><td>10</td></tr>",
                            "</table>"
                        ]
                    }
                }
            ],
            "execution_count": 13
        },
        {
            "cell_type": "markdown",
            "source": [
                "3\\. Return customer and employee pairs that had order activity in January 2016 but not in February."
            ],
            "metadata": {
                "language": "sql",
                "azdata_cell_guid": "c3d71d58-1a42-4f9e-bbb4-da4a1388fa62"
            },
            "attachments": {}
        },
        {
            "cell_type": "code",
            "source": [
                "use Northwinds2022TSQLV7;\n",
                "\n",
                "select CustomerId as custid, EmployeeId as empid\n",
                "from Sales.[Order]\n",
                "where YEAR(OrderDate) = 2016 and MONTH(OrderDate) = 1\n",
                "\n",
                "EXCEPT\n",
                "\n",
                "select CustomerId as custid, EmployeeId as empid\n",
                "from Sales.[Order]\n",
                "where YEAR(OrderDate) = 2016 and MONTH(OrderDate) = 2\n",
                "\n",
                "order by custid asc, empid asc;"
            ],
            "metadata": {
                "language": "sql",
                "azdata_cell_guid": "219283a7-97a4-49b4-9ea6-15e11d261255"
            },
            "outputs": [
                {
                    "output_type": "display_data",
                    "data": {
                        "text/html": "(50 rows affected)"
                    },
                    "metadata": {}
                },
                {
                    "output_type": "display_data",
                    "data": {
                        "text/html": "Total execution time: 00:00:00.037"
                    },
                    "metadata": {}
                },
                {
                    "output_type": "execute_result",
                    "execution_count": 11,
                    "data": {
                        "application/vnd.dataresource+json": {
                            "schema": {
                                "fields": [
                                    {
                                        "name": "custid"
                                    },
                                    {
                                        "name": "empid"
                                    }
                                ]
                            },
                            "data": [
                                {
                                    "0": "1",
                                    "1": "1"
                                },
                                {
                                    "0": "3",
                                    "1": "3"
                                },
                                {
                                    "0": "5",
                                    "1": "8"
                                },
                                {
                                    "0": "5",
                                    "1": "9"
                                },
                                {
                                    "0": "6",
                                    "1": "9"
                                },
                                {
                                    "0": "7",
                                    "1": "6"
                                },
                                {
                                    "0": "9",
                                    "1": "1"
                                },
                                {
                                    "0": "12",
                                    "1": "2"
                                },
                                {
                                    "0": "16",
                                    "1": "7"
                                },
                                {
                                    "0": "17",
                                    "1": "1"
                                },
                                {
                                    "0": "20",
                                    "1": "7"
                                },
                                {
                                    "0": "24",
                                    "1": "8"
                                },
                                {
                                    "0": "25",
                                    "1": "1"
                                },
                                {
                                    "0": "26",
                                    "1": "3"
                                },
                                {
                                    "0": "32",
                                    "1": "4"
                                },
                                {
                                    "0": "38",
                                    "1": "9"
                                },
                                {
                                    "0": "39",
                                    "1": "3"
                                },
                                {
                                    "0": "40",
                                    "1": "2"
                                },
                                {
                                    "0": "41",
                                    "1": "2"
                                },
                                {
                                    "0": "42",
                                    "1": "2"
                                },
                                {
                                    "0": "44",
                                    "1": "8"
                                },
                                {
                                    "0": "47",
                                    "1": "3"
                                },
                                {
                                    "0": "47",
                                    "1": "4"
                                },
                                {
                                    "0": "47",
                                    "1": "8"
                                },
                                {
                                    "0": "49",
                                    "1": "7"
                                },
                                {
                                    "0": "55",
                                    "1": "2"
                                },
                                {
                                    "0": "55",
                                    "1": "3"
                                },
                                {
                                    "0": "56",
                                    "1": "6"
                                },
                                {
                                    "0": "59",
                                    "1": "8"
                                },
                                {
                                    "0": "63",
                                    "1": "8"
                                },
                                {
                                    "0": "64",
                                    "1": "9"
                                },
                                {
                                    "0": "65",
                                    "1": "3"
                                },
                                {
                                    "0": "65",
                                    "1": "8"
                                },
                                {
                                    "0": "66",
                                    "1": "5"
                                },
                                {
                                    "0": "67",
                                    "1": "5"
                                },
                                {
                                    "0": "70",
                                    "1": "3"
                                },
                                {
                                    "0": "71",
                                    "1": "2"
                                },
                                {
                                    "0": "75",
                                    "1": "1"
                                },
                                {
                                    "0": "76",
                                    "1": "2"
                                },
                                {
                                    "0": "76",
                                    "1": "5"
                                },
                                {
                                    "0": "80",
                                    "1": "1"
                                },
                                {
                                    "0": "81",
                                    "1": "1"
                                },
                                {
                                    "0": "81",
                                    "1": "3"
                                },
                                {
                                    "0": "81",
                                    "1": "4"
                                },
                                {
                                    "0": "82",
                                    "1": "6"
                                },
                                {
                                    "0": "84",
                                    "1": "1"
                                },
                                {
                                    "0": "84",
                                    "1": "3"
                                },
                                {
                                    "0": "84",
                                    "1": "4"
                                },
                                {
                                    "0": "88",
                                    "1": "7"
                                },
                                {
                                    "0": "89",
                                    "1": "4"
                                }
                            ]
                        },
                        "text/html": "<table><tr><th>custid</th><th>empid</th></tr><tr><td>1</td><td>1</td></tr><tr><td>3</td><td>3</td></tr><tr><td>5</td><td>8</td></tr><tr><td>5</td><td>9</td></tr><tr><td>6</td><td>9</td></tr><tr><td>7</td><td>6</td></tr><tr><td>9</td><td>1</td></tr><tr><td>12</td><td>2</td></tr><tr><td>16</td><td>7</td></tr><tr><td>17</td><td>1</td></tr><tr><td>20</td><td>7</td></tr><tr><td>24</td><td>8</td></tr><tr><td>25</td><td>1</td></tr><tr><td>26</td><td>3</td></tr><tr><td>32</td><td>4</td></tr><tr><td>38</td><td>9</td></tr><tr><td>39</td><td>3</td></tr><tr><td>40</td><td>2</td></tr><tr><td>41</td><td>2</td></tr><tr><td>42</td><td>2</td></tr><tr><td>44</td><td>8</td></tr><tr><td>47</td><td>3</td></tr><tr><td>47</td><td>4</td></tr><tr><td>47</td><td>8</td></tr><tr><td>49</td><td>7</td></tr><tr><td>55</td><td>2</td></tr><tr><td>55</td><td>3</td></tr><tr><td>56</td><td>6</td></tr><tr><td>59</td><td>8</td></tr><tr><td>63</td><td>8</td></tr><tr><td>64</td><td>9</td></tr><tr><td>65</td><td>3</td></tr><tr><td>65</td><td>8</td></tr><tr><td>66</td><td>5</td></tr><tr><td>67</td><td>5</td></tr><tr><td>70</td><td>3</td></tr><tr><td>71</td><td>2</td></tr><tr><td>75</td><td>1</td></tr><tr><td>76</td><td>2</td></tr><tr><td>76</td><td>5</td></tr><tr><td>80</td><td>1</td></tr><tr><td>81</td><td>1</td></tr><tr><td>81</td><td>3</td></tr><tr><td>81</td><td>4</td></tr><tr><td>82</td><td>6</td></tr><tr><td>84</td><td>1</td></tr><tr><td>84</td><td>3</td></tr><tr><td>84</td><td>4</td></tr><tr><td>88</td><td>7</td></tr><tr><td>89</td><td>4</td></tr></table>"
                    },
                    "metadata": {}
                }
            ],
            "execution_count": 11
        },
        {
            "cell_type": "markdown",
            "source": [
                "4\\. Return customer and employee pairs that had order activity in both January 2016 and February."
            ],
            "metadata": {
                "language": "sql",
                "azdata_cell_guid": "2fb4f179-17b2-407a-984a-d19b1f1da1f9"
            },
            "attachments": {}
        },
        {
            "cell_type": "code",
            "source": [
                "use Northwinds2022TSQLV7;\n",
                "\n",
                "select CustomerId as custid, EmployeeId as empid\n",
                "from Sales.[Order]\n",
                "where YEAR(OrderDate) = 2016 and MONTH(OrderDate) = 1\n",
                "\n",
                "INTERSECT\n",
                "\n",
                "select CustomerId as custid, EmployeeId as empid\n",
                "from Sales.[Order]\n",
                "where YEAR(OrderDate) = 2016 and MONTH(OrderDate) = 2\n",
                "\n",
                "order by custid asc, empid asc;"
            ],
            "metadata": {
                "language": "sql",
                "azdata_cell_guid": "733acddc-890d-4737-8f93-5564f01c18fd"
            },
            "outputs": [
                {
                    "output_type": "display_data",
                    "data": {
                        "text/html": "(5 rows affected)"
                    },
                    "metadata": {}
                },
                {
                    "output_type": "display_data",
                    "data": {
                        "text/html": "Total execution time: 00:00:00.027"
                    },
                    "metadata": {}
                },
                {
                    "output_type": "execute_result",
                    "execution_count": 14,
                    "data": {
                        "application/vnd.dataresource+json": {
                            "schema": {
                                "fields": [
                                    {
                                        "name": "custid"
                                    },
                                    {
                                        "name": "empid"
                                    }
                                ]
                            },
                            "data": [
                                {
                                    "0": "20",
                                    "1": "3"
                                },
                                {
                                    "0": "39",
                                    "1": "9"
                                },
                                {
                                    "0": "46",
                                    "1": "5"
                                },
                                {
                                    "0": "67",
                                    "1": "1"
                                },
                                {
                                    "0": "71",
                                    "1": "4"
                                }
                            ]
                        },
                        "text/html": "<table><tr><th>custid</th><th>empid</th></tr><tr><td>20</td><td>3</td></tr><tr><td>39</td><td>9</td></tr><tr><td>46</td><td>5</td></tr><tr><td>67</td><td>1</td></tr><tr><td>71</td><td>4</td></tr></table>"
                    },
                    "metadata": {}
                }
            ],
            "execution_count": 14
        },
        {
            "cell_type": "markdown",
            "source": [
                "5\\. Return customer and employee pairs that had order activity in both January 2016 and February but not in 2015."
            ],
            "metadata": {
                "azdata_cell_guid": "f88bf8b6-fbf3-4faa-a830-d0da73ad3076"
            },
            "attachments": {}
        },
        {
            "cell_type": "code",
            "source": [
                "use Northwinds2022TSQLV7;\n",
                "\n",
                "(select CustomerId as custid, EmployeeId as empid\n",
                "from Sales.[Order]\n",
                "where YEAR(OrderDate) = 2016 and MONTH(OrderDate) = 1\n",
                "\n",
                "INTERSECT\n",
                "\n",
                "select CustomerId as custid, EmployeeId as empid\n",
                "from Sales.[Order]\n",
                "where YEAR(OrderDate) = 2016 and MONTH(OrderDate) = 2)\n",
                "\n",
                "EXCEPT\n",
                "\n",
                "select CustomerId as custid, EmployeeId as empid\n",
                "from Sales.[Order]\n",
                "where YEAR(OrderDate) = 2015\n",
                ""
            ],
            "metadata": {
                "azdata_cell_guid": "bfae4fa0-74c6-4b7d-b66b-ed558e4f1b10",
                "language": "sql"
            },
            "outputs": [
                {
                    "output_type": "display_data",
                    "data": {
                        "text/html": "(2 rows affected)"
                    },
                    "metadata": {}
                },
                {
                    "output_type": "display_data",
                    "data": {
                        "text/html": "Total execution time: 00:00:00.057"
                    },
                    "metadata": {}
                },
                {
                    "output_type": "execute_result",
                    "execution_count": 16,
                    "data": {
                        "application/vnd.dataresource+json": {
                            "schema": {
                                "fields": [
                                    {
                                        "name": "custid"
                                    },
                                    {
                                        "name": "empid"
                                    }
                                ]
                            },
                            "data": [
                                {
                                    "0": "67",
                                    "1": "1"
                                },
                                {
                                    "0": "46",
                                    "1": "5"
                                }
                            ]
                        },
                        "text/html": "<table><tr><th>custid</th><th>empid</th></tr><tr><td>67</td><td>1</td></tr><tr><td>46</td><td>5</td></tr></table>"
                    },
                    "metadata": {}
                }
            ],
            "execution_count": 16
        }
    ]
}