{
    "metadata": {
        "kernelspec": {
            "name": "SQL",
            "display_name": "SQL",
            "language": "sql"
        },
        "language_info": {
            "name": "sql",
            "version": ""
        }
    },
    "nbformat_minor": 2,
    "nbformat": 4,
    "cells": [
        {
            "cell_type": "code",
            "source": [
                "SET NOCOUNT ON\n",
                "USE Northwinds2022TSQLV7"
            ],
            "metadata": {
                "azdata_cell_guid": "657d1232-17ae-4738-9103-6841f7e799be",
                "language": "sql",
                "tags": []
            },
            "outputs": [],
            "execution_count": null
        },
        {
            "cell_type": "markdown",
            "source": [
                "Union Operator."
            ],
            "metadata": {
                "language": "sql",
                "azdata_cell_guid": "afec5dc4-65ac-49e3-b763-d23cd42a43ff"
            },
            "attachments": {}
        },
        {
            "cell_type": "code",
            "source": [
                "-- The UNION ALL Multiset Operator\n",
                "USE Northwinds2022TSQLV7\n",
                "SELECT EmployeeCountry, EmployeeRegion, EmployeeCity FROM HumanResources.Employee\n",
                "UNION ALL --all records including duplicates\n",
                "SELECT CustomerCountry, CustomerRegion, CustomerCity FROM Sales.Customer;\n",
                "\n",
                "SELECT EmployeeCountry, EmployeeRegion, EmployeeCity FROM HumanResources.Employee\n",
                "UNION -- no duplicates\n",
                "SELECT CustomerCountry, CustomerRegion, CustomerCity FROM Sales.Customer;"
            ],
            "metadata": {
                "language": "sql",
                "azdata_cell_guid": "774e9301-ebac-4e78-b463-bd7cc95be3b6",
                "tags": []
            },
            "outputs": [
                {
                    "output_type": "display_data",
                    "data": {
                        "text/html": "(100 rows affected)"
                    },
                    "metadata": {}
                },
                {
                    "output_type": "display_data",
                    "data": {
                        "text/html": "(71 rows affected)"
                    },
                    "metadata": {}
                },
                {
                    "output_type": "display_data",
                    "data": {
                        "text/html": "Total execution time: 00:00:00.034"
                    },
                    "metadata": {}
                },
                {
                    "output_type": "execute_result",
                    "execution_count": 4,
                    "data": {
                        "application/vnd.dataresource+json": {
                            "schema": {
                                "fields": [
                                    {
                                        "name": "EmployeeCountry"
                                    },
                                    {
                                        "name": "EmployeeRegion"
                                    },
                                    {
                                        "name": "EmployeeCity"
                                    }
                                ]
                            },
                            "data": [
                                {
                                    "0": "USA",
                                    "1": "WA",
                                    "2": "Seattle"
                                },
                                {
                                    "0": "USA",
                                    "1": "WA",
                                    "2": "Tacoma"
                                },
                                {
                                    "0": "USA",
                                    "1": "WA",
                                    "2": "Kirkland"
                                },
                                {
                                    "0": "USA",
                                    "1": "WA",
                                    "2": "Redmond"
                                },
                                {
                                    "0": "UK",
                                    "1": "NULL",
                                    "2": "London"
                                },
                                {
                                    "0": "UK",
                                    "1": "NULL",
                                    "2": "London"
                                },
                                {
                                    "0": "UK",
                                    "1": "NULL",
                                    "2": "London"
                                },
                                {
                                    "0": "USA",
                                    "1": "WA",
                                    "2": "Seattle"
                                },
                                {
                                    "0": "UK",
                                    "1": "NULL",
                                    "2": "London"
                                },
                                {
                                    "0": "Germany",
                                    "1": "NULL",
                                    "2": "Berlin"
                                },
                                {
                                    "0": "Mexico",
                                    "1": "NULL",
                                    "2": "México D.F."
                                },
                                {
                                    "0": "Mexico",
                                    "1": "NULL",
                                    "2": "México D.F."
                                },
                                {
                                    "0": "UK",
                                    "1": "NULL",
                                    "2": "London"
                                },
                                {
                                    "0": "Sweden",
                                    "1": "NULL",
                                    "2": "Luleå"
                                },
                                {
                                    "0": "Germany",
                                    "1": "NULL",
                                    "2": "Mannheim"
                                },
                                {
                                    "0": "France",
                                    "1": "NULL",
                                    "2": "Strasbourg"
                                },
                                {
                                    "0": "Spain",
                                    "1": "NULL",
                                    "2": "Madrid"
                                },
                                {
                                    "0": "France",
                                    "1": "NULL",
                                    "2": "Marseille"
                                },
                                {
                                    "0": "Canada",
                                    "1": "BC",
                                    "2": "Tsawassen"
                                },
                                {
                                    "0": "UK",
                                    "1": "NULL",
                                    "2": "London"
                                },
                                {
                                    "0": "Argentina",
                                    "1": "NULL",
                                    "2": "Buenos Aires"
                                },
                                {
                                    "0": "Mexico",
                                    "1": "NULL",
                                    "2": "México D.F."
                                },
                                {
                                    "0": "Switzerland",
                                    "1": "NULL",
                                    "2": "Bern"
                                },
                                {
                                    "0": "Brazil",
                                    "1": "SP",
                                    "2": "Sao Paulo"
                                },
                                {
                                    "0": "UK",
                                    "1": "NULL",
                                    "2": "London"
                                },
                                {
                                    "0": "Germany",
                                    "1": "NULL",
                                    "2": "Aachen"
                                },
                                {
                                    "0": "France",
                                    "1": "NULL",
                                    "2": "Nantes"
                                },
                                {
                                    "0": "UK",
                                    "1": "NULL",
                                    "2": "London"
                                },
                                {
                                    "0": "Austria",
                                    "1": "NULL",
                                    "2": "Graz"
                                },
                                {
                                    "0": "Brazil",
                                    "1": "SP",
                                    "2": "Sao Paulo"
                                },
                                {
                                    "0": "Spain",
                                    "1": "NULL",
                                    "2": "Madrid"
                                },
                                {
                                    "0": "France",
                                    "1": "NULL",
                                    "2": "Lille"
                                },
                                {
                                    "0": "Sweden",
                                    "1": "NULL",
                                    "2": "Bräcke"
                                },
                                {
                                    "0": "Germany",
                                    "1": "NULL",
                                    "2": "München"
                                },
                                {
                                    "0": "France",
                                    "1": "NULL",
                                    "2": "Nantes"
                                },
                                {
                                    "0": "Italy",
                                    "1": "NULL",
                                    "2": "Torino"
                                },
                                {
                                    "0": "Portugal",
                                    "1": "NULL",
                                    "2": "Lisboa"
                                },
                                {
                                    "0": "Spain",
                                    "1": "NULL",
                                    "2": "Barcelona"
                                },
                                {
                                    "0": "Spain",
                                    "1": "NULL",
                                    "2": "Sevilla"
                                },
                                {
                                    "0": "Brazil",
                                    "1": "SP",
                                    "2": "Campinas"
                                },
                                {
                                    "0": "USA",
                                    "1": "OR",
                                    "2": "Eugene"
                                },
                                {
                                    "0": "Venezuela",
                                    "1": "DF",
                                    "2": "Caracas"
                                },
                                {
                                    "0": "Brazil",
                                    "1": "RJ",
                                    "2": "Rio de Janeiro"
                                },
                                {
                                    "0": "Venezuela",
                                    "1": "Táchira",
                                    "2": "San Cristóbal"
                                },
                                {
                                    "0": "USA",
                                    "1": "OR",
                                    "2": "Elgin"
                                },
                                {
                                    "0": "Ireland",
                                    "1": "Co. Cork",
                                    "2": "Cork"
                                },
                                {
                                    "0": "UK",
                                    "1": "Isle of Wight",
                                    "2": "Cowes"
                                },
                                {
                                    "0": "Germany",
                                    "1": "NULL",
                                    "2": "Brandenburg"
                                },
                                {
                                    "0": "France",
                                    "1": "NULL",
                                    "2": "Versailles"
                                },
                                {
                                    "0": "France",
                                    "1": "NULL",
                                    "2": "Toulouse"
                                },
                                {
                                    "0": "Canada",
                                    "1": "BC",
                                    "2": "Vancouver"
                                },
                                {
                                    "0": "USA",
                                    "1": "WA",
                                    "2": "Walla Walla"
                                },
                                {
                                    "0": "Germany",
                                    "1": "NULL",
                                    "2": "Frankfurt a.M."
                                },
                                {
                                    "0": "USA",
                                    "1": "CA",
                                    "2": "San Francisco"
                                },
                                {
                                    "0": "Venezuela",
                                    "1": "Lara",
                                    "2": "Barquisimeto"
                                },
                                {
                                    "0": "Venezuela",
                                    "1": "Nueva Esparta",
                                    "2": "I. de Margarita"
                                },
                                {
                                    "0": "USA",
                                    "1": "OR",
                                    "2": "Portland"
                                },
                                {
                                    "0": "Italy",
                                    "1": "NULL",
                                    "2": "Bergamo"
                                },
                                {
                                    "0": "Belgium",
                                    "1": "NULL",
                                    "2": "Bruxelles"
                                },
                                {
                                    "0": "Canada",
                                    "1": "Québec",
                                    "2": "Montréal"
                                },
                                {
                                    "0": "Germany",
                                    "1": "NULL",
                                    "2": "Leipzig"
                                },
                                {
                                    "0": "UK",
                                    "1": "NULL",
                                    "2": "London"
                                },
                                {
                                    "0": "Argentina",
                                    "1": "NULL",
                                    "2": "Buenos Aires"
                                },
                                {
                                    "0": "USA",
                                    "1": "AK",
                                    "2": "Anchorage"
                                },
                                {
                                    "0": "Germany",
                                    "1": "NULL",
                                    "2": "Köln"
                                },
                                {
                                    "0": "France",
                                    "1": "NULL",
                                    "2": "Paris"
                                },
                                {
                                    "0": "Mexico",
                                    "1": "NULL",
                                    "2": "México D.F."
                                },
                                {
                                    "0": "Austria",
                                    "1": "NULL",
                                    "2": "Salzburg"
                                },
                                {
                                    "0": "Portugal",
                                    "1": "NULL",
                                    "2": "Lisboa"
                                },
                                {
                                    "0": "Brazil",
                                    "1": "RJ",
                                    "2": "Rio de Janeiro"
                                },
                                {
                                    "0": "Brazil",
                                    "1": "SP",
                                    "2": "Sao Paulo"
                                },
                                {
                                    "0": "Germany",
                                    "1": "NULL",
                                    "2": "Cunewalde"
                                },
                                {
                                    "0": "Argentina",
                                    "1": "NULL",
                                    "2": "Buenos Aires"
                                },
                                {
                                    "0": "USA",
                                    "1": "NM",
                                    "2": "Albuquerque"
                                },
                                {
                                    "0": "Italy",
                                    "1": "NULL",
                                    "2": "Reggio Emilia"
                                },
                                {
                                    "0": "Brazil",
                                    "1": "RJ",
                                    "2": "Rio de Janeiro"
                                },
                                {
                                    "0": "Switzerland",
                                    "1": "NULL",
                                    "2": "Genève"
                                },
                                {
                                    "0": "Spain",
                                    "1": "NULL",
                                    "2": "Madrid"
                                },
                                {
                                    "0": "Norway",
                                    "1": "NULL",
                                    "2": "Stavern"
                                },
                                {
                                    "0": "USA",
                                    "1": "ID",
                                    "2": "Boise"
                                },
                                {
                                    "0": "UK",
                                    "1": "NULL",
                                    "2": "London"
                                },
                                {
                                    "0": "Denmark",
                                    "1": "NULL",
                                    "2": "Kobenhavn"
                                },
                                {
                                    "0": "France",
                                    "1": "NULL",
                                    "2": "Paris"
                                },
                                {
                                    "0": "USA",
                                    "1": "WY",
                                    "2": "Lander"
                                },
                                {
                                    "0": "Belgium",
                                    "1": "NULL",
                                    "2": "Charleroi"
                                },
                                {
                                    "0": "USA",
                                    "1": "OR",
                                    "2": "Portland"
                                },
                                {
                                    "0": "USA",
                                    "1": "MT",
                                    "2": "Butte"
                                },
                                {
                                    "0": "Germany",
                                    "1": "NULL",
                                    "2": "Münster"
                                },
                                {
                                    "0": "Mexico",
                                    "1": "NULL",
                                    "2": "México D.F."
                                },
                                {
                                    "0": "Brazil",
                                    "1": "SP",
                                    "2": "Sao Paulo"
                                },
                                {
                                    "0": "USA",
                                    "1": "WA",
                                    "2": "Kirkland"
                                },
                                {
                                    "0": "Denmark",
                                    "1": "NULL",
                                    "2": "Århus"
                                },
                                {
                                    "0": "France",
                                    "1": "NULL",
                                    "2": "Lyon"
                                },
                                {
                                    "0": "France",
                                    "1": "NULL",
                                    "2": "Reims"
                                },
                                {
                                    "0": "Germany",
                                    "1": "NULL",
                                    "2": "Stuttgart"
                                },
                                {
                                    "0": "Finland",
                                    "1": "NULL",
                                    "2": "Oulu"
                                },
                                {
                                    "0": "Brazil",
                                    "1": "SP",
                                    "2": "Resende"
                                },
                                {
                                    "0": "USA",
                                    "1": "WA",
                                    "2": "Seattle"
                                },
                                {
                                    "0": "Finland",
                                    "1": "NULL",
                                    "2": "Helsinki"
                                },
                                {
                                    "0": "Poland",
                                    "1": "NULL",
                                    "2": "Warszawa"
                                }
                            ]
                        },
                        "text/html": "<table><tr><th>EmployeeCountry</th><th>EmployeeRegion</th><th>EmployeeCity</th></tr><tr><td>USA</td><td>WA</td><td>Seattle</td></tr><tr><td>USA</td><td>WA</td><td>Tacoma</td></tr><tr><td>USA</td><td>WA</td><td>Kirkland</td></tr><tr><td>USA</td><td>WA</td><td>Redmond</td></tr><tr><td>UK</td><td>NULL</td><td>London</td></tr><tr><td>UK</td><td>NULL</td><td>London</td></tr><tr><td>UK</td><td>NULL</td><td>London</td></tr><tr><td>USA</td><td>WA</td><td>Seattle</td></tr><tr><td>UK</td><td>NULL</td><td>London</td></tr><tr><td>Germany</td><td>NULL</td><td>Berlin</td></tr><tr><td>Mexico</td><td>NULL</td><td>México D.F.</td></tr><tr><td>Mexico</td><td>NULL</td><td>México D.F.</td></tr><tr><td>UK</td><td>NULL</td><td>London</td></tr><tr><td>Sweden</td><td>NULL</td><td>Luleå</td></tr><tr><td>Germany</td><td>NULL</td><td>Mannheim</td></tr><tr><td>France</td><td>NULL</td><td>Strasbourg</td></tr><tr><td>Spain</td><td>NULL</td><td>Madrid</td></tr><tr><td>France</td><td>NULL</td><td>Marseille</td></tr><tr><td>Canada</td><td>BC</td><td>Tsawassen</td></tr><tr><td>UK</td><td>NULL</td><td>London</td></tr><tr><td>Argentina</td><td>NULL</td><td>Buenos Aires</td></tr><tr><td>Mexico</td><td>NULL</td><td>México D.F.</td></tr><tr><td>Switzerland</td><td>NULL</td><td>Bern</td></tr><tr><td>Brazil</td><td>SP</td><td>Sao Paulo</td></tr><tr><td>UK</td><td>NULL</td><td>London</td></tr><tr><td>Germany</td><td>NULL</td><td>Aachen</td></tr><tr><td>France</td><td>NULL</td><td>Nantes</td></tr><tr><td>UK</td><td>NULL</td><td>London</td></tr><tr><td>Austria</td><td>NULL</td><td>Graz</td></tr><tr><td>Brazil</td><td>SP</td><td>Sao Paulo</td></tr><tr><td>Spain</td><td>NULL</td><td>Madrid</td></tr><tr><td>France</td><td>NULL</td><td>Lille</td></tr><tr><td>Sweden</td><td>NULL</td><td>Bräcke</td></tr><tr><td>Germany</td><td>NULL</td><td>München</td></tr><tr><td>France</td><td>NULL</td><td>Nantes</td></tr><tr><td>Italy</td><td>NULL</td><td>Torino</td></tr><tr><td>Portugal</td><td>NULL</td><td>Lisboa</td></tr><tr><td>Spain</td><td>NULL</td><td>Barcelona</td></tr><tr><td>Spain</td><td>NULL</td><td>Sevilla</td></tr><tr><td>Brazil</td><td>SP</td><td>Campinas</td></tr><tr><td>USA</td><td>OR</td><td>Eugene</td></tr><tr><td>Venezuela</td><td>DF</td><td>Caracas</td></tr><tr><td>Brazil</td><td>RJ</td><td>Rio de Janeiro</td></tr><tr><td>Venezuela</td><td>Táchira</td><td>San Cristóbal</td></tr><tr><td>USA</td><td>OR</td><td>Elgin</td></tr><tr><td>Ireland</td><td>Co. Cork</td><td>Cork</td></tr><tr><td>UK</td><td>Isle of Wight</td><td>Cowes</td></tr><tr><td>Germany</td><td>NULL</td><td>Brandenburg</td></tr><tr><td>France</td><td>NULL</td><td>Versailles</td></tr><tr><td>France</td><td>NULL</td><td>Toulouse</td></tr><tr><td>Canada</td><td>BC</td><td>Vancouver</td></tr><tr><td>USA</td><td>WA</td><td>Walla Walla</td></tr><tr><td>Germany</td><td>NULL</td><td>Frankfurt a.M.</td></tr><tr><td>USA</td><td>CA</td><td>San Francisco</td></tr><tr><td>Venezuela</td><td>Lara</td><td>Barquisimeto</td></tr><tr><td>Venezuela</td><td>Nueva Esparta</td><td>I. de Margarita</td></tr><tr><td>USA</td><td>OR</td><td>Portland</td></tr><tr><td>Italy</td><td>NULL</td><td>Bergamo</td></tr><tr><td>Belgium</td><td>NULL</td><td>Bruxelles</td></tr><tr><td>Canada</td><td>Québec</td><td>Montréal</td></tr><tr><td>Germany</td><td>NULL</td><td>Leipzig</td></tr><tr><td>UK</td><td>NULL</td><td>London</td></tr><tr><td>Argentina</td><td>NULL</td><td>Buenos Aires</td></tr><tr><td>USA</td><td>AK</td><td>Anchorage</td></tr><tr><td>Germany</td><td>NULL</td><td>Köln</td></tr><tr><td>France</td><td>NULL</td><td>Paris</td></tr><tr><td>Mexico</td><td>NULL</td><td>México D.F.</td></tr><tr><td>Austria</td><td>NULL</td><td>Salzburg</td></tr><tr><td>Portugal</td><td>NULL</td><td>Lisboa</td></tr><tr><td>Brazil</td><td>RJ</td><td>Rio de Janeiro</td></tr><tr><td>Brazil</td><td>SP</td><td>Sao Paulo</td></tr><tr><td>Germany</td><td>NULL</td><td>Cunewalde</td></tr><tr><td>Argentina</td><td>NULL</td><td>Buenos Aires</td></tr><tr><td>USA</td><td>NM</td><td>Albuquerque</td></tr><tr><td>Italy</td><td>NULL</td><td>Reggio Emilia</td></tr><tr><td>Brazil</td><td>RJ</td><td>Rio de Janeiro</td></tr><tr><td>Switzerland</td><td>NULL</td><td>Genève</td></tr><tr><td>Spain</td><td>NULL</td><td>Madrid</td></tr><tr><td>Norway</td><td>NULL</td><td>Stavern</td></tr><tr><td>USA</td><td>ID</td><td>Boise</td></tr><tr><td>UK</td><td>NULL</td><td>London</td></tr><tr><td>Denmark</td><td>NULL</td><td>Kobenhavn</td></tr><tr><td>France</td><td>NULL</td><td>Paris</td></tr><tr><td>USA</td><td>WY</td><td>Lander</td></tr><tr><td>Belgium</td><td>NULL</td><td>Charleroi</td></tr><tr><td>USA</td><td>OR</td><td>Portland</td></tr><tr><td>USA</td><td>MT</td><td>Butte</td></tr><tr><td>Germany</td><td>NULL</td><td>Münster</td></tr><tr><td>Mexico</td><td>NULL</td><td>México D.F.</td></tr><tr><td>Brazil</td><td>SP</td><td>Sao Paulo</td></tr><tr><td>USA</td><td>WA</td><td>Kirkland</td></tr><tr><td>Denmark</td><td>NULL</td><td>Århus</td></tr><tr><td>France</td><td>NULL</td><td>Lyon</td></tr><tr><td>France</td><td>NULL</td><td>Reims</td></tr><tr><td>Germany</td><td>NULL</td><td>Stuttgart</td></tr><tr><td>Finland</td><td>NULL</td><td>Oulu</td></tr><tr><td>Brazil</td><td>SP</td><td>Resende</td></tr><tr><td>USA</td><td>WA</td><td>Seattle</td></tr><tr><td>Finland</td><td>NULL</td><td>Helsinki</td></tr><tr><td>Poland</td><td>NULL</td><td>Warszawa</td></tr></table>"
                    },
                    "metadata": {}
                },
                {
                    "output_type": "execute_result",
                    "execution_count": 4,
                    "data": {
                        "application/vnd.dataresource+json": {
                            "schema": {
                                "fields": [
                                    {
                                        "name": "EmployeeCountry"
                                    },
                                    {
                                        "name": "EmployeeRegion"
                                    },
                                    {
                                        "name": "EmployeeCity"
                                    }
                                ]
                            },
                            "data": [
                                {
                                    "0": "Argentina",
                                    "1": "NULL",
                                    "2": "Buenos Aires"
                                },
                                {
                                    "0": "Austria",
                                    "1": "NULL",
                                    "2": "Graz"
                                },
                                {
                                    "0": "Austria",
                                    "1": "NULL",
                                    "2": "Salzburg"
                                },
                                {
                                    "0": "Belgium",
                                    "1": "NULL",
                                    "2": "Bruxelles"
                                },
                                {
                                    "0": "Belgium",
                                    "1": "NULL",
                                    "2": "Charleroi"
                                },
                                {
                                    "0": "Brazil",
                                    "1": "RJ",
                                    "2": "Rio de Janeiro"
                                },
                                {
                                    "0": "Brazil",
                                    "1": "SP",
                                    "2": "Campinas"
                                },
                                {
                                    "0": "Brazil",
                                    "1": "SP",
                                    "2": "Resende"
                                },
                                {
                                    "0": "Brazil",
                                    "1": "SP",
                                    "2": "Sao Paulo"
                                },
                                {
                                    "0": "Canada",
                                    "1": "BC",
                                    "2": "Tsawassen"
                                },
                                {
                                    "0": "Canada",
                                    "1": "BC",
                                    "2": "Vancouver"
                                },
                                {
                                    "0": "Canada",
                                    "1": "Québec",
                                    "2": "Montréal"
                                },
                                {
                                    "0": "Denmark",
                                    "1": "NULL",
                                    "2": "Århus"
                                },
                                {
                                    "0": "Denmark",
                                    "1": "NULL",
                                    "2": "Kobenhavn"
                                },
                                {
                                    "0": "Finland",
                                    "1": "NULL",
                                    "2": "Helsinki"
                                },
                                {
                                    "0": "Finland",
                                    "1": "NULL",
                                    "2": "Oulu"
                                },
                                {
                                    "0": "France",
                                    "1": "NULL",
                                    "2": "Lille"
                                },
                                {
                                    "0": "France",
                                    "1": "NULL",
                                    "2": "Lyon"
                                },
                                {
                                    "0": "France",
                                    "1": "NULL",
                                    "2": "Marseille"
                                },
                                {
                                    "0": "France",
                                    "1": "NULL",
                                    "2": "Nantes"
                                },
                                {
                                    "0": "France",
                                    "1": "NULL",
                                    "2": "Paris"
                                },
                                {
                                    "0": "France",
                                    "1": "NULL",
                                    "2": "Reims"
                                },
                                {
                                    "0": "France",
                                    "1": "NULL",
                                    "2": "Strasbourg"
                                },
                                {
                                    "0": "France",
                                    "1": "NULL",
                                    "2": "Toulouse"
                                },
                                {
                                    "0": "France",
                                    "1": "NULL",
                                    "2": "Versailles"
                                },
                                {
                                    "0": "Germany",
                                    "1": "NULL",
                                    "2": "Aachen"
                                },
                                {
                                    "0": "Germany",
                                    "1": "NULL",
                                    "2": "Berlin"
                                },
                                {
                                    "0": "Germany",
                                    "1": "NULL",
                                    "2": "Brandenburg"
                                },
                                {
                                    "0": "Germany",
                                    "1": "NULL",
                                    "2": "Cunewalde"
                                },
                                {
                                    "0": "Germany",
                                    "1": "NULL",
                                    "2": "Frankfurt a.M."
                                },
                                {
                                    "0": "Germany",
                                    "1": "NULL",
                                    "2": "Köln"
                                },
                                {
                                    "0": "Germany",
                                    "1": "NULL",
                                    "2": "Leipzig"
                                },
                                {
                                    "0": "Germany",
                                    "1": "NULL",
                                    "2": "Mannheim"
                                },
                                {
                                    "0": "Germany",
                                    "1": "NULL",
                                    "2": "München"
                                },
                                {
                                    "0": "Germany",
                                    "1": "NULL",
                                    "2": "Münster"
                                },
                                {
                                    "0": "Germany",
                                    "1": "NULL",
                                    "2": "Stuttgart"
                                },
                                {
                                    "0": "Ireland",
                                    "1": "Co. Cork",
                                    "2": "Cork"
                                },
                                {
                                    "0": "Italy",
                                    "1": "NULL",
                                    "2": "Bergamo"
                                },
                                {
                                    "0": "Italy",
                                    "1": "NULL",
                                    "2": "Reggio Emilia"
                                },
                                {
                                    "0": "Italy",
                                    "1": "NULL",
                                    "2": "Torino"
                                },
                                {
                                    "0": "Mexico",
                                    "1": "NULL",
                                    "2": "México D.F."
                                },
                                {
                                    "0": "Norway",
                                    "1": "NULL",
                                    "2": "Stavern"
                                },
                                {
                                    "0": "Poland",
                                    "1": "NULL",
                                    "2": "Warszawa"
                                },
                                {
                                    "0": "Portugal",
                                    "1": "NULL",
                                    "2": "Lisboa"
                                },
                                {
                                    "0": "Spain",
                                    "1": "NULL",
                                    "2": "Barcelona"
                                },
                                {
                                    "0": "Spain",
                                    "1": "NULL",
                                    "2": "Madrid"
                                },
                                {
                                    "0": "Spain",
                                    "1": "NULL",
                                    "2": "Sevilla"
                                },
                                {
                                    "0": "Sweden",
                                    "1": "NULL",
                                    "2": "Bräcke"
                                },
                                {
                                    "0": "Sweden",
                                    "1": "NULL",
                                    "2": "Luleå"
                                },
                                {
                                    "0": "Switzerland",
                                    "1": "NULL",
                                    "2": "Bern"
                                },
                                {
                                    "0": "Switzerland",
                                    "1": "NULL",
                                    "2": "Genève"
                                },
                                {
                                    "0": "UK",
                                    "1": "NULL",
                                    "2": "London"
                                },
                                {
                                    "0": "UK",
                                    "1": "Isle of Wight",
                                    "2": "Cowes"
                                },
                                {
                                    "0": "USA",
                                    "1": "AK",
                                    "2": "Anchorage"
                                },
                                {
                                    "0": "USA",
                                    "1": "CA",
                                    "2": "San Francisco"
                                },
                                {
                                    "0": "USA",
                                    "1": "ID",
                                    "2": "Boise"
                                },
                                {
                                    "0": "USA",
                                    "1": "MT",
                                    "2": "Butte"
                                },
                                {
                                    "0": "USA",
                                    "1": "NM",
                                    "2": "Albuquerque"
                                },
                                {
                                    "0": "USA",
                                    "1": "OR",
                                    "2": "Elgin"
                                },
                                {
                                    "0": "USA",
                                    "1": "OR",
                                    "2": "Eugene"
                                },
                                {
                                    "0": "USA",
                                    "1": "OR",
                                    "2": "Portland"
                                },
                                {
                                    "0": "USA",
                                    "1": "WA",
                                    "2": "Kirkland"
                                },
                                {
                                    "0": "USA",
                                    "1": "WA",
                                    "2": "Redmond"
                                },
                                {
                                    "0": "USA",
                                    "1": "WA",
                                    "2": "Seattle"
                                },
                                {
                                    "0": "USA",
                                    "1": "WA",
                                    "2": "Tacoma"
                                },
                                {
                                    "0": "USA",
                                    "1": "WA",
                                    "2": "Walla Walla"
                                },
                                {
                                    "0": "USA",
                                    "1": "WY",
                                    "2": "Lander"
                                },
                                {
                                    "0": "Venezuela",
                                    "1": "DF",
                                    "2": "Caracas"
                                },
                                {
                                    "0": "Venezuela",
                                    "1": "Lara",
                                    "2": "Barquisimeto"
                                },
                                {
                                    "0": "Venezuela",
                                    "1": "Nueva Esparta",
                                    "2": "I. de Margarita"
                                },
                                {
                                    "0": "Venezuela",
                                    "1": "Táchira",
                                    "2": "San Cristóbal"
                                }
                            ]
                        },
                        "text/html": "<table><tr><th>EmployeeCountry</th><th>EmployeeRegion</th><th>EmployeeCity</th></tr><tr><td>Argentina</td><td>NULL</td><td>Buenos Aires</td></tr><tr><td>Austria</td><td>NULL</td><td>Graz</td></tr><tr><td>Austria</td><td>NULL</td><td>Salzburg</td></tr><tr><td>Belgium</td><td>NULL</td><td>Bruxelles</td></tr><tr><td>Belgium</td><td>NULL</td><td>Charleroi</td></tr><tr><td>Brazil</td><td>RJ</td><td>Rio de Janeiro</td></tr><tr><td>Brazil</td><td>SP</td><td>Campinas</td></tr><tr><td>Brazil</td><td>SP</td><td>Resende</td></tr><tr><td>Brazil</td><td>SP</td><td>Sao Paulo</td></tr><tr><td>Canada</td><td>BC</td><td>Tsawassen</td></tr><tr><td>Canada</td><td>BC</td><td>Vancouver</td></tr><tr><td>Canada</td><td>Québec</td><td>Montréal</td></tr><tr><td>Denmark</td><td>NULL</td><td>Århus</td></tr><tr><td>Denmark</td><td>NULL</td><td>Kobenhavn</td></tr><tr><td>Finland</td><td>NULL</td><td>Helsinki</td></tr><tr><td>Finland</td><td>NULL</td><td>Oulu</td></tr><tr><td>France</td><td>NULL</td><td>Lille</td></tr><tr><td>France</td><td>NULL</td><td>Lyon</td></tr><tr><td>France</td><td>NULL</td><td>Marseille</td></tr><tr><td>France</td><td>NULL</td><td>Nantes</td></tr><tr><td>France</td><td>NULL</td><td>Paris</td></tr><tr><td>France</td><td>NULL</td><td>Reims</td></tr><tr><td>France</td><td>NULL</td><td>Strasbourg</td></tr><tr><td>France</td><td>NULL</td><td>Toulouse</td></tr><tr><td>France</td><td>NULL</td><td>Versailles</td></tr><tr><td>Germany</td><td>NULL</td><td>Aachen</td></tr><tr><td>Germany</td><td>NULL</td><td>Berlin</td></tr><tr><td>Germany</td><td>NULL</td><td>Brandenburg</td></tr><tr><td>Germany</td><td>NULL</td><td>Cunewalde</td></tr><tr><td>Germany</td><td>NULL</td><td>Frankfurt a.M.</td></tr><tr><td>Germany</td><td>NULL</td><td>Köln</td></tr><tr><td>Germany</td><td>NULL</td><td>Leipzig</td></tr><tr><td>Germany</td><td>NULL</td><td>Mannheim</td></tr><tr><td>Germany</td><td>NULL</td><td>München</td></tr><tr><td>Germany</td><td>NULL</td><td>Münster</td></tr><tr><td>Germany</td><td>NULL</td><td>Stuttgart</td></tr><tr><td>Ireland</td><td>Co. Cork</td><td>Cork</td></tr><tr><td>Italy</td><td>NULL</td><td>Bergamo</td></tr><tr><td>Italy</td><td>NULL</td><td>Reggio Emilia</td></tr><tr><td>Italy</td><td>NULL</td><td>Torino</td></tr><tr><td>Mexico</td><td>NULL</td><td>México D.F.</td></tr><tr><td>Norway</td><td>NULL</td><td>Stavern</td></tr><tr><td>Poland</td><td>NULL</td><td>Warszawa</td></tr><tr><td>Portugal</td><td>NULL</td><td>Lisboa</td></tr><tr><td>Spain</td><td>NULL</td><td>Barcelona</td></tr><tr><td>Spain</td><td>NULL</td><td>Madrid</td></tr><tr><td>Spain</td><td>NULL</td><td>Sevilla</td></tr><tr><td>Sweden</td><td>NULL</td><td>Bräcke</td></tr><tr><td>Sweden</td><td>NULL</td><td>Luleå</td></tr><tr><td>Switzerland</td><td>NULL</td><td>Bern</td></tr><tr><td>Switzerland</td><td>NULL</td><td>Genève</td></tr><tr><td>UK</td><td>NULL</td><td>London</td></tr><tr><td>UK</td><td>Isle of Wight</td><td>Cowes</td></tr><tr><td>USA</td><td>AK</td><td>Anchorage</td></tr><tr><td>USA</td><td>CA</td><td>San Francisco</td></tr><tr><td>USA</td><td>ID</td><td>Boise</td></tr><tr><td>USA</td><td>MT</td><td>Butte</td></tr><tr><td>USA</td><td>NM</td><td>Albuquerque</td></tr><tr><td>USA</td><td>OR</td><td>Elgin</td></tr><tr><td>USA</td><td>OR</td><td>Eugene</td></tr><tr><td>USA</td><td>OR</td><td>Portland</td></tr><tr><td>USA</td><td>WA</td><td>Kirkland</td></tr><tr><td>USA</td><td>WA</td><td>Redmond</td></tr><tr><td>USA</td><td>WA</td><td>Seattle</td></tr><tr><td>USA</td><td>WA</td><td>Tacoma</td></tr><tr><td>USA</td><td>WA</td><td>Walla Walla</td></tr><tr><td>USA</td><td>WY</td><td>Lander</td></tr><tr><td>Venezuela</td><td>DF</td><td>Caracas</td></tr><tr><td>Venezuela</td><td>Lara</td><td>Barquisimeto</td></tr><tr><td>Venezuela</td><td>Nueva Esparta</td><td>I. de Margarita</td></tr><tr><td>Venezuela</td><td>Táchira</td><td>San Cristóbal</td></tr></table>"
                    },
                    "metadata": {}
                }
            ],
            "execution_count": 4
        },
        {
            "cell_type": "markdown",
            "source": [
                "Intersect Operator"
            ],
            "metadata": {
                "language": "sql",
                "azdata_cell_guid": "c1e292b5-fb16-41d5-ac92-c24887e8ddd5"
            },
            "attachments": {}
        },
        {
            "cell_type": "code",
            "source": [
                "USE Northwinds2022TSQLV7;\n",
                "-- The INTERSECT Distinct Set Operator\n",
                "SELECT EmployeeCountry, EmployeeRegion, EmployeeCity FROM HumanResources.Employee\n",
                "INTERSECT --shared records\n",
                "SELECT CustomerCountry, CustomerRegion, CustomerCity FROM Sales.Customer;"
            ],
            "metadata": {
                "language": "sql",
                "azdata_cell_guid": "815e77d3-dec5-4c40-82ae-c5e7fb4f14fe",
                "tags": []
            },
            "outputs": [
                {
                    "output_type": "display_data",
                    "data": {
                        "text/html": "(3 rows affected)"
                    },
                    "metadata": {}
                },
                {
                    "output_type": "display_data",
                    "data": {
                        "text/html": "Total execution time: 00:00:00.030"
                    },
                    "metadata": {}
                },
                {
                    "output_type": "execute_result",
                    "execution_count": 6,
                    "data": {
                        "application/vnd.dataresource+json": {
                            "schema": {
                                "fields": [
                                    {
                                        "name": "EmployeeCountry"
                                    },
                                    {
                                        "name": "EmployeeRegion"
                                    },
                                    {
                                        "name": "EmployeeCity"
                                    }
                                ]
                            },
                            "data": [
                                {
                                    "0": "UK",
                                    "1": "NULL",
                                    "2": "London"
                                },
                                {
                                    "0": "USA",
                                    "1": "WA",
                                    "2": "Kirkland"
                                },
                                {
                                    "0": "USA",
                                    "1": "WA",
                                    "2": "Seattle"
                                }
                            ]
                        },
                        "text/html": "<table><tr><th>EmployeeCountry</th><th>EmployeeRegion</th><th>EmployeeCity</th></tr><tr><td>UK</td><td>NULL</td><td>London</td></tr><tr><td>USA</td><td>WA</td><td>Kirkland</td></tr><tr><td>USA</td><td>WA</td><td>Seattle</td></tr></table>"
                    },
                    "metadata": {}
                }
            ],
            "execution_count": 6
        },
        {
            "cell_type": "markdown",
            "source": [
                "Except distinct set operator"
            ],
            "metadata": {
                "language": "sql",
                "azdata_cell_guid": "a66fcc14-1378-4369-be69-ee6d1cb0ce0e"
            },
            "attachments": {}
        },
        {
            "cell_type": "code",
            "source": [
                "USE Northwinds2022TSQLV7;\n",
                "-- Employees Except Customers\n",
                "SELECT EmployeeCountry, EmployeeRegion, EmployeeCity FROM HumanResources.Employee\n",
                "EXCEPT \n",
                "SELECT CustomerCountry, CustomerRegion, CustomerCity FROM Sales.Customer;\n",
                "\n",
                "-- Customers Except Employees\n",
                "SELECT CustomerCountry, CustomerRegion, CustomerCity FROM Sales.Customer\n",
                "EXCEPT \n",
                "SELECT EmployeeCountry, EmployeeRegion, EmployeeCity FROM HumanResources.Employee;"
            ],
            "metadata": {
                "language": "sql",
                "azdata_cell_guid": "9372125f-d8ab-47e8-a98d-b4606c7703bf"
            },
            "outputs": [
                {
                    "output_type": "display_data",
                    "data": {
                        "text/html": "(2 rows affected)"
                    },
                    "metadata": {}
                },
                {
                    "output_type": "display_data",
                    "data": {
                        "text/html": "(66 rows affected)"
                    },
                    "metadata": {}
                },
                {
                    "output_type": "display_data",
                    "data": {
                        "text/html": "Total execution time: 00:00:00.060"
                    },
                    "metadata": {}
                },
                {
                    "output_type": "execute_result",
                    "execution_count": 8,
                    "data": {
                        "application/vnd.dataresource+json": {
                            "schema": {
                                "fields": [
                                    {
                                        "name": "EmployeeCountry"
                                    },
                                    {
                                        "name": "EmployeeRegion"
                                    },
                                    {
                                        "name": "EmployeeCity"
                                    }
                                ]
                            },
                            "data": [
                                {
                                    "0": "USA",
                                    "1": "WA",
                                    "2": "Redmond"
                                },
                                {
                                    "0": "USA",
                                    "1": "WA",
                                    "2": "Tacoma"
                                }
                            ]
                        },
                        "text/html": "<table><tr><th>EmployeeCountry</th><th>EmployeeRegion</th><th>EmployeeCity</th></tr><tr><td>USA</td><td>WA</td><td>Redmond</td></tr><tr><td>USA</td><td>WA</td><td>Tacoma</td></tr></table>"
                    },
                    "metadata": {}
                },
                {
                    "output_type": "execute_result",
                    "execution_count": 8,
                    "data": {
                        "application/vnd.dataresource+json": {
                            "schema": {
                                "fields": [
                                    {
                                        "name": "CustomerCountry"
                                    },
                                    {
                                        "name": "CustomerRegion"
                                    },
                                    {
                                        "name": "CustomerCity"
                                    }
                                ]
                            },
                            "data": [
                                {
                                    "0": "Argentina",
                                    "1": "NULL",
                                    "2": "Buenos Aires"
                                },
                                {
                                    "0": "Austria",
                                    "1": "NULL",
                                    "2": "Graz"
                                },
                                {
                                    "0": "Austria",
                                    "1": "NULL",
                                    "2": "Salzburg"
                                },
                                {
                                    "0": "Belgium",
                                    "1": "NULL",
                                    "2": "Bruxelles"
                                },
                                {
                                    "0": "Belgium",
                                    "1": "NULL",
                                    "2": "Charleroi"
                                },
                                {
                                    "0": "Brazil",
                                    "1": "RJ",
                                    "2": "Rio de Janeiro"
                                },
                                {
                                    "0": "Brazil",
                                    "1": "SP",
                                    "2": "Campinas"
                                },
                                {
                                    "0": "Brazil",
                                    "1": "SP",
                                    "2": "Resende"
                                },
                                {
                                    "0": "Brazil",
                                    "1": "SP",
                                    "2": "Sao Paulo"
                                },
                                {
                                    "0": "Canada",
                                    "1": "BC",
                                    "2": "Tsawassen"
                                },
                                {
                                    "0": "Canada",
                                    "1": "BC",
                                    "2": "Vancouver"
                                },
                                {
                                    "0": "Canada",
                                    "1": "Québec",
                                    "2": "Montréal"
                                },
                                {
                                    "0": "Denmark",
                                    "1": "NULL",
                                    "2": "Århus"
                                },
                                {
                                    "0": "Denmark",
                                    "1": "NULL",
                                    "2": "Kobenhavn"
                                },
                                {
                                    "0": "Finland",
                                    "1": "NULL",
                                    "2": "Helsinki"
                                },
                                {
                                    "0": "Finland",
                                    "1": "NULL",
                                    "2": "Oulu"
                                },
                                {
                                    "0": "France",
                                    "1": "NULL",
                                    "2": "Lille"
                                },
                                {
                                    "0": "France",
                                    "1": "NULL",
                                    "2": "Lyon"
                                },
                                {
                                    "0": "France",
                                    "1": "NULL",
                                    "2": "Marseille"
                                },
                                {
                                    "0": "France",
                                    "1": "NULL",
                                    "2": "Nantes"
                                },
                                {
                                    "0": "France",
                                    "1": "NULL",
                                    "2": "Paris"
                                },
                                {
                                    "0": "France",
                                    "1": "NULL",
                                    "2": "Reims"
                                },
                                {
                                    "0": "France",
                                    "1": "NULL",
                                    "2": "Strasbourg"
                                },
                                {
                                    "0": "France",
                                    "1": "NULL",
                                    "2": "Toulouse"
                                },
                                {
                                    "0": "France",
                                    "1": "NULL",
                                    "2": "Versailles"
                                },
                                {
                                    "0": "Germany",
                                    "1": "NULL",
                                    "2": "Aachen"
                                },
                                {
                                    "0": "Germany",
                                    "1": "NULL",
                                    "2": "Berlin"
                                },
                                {
                                    "0": "Germany",
                                    "1": "NULL",
                                    "2": "Brandenburg"
                                },
                                {
                                    "0": "Germany",
                                    "1": "NULL",
                                    "2": "Cunewalde"
                                },
                                {
                                    "0": "Germany",
                                    "1": "NULL",
                                    "2": "Frankfurt a.M."
                                },
                                {
                                    "0": "Germany",
                                    "1": "NULL",
                                    "2": "Köln"
                                },
                                {
                                    "0": "Germany",
                                    "1": "NULL",
                                    "2": "Leipzig"
                                },
                                {
                                    "0": "Germany",
                                    "1": "NULL",
                                    "2": "Mannheim"
                                },
                                {
                                    "0": "Germany",
                                    "1": "NULL",
                                    "2": "München"
                                },
                                {
                                    "0": "Germany",
                                    "1": "NULL",
                                    "2": "Münster"
                                },
                                {
                                    "0": "Germany",
                                    "1": "NULL",
                                    "2": "Stuttgart"
                                },
                                {
                                    "0": "Ireland",
                                    "1": "Co. Cork",
                                    "2": "Cork"
                                },
                                {
                                    "0": "Italy",
                                    "1": "NULL",
                                    "2": "Bergamo"
                                },
                                {
                                    "0": "Italy",
                                    "1": "NULL",
                                    "2": "Reggio Emilia"
                                },
                                {
                                    "0": "Italy",
                                    "1": "NULL",
                                    "2": "Torino"
                                },
                                {
                                    "0": "Mexico",
                                    "1": "NULL",
                                    "2": "México D.F."
                                },
                                {
                                    "0": "Norway",
                                    "1": "NULL",
                                    "2": "Stavern"
                                },
                                {
                                    "0": "Poland",
                                    "1": "NULL",
                                    "2": "Warszawa"
                                },
                                {
                                    "0": "Portugal",
                                    "1": "NULL",
                                    "2": "Lisboa"
                                },
                                {
                                    "0": "Spain",
                                    "1": "NULL",
                                    "2": "Barcelona"
                                },
                                {
                                    "0": "Spain",
                                    "1": "NULL",
                                    "2": "Madrid"
                                },
                                {
                                    "0": "Spain",
                                    "1": "NULL",
                                    "2": "Sevilla"
                                },
                                {
                                    "0": "Sweden",
                                    "1": "NULL",
                                    "2": "Bräcke"
                                },
                                {
                                    "0": "Sweden",
                                    "1": "NULL",
                                    "2": "Luleå"
                                },
                                {
                                    "0": "Switzerland",
                                    "1": "NULL",
                                    "2": "Bern"
                                },
                                {
                                    "0": "Switzerland",
                                    "1": "NULL",
                                    "2": "Genève"
                                },
                                {
                                    "0": "UK",
                                    "1": "Isle of Wight",
                                    "2": "Cowes"
                                },
                                {
                                    "0": "USA",
                                    "1": "AK",
                                    "2": "Anchorage"
                                },
                                {
                                    "0": "USA",
                                    "1": "CA",
                                    "2": "San Francisco"
                                },
                                {
                                    "0": "USA",
                                    "1": "ID",
                                    "2": "Boise"
                                },
                                {
                                    "0": "USA",
                                    "1": "MT",
                                    "2": "Butte"
                                },
                                {
                                    "0": "USA",
                                    "1": "NM",
                                    "2": "Albuquerque"
                                },
                                {
                                    "0": "USA",
                                    "1": "OR",
                                    "2": "Elgin"
                                },
                                {
                                    "0": "USA",
                                    "1": "OR",
                                    "2": "Eugene"
                                },
                                {
                                    "0": "USA",
                                    "1": "OR",
                                    "2": "Portland"
                                },
                                {
                                    "0": "USA",
                                    "1": "WA",
                                    "2": "Walla Walla"
                                },
                                {
                                    "0": "USA",
                                    "1": "WY",
                                    "2": "Lander"
                                },
                                {
                                    "0": "Venezuela",
                                    "1": "DF",
                                    "2": "Caracas"
                                },
                                {
                                    "0": "Venezuela",
                                    "1": "Lara",
                                    "2": "Barquisimeto"
                                },
                                {
                                    "0": "Venezuela",
                                    "1": "Nueva Esparta",
                                    "2": "I. de Margarita"
                                },
                                {
                                    "0": "Venezuela",
                                    "1": "Táchira",
                                    "2": "San Cristóbal"
                                }
                            ]
                        },
                        "text/html": "<table><tr><th>CustomerCountry</th><th>CustomerRegion</th><th>CustomerCity</th></tr><tr><td>Argentina</td><td>NULL</td><td>Buenos Aires</td></tr><tr><td>Austria</td><td>NULL</td><td>Graz</td></tr><tr><td>Austria</td><td>NULL</td><td>Salzburg</td></tr><tr><td>Belgium</td><td>NULL</td><td>Bruxelles</td></tr><tr><td>Belgium</td><td>NULL</td><td>Charleroi</td></tr><tr><td>Brazil</td><td>RJ</td><td>Rio de Janeiro</td></tr><tr><td>Brazil</td><td>SP</td><td>Campinas</td></tr><tr><td>Brazil</td><td>SP</td><td>Resende</td></tr><tr><td>Brazil</td><td>SP</td><td>Sao Paulo</td></tr><tr><td>Canada</td><td>BC</td><td>Tsawassen</td></tr><tr><td>Canada</td><td>BC</td><td>Vancouver</td></tr><tr><td>Canada</td><td>Québec</td><td>Montréal</td></tr><tr><td>Denmark</td><td>NULL</td><td>Århus</td></tr><tr><td>Denmark</td><td>NULL</td><td>Kobenhavn</td></tr><tr><td>Finland</td><td>NULL</td><td>Helsinki</td></tr><tr><td>Finland</td><td>NULL</td><td>Oulu</td></tr><tr><td>France</td><td>NULL</td><td>Lille</td></tr><tr><td>France</td><td>NULL</td><td>Lyon</td></tr><tr><td>France</td><td>NULL</td><td>Marseille</td></tr><tr><td>France</td><td>NULL</td><td>Nantes</td></tr><tr><td>France</td><td>NULL</td><td>Paris</td></tr><tr><td>France</td><td>NULL</td><td>Reims</td></tr><tr><td>France</td><td>NULL</td><td>Strasbourg</td></tr><tr><td>France</td><td>NULL</td><td>Toulouse</td></tr><tr><td>France</td><td>NULL</td><td>Versailles</td></tr><tr><td>Germany</td><td>NULL</td><td>Aachen</td></tr><tr><td>Germany</td><td>NULL</td><td>Berlin</td></tr><tr><td>Germany</td><td>NULL</td><td>Brandenburg</td></tr><tr><td>Germany</td><td>NULL</td><td>Cunewalde</td></tr><tr><td>Germany</td><td>NULL</td><td>Frankfurt a.M.</td></tr><tr><td>Germany</td><td>NULL</td><td>Köln</td></tr><tr><td>Germany</td><td>NULL</td><td>Leipzig</td></tr><tr><td>Germany</td><td>NULL</td><td>Mannheim</td></tr><tr><td>Germany</td><td>NULL</td><td>München</td></tr><tr><td>Germany</td><td>NULL</td><td>Münster</td></tr><tr><td>Germany</td><td>NULL</td><td>Stuttgart</td></tr><tr><td>Ireland</td><td>Co. Cork</td><td>Cork</td></tr><tr><td>Italy</td><td>NULL</td><td>Bergamo</td></tr><tr><td>Italy</td><td>NULL</td><td>Reggio Emilia</td></tr><tr><td>Italy</td><td>NULL</td><td>Torino</td></tr><tr><td>Mexico</td><td>NULL</td><td>México D.F.</td></tr><tr><td>Norway</td><td>NULL</td><td>Stavern</td></tr><tr><td>Poland</td><td>NULL</td><td>Warszawa</td></tr><tr><td>Portugal</td><td>NULL</td><td>Lisboa</td></tr><tr><td>Spain</td><td>NULL</td><td>Barcelona</td></tr><tr><td>Spain</td><td>NULL</td><td>Madrid</td></tr><tr><td>Spain</td><td>NULL</td><td>Sevilla</td></tr><tr><td>Sweden</td><td>NULL</td><td>Bräcke</td></tr><tr><td>Sweden</td><td>NULL</td><td>Luleå</td></tr><tr><td>Switzerland</td><td>NULL</td><td>Bern</td></tr><tr><td>Switzerland</td><td>NULL</td><td>Genève</td></tr><tr><td>UK</td><td>Isle of Wight</td><td>Cowes</td></tr><tr><td>USA</td><td>AK</td><td>Anchorage</td></tr><tr><td>USA</td><td>CA</td><td>San Francisco</td></tr><tr><td>USA</td><td>ID</td><td>Boise</td></tr><tr><td>USA</td><td>MT</td><td>Butte</td></tr><tr><td>USA</td><td>NM</td><td>Albuquerque</td></tr><tr><td>USA</td><td>OR</td><td>Elgin</td></tr><tr><td>USA</td><td>OR</td><td>Eugene</td></tr><tr><td>USA</td><td>OR</td><td>Portland</td></tr><tr><td>USA</td><td>WA</td><td>Walla Walla</td></tr><tr><td>USA</td><td>WY</td><td>Lander</td></tr><tr><td>Venezuela</td><td>DF</td><td>Caracas</td></tr><tr><td>Venezuela</td><td>Lara</td><td>Barquisimeto</td></tr><tr><td>Venezuela</td><td>Nueva Esparta</td><td>I. de Margarita</td></tr><tr><td>Venezuela</td><td>Táchira</td><td>San Cristóbal</td></tr></table>"
                    },
                    "metadata": {}
                }
            ],
            "execution_count": 8
        },
        {
            "cell_type": "markdown",
            "source": [
                "Precendence"
            ],
            "metadata": {
                "azdata_cell_guid": "64a9d797-8eeb-47d9-8e1d-823b1379f8fc"
            },
            "attachments": {}
        },
        {
            "cell_type": "code",
            "source": [
                "use Northwinds2022TSQLV7;\n",
                "\n",
                "--intersect precedes except\n",
                "SELECT SupplierCountry, SupplierRegion, SupplierCity FROM Production.Supplier\n",
                "EXCEPT\n",
                "SELECT EmployeeCountry, EmployeeRegion, EmployeeCity FROM HumanResources.Employee\n",
                "INTERSECT \n",
                "SELECT CustomerCountry, CustomerRegion, CustomerCity FROM Sales.Customer;\n",
                "\n",
                "--parenthese\n",
                "(SELECT SupplierCountry, SupplierRegion, SupplierCity FROM Production.Supplier\n",
                "EXCEPT\n",
                "SELECT EmployeeCountry, EmployeeRegion, EmployeeCity FROM HumanResources.Employee)\n",
                "INTERSECT \n",
                "SELECT CustomerCountry, CustomerRegion, CustomerCity FROM Sales.Customer;\n",
                ""
            ],
            "metadata": {
                "azdata_cell_guid": "4a61711c-7ee3-4291-98b5-9557075bbb05",
                "language": "sql"
            },
            "outputs": [
                {
                    "output_type": "display_data",
                    "data": {
                        "text/html": "(28 rows affected)"
                    },
                    "metadata": {}
                },
                {
                    "output_type": "display_data",
                    "data": {
                        "text/html": "(3 rows affected)"
                    },
                    "metadata": {}
                },
                {
                    "output_type": "display_data",
                    "data": {
                        "text/html": "Total execution time: 00:00:00.053"
                    },
                    "metadata": {}
                },
                {
                    "output_type": "execute_result",
                    "execution_count": 10,
                    "data": {
                        "application/vnd.dataresource+json": {
                            "schema": {
                                "fields": [
                                    {
                                        "name": "SupplierCountry"
                                    },
                                    {
                                        "name": "SupplierRegion"
                                    },
                                    {
                                        "name": "SupplierCity"
                                    }
                                ]
                            },
                            "data": [
                                {
                                    "0": "Australia",
                                    "1": "NSW",
                                    "2": "Sydney"
                                },
                                {
                                    "0": "Australia",
                                    "1": "Victoria",
                                    "2": "Melbourne"
                                },
                                {
                                    "0": "Brazil",
                                    "1": "NULL",
                                    "2": "Sao Paulo"
                                },
                                {
                                    "0": "Canada",
                                    "1": "Québec",
                                    "2": "Montréal"
                                },
                                {
                                    "0": "Canada",
                                    "1": "Québec",
                                    "2": "Ste-Hyacinthe"
                                },
                                {
                                    "0": "Denmark",
                                    "1": "NULL",
                                    "2": "Lyngby"
                                },
                                {
                                    "0": "Finland",
                                    "1": "NULL",
                                    "2": "Lappeenranta"
                                },
                                {
                                    "0": "France",
                                    "1": "NULL",
                                    "2": "Annecy"
                                },
                                {
                                    "0": "France",
                                    "1": "NULL",
                                    "2": "Montceau"
                                },
                                {
                                    "0": "France",
                                    "1": "NULL",
                                    "2": "Paris"
                                },
                                {
                                    "0": "Germany",
                                    "1": "NULL",
                                    "2": "Berlin"
                                },
                                {
                                    "0": "Germany",
                                    "1": "NULL",
                                    "2": "Cuxhaven"
                                },
                                {
                                    "0": "Germany",
                                    "1": "NULL",
                                    "2": "Frankfurt"
                                },
                                {
                                    "0": "Italy",
                                    "1": "NULL",
                                    "2": "Ravenna"
                                },
                                {
                                    "0": "Italy",
                                    "1": "NULL",
                                    "2": "Salerno"
                                },
                                {
                                    "0": "Japan",
                                    "1": "NULL",
                                    "2": "Osaka"
                                },
                                {
                                    "0": "Japan",
                                    "1": "NULL",
                                    "2": "Tokyo"
                                },
                                {
                                    "0": "Netherlands",
                                    "1": "NULL",
                                    "2": "Zaandam"
                                },
                                {
                                    "0": "Norway",
                                    "1": "NULL",
                                    "2": "Sandvika"
                                },
                                {
                                    "0": "Singapore",
                                    "1": "NULL",
                                    "2": "Singapore"
                                },
                                {
                                    "0": "Spain",
                                    "1": "Asturias",
                                    "2": "Oviedo"
                                },
                                {
                                    "0": "Sweden",
                                    "1": "NULL",
                                    "2": "Göteborg"
                                },
                                {
                                    "0": "Sweden",
                                    "1": "NULL",
                                    "2": "Stockholm"
                                },
                                {
                                    "0": "UK",
                                    "1": "NULL",
                                    "2": "Manchester"
                                },
                                {
                                    "0": "USA",
                                    "1": "LA",
                                    "2": "New Orleans"
                                },
                                {
                                    "0": "USA",
                                    "1": "MA",
                                    "2": "Boston"
                                },
                                {
                                    "0": "USA",
                                    "1": "MI",
                                    "2": "Ann Arbor"
                                },
                                {
                                    "0": "USA",
                                    "1": "OR",
                                    "2": "Bend"
                                }
                            ]
                        },
                        "text/html": "<table><tr><th>SupplierCountry</th><th>SupplierRegion</th><th>SupplierCity</th></tr><tr><td>Australia</td><td>NSW</td><td>Sydney</td></tr><tr><td>Australia</td><td>Victoria</td><td>Melbourne</td></tr><tr><td>Brazil</td><td>NULL</td><td>Sao Paulo</td></tr><tr><td>Canada</td><td>Québec</td><td>Montréal</td></tr><tr><td>Canada</td><td>Québec</td><td>Ste-Hyacinthe</td></tr><tr><td>Denmark</td><td>NULL</td><td>Lyngby</td></tr><tr><td>Finland</td><td>NULL</td><td>Lappeenranta</td></tr><tr><td>France</td><td>NULL</td><td>Annecy</td></tr><tr><td>France</td><td>NULL</td><td>Montceau</td></tr><tr><td>France</td><td>NULL</td><td>Paris</td></tr><tr><td>Germany</td><td>NULL</td><td>Berlin</td></tr><tr><td>Germany</td><td>NULL</td><td>Cuxhaven</td></tr><tr><td>Germany</td><td>NULL</td><td>Frankfurt</td></tr><tr><td>Italy</td><td>NULL</td><td>Ravenna</td></tr><tr><td>Italy</td><td>NULL</td><td>Salerno</td></tr><tr><td>Japan</td><td>NULL</td><td>Osaka</td></tr><tr><td>Japan</td><td>NULL</td><td>Tokyo</td></tr><tr><td>Netherlands</td><td>NULL</td><td>Zaandam</td></tr><tr><td>Norway</td><td>NULL</td><td>Sandvika</td></tr><tr><td>Singapore</td><td>NULL</td><td>Singapore</td></tr><tr><td>Spain</td><td>Asturias</td><td>Oviedo</td></tr><tr><td>Sweden</td><td>NULL</td><td>Göteborg</td></tr><tr><td>Sweden</td><td>NULL</td><td>Stockholm</td></tr><tr><td>UK</td><td>NULL</td><td>Manchester</td></tr><tr><td>USA</td><td>LA</td><td>New Orleans</td></tr><tr><td>USA</td><td>MA</td><td>Boston</td></tr><tr><td>USA</td><td>MI</td><td>Ann Arbor</td></tr><tr><td>USA</td><td>OR</td><td>Bend</td></tr></table>"
                    },
                    "metadata": {}
                },
                {
                    "output_type": "execute_result",
                    "execution_count": 10,
                    "data": {
                        "application/vnd.dataresource+json": {
                            "schema": {
                                "fields": [
                                    {
                                        "name": "SupplierCountry"
                                    },
                                    {
                                        "name": "SupplierRegion"
                                    },
                                    {
                                        "name": "SupplierCity"
                                    }
                                ]
                            },
                            "data": [
                                {
                                    "0": "Canada",
                                    "1": "Québec",
                                    "2": "Montréal"
                                },
                                {
                                    "0": "France",
                                    "1": "NULL",
                                    "2": "Paris"
                                },
                                {
                                    "0": "Germany",
                                    "1": "NULL",
                                    "2": "Berlin"
                                }
                            ]
                        },
                        "text/html": "<table><tr><th>SupplierCountry</th><th>SupplierRegion</th><th>SupplierCity</th></tr><tr><td>Canada</td><td>Québec</td><td>Montréal</td></tr><tr><td>France</td><td>NULL</td><td>Paris</td></tr><tr><td>Germany</td><td>NULL</td><td>Berlin</td></tr></table>"
                    },
                    "metadata": {}
                }
            ],
            "execution_count": 10
        }
    ]
}