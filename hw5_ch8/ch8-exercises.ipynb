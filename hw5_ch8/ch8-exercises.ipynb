{
    "metadata": {
        "kernelspec": {
            "name": "SQL",
            "display_name": "SQL",
            "language": "sql"
        },
        "language_info": {
            "name": "sql",
            "version": ""
        }
    },
    "nbformat_minor": 2,
    "nbformat": 4,
    "cells": [
        {
            "cell_type": "markdown",
            "source": [
                "Create dbo.Customers table."
            ],
            "metadata": {
                "azdata_cell_guid": "0b0a5708-987b-486e-8ecb-3793f1ee1ed9"
            },
            "attachments": {}
        },
        {
            "cell_type": "code",
            "source": [
                "USE TSQLV4;\n",
                "\n",
                "DROP TABLE IF EXISTS dbo.Customers;\n",
                "\n",
                "CREATE TABLE dbo.Customers\n",
                "(\n",
                "  custid      INT          NOT NULL PRIMARY KEY,\n",
                "  companyname NVARCHAR(40) NOT NULL,\n",
                "  country     NVARCHAR(15) NOT NULL,\n",
                "  region      NVARCHAR(15) NULL,\n",
                "  city        NVARCHAR(15) NOT NULL  \n",
                ");"
            ],
            "metadata": {
                "azdata_cell_guid": "cc978710-0b88-4926-bc8f-5282de4f1b49",
                "language": "sql"
            },
            "outputs": [
                {
                    "output_type": "display_data",
                    "data": {
                        "text/html": "Commands completed successfully."
                    },
                    "metadata": {}
                },
                {
                    "output_type": "display_data",
                    "data": {
                        "text/html": "Total execution time: 00:00:00.042"
                    },
                    "metadata": {}
                }
            ],
            "execution_count": 28
        },
        {
            "cell_type": "markdown",
            "source": [
                "1.1. Insert row with custid=100, company name=Coho Winery, country=USA, region=WA, city=Redmond"
            ],
            "metadata": {
                "language": "sql",
                "azdata_cell_guid": "0b41ad72-ec63-4c24-90d3-e0028a109f6e"
            },
            "attachments": {}
        },
        {
            "cell_type": "code",
            "source": [
                "use TSQLV4\n",
                "\n",
                "INSERT INTO dbo.Customers(custid, companyname, country, region, city)\n",
                "    VALUES(100, N'Coho Winery', N'USA', N'WA', N'Redmond');\n",
                "\n",
                "SELECT * FROM dbo.Customers"
            ],
            "metadata": {
                "language": "sql",
                "azdata_cell_guid": "1d57ba0a-7682-4789-90e5-9413e9a88be9"
            },
            "outputs": [
                {
                    "output_type": "display_data",
                    "data": {
                        "text/html": "(1 row affected)"
                    },
                    "metadata": {}
                },
                {
                    "output_type": "display_data",
                    "data": {
                        "text/html": "(1 row affected)"
                    },
                    "metadata": {}
                },
                {
                    "output_type": "display_data",
                    "data": {
                        "text/html": "Total execution time: 00:00:00.017"
                    },
                    "metadata": {}
                },
                {
                    "output_type": "execute_result",
                    "execution_count": 29,
                    "data": {
                        "application/vnd.dataresource+json": {
                            "schema": {
                                "fields": [
                                    {
                                        "name": "custid"
                                    },
                                    {
                                        "name": "companyname"
                                    },
                                    {
                                        "name": "country"
                                    },
                                    {
                                        "name": "region"
                                    },
                                    {
                                        "name": "city"
                                    }
                                ]
                            },
                            "data": [
                                {
                                    "0": "100",
                                    "1": "Coho Winery",
                                    "2": "USA",
                                    "3": "WA",
                                    "4": "Redmond"
                                }
                            ]
                        },
                        "text/html": "<table><tr><th>custid</th><th>companyname</th><th>country</th><th>region</th><th>city</th></tr><tr><td>100</td><td>Coho Winery</td><td>USA</td><td>WA</td><td>Redmond</td></tr></table>"
                    },
                    "metadata": {}
                }
            ],
            "execution_count": 29
        },
        {
            "cell_type": "markdown",
            "source": [
                "1.2. Insert into dbo.Customers, all customers from Sales.Customers who placed orders"
            ],
            "metadata": {
                "language": "sql",
                "azdata_cell_guid": "9c1336be-5b57-44ef-a1b3-87b445a6d2fb"
            },
            "attachments": {}
        },
        {
            "cell_type": "code",
            "source": [
                "use TSQLV4\n",
                "\n",
                "INSERT INTO dbo.Customers\n",
                "-- select in correct format\n",
                "SELECT distinct C.custid, companyname, country, region, city\n",
                "FROM Sales.Customers as C\n",
                "    inner join \n",
                "    Sales.Orders as O\n",
                "    on C.custid = O.custid"
            ],
            "metadata": {
                "language": "sql",
                "azdata_cell_guid": "51dc8a2a-a7c8-4ffc-aec8-c454809d037f"
            },
            "outputs": [
                {
                    "output_type": "display_data",
                    "data": {
                        "text/html": "(89 rows affected)"
                    },
                    "metadata": {}
                },
                {
                    "output_type": "display_data",
                    "data": {
                        "text/html": "Total execution time: 00:00:00.018"
                    },
                    "metadata": {}
                }
            ],
            "execution_count": 30
        },
        {
            "cell_type": "code",
            "source": [
                "use TSQLV4\n",
                "SELECT * FROM dbo.Customers"
            ],
            "metadata": {
                "language": "sql",
                "azdata_cell_guid": "cc39fd96-de39-4e8f-a572-a2d06bd6a70f"
            },
            "outputs": [
                {
                    "output_type": "display_data",
                    "data": {
                        "text/html": "(90 rows affected)"
                    },
                    "metadata": {}
                },
                {
                    "output_type": "display_data",
                    "data": {
                        "text/html": "Total execution time: 00:00:00.039"
                    },
                    "metadata": {}
                },
                {
                    "output_type": "execute_result",
                    "execution_count": 31,
                    "data": {
                        "application/vnd.dataresource+json": {
                            "schema": {
                                "fields": [
                                    {
                                        "name": "custid"
                                    },
                                    {
                                        "name": "companyname"
                                    },
                                    {
                                        "name": "country"
                                    },
                                    {
                                        "name": "region"
                                    },
                                    {
                                        "name": "city"
                                    }
                                ]
                            },
                            "data": [
                                {
                                    "0": "1",
                                    "1": "Customer NRZBB",
                                    "2": "Germany",
                                    "3": "NULL",
                                    "4": "Berlin"
                                },
                                {
                                    "0": "2",
                                    "1": "Customer MLTDN",
                                    "2": "Mexico",
                                    "3": "NULL",
                                    "4": "México D.F."
                                },
                                {
                                    "0": "3",
                                    "1": "Customer KBUDE",
                                    "2": "Mexico",
                                    "3": "NULL",
                                    "4": "México D.F."
                                },
                                {
                                    "0": "4",
                                    "1": "Customer HFBZG",
                                    "2": "UK",
                                    "3": "NULL",
                                    "4": "London"
                                },
                                {
                                    "0": "5",
                                    "1": "Customer HGVLZ",
                                    "2": "Sweden",
                                    "3": "NULL",
                                    "4": "Luleå"
                                },
                                {
                                    "0": "6",
                                    "1": "Customer XHXJV",
                                    "2": "Germany",
                                    "3": "NULL",
                                    "4": "Mannheim"
                                },
                                {
                                    "0": "7",
                                    "1": "Customer QXVLA",
                                    "2": "France",
                                    "3": "NULL",
                                    "4": "Strasbourg"
                                },
                                {
                                    "0": "8",
                                    "1": "Customer QUHWH",
                                    "2": "Spain",
                                    "3": "NULL",
                                    "4": "Madrid"
                                },
                                {
                                    "0": "9",
                                    "1": "Customer RTXGC",
                                    "2": "France",
                                    "3": "NULL",
                                    "4": "Marseille"
                                },
                                {
                                    "0": "10",
                                    "1": "Customer EEALV",
                                    "2": "Canada",
                                    "3": "BC",
                                    "4": "Tsawassen"
                                },
                                {
                                    "0": "11",
                                    "1": "Customer UBHAU",
                                    "2": "UK",
                                    "3": "NULL",
                                    "4": "London"
                                },
                                {
                                    "0": "12",
                                    "1": "Customer PSNMQ",
                                    "2": "Argentina",
                                    "3": "NULL",
                                    "4": "Buenos Aires"
                                },
                                {
                                    "0": "13",
                                    "1": "Customer VMLOG",
                                    "2": "Mexico",
                                    "3": "NULL",
                                    "4": "México D.F."
                                },
                                {
                                    "0": "14",
                                    "1": "Customer WNMAF",
                                    "2": "Switzerland",
                                    "3": "NULL",
                                    "4": "Bern"
                                },
                                {
                                    "0": "15",
                                    "1": "Customer JUWXK",
                                    "2": "Brazil",
                                    "3": "SP",
                                    "4": "Sao Paulo"
                                },
                                {
                                    "0": "16",
                                    "1": "Customer GYBBY",
                                    "2": "UK",
                                    "3": "NULL",
                                    "4": "London"
                                },
                                {
                                    "0": "17",
                                    "1": "Customer FEVNN",
                                    "2": "Germany",
                                    "3": "NULL",
                                    "4": "Aachen"
                                },
                                {
                                    "0": "18",
                                    "1": "Customer BSVAR",
                                    "2": "France",
                                    "3": "NULL",
                                    "4": "Nantes"
                                },
                                {
                                    "0": "19",
                                    "1": "Customer RFNQC",
                                    "2": "UK",
                                    "3": "NULL",
                                    "4": "London"
                                },
                                {
                                    "0": "20",
                                    "1": "Customer THHDP",
                                    "2": "Austria",
                                    "3": "NULL",
                                    "4": "Graz"
                                },
                                {
                                    "0": "21",
                                    "1": "Customer KIDPX",
                                    "2": "Brazil",
                                    "3": "SP",
                                    "4": "Sao Paulo"
                                },
                                {
                                    "0": "23",
                                    "1": "Customer WVFAF",
                                    "2": "France",
                                    "3": "NULL",
                                    "4": "Lille"
                                },
                                {
                                    "0": "24",
                                    "1": "Customer CYZTN",
                                    "2": "Sweden",
                                    "3": "NULL",
                                    "4": "Bräcke"
                                },
                                {
                                    "0": "25",
                                    "1": "Customer AZJED",
                                    "2": "Germany",
                                    "3": "NULL",
                                    "4": "München"
                                },
                                {
                                    "0": "26",
                                    "1": "Customer USDBG",
                                    "2": "France",
                                    "3": "NULL",
                                    "4": "Nantes"
                                },
                                {
                                    "0": "27",
                                    "1": "Customer WMFEA",
                                    "2": "Italy",
                                    "3": "NULL",
                                    "4": "Torino"
                                },
                                {
                                    "0": "28",
                                    "1": "Customer XYUFB",
                                    "2": "Portugal",
                                    "3": "NULL",
                                    "4": "Lisboa"
                                },
                                {
                                    "0": "29",
                                    "1": "Customer MDLWA",
                                    "2": "Spain",
                                    "3": "NULL",
                                    "4": "Barcelona"
                                },
                                {
                                    "0": "30",
                                    "1": "Customer KSLQF",
                                    "2": "Spain",
                                    "3": "NULL",
                                    "4": "Sevilla"
                                },
                                {
                                    "0": "31",
                                    "1": "Customer YJCBX",
                                    "2": "Brazil",
                                    "3": "SP",
                                    "4": "Campinas"
                                },
                                {
                                    "0": "32",
                                    "1": "Customer YSIQX",
                                    "2": "USA",
                                    "3": "OR",
                                    "4": "Eugene"
                                },
                                {
                                    "0": "33",
                                    "1": "Customer FVXPQ",
                                    "2": "Venezuela",
                                    "3": "DF",
                                    "4": "Caracas"
                                },
                                {
                                    "0": "34",
                                    "1": "Customer IBVRG",
                                    "2": "Brazil",
                                    "3": "RJ",
                                    "4": "Rio de Janeiro"
                                },
                                {
                                    "0": "35",
                                    "1": "Customer UMTLM",
                                    "2": "Venezuela",
                                    "3": "Táchira",
                                    "4": "San Cristóbal"
                                },
                                {
                                    "0": "36",
                                    "1": "Customer LVJSO",
                                    "2": "USA",
                                    "3": "OR",
                                    "4": "Elgin"
                                },
                                {
                                    "0": "37",
                                    "1": "Customer FRXZL",
                                    "2": "Ireland",
                                    "3": "Co. Cork",
                                    "4": "Cork"
                                },
                                {
                                    "0": "38",
                                    "1": "Customer LJUCA",
                                    "2": "UK",
                                    "3": "Isle of Wight",
                                    "4": "Cowes"
                                },
                                {
                                    "0": "39",
                                    "1": "Customer GLLAG",
                                    "2": "Germany",
                                    "3": "NULL",
                                    "4": "Brandenburg"
                                },
                                {
                                    "0": "40",
                                    "1": "Customer EFFTC",
                                    "2": "France",
                                    "3": "NULL",
                                    "4": "Versailles"
                                },
                                {
                                    "0": "41",
                                    "1": "Customer XIIWM",
                                    "2": "France",
                                    "3": "NULL",
                                    "4": "Toulouse"
                                },
                                {
                                    "0": "42",
                                    "1": "Customer IAIJK",
                                    "2": "Canada",
                                    "3": "BC",
                                    "4": "Vancouver"
                                },
                                {
                                    "0": "43",
                                    "1": "Customer UISOJ",
                                    "2": "USA",
                                    "3": "WA",
                                    "4": "Walla Walla"
                                },
                                {
                                    "0": "44",
                                    "1": "Customer OXFRU",
                                    "2": "Germany",
                                    "3": "NULL",
                                    "4": "Frankfurt a.M."
                                },
                                {
                                    "0": "45",
                                    "1": "Customer QXPPT",
                                    "2": "USA",
                                    "3": "CA",
                                    "4": "San Francisco"
                                },
                                {
                                    "0": "46",
                                    "1": "Customer XPNIK",
                                    "2": "Venezuela",
                                    "3": "Lara",
                                    "4": "Barquisimeto"
                                },
                                {
                                    "0": "47",
                                    "1": "Customer PSQUZ",
                                    "2": "Venezuela",
                                    "3": "Nueva Esparta",
                                    "4": "I. de Margarita"
                                },
                                {
                                    "0": "48",
                                    "1": "Customer DVFMB",
                                    "2": "USA",
                                    "3": "OR",
                                    "4": "Portland"
                                },
                                {
                                    "0": "49",
                                    "1": "Customer CQRAA",
                                    "2": "Italy",
                                    "3": "NULL",
                                    "4": "Bergamo"
                                },
                                {
                                    "0": "50",
                                    "1": "Customer JYPSC",
                                    "2": "Belgium",
                                    "3": "NULL",
                                    "4": "Bruxelles"
                                },
                                {
                                    "0": "51",
                                    "1": "Customer PVDZC",
                                    "2": "Canada",
                                    "3": "Québec",
                                    "4": "Montréal"
                                },
                                {
                                    "0": "52",
                                    "1": "Customer PZNLA",
                                    "2": "Germany",
                                    "3": "NULL",
                                    "4": "Leipzig"
                                },
                                {
                                    "0": "53",
                                    "1": "Customer GCJSG",
                                    "2": "UK",
                                    "3": "NULL",
                                    "4": "London"
                                },
                                {
                                    "0": "54",
                                    "1": "Customer TDKEG",
                                    "2": "Argentina",
                                    "3": "NULL",
                                    "4": "Buenos Aires"
                                },
                                {
                                    "0": "55",
                                    "1": "Customer KZQZT",
                                    "2": "USA",
                                    "3": "AK",
                                    "4": "Anchorage"
                                },
                                {
                                    "0": "56",
                                    "1": "Customer QNIVZ",
                                    "2": "Germany",
                                    "3": "NULL",
                                    "4": "Köln"
                                },
                                {
                                    "0": "58",
                                    "1": "Customer AHXHT",
                                    "2": "Mexico",
                                    "3": "NULL",
                                    "4": "México D.F."
                                },
                                {
                                    "0": "59",
                                    "1": "Customer LOLJO",
                                    "2": "Austria",
                                    "3": "NULL",
                                    "4": "Salzburg"
                                },
                                {
                                    "0": "60",
                                    "1": "Customer QZURI",
                                    "2": "Portugal",
                                    "3": "NULL",
                                    "4": "Lisboa"
                                },
                                {
                                    "0": "61",
                                    "1": "Customer WULWD",
                                    "2": "Brazil",
                                    "3": "RJ",
                                    "4": "Rio de Janeiro"
                                },
                                {
                                    "0": "62",
                                    "1": "Customer WFIZJ",
                                    "2": "Brazil",
                                    "3": "SP",
                                    "4": "Sao Paulo"
                                },
                                {
                                    "0": "63",
                                    "1": "Customer IRRVL",
                                    "2": "Germany",
                                    "3": "NULL",
                                    "4": "Cunewalde"
                                },
                                {
                                    "0": "64",
                                    "1": "Customer LWGMD",
                                    "2": "Argentina",
                                    "3": "NULL",
                                    "4": "Buenos Aires"
                                },
                                {
                                    "0": "65",
                                    "1": "Customer NYUHS",
                                    "2": "USA",
                                    "3": "NM",
                                    "4": "Albuquerque"
                                },
                                {
                                    "0": "66",
                                    "1": "Customer LHANT",
                                    "2": "Italy",
                                    "3": "NULL",
                                    "4": "Reggio Emilia"
                                },
                                {
                                    "0": "67",
                                    "1": "Customer QVEPD",
                                    "2": "Brazil",
                                    "3": "RJ",
                                    "4": "Rio de Janeiro"
                                },
                                {
                                    "0": "68",
                                    "1": "Customer CCKOT",
                                    "2": "Switzerland",
                                    "3": "NULL",
                                    "4": "Genève"
                                },
                                {
                                    "0": "69",
                                    "1": "Customer SIUIH",
                                    "2": "Spain",
                                    "3": "NULL",
                                    "4": "Madrid"
                                },
                                {
                                    "0": "70",
                                    "1": "Customer TMXGN",
                                    "2": "Norway",
                                    "3": "NULL",
                                    "4": "Stavern"
                                },
                                {
                                    "0": "71",
                                    "1": "Customer LCOUJ",
                                    "2": "USA",
                                    "3": "ID",
                                    "4": "Boise"
                                },
                                {
                                    "0": "72",
                                    "1": "Customer AHPOP",
                                    "2": "UK",
                                    "3": "NULL",
                                    "4": "London"
                                },
                                {
                                    "0": "73",
                                    "1": "Customer JMIKW",
                                    "2": "Denmark",
                                    "3": "NULL",
                                    "4": "Kobenhavn"
                                },
                                {
                                    "0": "74",
                                    "1": "Customer YSHXL",
                                    "2": "France",
                                    "3": "NULL",
                                    "4": "Paris"
                                },
                                {
                                    "0": "75",
                                    "1": "Customer XOJYP",
                                    "2": "USA",
                                    "3": "WY",
                                    "4": "Lander"
                                },
                                {
                                    "0": "76",
                                    "1": "Customer SFOGW",
                                    "2": "Belgium",
                                    "3": "NULL",
                                    "4": "Charleroi"
                                },
                                {
                                    "0": "77",
                                    "1": "Customer LCYBZ",
                                    "2": "USA",
                                    "3": "OR",
                                    "4": "Portland"
                                },
                                {
                                    "0": "78",
                                    "1": "Customer NLTYP",
                                    "2": "USA",
                                    "3": "MT",
                                    "4": "Butte"
                                },
                                {
                                    "0": "79",
                                    "1": "Customer FAPSM",
                                    "2": "Germany",
                                    "3": "NULL",
                                    "4": "Münster"
                                },
                                {
                                    "0": "80",
                                    "1": "Customer VONTK",
                                    "2": "Mexico",
                                    "3": "NULL",
                                    "4": "México D.F."
                                },
                                {
                                    "0": "81",
                                    "1": "Customer YQQWW",
                                    "2": "Brazil",
                                    "3": "SP",
                                    "4": "Sao Paulo"
                                },
                                {
                                    "0": "82",
                                    "1": "Customer EYHKM",
                                    "2": "USA",
                                    "3": "WA",
                                    "4": "Kirkland"
                                },
                                {
                                    "0": "83",
                                    "1": "Customer ZRNDE",
                                    "2": "Denmark",
                                    "3": "NULL",
                                    "4": "Århus"
                                },
                                {
                                    "0": "84",
                                    "1": "Customer NRCSK",
                                    "2": "France",
                                    "3": "NULL",
                                    "4": "Lyon"
                                },
                                {
                                    "0": "85",
                                    "1": "Customer ENQZT",
                                    "2": "France",
                                    "3": "NULL",
                                    "4": "Reims"
                                },
                                {
                                    "0": "86",
                                    "1": "Customer SNXOJ",
                                    "2": "Germany",
                                    "3": "NULL",
                                    "4": "Stuttgart"
                                },
                                {
                                    "0": "87",
                                    "1": "Customer ZHYOS",
                                    "2": "Finland",
                                    "3": "NULL",
                                    "4": "Oulu"
                                },
                                {
                                    "0": "88",
                                    "1": "Customer SRQVM",
                                    "2": "Brazil",
                                    "3": "SP",
                                    "4": "Resende"
                                },
                                {
                                    "0": "89",
                                    "1": "Customer YBQTI",
                                    "2": "USA",
                                    "3": "WA",
                                    "4": "Seattle"
                                },
                                {
                                    "0": "90",
                                    "1": "Customer XBBVR",
                                    "2": "Finland",
                                    "3": "NULL",
                                    "4": "Helsinki"
                                },
                                {
                                    "0": "91",
                                    "1": "Customer CCFIZ",
                                    "2": "Poland",
                                    "3": "NULL",
                                    "4": "Warszawa"
                                },
                                {
                                    "0": "100",
                                    "1": "Coho Winery",
                                    "2": "USA",
                                    "3": "WA",
                                    "4": "Redmond"
                                }
                            ]
                        },
                        "text/html": "<table><tr><th>custid</th><th>companyname</th><th>country</th><th>region</th><th>city</th></tr><tr><td>1</td><td>Customer NRZBB</td><td>Germany</td><td>NULL</td><td>Berlin</td></tr><tr><td>2</td><td>Customer MLTDN</td><td>Mexico</td><td>NULL</td><td>México D.F.</td></tr><tr><td>3</td><td>Customer KBUDE</td><td>Mexico</td><td>NULL</td><td>México D.F.</td></tr><tr><td>4</td><td>Customer HFBZG</td><td>UK</td><td>NULL</td><td>London</td></tr><tr><td>5</td><td>Customer HGVLZ</td><td>Sweden</td><td>NULL</td><td>Luleå</td></tr><tr><td>6</td><td>Customer XHXJV</td><td>Germany</td><td>NULL</td><td>Mannheim</td></tr><tr><td>7</td><td>Customer QXVLA</td><td>France</td><td>NULL</td><td>Strasbourg</td></tr><tr><td>8</td><td>Customer QUHWH</td><td>Spain</td><td>NULL</td><td>Madrid</td></tr><tr><td>9</td><td>Customer RTXGC</td><td>France</td><td>NULL</td><td>Marseille</td></tr><tr><td>10</td><td>Customer EEALV</td><td>Canada</td><td>BC</td><td>Tsawassen</td></tr><tr><td>11</td><td>Customer UBHAU</td><td>UK</td><td>NULL</td><td>London</td></tr><tr><td>12</td><td>Customer PSNMQ</td><td>Argentina</td><td>NULL</td><td>Buenos Aires</td></tr><tr><td>13</td><td>Customer VMLOG</td><td>Mexico</td><td>NULL</td><td>México D.F.</td></tr><tr><td>14</td><td>Customer WNMAF</td><td>Switzerland</td><td>NULL</td><td>Bern</td></tr><tr><td>15</td><td>Customer JUWXK</td><td>Brazil</td><td>SP</td><td>Sao Paulo</td></tr><tr><td>16</td><td>Customer GYBBY</td><td>UK</td><td>NULL</td><td>London</td></tr><tr><td>17</td><td>Customer FEVNN</td><td>Germany</td><td>NULL</td><td>Aachen</td></tr><tr><td>18</td><td>Customer BSVAR</td><td>France</td><td>NULL</td><td>Nantes</td></tr><tr><td>19</td><td>Customer RFNQC</td><td>UK</td><td>NULL</td><td>London</td></tr><tr><td>20</td><td>Customer THHDP</td><td>Austria</td><td>NULL</td><td>Graz</td></tr><tr><td>21</td><td>Customer KIDPX</td><td>Brazil</td><td>SP</td><td>Sao Paulo</td></tr><tr><td>23</td><td>Customer WVFAF</td><td>France</td><td>NULL</td><td>Lille</td></tr><tr><td>24</td><td>Customer CYZTN</td><td>Sweden</td><td>NULL</td><td>Bräcke</td></tr><tr><td>25</td><td>Customer AZJED</td><td>Germany</td><td>NULL</td><td>München</td></tr><tr><td>26</td><td>Customer USDBG</td><td>France</td><td>NULL</td><td>Nantes</td></tr><tr><td>27</td><td>Customer WMFEA</td><td>Italy</td><td>NULL</td><td>Torino</td></tr><tr><td>28</td><td>Customer XYUFB</td><td>Portugal</td><td>NULL</td><td>Lisboa</td></tr><tr><td>29</td><td>Customer MDLWA</td><td>Spain</td><td>NULL</td><td>Barcelona</td></tr><tr><td>30</td><td>Customer KSLQF</td><td>Spain</td><td>NULL</td><td>Sevilla</td></tr><tr><td>31</td><td>Customer YJCBX</td><td>Brazil</td><td>SP</td><td>Campinas</td></tr><tr><td>32</td><td>Customer YSIQX</td><td>USA</td><td>OR</td><td>Eugene</td></tr><tr><td>33</td><td>Customer FVXPQ</td><td>Venezuela</td><td>DF</td><td>Caracas</td></tr><tr><td>34</td><td>Customer IBVRG</td><td>Brazil</td><td>RJ</td><td>Rio de Janeiro</td></tr><tr><td>35</td><td>Customer UMTLM</td><td>Venezuela</td><td>Táchira</td><td>San Cristóbal</td></tr><tr><td>36</td><td>Customer LVJSO</td><td>USA</td><td>OR</td><td>Elgin</td></tr><tr><td>37</td><td>Customer FRXZL</td><td>Ireland</td><td>Co. Cork</td><td>Cork</td></tr><tr><td>38</td><td>Customer LJUCA</td><td>UK</td><td>Isle of Wight</td><td>Cowes</td></tr><tr><td>39</td><td>Customer GLLAG</td><td>Germany</td><td>NULL</td><td>Brandenburg</td></tr><tr><td>40</td><td>Customer EFFTC</td><td>France</td><td>NULL</td><td>Versailles</td></tr><tr><td>41</td><td>Customer XIIWM</td><td>France</td><td>NULL</td><td>Toulouse</td></tr><tr><td>42</td><td>Customer IAIJK</td><td>Canada</td><td>BC</td><td>Vancouver</td></tr><tr><td>43</td><td>Customer UISOJ</td><td>USA</td><td>WA</td><td>Walla Walla</td></tr><tr><td>44</td><td>Customer OXFRU</td><td>Germany</td><td>NULL</td><td>Frankfurt a.M.</td></tr><tr><td>45</td><td>Customer QXPPT</td><td>USA</td><td>CA</td><td>San Francisco</td></tr><tr><td>46</td><td>Customer XPNIK</td><td>Venezuela</td><td>Lara</td><td>Barquisimeto</td></tr><tr><td>47</td><td>Customer PSQUZ</td><td>Venezuela</td><td>Nueva Esparta</td><td>I. de Margarita</td></tr><tr><td>48</td><td>Customer DVFMB</td><td>USA</td><td>OR</td><td>Portland</td></tr><tr><td>49</td><td>Customer CQRAA</td><td>Italy</td><td>NULL</td><td>Bergamo</td></tr><tr><td>50</td><td>Customer JYPSC</td><td>Belgium</td><td>NULL</td><td>Bruxelles</td></tr><tr><td>51</td><td>Customer PVDZC</td><td>Canada</td><td>Québec</td><td>Montréal</td></tr><tr><td>52</td><td>Customer PZNLA</td><td>Germany</td><td>NULL</td><td>Leipzig</td></tr><tr><td>53</td><td>Customer GCJSG</td><td>UK</td><td>NULL</td><td>London</td></tr><tr><td>54</td><td>Customer TDKEG</td><td>Argentina</td><td>NULL</td><td>Buenos Aires</td></tr><tr><td>55</td><td>Customer KZQZT</td><td>USA</td><td>AK</td><td>Anchorage</td></tr><tr><td>56</td><td>Customer QNIVZ</td><td>Germany</td><td>NULL</td><td>Köln</td></tr><tr><td>58</td><td>Customer AHXHT</td><td>Mexico</td><td>NULL</td><td>México D.F.</td></tr><tr><td>59</td><td>Customer LOLJO</td><td>Austria</td><td>NULL</td><td>Salzburg</td></tr><tr><td>60</td><td>Customer QZURI</td><td>Portugal</td><td>NULL</td><td>Lisboa</td></tr><tr><td>61</td><td>Customer WULWD</td><td>Brazil</td><td>RJ</td><td>Rio de Janeiro</td></tr><tr><td>62</td><td>Customer WFIZJ</td><td>Brazil</td><td>SP</td><td>Sao Paulo</td></tr><tr><td>63</td><td>Customer IRRVL</td><td>Germany</td><td>NULL</td><td>Cunewalde</td></tr><tr><td>64</td><td>Customer LWGMD</td><td>Argentina</td><td>NULL</td><td>Buenos Aires</td></tr><tr><td>65</td><td>Customer NYUHS</td><td>USA</td><td>NM</td><td>Albuquerque</td></tr><tr><td>66</td><td>Customer LHANT</td><td>Italy</td><td>NULL</td><td>Reggio Emilia</td></tr><tr><td>67</td><td>Customer QVEPD</td><td>Brazil</td><td>RJ</td><td>Rio de Janeiro</td></tr><tr><td>68</td><td>Customer CCKOT</td><td>Switzerland</td><td>NULL</td><td>Genève</td></tr><tr><td>69</td><td>Customer SIUIH</td><td>Spain</td><td>NULL</td><td>Madrid</td></tr><tr><td>70</td><td>Customer TMXGN</td><td>Norway</td><td>NULL</td><td>Stavern</td></tr><tr><td>71</td><td>Customer LCOUJ</td><td>USA</td><td>ID</td><td>Boise</td></tr><tr><td>72</td><td>Customer AHPOP</td><td>UK</td><td>NULL</td><td>London</td></tr><tr><td>73</td><td>Customer JMIKW</td><td>Denmark</td><td>NULL</td><td>Kobenhavn</td></tr><tr><td>74</td><td>Customer YSHXL</td><td>France</td><td>NULL</td><td>Paris</td></tr><tr><td>75</td><td>Customer XOJYP</td><td>USA</td><td>WY</td><td>Lander</td></tr><tr><td>76</td><td>Customer SFOGW</td><td>Belgium</td><td>NULL</td><td>Charleroi</td></tr><tr><td>77</td><td>Customer LCYBZ</td><td>USA</td><td>OR</td><td>Portland</td></tr><tr><td>78</td><td>Customer NLTYP</td><td>USA</td><td>MT</td><td>Butte</td></tr><tr><td>79</td><td>Customer FAPSM</td><td>Germany</td><td>NULL</td><td>Münster</td></tr><tr><td>80</td><td>Customer VONTK</td><td>Mexico</td><td>NULL</td><td>México D.F.</td></tr><tr><td>81</td><td>Customer YQQWW</td><td>Brazil</td><td>SP</td><td>Sao Paulo</td></tr><tr><td>82</td><td>Customer EYHKM</td><td>USA</td><td>WA</td><td>Kirkland</td></tr><tr><td>83</td><td>Customer ZRNDE</td><td>Denmark</td><td>NULL</td><td>Århus</td></tr><tr><td>84</td><td>Customer NRCSK</td><td>France</td><td>NULL</td><td>Lyon</td></tr><tr><td>85</td><td>Customer ENQZT</td><td>France</td><td>NULL</td><td>Reims</td></tr><tr><td>86</td><td>Customer SNXOJ</td><td>Germany</td><td>NULL</td><td>Stuttgart</td></tr><tr><td>87</td><td>Customer ZHYOS</td><td>Finland</td><td>NULL</td><td>Oulu</td></tr><tr><td>88</td><td>Customer SRQVM</td><td>Brazil</td><td>SP</td><td>Resende</td></tr><tr><td>89</td><td>Customer YBQTI</td><td>USA</td><td>WA</td><td>Seattle</td></tr><tr><td>90</td><td>Customer XBBVR</td><td>Finland</td><td>NULL</td><td>Helsinki</td></tr><tr><td>91</td><td>Customer CCFIZ</td><td>Poland</td><td>NULL</td><td>Warszawa</td></tr><tr><td>100</td><td>Coho Winery</td><td>USA</td><td>WA</td><td>Redmond</td></tr></table>"
                    },
                    "metadata": {}
                }
            ],
            "execution_count": 31
        },
        {
            "cell_type": "markdown",
            "source": [
                "1.3. Use SELECT INTO statement to create and populate the dbo.Orders table with orders from Sales.Orders that were placed in years 2014 through 2016."
            ],
            "metadata": {
                "language": "sql",
                "azdata_cell_guid": "452f9123-805d-43a6-88e2-021d52cd32b8"
            },
            "attachments": {}
        },
        {
            "cell_type": "code",
            "source": [
                "use TSQLV4\n",
                "\n",
                "DROP TABLE IF EXISTS dbo.Orders\n",
                "\n",
                "SELECT * \n",
                "INTO dbo.Orders -- create the table and insert everything from below into it\n",
                "FROM Sales.Orders\n",
                "WHERE YEAR(orderdate) >= 2014 and YEAR(orderdate) <= 2016"
            ],
            "metadata": {
                "language": "sql",
                "azdata_cell_guid": "76e34e51-5822-4b5d-b178-210ac78b2719",
                "tags": []
            },
            "outputs": [
                {
                    "output_type": "display_data",
                    "data": {
                        "text/html": "(830 rows affected)"
                    },
                    "metadata": {}
                },
                {
                    "output_type": "display_data",
                    "data": {
                        "text/html": "Total execution time: 00:00:00.033"
                    },
                    "metadata": {}
                }
            ],
            "execution_count": 32
        },
        {
            "cell_type": "markdown",
            "source": [
                "2\\. Delete from dbo.Orders table, orders placed before August 2014. Use OUTPUT to return orderid and orderdate of the deleted orders."
            ],
            "metadata": {
                "language": "sql",
                "azdata_cell_guid": "5216abdd-9ca0-425c-8910-28a85db96365"
            },
            "attachments": {}
        },
        {
            "cell_type": "code",
            "source": [
                "use TSQLV4\n",
                "\n",
                "DELETE FROM dbo.Orders\n",
                "    OUTPUT deleted.orderid, deleted.orderdate\n",
                "WHERE orderdate < '20140801'\n",
                ""
            ],
            "metadata": {
                "language": "sql",
                "azdata_cell_guid": "e7ce755c-49e6-4779-8a87-516903964e77"
            },
            "outputs": [
                {
                    "output_type": "display_data",
                    "data": {
                        "text/html": "(22 rows affected)"
                    },
                    "metadata": {}
                },
                {
                    "output_type": "display_data",
                    "data": {
                        "text/html": "Total execution time: 00:00:00.023"
                    },
                    "metadata": {}
                },
                {
                    "output_type": "execute_result",
                    "execution_count": 33,
                    "data": {
                        "application/vnd.dataresource+json": {
                            "schema": {
                                "fields": [
                                    {
                                        "name": "orderid"
                                    },
                                    {
                                        "name": "orderdate"
                                    }
                                ]
                            },
                            "data": [
                                {
                                    "0": "10248",
                                    "1": "2014-07-04"
                                },
                                {
                                    "0": "10249",
                                    "1": "2014-07-05"
                                },
                                {
                                    "0": "10250",
                                    "1": "2014-07-08"
                                },
                                {
                                    "0": "10251",
                                    "1": "2014-07-08"
                                },
                                {
                                    "0": "10252",
                                    "1": "2014-07-09"
                                },
                                {
                                    "0": "10253",
                                    "1": "2014-07-10"
                                },
                                {
                                    "0": "10254",
                                    "1": "2014-07-11"
                                },
                                {
                                    "0": "10255",
                                    "1": "2014-07-12"
                                },
                                {
                                    "0": "10256",
                                    "1": "2014-07-15"
                                },
                                {
                                    "0": "10257",
                                    "1": "2014-07-16"
                                },
                                {
                                    "0": "10258",
                                    "1": "2014-07-17"
                                },
                                {
                                    "0": "10259",
                                    "1": "2014-07-18"
                                },
                                {
                                    "0": "10260",
                                    "1": "2014-07-19"
                                },
                                {
                                    "0": "10261",
                                    "1": "2014-07-19"
                                },
                                {
                                    "0": "10262",
                                    "1": "2014-07-22"
                                },
                                {
                                    "0": "10263",
                                    "1": "2014-07-23"
                                },
                                {
                                    "0": "10264",
                                    "1": "2014-07-24"
                                },
                                {
                                    "0": "10265",
                                    "1": "2014-07-25"
                                },
                                {
                                    "0": "10266",
                                    "1": "2014-07-26"
                                },
                                {
                                    "0": "10267",
                                    "1": "2014-07-29"
                                },
                                {
                                    "0": "10268",
                                    "1": "2014-07-30"
                                },
                                {
                                    "0": "10269",
                                    "1": "2014-07-31"
                                }
                            ]
                        },
                        "text/html": "<table><tr><th>orderid</th><th>orderdate</th></tr><tr><td>10248</td><td>2014-07-04</td></tr><tr><td>10249</td><td>2014-07-05</td></tr><tr><td>10250</td><td>2014-07-08</td></tr><tr><td>10251</td><td>2014-07-08</td></tr><tr><td>10252</td><td>2014-07-09</td></tr><tr><td>10253</td><td>2014-07-10</td></tr><tr><td>10254</td><td>2014-07-11</td></tr><tr><td>10255</td><td>2014-07-12</td></tr><tr><td>10256</td><td>2014-07-15</td></tr><tr><td>10257</td><td>2014-07-16</td></tr><tr><td>10258</td><td>2014-07-17</td></tr><tr><td>10259</td><td>2014-07-18</td></tr><tr><td>10260</td><td>2014-07-19</td></tr><tr><td>10261</td><td>2014-07-19</td></tr><tr><td>10262</td><td>2014-07-22</td></tr><tr><td>10263</td><td>2014-07-23</td></tr><tr><td>10264</td><td>2014-07-24</td></tr><tr><td>10265</td><td>2014-07-25</td></tr><tr><td>10266</td><td>2014-07-26</td></tr><tr><td>10267</td><td>2014-07-29</td></tr><tr><td>10268</td><td>2014-07-30</td></tr><tr><td>10269</td><td>2014-07-31</td></tr></table>"
                    },
                    "metadata": {}
                }
            ],
            "execution_count": 33
        },
        {
            "cell_type": "markdown",
            "source": [
                "3\\. Delete from dbo.Orders table, orders placed by customers from Brazil."
            ],
            "metadata": {
                "language": "sql",
                "azdata_cell_guid": "b303fa65-e918-4914-afd4-bf86356b6597"
            },
            "attachments": {}
        },
        {
            "cell_type": "code",
            "source": [
                "use TSQLV4\n",
                "\n",
                "DELETE FROM dbo.Orders\n",
                "    OUTPUT deleted.custid\n",
                "WHERE shipcountry = N'Brazil'\n",
                "\n",
                "-- previously did a inner join with Customers, but found\n",
                "-- shipcountry stated the customers country already"
            ],
            "metadata": {
                "language": "sql",
                "azdata_cell_guid": "7f9914ad-92d4-4137-aa37-9c5149cd0d19"
            },
            "outputs": [
                {
                    "output_type": "display_data",
                    "data": {
                        "text/html": "(79 rows affected)"
                    },
                    "metadata": {}
                },
                {
                    "output_type": "display_data",
                    "data": {
                        "text/html": "Total execution time: 00:00:00.028"
                    },
                    "metadata": {}
                },
                {
                    "output_type": "execute_result",
                    "execution_count": 34,
                    "data": {
                        "application/vnd.dataresource+json": {
                            "schema": {
                                "fields": [
                                    {
                                        "name": "custid"
                                    }
                                ]
                            },
                            "data": [
                                {
                                    "0": "67"
                                },
                                {
                                    "0": "15"
                                },
                                {
                                    "0": "61"
                                },
                                {
                                    "0": "81"
                                },
                                {
                                    "0": "67"
                                },
                                {
                                    "0": "21"
                                },
                                {
                                    "0": "62"
                                },
                                {
                                    "0": "61"
                                },
                                {
                                    "0": "21"
                                },
                                {
                                    "0": "62"
                                },
                                {
                                    "0": "21"
                                },
                                {
                                    "0": "88"
                                },
                                {
                                    "0": "61"
                                },
                                {
                                    "0": "31"
                                },
                                {
                                    "0": "67"
                                },
                                {
                                    "0": "15"
                                },
                                {
                                    "0": "67"
                                },
                                {
                                    "0": "62"
                                },
                                {
                                    "0": "15"
                                },
                                {
                                    "0": "81"
                                },
                                {
                                    "0": "21"
                                },
                                {
                                    "0": "34"
                                },
                                {
                                    "0": "67"
                                },
                                {
                                    "0": "21"
                                },
                                {
                                    "0": "88"
                                },
                                {
                                    "0": "61"
                                },
                                {
                                    "0": "81"
                                },
                                {
                                    "0": "67"
                                },
                                {
                                    "0": "62"
                                },
                                {
                                    "0": "88"
                                },
                                {
                                    "0": "34"
                                },
                                {
                                    "0": "61"
                                },
                                {
                                    "0": "67"
                                },
                                {
                                    "0": "21"
                                },
                                {
                                    "0": "31"
                                },
                                {
                                    "0": "62"
                                },
                                {
                                    "0": "31"
                                },
                                {
                                    "0": "34"
                                },
                                {
                                    "0": "62"
                                },
                                {
                                    "0": "31"
                                },
                                {
                                    "0": "61"
                                },
                                {
                                    "0": "21"
                                },
                                {
                                    "0": "62"
                                },
                                {
                                    "0": "31"
                                },
                                {
                                    "0": "34"
                                },
                                {
                                    "0": "31"
                                },
                                {
                                    "0": "34"
                                },
                                {
                                    "0": "62"
                                },
                                {
                                    "0": "31"
                                },
                                {
                                    "0": "61"
                                },
                                {
                                    "0": "88"
                                },
                                {
                                    "0": "88"
                                },
                                {
                                    "0": "67"
                                },
                                {
                                    "0": "81"
                                },
                                {
                                    "0": "81"
                                },
                                {
                                    "0": "81"
                                },
                                {
                                    "0": "67"
                                },
                                {
                                    "0": "62"
                                },
                                {
                                    "0": "67"
                                },
                                {
                                    "0": "34"
                                },
                                {
                                    "0": "88"
                                },
                                {
                                    "0": "34"
                                },
                                {
                                    "0": "88"
                                },
                                {
                                    "0": "62"
                                },
                                {
                                    "0": "62"
                                },
                                {
                                    "0": "34"
                                },
                                {
                                    "0": "34"
                                },
                                {
                                    "0": "88"
                                },
                                {
                                    "0": "31"
                                },
                                {
                                    "0": "62"
                                },
                                {
                                    "0": "15"
                                },
                                {
                                    "0": "34"
                                },
                                {
                                    "0": "61"
                                },
                                {
                                    "0": "34"
                                },
                                {
                                    "0": "15"
                                },
                                {
                                    "0": "31"
                                },
                                {
                                    "0": "34"
                                },
                                {
                                    "0": "67"
                                },
                                {
                                    "0": "62"
                                }
                            ]
                        },
                        "text/html": "<table><tr><th>custid</th></tr><tr><td>67</td></tr><tr><td>15</td></tr><tr><td>61</td></tr><tr><td>81</td></tr><tr><td>67</td></tr><tr><td>21</td></tr><tr><td>62</td></tr><tr><td>61</td></tr><tr><td>21</td></tr><tr><td>62</td></tr><tr><td>21</td></tr><tr><td>88</td></tr><tr><td>61</td></tr><tr><td>31</td></tr><tr><td>67</td></tr><tr><td>15</td></tr><tr><td>67</td></tr><tr><td>62</td></tr><tr><td>15</td></tr><tr><td>81</td></tr><tr><td>21</td></tr><tr><td>34</td></tr><tr><td>67</td></tr><tr><td>21</td></tr><tr><td>88</td></tr><tr><td>61</td></tr><tr><td>81</td></tr><tr><td>67</td></tr><tr><td>62</td></tr><tr><td>88</td></tr><tr><td>34</td></tr><tr><td>61</td></tr><tr><td>67</td></tr><tr><td>21</td></tr><tr><td>31</td></tr><tr><td>62</td></tr><tr><td>31</td></tr><tr><td>34</td></tr><tr><td>62</td></tr><tr><td>31</td></tr><tr><td>61</td></tr><tr><td>21</td></tr><tr><td>62</td></tr><tr><td>31</td></tr><tr><td>34</td></tr><tr><td>31</td></tr><tr><td>34</td></tr><tr><td>62</td></tr><tr><td>31</td></tr><tr><td>61</td></tr><tr><td>88</td></tr><tr><td>88</td></tr><tr><td>67</td></tr><tr><td>81</td></tr><tr><td>81</td></tr><tr><td>81</td></tr><tr><td>67</td></tr><tr><td>62</td></tr><tr><td>67</td></tr><tr><td>34</td></tr><tr><td>88</td></tr><tr><td>34</td></tr><tr><td>88</td></tr><tr><td>62</td></tr><tr><td>62</td></tr><tr><td>34</td></tr><tr><td>34</td></tr><tr><td>88</td></tr><tr><td>31</td></tr><tr><td>62</td></tr><tr><td>15</td></tr><tr><td>34</td></tr><tr><td>61</td></tr><tr><td>34</td></tr><tr><td>15</td></tr><tr><td>31</td></tr><tr><td>34</td></tr><tr><td>67</td></tr><tr><td>62</td></tr></table>"
                    },
                    "metadata": {}
                }
            ],
            "execution_count": 34
        },
        {
            "cell_type": "markdown",
            "source": [
                "4\\. Run query, notice how some regions are NULL. Update dbo.Customers and change all NULL region values to '\\<None\\>'. Use OUTPUT to show custid, old region and new region."
            ],
            "metadata": {
                "language": "sql",
                "azdata_cell_guid": "66fd4fb9-923b-4af9-b13d-feef960909fb"
            },
            "attachments": {}
        },
        {
            "cell_type": "code",
            "source": [
                "use TSQLV4\n",
                "\n",
                "SELECT * FROM dbo.Customers;\n",
                "\n",
                "UPDATE dbo.Customers\n",
                "    SET region = N'<None>'\n",
                "OUTPUT inserted.custid as custid, \n",
                "    deleted.region as oldregion,\n",
                "    inserted.region as newregion\n",
                "WHERE region IS NULL"
            ],
            "metadata": {
                "language": "sql",
                "azdata_cell_guid": "36e97643-12d4-4856-9c3a-1d241de872d6",
                "tags": []
            },
            "outputs": [
                {
                    "output_type": "display_data",
                    "data": {
                        "text/html": "(90 rows affected)"
                    },
                    "metadata": {}
                },
                {
                    "output_type": "display_data",
                    "data": {
                        "text/html": "(58 rows affected)"
                    },
                    "metadata": {}
                },
                {
                    "output_type": "display_data",
                    "data": {
                        "text/html": "Total execution time: 00:00:00.073"
                    },
                    "metadata": {}
                },
                {
                    "output_type": "execute_result",
                    "execution_count": 35,
                    "data": {
                        "application/vnd.dataresource+json": {
                            "schema": {
                                "fields": [
                                    {
                                        "name": "custid"
                                    },
                                    {
                                        "name": "companyname"
                                    },
                                    {
                                        "name": "country"
                                    },
                                    {
                                        "name": "region"
                                    },
                                    {
                                        "name": "city"
                                    }
                                ]
                            },
                            "data": [
                                {
                                    "0": "1",
                                    "1": "Customer NRZBB",
                                    "2": "Germany",
                                    "3": "NULL",
                                    "4": "Berlin"
                                },
                                {
                                    "0": "2",
                                    "1": "Customer MLTDN",
                                    "2": "Mexico",
                                    "3": "NULL",
                                    "4": "México D.F."
                                },
                                {
                                    "0": "3",
                                    "1": "Customer KBUDE",
                                    "2": "Mexico",
                                    "3": "NULL",
                                    "4": "México D.F."
                                },
                                {
                                    "0": "4",
                                    "1": "Customer HFBZG",
                                    "2": "UK",
                                    "3": "NULL",
                                    "4": "London"
                                },
                                {
                                    "0": "5",
                                    "1": "Customer HGVLZ",
                                    "2": "Sweden",
                                    "3": "NULL",
                                    "4": "Luleå"
                                },
                                {
                                    "0": "6",
                                    "1": "Customer XHXJV",
                                    "2": "Germany",
                                    "3": "NULL",
                                    "4": "Mannheim"
                                },
                                {
                                    "0": "7",
                                    "1": "Customer QXVLA",
                                    "2": "France",
                                    "3": "NULL",
                                    "4": "Strasbourg"
                                },
                                {
                                    "0": "8",
                                    "1": "Customer QUHWH",
                                    "2": "Spain",
                                    "3": "NULL",
                                    "4": "Madrid"
                                },
                                {
                                    "0": "9",
                                    "1": "Customer RTXGC",
                                    "2": "France",
                                    "3": "NULL",
                                    "4": "Marseille"
                                },
                                {
                                    "0": "10",
                                    "1": "Customer EEALV",
                                    "2": "Canada",
                                    "3": "BC",
                                    "4": "Tsawassen"
                                },
                                {
                                    "0": "11",
                                    "1": "Customer UBHAU",
                                    "2": "UK",
                                    "3": "NULL",
                                    "4": "London"
                                },
                                {
                                    "0": "12",
                                    "1": "Customer PSNMQ",
                                    "2": "Argentina",
                                    "3": "NULL",
                                    "4": "Buenos Aires"
                                },
                                {
                                    "0": "13",
                                    "1": "Customer VMLOG",
                                    "2": "Mexico",
                                    "3": "NULL",
                                    "4": "México D.F."
                                },
                                {
                                    "0": "14",
                                    "1": "Customer WNMAF",
                                    "2": "Switzerland",
                                    "3": "NULL",
                                    "4": "Bern"
                                },
                                {
                                    "0": "15",
                                    "1": "Customer JUWXK",
                                    "2": "Brazil",
                                    "3": "SP",
                                    "4": "Sao Paulo"
                                },
                                {
                                    "0": "16",
                                    "1": "Customer GYBBY",
                                    "2": "UK",
                                    "3": "NULL",
                                    "4": "London"
                                },
                                {
                                    "0": "17",
                                    "1": "Customer FEVNN",
                                    "2": "Germany",
                                    "3": "NULL",
                                    "4": "Aachen"
                                },
                                {
                                    "0": "18",
                                    "1": "Customer BSVAR",
                                    "2": "France",
                                    "3": "NULL",
                                    "4": "Nantes"
                                },
                                {
                                    "0": "19",
                                    "1": "Customer RFNQC",
                                    "2": "UK",
                                    "3": "NULL",
                                    "4": "London"
                                },
                                {
                                    "0": "20",
                                    "1": "Customer THHDP",
                                    "2": "Austria",
                                    "3": "NULL",
                                    "4": "Graz"
                                },
                                {
                                    "0": "21",
                                    "1": "Customer KIDPX",
                                    "2": "Brazil",
                                    "3": "SP",
                                    "4": "Sao Paulo"
                                },
                                {
                                    "0": "23",
                                    "1": "Customer WVFAF",
                                    "2": "France",
                                    "3": "NULL",
                                    "4": "Lille"
                                },
                                {
                                    "0": "24",
                                    "1": "Customer CYZTN",
                                    "2": "Sweden",
                                    "3": "NULL",
                                    "4": "Bräcke"
                                },
                                {
                                    "0": "25",
                                    "1": "Customer AZJED",
                                    "2": "Germany",
                                    "3": "NULL",
                                    "4": "München"
                                },
                                {
                                    "0": "26",
                                    "1": "Customer USDBG",
                                    "2": "France",
                                    "3": "NULL",
                                    "4": "Nantes"
                                },
                                {
                                    "0": "27",
                                    "1": "Customer WMFEA",
                                    "2": "Italy",
                                    "3": "NULL",
                                    "4": "Torino"
                                },
                                {
                                    "0": "28",
                                    "1": "Customer XYUFB",
                                    "2": "Portugal",
                                    "3": "NULL",
                                    "4": "Lisboa"
                                },
                                {
                                    "0": "29",
                                    "1": "Customer MDLWA",
                                    "2": "Spain",
                                    "3": "NULL",
                                    "4": "Barcelona"
                                },
                                {
                                    "0": "30",
                                    "1": "Customer KSLQF",
                                    "2": "Spain",
                                    "3": "NULL",
                                    "4": "Sevilla"
                                },
                                {
                                    "0": "31",
                                    "1": "Customer YJCBX",
                                    "2": "Brazil",
                                    "3": "SP",
                                    "4": "Campinas"
                                },
                                {
                                    "0": "32",
                                    "1": "Customer YSIQX",
                                    "2": "USA",
                                    "3": "OR",
                                    "4": "Eugene"
                                },
                                {
                                    "0": "33",
                                    "1": "Customer FVXPQ",
                                    "2": "Venezuela",
                                    "3": "DF",
                                    "4": "Caracas"
                                },
                                {
                                    "0": "34",
                                    "1": "Customer IBVRG",
                                    "2": "Brazil",
                                    "3": "RJ",
                                    "4": "Rio de Janeiro"
                                },
                                {
                                    "0": "35",
                                    "1": "Customer UMTLM",
                                    "2": "Venezuela",
                                    "3": "Táchira",
                                    "4": "San Cristóbal"
                                },
                                {
                                    "0": "36",
                                    "1": "Customer LVJSO",
                                    "2": "USA",
                                    "3": "OR",
                                    "4": "Elgin"
                                },
                                {
                                    "0": "37",
                                    "1": "Customer FRXZL",
                                    "2": "Ireland",
                                    "3": "Co. Cork",
                                    "4": "Cork"
                                },
                                {
                                    "0": "38",
                                    "1": "Customer LJUCA",
                                    "2": "UK",
                                    "3": "Isle of Wight",
                                    "4": "Cowes"
                                },
                                {
                                    "0": "39",
                                    "1": "Customer GLLAG",
                                    "2": "Germany",
                                    "3": "NULL",
                                    "4": "Brandenburg"
                                },
                                {
                                    "0": "40",
                                    "1": "Customer EFFTC",
                                    "2": "France",
                                    "3": "NULL",
                                    "4": "Versailles"
                                },
                                {
                                    "0": "41",
                                    "1": "Customer XIIWM",
                                    "2": "France",
                                    "3": "NULL",
                                    "4": "Toulouse"
                                },
                                {
                                    "0": "42",
                                    "1": "Customer IAIJK",
                                    "2": "Canada",
                                    "3": "BC",
                                    "4": "Vancouver"
                                },
                                {
                                    "0": "43",
                                    "1": "Customer UISOJ",
                                    "2": "USA",
                                    "3": "WA",
                                    "4": "Walla Walla"
                                },
                                {
                                    "0": "44",
                                    "1": "Customer OXFRU",
                                    "2": "Germany",
                                    "3": "NULL",
                                    "4": "Frankfurt a.M."
                                },
                                {
                                    "0": "45",
                                    "1": "Customer QXPPT",
                                    "2": "USA",
                                    "3": "CA",
                                    "4": "San Francisco"
                                },
                                {
                                    "0": "46",
                                    "1": "Customer XPNIK",
                                    "2": "Venezuela",
                                    "3": "Lara",
                                    "4": "Barquisimeto"
                                },
                                {
                                    "0": "47",
                                    "1": "Customer PSQUZ",
                                    "2": "Venezuela",
                                    "3": "Nueva Esparta",
                                    "4": "I. de Margarita"
                                },
                                {
                                    "0": "48",
                                    "1": "Customer DVFMB",
                                    "2": "USA",
                                    "3": "OR",
                                    "4": "Portland"
                                },
                                {
                                    "0": "49",
                                    "1": "Customer CQRAA",
                                    "2": "Italy",
                                    "3": "NULL",
                                    "4": "Bergamo"
                                },
                                {
                                    "0": "50",
                                    "1": "Customer JYPSC",
                                    "2": "Belgium",
                                    "3": "NULL",
                                    "4": "Bruxelles"
                                },
                                {
                                    "0": "51",
                                    "1": "Customer PVDZC",
                                    "2": "Canada",
                                    "3": "Québec",
                                    "4": "Montréal"
                                },
                                {
                                    "0": "52",
                                    "1": "Customer PZNLA",
                                    "2": "Germany",
                                    "3": "NULL",
                                    "4": "Leipzig"
                                },
                                {
                                    "0": "53",
                                    "1": "Customer GCJSG",
                                    "2": "UK",
                                    "3": "NULL",
                                    "4": "London"
                                },
                                {
                                    "0": "54",
                                    "1": "Customer TDKEG",
                                    "2": "Argentina",
                                    "3": "NULL",
                                    "4": "Buenos Aires"
                                },
                                {
                                    "0": "55",
                                    "1": "Customer KZQZT",
                                    "2": "USA",
                                    "3": "AK",
                                    "4": "Anchorage"
                                },
                                {
                                    "0": "56",
                                    "1": "Customer QNIVZ",
                                    "2": "Germany",
                                    "3": "NULL",
                                    "4": "Köln"
                                },
                                {
                                    "0": "58",
                                    "1": "Customer AHXHT",
                                    "2": "Mexico",
                                    "3": "NULL",
                                    "4": "México D.F."
                                },
                                {
                                    "0": "59",
                                    "1": "Customer LOLJO",
                                    "2": "Austria",
                                    "3": "NULL",
                                    "4": "Salzburg"
                                },
                                {
                                    "0": "60",
                                    "1": "Customer QZURI",
                                    "2": "Portugal",
                                    "3": "NULL",
                                    "4": "Lisboa"
                                },
                                {
                                    "0": "61",
                                    "1": "Customer WULWD",
                                    "2": "Brazil",
                                    "3": "RJ",
                                    "4": "Rio de Janeiro"
                                },
                                {
                                    "0": "62",
                                    "1": "Customer WFIZJ",
                                    "2": "Brazil",
                                    "3": "SP",
                                    "4": "Sao Paulo"
                                },
                                {
                                    "0": "63",
                                    "1": "Customer IRRVL",
                                    "2": "Germany",
                                    "3": "NULL",
                                    "4": "Cunewalde"
                                },
                                {
                                    "0": "64",
                                    "1": "Customer LWGMD",
                                    "2": "Argentina",
                                    "3": "NULL",
                                    "4": "Buenos Aires"
                                },
                                {
                                    "0": "65",
                                    "1": "Customer NYUHS",
                                    "2": "USA",
                                    "3": "NM",
                                    "4": "Albuquerque"
                                },
                                {
                                    "0": "66",
                                    "1": "Customer LHANT",
                                    "2": "Italy",
                                    "3": "NULL",
                                    "4": "Reggio Emilia"
                                },
                                {
                                    "0": "67",
                                    "1": "Customer QVEPD",
                                    "2": "Brazil",
                                    "3": "RJ",
                                    "4": "Rio de Janeiro"
                                },
                                {
                                    "0": "68",
                                    "1": "Customer CCKOT",
                                    "2": "Switzerland",
                                    "3": "NULL",
                                    "4": "Genève"
                                },
                                {
                                    "0": "69",
                                    "1": "Customer SIUIH",
                                    "2": "Spain",
                                    "3": "NULL",
                                    "4": "Madrid"
                                },
                                {
                                    "0": "70",
                                    "1": "Customer TMXGN",
                                    "2": "Norway",
                                    "3": "NULL",
                                    "4": "Stavern"
                                },
                                {
                                    "0": "71",
                                    "1": "Customer LCOUJ",
                                    "2": "USA",
                                    "3": "ID",
                                    "4": "Boise"
                                },
                                {
                                    "0": "72",
                                    "1": "Customer AHPOP",
                                    "2": "UK",
                                    "3": "NULL",
                                    "4": "London"
                                },
                                {
                                    "0": "73",
                                    "1": "Customer JMIKW",
                                    "2": "Denmark",
                                    "3": "NULL",
                                    "4": "Kobenhavn"
                                },
                                {
                                    "0": "74",
                                    "1": "Customer YSHXL",
                                    "2": "France",
                                    "3": "NULL",
                                    "4": "Paris"
                                },
                                {
                                    "0": "75",
                                    "1": "Customer XOJYP",
                                    "2": "USA",
                                    "3": "WY",
                                    "4": "Lander"
                                },
                                {
                                    "0": "76",
                                    "1": "Customer SFOGW",
                                    "2": "Belgium",
                                    "3": "NULL",
                                    "4": "Charleroi"
                                },
                                {
                                    "0": "77",
                                    "1": "Customer LCYBZ",
                                    "2": "USA",
                                    "3": "OR",
                                    "4": "Portland"
                                },
                                {
                                    "0": "78",
                                    "1": "Customer NLTYP",
                                    "2": "USA",
                                    "3": "MT",
                                    "4": "Butte"
                                },
                                {
                                    "0": "79",
                                    "1": "Customer FAPSM",
                                    "2": "Germany",
                                    "3": "NULL",
                                    "4": "Münster"
                                },
                                {
                                    "0": "80",
                                    "1": "Customer VONTK",
                                    "2": "Mexico",
                                    "3": "NULL",
                                    "4": "México D.F."
                                },
                                {
                                    "0": "81",
                                    "1": "Customer YQQWW",
                                    "2": "Brazil",
                                    "3": "SP",
                                    "4": "Sao Paulo"
                                },
                                {
                                    "0": "82",
                                    "1": "Customer EYHKM",
                                    "2": "USA",
                                    "3": "WA",
                                    "4": "Kirkland"
                                },
                                {
                                    "0": "83",
                                    "1": "Customer ZRNDE",
                                    "2": "Denmark",
                                    "3": "NULL",
                                    "4": "Århus"
                                },
                                {
                                    "0": "84",
                                    "1": "Customer NRCSK",
                                    "2": "France",
                                    "3": "NULL",
                                    "4": "Lyon"
                                },
                                {
                                    "0": "85",
                                    "1": "Customer ENQZT",
                                    "2": "France",
                                    "3": "NULL",
                                    "4": "Reims"
                                },
                                {
                                    "0": "86",
                                    "1": "Customer SNXOJ",
                                    "2": "Germany",
                                    "3": "NULL",
                                    "4": "Stuttgart"
                                },
                                {
                                    "0": "87",
                                    "1": "Customer ZHYOS",
                                    "2": "Finland",
                                    "3": "NULL",
                                    "4": "Oulu"
                                },
                                {
                                    "0": "88",
                                    "1": "Customer SRQVM",
                                    "2": "Brazil",
                                    "3": "SP",
                                    "4": "Resende"
                                },
                                {
                                    "0": "89",
                                    "1": "Customer YBQTI",
                                    "2": "USA",
                                    "3": "WA",
                                    "4": "Seattle"
                                },
                                {
                                    "0": "90",
                                    "1": "Customer XBBVR",
                                    "2": "Finland",
                                    "3": "NULL",
                                    "4": "Helsinki"
                                },
                                {
                                    "0": "91",
                                    "1": "Customer CCFIZ",
                                    "2": "Poland",
                                    "3": "NULL",
                                    "4": "Warszawa"
                                },
                                {
                                    "0": "100",
                                    "1": "Coho Winery",
                                    "2": "USA",
                                    "3": "WA",
                                    "4": "Redmond"
                                }
                            ]
                        },
                        "text/html": "<table><tr><th>custid</th><th>companyname</th><th>country</th><th>region</th><th>city</th></tr><tr><td>1</td><td>Customer NRZBB</td><td>Germany</td><td>NULL</td><td>Berlin</td></tr><tr><td>2</td><td>Customer MLTDN</td><td>Mexico</td><td>NULL</td><td>México D.F.</td></tr><tr><td>3</td><td>Customer KBUDE</td><td>Mexico</td><td>NULL</td><td>México D.F.</td></tr><tr><td>4</td><td>Customer HFBZG</td><td>UK</td><td>NULL</td><td>London</td></tr><tr><td>5</td><td>Customer HGVLZ</td><td>Sweden</td><td>NULL</td><td>Luleå</td></tr><tr><td>6</td><td>Customer XHXJV</td><td>Germany</td><td>NULL</td><td>Mannheim</td></tr><tr><td>7</td><td>Customer QXVLA</td><td>France</td><td>NULL</td><td>Strasbourg</td></tr><tr><td>8</td><td>Customer QUHWH</td><td>Spain</td><td>NULL</td><td>Madrid</td></tr><tr><td>9</td><td>Customer RTXGC</td><td>France</td><td>NULL</td><td>Marseille</td></tr><tr><td>10</td><td>Customer EEALV</td><td>Canada</td><td>BC</td><td>Tsawassen</td></tr><tr><td>11</td><td>Customer UBHAU</td><td>UK</td><td>NULL</td><td>London</td></tr><tr><td>12</td><td>Customer PSNMQ</td><td>Argentina</td><td>NULL</td><td>Buenos Aires</td></tr><tr><td>13</td><td>Customer VMLOG</td><td>Mexico</td><td>NULL</td><td>México D.F.</td></tr><tr><td>14</td><td>Customer WNMAF</td><td>Switzerland</td><td>NULL</td><td>Bern</td></tr><tr><td>15</td><td>Customer JUWXK</td><td>Brazil</td><td>SP</td><td>Sao Paulo</td></tr><tr><td>16</td><td>Customer GYBBY</td><td>UK</td><td>NULL</td><td>London</td></tr><tr><td>17</td><td>Customer FEVNN</td><td>Germany</td><td>NULL</td><td>Aachen</td></tr><tr><td>18</td><td>Customer BSVAR</td><td>France</td><td>NULL</td><td>Nantes</td></tr><tr><td>19</td><td>Customer RFNQC</td><td>UK</td><td>NULL</td><td>London</td></tr><tr><td>20</td><td>Customer THHDP</td><td>Austria</td><td>NULL</td><td>Graz</td></tr><tr><td>21</td><td>Customer KIDPX</td><td>Brazil</td><td>SP</td><td>Sao Paulo</td></tr><tr><td>23</td><td>Customer WVFAF</td><td>France</td><td>NULL</td><td>Lille</td></tr><tr><td>24</td><td>Customer CYZTN</td><td>Sweden</td><td>NULL</td><td>Bräcke</td></tr><tr><td>25</td><td>Customer AZJED</td><td>Germany</td><td>NULL</td><td>München</td></tr><tr><td>26</td><td>Customer USDBG</td><td>France</td><td>NULL</td><td>Nantes</td></tr><tr><td>27</td><td>Customer WMFEA</td><td>Italy</td><td>NULL</td><td>Torino</td></tr><tr><td>28</td><td>Customer XYUFB</td><td>Portugal</td><td>NULL</td><td>Lisboa</td></tr><tr><td>29</td><td>Customer MDLWA</td><td>Spain</td><td>NULL</td><td>Barcelona</td></tr><tr><td>30</td><td>Customer KSLQF</td><td>Spain</td><td>NULL</td><td>Sevilla</td></tr><tr><td>31</td><td>Customer YJCBX</td><td>Brazil</td><td>SP</td><td>Campinas</td></tr><tr><td>32</td><td>Customer YSIQX</td><td>USA</td><td>OR</td><td>Eugene</td></tr><tr><td>33</td><td>Customer FVXPQ</td><td>Venezuela</td><td>DF</td><td>Caracas</td></tr><tr><td>34</td><td>Customer IBVRG</td><td>Brazil</td><td>RJ</td><td>Rio de Janeiro</td></tr><tr><td>35</td><td>Customer UMTLM</td><td>Venezuela</td><td>Táchira</td><td>San Cristóbal</td></tr><tr><td>36</td><td>Customer LVJSO</td><td>USA</td><td>OR</td><td>Elgin</td></tr><tr><td>37</td><td>Customer FRXZL</td><td>Ireland</td><td>Co. Cork</td><td>Cork</td></tr><tr><td>38</td><td>Customer LJUCA</td><td>UK</td><td>Isle of Wight</td><td>Cowes</td></tr><tr><td>39</td><td>Customer GLLAG</td><td>Germany</td><td>NULL</td><td>Brandenburg</td></tr><tr><td>40</td><td>Customer EFFTC</td><td>France</td><td>NULL</td><td>Versailles</td></tr><tr><td>41</td><td>Customer XIIWM</td><td>France</td><td>NULL</td><td>Toulouse</td></tr><tr><td>42</td><td>Customer IAIJK</td><td>Canada</td><td>BC</td><td>Vancouver</td></tr><tr><td>43</td><td>Customer UISOJ</td><td>USA</td><td>WA</td><td>Walla Walla</td></tr><tr><td>44</td><td>Customer OXFRU</td><td>Germany</td><td>NULL</td><td>Frankfurt a.M.</td></tr><tr><td>45</td><td>Customer QXPPT</td><td>USA</td><td>CA</td><td>San Francisco</td></tr><tr><td>46</td><td>Customer XPNIK</td><td>Venezuela</td><td>Lara</td><td>Barquisimeto</td></tr><tr><td>47</td><td>Customer PSQUZ</td><td>Venezuela</td><td>Nueva Esparta</td><td>I. de Margarita</td></tr><tr><td>48</td><td>Customer DVFMB</td><td>USA</td><td>OR</td><td>Portland</td></tr><tr><td>49</td><td>Customer CQRAA</td><td>Italy</td><td>NULL</td><td>Bergamo</td></tr><tr><td>50</td><td>Customer JYPSC</td><td>Belgium</td><td>NULL</td><td>Bruxelles</td></tr><tr><td>51</td><td>Customer PVDZC</td><td>Canada</td><td>Québec</td><td>Montréal</td></tr><tr><td>52</td><td>Customer PZNLA</td><td>Germany</td><td>NULL</td><td>Leipzig</td></tr><tr><td>53</td><td>Customer GCJSG</td><td>UK</td><td>NULL</td><td>London</td></tr><tr><td>54</td><td>Customer TDKEG</td><td>Argentina</td><td>NULL</td><td>Buenos Aires</td></tr><tr><td>55</td><td>Customer KZQZT</td><td>USA</td><td>AK</td><td>Anchorage</td></tr><tr><td>56</td><td>Customer QNIVZ</td><td>Germany</td><td>NULL</td><td>Köln</td></tr><tr><td>58</td><td>Customer AHXHT</td><td>Mexico</td><td>NULL</td><td>México D.F.</td></tr><tr><td>59</td><td>Customer LOLJO</td><td>Austria</td><td>NULL</td><td>Salzburg</td></tr><tr><td>60</td><td>Customer QZURI</td><td>Portugal</td><td>NULL</td><td>Lisboa</td></tr><tr><td>61</td><td>Customer WULWD</td><td>Brazil</td><td>RJ</td><td>Rio de Janeiro</td></tr><tr><td>62</td><td>Customer WFIZJ</td><td>Brazil</td><td>SP</td><td>Sao Paulo</td></tr><tr><td>63</td><td>Customer IRRVL</td><td>Germany</td><td>NULL</td><td>Cunewalde</td></tr><tr><td>64</td><td>Customer LWGMD</td><td>Argentina</td><td>NULL</td><td>Buenos Aires</td></tr><tr><td>65</td><td>Customer NYUHS</td><td>USA</td><td>NM</td><td>Albuquerque</td></tr><tr><td>66</td><td>Customer LHANT</td><td>Italy</td><td>NULL</td><td>Reggio Emilia</td></tr><tr><td>67</td><td>Customer QVEPD</td><td>Brazil</td><td>RJ</td><td>Rio de Janeiro</td></tr><tr><td>68</td><td>Customer CCKOT</td><td>Switzerland</td><td>NULL</td><td>Genève</td></tr><tr><td>69</td><td>Customer SIUIH</td><td>Spain</td><td>NULL</td><td>Madrid</td></tr><tr><td>70</td><td>Customer TMXGN</td><td>Norway</td><td>NULL</td><td>Stavern</td></tr><tr><td>71</td><td>Customer LCOUJ</td><td>USA</td><td>ID</td><td>Boise</td></tr><tr><td>72</td><td>Customer AHPOP</td><td>UK</td><td>NULL</td><td>London</td></tr><tr><td>73</td><td>Customer JMIKW</td><td>Denmark</td><td>NULL</td><td>Kobenhavn</td></tr><tr><td>74</td><td>Customer YSHXL</td><td>France</td><td>NULL</td><td>Paris</td></tr><tr><td>75</td><td>Customer XOJYP</td><td>USA</td><td>WY</td><td>Lander</td></tr><tr><td>76</td><td>Customer SFOGW</td><td>Belgium</td><td>NULL</td><td>Charleroi</td></tr><tr><td>77</td><td>Customer LCYBZ</td><td>USA</td><td>OR</td><td>Portland</td></tr><tr><td>78</td><td>Customer NLTYP</td><td>USA</td><td>MT</td><td>Butte</td></tr><tr><td>79</td><td>Customer FAPSM</td><td>Germany</td><td>NULL</td><td>Münster</td></tr><tr><td>80</td><td>Customer VONTK</td><td>Mexico</td><td>NULL</td><td>México D.F.</td></tr><tr><td>81</td><td>Customer YQQWW</td><td>Brazil</td><td>SP</td><td>Sao Paulo</td></tr><tr><td>82</td><td>Customer EYHKM</td><td>USA</td><td>WA</td><td>Kirkland</td></tr><tr><td>83</td><td>Customer ZRNDE</td><td>Denmark</td><td>NULL</td><td>Århus</td></tr><tr><td>84</td><td>Customer NRCSK</td><td>France</td><td>NULL</td><td>Lyon</td></tr><tr><td>85</td><td>Customer ENQZT</td><td>France</td><td>NULL</td><td>Reims</td></tr><tr><td>86</td><td>Customer SNXOJ</td><td>Germany</td><td>NULL</td><td>Stuttgart</td></tr><tr><td>87</td><td>Customer ZHYOS</td><td>Finland</td><td>NULL</td><td>Oulu</td></tr><tr><td>88</td><td>Customer SRQVM</td><td>Brazil</td><td>SP</td><td>Resende</td></tr><tr><td>89</td><td>Customer YBQTI</td><td>USA</td><td>WA</td><td>Seattle</td></tr><tr><td>90</td><td>Customer XBBVR</td><td>Finland</td><td>NULL</td><td>Helsinki</td></tr><tr><td>91</td><td>Customer CCFIZ</td><td>Poland</td><td>NULL</td><td>Warszawa</td></tr><tr><td>100</td><td>Coho Winery</td><td>USA</td><td>WA</td><td>Redmond</td></tr></table>"
                    },
                    "metadata": {}
                },
                {
                    "output_type": "execute_result",
                    "execution_count": 35,
                    "data": {
                        "application/vnd.dataresource+json": {
                            "schema": {
                                "fields": [
                                    {
                                        "name": "custid"
                                    },
                                    {
                                        "name": "oldregion"
                                    },
                                    {
                                        "name": "newregion"
                                    }
                                ]
                            },
                            "data": [
                                {
                                    "0": "1",
                                    "1": "NULL",
                                    "2": "<None>"
                                },
                                {
                                    "0": "2",
                                    "1": "NULL",
                                    "2": "<None>"
                                },
                                {
                                    "0": "3",
                                    "1": "NULL",
                                    "2": "<None>"
                                },
                                {
                                    "0": "4",
                                    "1": "NULL",
                                    "2": "<None>"
                                },
                                {
                                    "0": "5",
                                    "1": "NULL",
                                    "2": "<None>"
                                },
                                {
                                    "0": "6",
                                    "1": "NULL",
                                    "2": "<None>"
                                },
                                {
                                    "0": "7",
                                    "1": "NULL",
                                    "2": "<None>"
                                },
                                {
                                    "0": "8",
                                    "1": "NULL",
                                    "2": "<None>"
                                },
                                {
                                    "0": "9",
                                    "1": "NULL",
                                    "2": "<None>"
                                },
                                {
                                    "0": "11",
                                    "1": "NULL",
                                    "2": "<None>"
                                },
                                {
                                    "0": "12",
                                    "1": "NULL",
                                    "2": "<None>"
                                },
                                {
                                    "0": "13",
                                    "1": "NULL",
                                    "2": "<None>"
                                },
                                {
                                    "0": "14",
                                    "1": "NULL",
                                    "2": "<None>"
                                },
                                {
                                    "0": "16",
                                    "1": "NULL",
                                    "2": "<None>"
                                },
                                {
                                    "0": "17",
                                    "1": "NULL",
                                    "2": "<None>"
                                },
                                {
                                    "0": "18",
                                    "1": "NULL",
                                    "2": "<None>"
                                },
                                {
                                    "0": "19",
                                    "1": "NULL",
                                    "2": "<None>"
                                },
                                {
                                    "0": "20",
                                    "1": "NULL",
                                    "2": "<None>"
                                },
                                {
                                    "0": "23",
                                    "1": "NULL",
                                    "2": "<None>"
                                },
                                {
                                    "0": "24",
                                    "1": "NULL",
                                    "2": "<None>"
                                },
                                {
                                    "0": "25",
                                    "1": "NULL",
                                    "2": "<None>"
                                },
                                {
                                    "0": "26",
                                    "1": "NULL",
                                    "2": "<None>"
                                },
                                {
                                    "0": "27",
                                    "1": "NULL",
                                    "2": "<None>"
                                },
                                {
                                    "0": "28",
                                    "1": "NULL",
                                    "2": "<None>"
                                },
                                {
                                    "0": "29",
                                    "1": "NULL",
                                    "2": "<None>"
                                },
                                {
                                    "0": "30",
                                    "1": "NULL",
                                    "2": "<None>"
                                },
                                {
                                    "0": "39",
                                    "1": "NULL",
                                    "2": "<None>"
                                },
                                {
                                    "0": "40",
                                    "1": "NULL",
                                    "2": "<None>"
                                },
                                {
                                    "0": "41",
                                    "1": "NULL",
                                    "2": "<None>"
                                },
                                {
                                    "0": "44",
                                    "1": "NULL",
                                    "2": "<None>"
                                },
                                {
                                    "0": "49",
                                    "1": "NULL",
                                    "2": "<None>"
                                },
                                {
                                    "0": "50",
                                    "1": "NULL",
                                    "2": "<None>"
                                },
                                {
                                    "0": "52",
                                    "1": "NULL",
                                    "2": "<None>"
                                },
                                {
                                    "0": "53",
                                    "1": "NULL",
                                    "2": "<None>"
                                },
                                {
                                    "0": "54",
                                    "1": "NULL",
                                    "2": "<None>"
                                },
                                {
                                    "0": "56",
                                    "1": "NULL",
                                    "2": "<None>"
                                },
                                {
                                    "0": "58",
                                    "1": "NULL",
                                    "2": "<None>"
                                },
                                {
                                    "0": "59",
                                    "1": "NULL",
                                    "2": "<None>"
                                },
                                {
                                    "0": "60",
                                    "1": "NULL",
                                    "2": "<None>"
                                },
                                {
                                    "0": "63",
                                    "1": "NULL",
                                    "2": "<None>"
                                },
                                {
                                    "0": "64",
                                    "1": "NULL",
                                    "2": "<None>"
                                },
                                {
                                    "0": "66",
                                    "1": "NULL",
                                    "2": "<None>"
                                },
                                {
                                    "0": "68",
                                    "1": "NULL",
                                    "2": "<None>"
                                },
                                {
                                    "0": "69",
                                    "1": "NULL",
                                    "2": "<None>"
                                },
                                {
                                    "0": "70",
                                    "1": "NULL",
                                    "2": "<None>"
                                },
                                {
                                    "0": "72",
                                    "1": "NULL",
                                    "2": "<None>"
                                },
                                {
                                    "0": "73",
                                    "1": "NULL",
                                    "2": "<None>"
                                },
                                {
                                    "0": "74",
                                    "1": "NULL",
                                    "2": "<None>"
                                },
                                {
                                    "0": "76",
                                    "1": "NULL",
                                    "2": "<None>"
                                },
                                {
                                    "0": "79",
                                    "1": "NULL",
                                    "2": "<None>"
                                },
                                {
                                    "0": "80",
                                    "1": "NULL",
                                    "2": "<None>"
                                },
                                {
                                    "0": "83",
                                    "1": "NULL",
                                    "2": "<None>"
                                },
                                {
                                    "0": "84",
                                    "1": "NULL",
                                    "2": "<None>"
                                },
                                {
                                    "0": "85",
                                    "1": "NULL",
                                    "2": "<None>"
                                },
                                {
                                    "0": "86",
                                    "1": "NULL",
                                    "2": "<None>"
                                },
                                {
                                    "0": "87",
                                    "1": "NULL",
                                    "2": "<None>"
                                },
                                {
                                    "0": "90",
                                    "1": "NULL",
                                    "2": "<None>"
                                },
                                {
                                    "0": "91",
                                    "1": "NULL",
                                    "2": "<None>"
                                }
                            ]
                        },
                        "text/html": "<table><tr><th>custid</th><th>oldregion</th><th>newregion</th></tr><tr><td>1</td><td>NULL</td><td>&lt;None&gt;</td></tr><tr><td>2</td><td>NULL</td><td>&lt;None&gt;</td></tr><tr><td>3</td><td>NULL</td><td>&lt;None&gt;</td></tr><tr><td>4</td><td>NULL</td><td>&lt;None&gt;</td></tr><tr><td>5</td><td>NULL</td><td>&lt;None&gt;</td></tr><tr><td>6</td><td>NULL</td><td>&lt;None&gt;</td></tr><tr><td>7</td><td>NULL</td><td>&lt;None&gt;</td></tr><tr><td>8</td><td>NULL</td><td>&lt;None&gt;</td></tr><tr><td>9</td><td>NULL</td><td>&lt;None&gt;</td></tr><tr><td>11</td><td>NULL</td><td>&lt;None&gt;</td></tr><tr><td>12</td><td>NULL</td><td>&lt;None&gt;</td></tr><tr><td>13</td><td>NULL</td><td>&lt;None&gt;</td></tr><tr><td>14</td><td>NULL</td><td>&lt;None&gt;</td></tr><tr><td>16</td><td>NULL</td><td>&lt;None&gt;</td></tr><tr><td>17</td><td>NULL</td><td>&lt;None&gt;</td></tr><tr><td>18</td><td>NULL</td><td>&lt;None&gt;</td></tr><tr><td>19</td><td>NULL</td><td>&lt;None&gt;</td></tr><tr><td>20</td><td>NULL</td><td>&lt;None&gt;</td></tr><tr><td>23</td><td>NULL</td><td>&lt;None&gt;</td></tr><tr><td>24</td><td>NULL</td><td>&lt;None&gt;</td></tr><tr><td>25</td><td>NULL</td><td>&lt;None&gt;</td></tr><tr><td>26</td><td>NULL</td><td>&lt;None&gt;</td></tr><tr><td>27</td><td>NULL</td><td>&lt;None&gt;</td></tr><tr><td>28</td><td>NULL</td><td>&lt;None&gt;</td></tr><tr><td>29</td><td>NULL</td><td>&lt;None&gt;</td></tr><tr><td>30</td><td>NULL</td><td>&lt;None&gt;</td></tr><tr><td>39</td><td>NULL</td><td>&lt;None&gt;</td></tr><tr><td>40</td><td>NULL</td><td>&lt;None&gt;</td></tr><tr><td>41</td><td>NULL</td><td>&lt;None&gt;</td></tr><tr><td>44</td><td>NULL</td><td>&lt;None&gt;</td></tr><tr><td>49</td><td>NULL</td><td>&lt;None&gt;</td></tr><tr><td>50</td><td>NULL</td><td>&lt;None&gt;</td></tr><tr><td>52</td><td>NULL</td><td>&lt;None&gt;</td></tr><tr><td>53</td><td>NULL</td><td>&lt;None&gt;</td></tr><tr><td>54</td><td>NULL</td><td>&lt;None&gt;</td></tr><tr><td>56</td><td>NULL</td><td>&lt;None&gt;</td></tr><tr><td>58</td><td>NULL</td><td>&lt;None&gt;</td></tr><tr><td>59</td><td>NULL</td><td>&lt;None&gt;</td></tr><tr><td>60</td><td>NULL</td><td>&lt;None&gt;</td></tr><tr><td>63</td><td>NULL</td><td>&lt;None&gt;</td></tr><tr><td>64</td><td>NULL</td><td>&lt;None&gt;</td></tr><tr><td>66</td><td>NULL</td><td>&lt;None&gt;</td></tr><tr><td>68</td><td>NULL</td><td>&lt;None&gt;</td></tr><tr><td>69</td><td>NULL</td><td>&lt;None&gt;</td></tr><tr><td>70</td><td>NULL</td><td>&lt;None&gt;</td></tr><tr><td>72</td><td>NULL</td><td>&lt;None&gt;</td></tr><tr><td>73</td><td>NULL</td><td>&lt;None&gt;</td></tr><tr><td>74</td><td>NULL</td><td>&lt;None&gt;</td></tr><tr><td>76</td><td>NULL</td><td>&lt;None&gt;</td></tr><tr><td>79</td><td>NULL</td><td>&lt;None&gt;</td></tr><tr><td>80</td><td>NULL</td><td>&lt;None&gt;</td></tr><tr><td>83</td><td>NULL</td><td>&lt;None&gt;</td></tr><tr><td>84</td><td>NULL</td><td>&lt;None&gt;</td></tr><tr><td>85</td><td>NULL</td><td>&lt;None&gt;</td></tr><tr><td>86</td><td>NULL</td><td>&lt;None&gt;</td></tr><tr><td>87</td><td>NULL</td><td>&lt;None&gt;</td></tr><tr><td>90</td><td>NULL</td><td>&lt;None&gt;</td></tr><tr><td>91</td><td>NULL</td><td>&lt;None&gt;</td></tr></table>"
                    },
                    "metadata": {}
                }
            ],
            "execution_count": 35
        },
        {
            "cell_type": "markdown",
            "source": [
                "5\\. Update the dbo.Orders all orders placed by UK customers. Set their shipcountry, shipregion, shipcity to the country, region, city of Corresponding customers from dbo.Customers"
            ],
            "metadata": {
                "language": "sql",
                "azdata_cell_guid": "174a2911-3e80-4511-8386-75d7a74e8953"
            },
            "attachments": {}
        },
        {
            "cell_type": "code",
            "source": [
                "use TSQLV4\n",
                "\n",
                "--clearly merge\n",
                "\n",
                "MERGE INTO dbo.Orders as tgt \n",
                "USING dbo.Customers as src \n",
                "    on tgt.custid = src.custid and src.country = N'UK'\n",
                "-- only merge matching customers who are from the UK\n",
                "WHEN MATCHED THEN\n",
                "    UPDATE SET \n",
                "    -- on a match update the data with the src table\n",
                "        tgt.shipcountry = src.country,\n",
                "        tgt.shipregion = src.region,\n",
                "        tgt.shipcity = src.city\n",
                "OUTPUT deleted.shipcountry as oldcountry,\n",
                "    inserted.shipcountry as newcountry,\n",
                "    deleted.shipregion as oldregion,\n",
                "    inserted.shipregion as newregion,\n",
                "    deleted.shipcity as oldcity,\n",
                "    inserted.shipcity as newcity;"
            ],
            "metadata": {
                "language": "sql",
                "azdata_cell_guid": "f1af7200-34f6-48be-823c-3dae9fcfcdf2",
                "tags": []
            },
            "outputs": [
                {
                    "output_type": "display_data",
                    "data": {
                        "text/html": "(56 rows affected)"
                    },
                    "metadata": {}
                },
                {
                    "output_type": "display_data",
                    "data": {
                        "text/html": "Total execution time: 00:00:00.055"
                    },
                    "metadata": {}
                },
                {
                    "output_type": "execute_result",
                    "execution_count": 37,
                    "data": {
                        "application/vnd.dataresource+json": {
                            "schema": {
                                "fields": [
                                    {
                                        "name": "oldcountry"
                                    },
                                    {
                                        "name": "newcountry"
                                    },
                                    {
                                        "name": "oldregion"
                                    },
                                    {
                                        "name": "newregion"
                                    },
                                    {
                                        "name": "oldcity"
                                    },
                                    {
                                        "name": "newcity"
                                    }
                                ]
                            },
                            "data": [
                                {
                                    "0": "UK",
                                    "1": "UK",
                                    "2": "NULL",
                                    "3": "<None>",
                                    "4": "London",
                                    "5": "London"
                                },
                                {
                                    "0": "UK",
                                    "1": "UK",
                                    "2": "Isle of Wight",
                                    "3": "Isle of Wight",
                                    "4": "Cowes",
                                    "5": "Cowes"
                                },
                                {
                                    "0": "UK",
                                    "1": "UK",
                                    "2": "Isle of Wight",
                                    "3": "Isle of Wight",
                                    "4": "Cowes",
                                    "5": "Cowes"
                                },
                                {
                                    "0": "UK",
                                    "1": "UK",
                                    "2": "Isle of Wight",
                                    "3": "Isle of Wight",
                                    "4": "Cowes",
                                    "5": "Cowes"
                                },
                                {
                                    "0": "UK",
                                    "1": "UK",
                                    "2": "Essex",
                                    "3": "<None>",
                                    "4": "Colchester",
                                    "5": "London"
                                },
                                {
                                    "0": "UK",
                                    "1": "UK",
                                    "2": "NULL",
                                    "3": "<None>",
                                    "4": "London",
                                    "5": "London"
                                },
                                {
                                    "0": "UK",
                                    "1": "UK",
                                    "2": "NULL",
                                    "3": "<None>",
                                    "4": "London",
                                    "5": "London"
                                },
                                {
                                    "0": "UK",
                                    "1": "UK",
                                    "2": "NULL",
                                    "3": "<None>",
                                    "4": "London",
                                    "5": "London"
                                },
                                {
                                    "0": "UK",
                                    "1": "UK",
                                    "2": "Essex",
                                    "3": "<None>",
                                    "4": "Colchester",
                                    "5": "London"
                                },
                                {
                                    "0": "UK",
                                    "1": "UK",
                                    "2": "NULL",
                                    "3": "<None>",
                                    "4": "London",
                                    "5": "London"
                                },
                                {
                                    "0": "UK",
                                    "1": "UK",
                                    "2": "NULL",
                                    "3": "<None>",
                                    "4": "London",
                                    "5": "London"
                                },
                                {
                                    "0": "UK",
                                    "1": "UK",
                                    "2": "NULL",
                                    "3": "<None>",
                                    "4": "London",
                                    "5": "London"
                                },
                                {
                                    "0": "UK",
                                    "1": "UK",
                                    "2": "Essex",
                                    "3": "<None>",
                                    "4": "Colchester",
                                    "5": "London"
                                },
                                {
                                    "0": "UK",
                                    "1": "UK",
                                    "2": "NULL",
                                    "3": "<None>",
                                    "4": "London",
                                    "5": "London"
                                },
                                {
                                    "0": "UK",
                                    "1": "UK",
                                    "2": "NULL",
                                    "3": "<None>",
                                    "4": "London",
                                    "5": "London"
                                },
                                {
                                    "0": "UK",
                                    "1": "UK",
                                    "2": "NULL",
                                    "3": "<None>",
                                    "4": "London",
                                    "5": "London"
                                },
                                {
                                    "0": "UK",
                                    "1": "UK",
                                    "2": "Isle of Wight",
                                    "3": "Isle of Wight",
                                    "4": "Cowes",
                                    "5": "Cowes"
                                },
                                {
                                    "0": "UK",
                                    "1": "UK",
                                    "2": "NULL",
                                    "3": "<None>",
                                    "4": "London",
                                    "5": "London"
                                },
                                {
                                    "0": "UK",
                                    "1": "UK",
                                    "2": "NULL",
                                    "3": "<None>",
                                    "4": "London",
                                    "5": "London"
                                },
                                {
                                    "0": "UK",
                                    "1": "UK",
                                    "2": "NULL",
                                    "3": "<None>",
                                    "4": "London",
                                    "5": "London"
                                },
                                {
                                    "0": "UK",
                                    "1": "UK",
                                    "2": "NULL",
                                    "3": "<None>",
                                    "4": "London",
                                    "5": "London"
                                },
                                {
                                    "0": "UK",
                                    "1": "UK",
                                    "2": "NULL",
                                    "3": "<None>",
                                    "4": "London",
                                    "5": "London"
                                },
                                {
                                    "0": "UK",
                                    "1": "UK",
                                    "2": "NULL",
                                    "3": "<None>",
                                    "4": "London",
                                    "5": "London"
                                },
                                {
                                    "0": "UK",
                                    "1": "UK",
                                    "2": "NULL",
                                    "3": "<None>",
                                    "4": "London",
                                    "5": "London"
                                },
                                {
                                    "0": "UK",
                                    "1": "UK",
                                    "2": "Essex",
                                    "3": "<None>",
                                    "4": "Colchester",
                                    "5": "London"
                                },
                                {
                                    "0": "UK",
                                    "1": "UK",
                                    "2": "NULL",
                                    "3": "<None>",
                                    "4": "London",
                                    "5": "London"
                                },
                                {
                                    "0": "UK",
                                    "1": "UK",
                                    "2": "NULL",
                                    "3": "<None>",
                                    "4": "London",
                                    "5": "London"
                                },
                                {
                                    "0": "UK",
                                    "1": "UK",
                                    "2": "Isle of Wight",
                                    "3": "Isle of Wight",
                                    "4": "Cowes",
                                    "5": "Cowes"
                                },
                                {
                                    "0": "UK",
                                    "1": "UK",
                                    "2": "Isle of Wight",
                                    "3": "Isle of Wight",
                                    "4": "Cowes",
                                    "5": "Cowes"
                                },
                                {
                                    "0": "UK",
                                    "1": "UK",
                                    "2": "Essex",
                                    "3": "<None>",
                                    "4": "Colchester",
                                    "5": "London"
                                },
                                {
                                    "0": "UK",
                                    "1": "UK",
                                    "2": "NULL",
                                    "3": "<None>",
                                    "4": "London",
                                    "5": "London"
                                },
                                {
                                    "0": "UK",
                                    "1": "UK",
                                    "2": "Essex",
                                    "3": "<None>",
                                    "4": "Colchester",
                                    "5": "London"
                                },
                                {
                                    "0": "UK",
                                    "1": "UK",
                                    "2": "Essex",
                                    "3": "<None>",
                                    "4": "Colchester",
                                    "5": "London"
                                },
                                {
                                    "0": "UK",
                                    "1": "UK",
                                    "2": "Isle of Wight",
                                    "3": "Isle of Wight",
                                    "4": "Cowes",
                                    "5": "Cowes"
                                },
                                {
                                    "0": "UK",
                                    "1": "UK",
                                    "2": "NULL",
                                    "3": "<None>",
                                    "4": "London",
                                    "5": "London"
                                },
                                {
                                    "0": "UK",
                                    "1": "UK",
                                    "2": "Essex",
                                    "3": "<None>",
                                    "4": "Colchester",
                                    "5": "London"
                                },
                                {
                                    "0": "UK",
                                    "1": "UK",
                                    "2": "Essex",
                                    "3": "<None>",
                                    "4": "Colchester",
                                    "5": "London"
                                },
                                {
                                    "0": "UK",
                                    "1": "UK",
                                    "2": "Isle of Wight",
                                    "3": "Isle of Wight",
                                    "4": "Cowes",
                                    "5": "Cowes"
                                },
                                {
                                    "0": "UK",
                                    "1": "UK",
                                    "2": "NULL",
                                    "3": "<None>",
                                    "4": "London",
                                    "5": "London"
                                },
                                {
                                    "0": "UK",
                                    "1": "UK",
                                    "2": "NULL",
                                    "3": "<None>",
                                    "4": "London",
                                    "5": "London"
                                },
                                {
                                    "0": "UK",
                                    "1": "UK",
                                    "2": "Isle of Wight",
                                    "3": "Isle of Wight",
                                    "4": "Cowes",
                                    "5": "Cowes"
                                },
                                {
                                    "0": "UK",
                                    "1": "UK",
                                    "2": "NULL",
                                    "3": "<None>",
                                    "4": "London",
                                    "5": "London"
                                },
                                {
                                    "0": "UK",
                                    "1": "UK",
                                    "2": "Essex",
                                    "3": "<None>",
                                    "4": "Colchester",
                                    "5": "London"
                                },
                                {
                                    "0": "UK",
                                    "1": "UK",
                                    "2": "NULL",
                                    "3": "<None>",
                                    "4": "London",
                                    "5": "London"
                                },
                                {
                                    "0": "UK",
                                    "1": "UK",
                                    "2": "Essex",
                                    "3": "<None>",
                                    "4": "Colchester",
                                    "5": "London"
                                },
                                {
                                    "0": "UK",
                                    "1": "UK",
                                    "2": "Isle of Wight",
                                    "3": "Isle of Wight",
                                    "4": "Cowes",
                                    "5": "Cowes"
                                },
                                {
                                    "0": "UK",
                                    "1": "UK",
                                    "2": "NULL",
                                    "3": "<None>",
                                    "4": "London",
                                    "5": "London"
                                },
                                {
                                    "0": "UK",
                                    "1": "UK",
                                    "2": "NULL",
                                    "3": "<None>",
                                    "4": "London",
                                    "5": "London"
                                },
                                {
                                    "0": "UK",
                                    "1": "UK",
                                    "2": "Essex",
                                    "3": "<None>",
                                    "4": "Colchester",
                                    "5": "London"
                                },
                                {
                                    "0": "UK",
                                    "1": "UK",
                                    "2": "NULL",
                                    "3": "<None>",
                                    "4": "London",
                                    "5": "London"
                                },
                                {
                                    "0": "UK",
                                    "1": "UK",
                                    "2": "Essex",
                                    "3": "<None>",
                                    "4": "Colchester",
                                    "5": "London"
                                },
                                {
                                    "0": "UK",
                                    "1": "UK",
                                    "2": "NULL",
                                    "3": "<None>",
                                    "4": "London",
                                    "5": "London"
                                },
                                {
                                    "0": "UK",
                                    "1": "UK",
                                    "2": "NULL",
                                    "3": "<None>",
                                    "4": "London",
                                    "5": "London"
                                },
                                {
                                    "0": "UK",
                                    "1": "UK",
                                    "2": "NULL",
                                    "3": "<None>",
                                    "4": "London",
                                    "5": "London"
                                },
                                {
                                    "0": "UK",
                                    "1": "UK",
                                    "2": "NULL",
                                    "3": "<None>",
                                    "4": "London",
                                    "5": "London"
                                },
                                {
                                    "0": "UK",
                                    "1": "UK",
                                    "2": "NULL",
                                    "3": "<None>",
                                    "4": "London",
                                    "5": "London"
                                }
                            ]
                        },
                        "text/html": "<table><tr><th>oldcountry</th><th>newcountry</th><th>oldregion</th><th>newregion</th><th>oldcity</th><th>newcity</th></tr><tr><td>UK</td><td>UK</td><td>NULL</td><td>&lt;None&gt;</td><td>London</td><td>London</td></tr><tr><td>UK</td><td>UK</td><td>Isle of Wight</td><td>Isle of Wight</td><td>Cowes</td><td>Cowes</td></tr><tr><td>UK</td><td>UK</td><td>Isle of Wight</td><td>Isle of Wight</td><td>Cowes</td><td>Cowes</td></tr><tr><td>UK</td><td>UK</td><td>Isle of Wight</td><td>Isle of Wight</td><td>Cowes</td><td>Cowes</td></tr><tr><td>UK</td><td>UK</td><td>Essex</td><td>&lt;None&gt;</td><td>Colchester</td><td>London</td></tr><tr><td>UK</td><td>UK</td><td>NULL</td><td>&lt;None&gt;</td><td>London</td><td>London</td></tr><tr><td>UK</td><td>UK</td><td>NULL</td><td>&lt;None&gt;</td><td>London</td><td>London</td></tr><tr><td>UK</td><td>UK</td><td>NULL</td><td>&lt;None&gt;</td><td>London</td><td>London</td></tr><tr><td>UK</td><td>UK</td><td>Essex</td><td>&lt;None&gt;</td><td>Colchester</td><td>London</td></tr><tr><td>UK</td><td>UK</td><td>NULL</td><td>&lt;None&gt;</td><td>London</td><td>London</td></tr><tr><td>UK</td><td>UK</td><td>NULL</td><td>&lt;None&gt;</td><td>London</td><td>London</td></tr><tr><td>UK</td><td>UK</td><td>NULL</td><td>&lt;None&gt;</td><td>London</td><td>London</td></tr><tr><td>UK</td><td>UK</td><td>Essex</td><td>&lt;None&gt;</td><td>Colchester</td><td>London</td></tr><tr><td>UK</td><td>UK</td><td>NULL</td><td>&lt;None&gt;</td><td>London</td><td>London</td></tr><tr><td>UK</td><td>UK</td><td>NULL</td><td>&lt;None&gt;</td><td>London</td><td>London</td></tr><tr><td>UK</td><td>UK</td><td>NULL</td><td>&lt;None&gt;</td><td>London</td><td>London</td></tr><tr><td>UK</td><td>UK</td><td>Isle of Wight</td><td>Isle of Wight</td><td>Cowes</td><td>Cowes</td></tr><tr><td>UK</td><td>UK</td><td>NULL</td><td>&lt;None&gt;</td><td>London</td><td>London</td></tr><tr><td>UK</td><td>UK</td><td>NULL</td><td>&lt;None&gt;</td><td>London</td><td>London</td></tr><tr><td>UK</td><td>UK</td><td>NULL</td><td>&lt;None&gt;</td><td>London</td><td>London</td></tr><tr><td>UK</td><td>UK</td><td>NULL</td><td>&lt;None&gt;</td><td>London</td><td>London</td></tr><tr><td>UK</td><td>UK</td><td>NULL</td><td>&lt;None&gt;</td><td>London</td><td>London</td></tr><tr><td>UK</td><td>UK</td><td>NULL</td><td>&lt;None&gt;</td><td>London</td><td>London</td></tr><tr><td>UK</td><td>UK</td><td>NULL</td><td>&lt;None&gt;</td><td>London</td><td>London</td></tr><tr><td>UK</td><td>UK</td><td>Essex</td><td>&lt;None&gt;</td><td>Colchester</td><td>London</td></tr><tr><td>UK</td><td>UK</td><td>NULL</td><td>&lt;None&gt;</td><td>London</td><td>London</td></tr><tr><td>UK</td><td>UK</td><td>NULL</td><td>&lt;None&gt;</td><td>London</td><td>London</td></tr><tr><td>UK</td><td>UK</td><td>Isle of Wight</td><td>Isle of Wight</td><td>Cowes</td><td>Cowes</td></tr><tr><td>UK</td><td>UK</td><td>Isle of Wight</td><td>Isle of Wight</td><td>Cowes</td><td>Cowes</td></tr><tr><td>UK</td><td>UK</td><td>Essex</td><td>&lt;None&gt;</td><td>Colchester</td><td>London</td></tr><tr><td>UK</td><td>UK</td><td>NULL</td><td>&lt;None&gt;</td><td>London</td><td>London</td></tr><tr><td>UK</td><td>UK</td><td>Essex</td><td>&lt;None&gt;</td><td>Colchester</td><td>London</td></tr><tr><td>UK</td><td>UK</td><td>Essex</td><td>&lt;None&gt;</td><td>Colchester</td><td>London</td></tr><tr><td>UK</td><td>UK</td><td>Isle of Wight</td><td>Isle of Wight</td><td>Cowes</td><td>Cowes</td></tr><tr><td>UK</td><td>UK</td><td>NULL</td><td>&lt;None&gt;</td><td>London</td><td>London</td></tr><tr><td>UK</td><td>UK</td><td>Essex</td><td>&lt;None&gt;</td><td>Colchester</td><td>London</td></tr><tr><td>UK</td><td>UK</td><td>Essex</td><td>&lt;None&gt;</td><td>Colchester</td><td>London</td></tr><tr><td>UK</td><td>UK</td><td>Isle of Wight</td><td>Isle of Wight</td><td>Cowes</td><td>Cowes</td></tr><tr><td>UK</td><td>UK</td><td>NULL</td><td>&lt;None&gt;</td><td>London</td><td>London</td></tr><tr><td>UK</td><td>UK</td><td>NULL</td><td>&lt;None&gt;</td><td>London</td><td>London</td></tr><tr><td>UK</td><td>UK</td><td>Isle of Wight</td><td>Isle of Wight</td><td>Cowes</td><td>Cowes</td></tr><tr><td>UK</td><td>UK</td><td>NULL</td><td>&lt;None&gt;</td><td>London</td><td>London</td></tr><tr><td>UK</td><td>UK</td><td>Essex</td><td>&lt;None&gt;</td><td>Colchester</td><td>London</td></tr><tr><td>UK</td><td>UK</td><td>NULL</td><td>&lt;None&gt;</td><td>London</td><td>London</td></tr><tr><td>UK</td><td>UK</td><td>Essex</td><td>&lt;None&gt;</td><td>Colchester</td><td>London</td></tr><tr><td>UK</td><td>UK</td><td>Isle of Wight</td><td>Isle of Wight</td><td>Cowes</td><td>Cowes</td></tr><tr><td>UK</td><td>UK</td><td>NULL</td><td>&lt;None&gt;</td><td>London</td><td>London</td></tr><tr><td>UK</td><td>UK</td><td>NULL</td><td>&lt;None&gt;</td><td>London</td><td>London</td></tr><tr><td>UK</td><td>UK</td><td>Essex</td><td>&lt;None&gt;</td><td>Colchester</td><td>London</td></tr><tr><td>UK</td><td>UK</td><td>NULL</td><td>&lt;None&gt;</td><td>London</td><td>London</td></tr><tr><td>UK</td><td>UK</td><td>Essex</td><td>&lt;None&gt;</td><td>Colchester</td><td>London</td></tr><tr><td>UK</td><td>UK</td><td>NULL</td><td>&lt;None&gt;</td><td>London</td><td>London</td></tr><tr><td>UK</td><td>UK</td><td>NULL</td><td>&lt;None&gt;</td><td>London</td><td>London</td></tr><tr><td>UK</td><td>UK</td><td>NULL</td><td>&lt;None&gt;</td><td>London</td><td>London</td></tr><tr><td>UK</td><td>UK</td><td>NULL</td><td>&lt;None&gt;</td><td>London</td><td>London</td></tr><tr><td>UK</td><td>UK</td><td>NULL</td><td>&lt;None&gt;</td><td>London</td><td>London</td></tr></table>"
                    },
                    "metadata": {}
                }
            ],
            "execution_count": 37
        },
        {
            "cell_type": "markdown",
            "source": [
                "6. Create and populate tables Orders, OrderDetails. Write and test TSQL code to truncate both tables."
            ],
            "metadata": {
                "language": "sql",
                "azdata_cell_guid": "a100e7d2-2505-4d9b-b1ba-0eb850a7a497"
            },
            "attachments": {}
        },
        {
            "cell_type": "code",
            "source": [
                "USE TSQLV4;\n",
                "-- clearly many constraints to drop before truncating as seen in project\n",
                "DROP TABLE IF EXISTS dbo.OrderDetails, dbo.Orders;\n",
                "\n",
                "CREATE TABLE dbo.Orders\n",
                "(\n",
                "  orderid        INT          NOT NULL,\n",
                "  custid         INT          NULL,\n",
                "  empid          INT          NOT NULL,\n",
                "  orderdate      DATE         NOT NULL,\n",
                "  requireddate   DATE         NOT NULL,\n",
                "  shippeddate    DATE         NULL,\n",
                "  shipperid      INT          NOT NULL,\n",
                "  freight        MONEY        NOT NULL\n",
                "    CONSTRAINT DFT_Orders_freight DEFAULT(0),\n",
                "  shipname       NVARCHAR(40) NOT NULL,\n",
                "  shipaddress    NVARCHAR(60) NOT NULL,\n",
                "  shipcity       NVARCHAR(15) NOT NULL,\n",
                "  shipregion     NVARCHAR(15) NULL,\n",
                "  shippostalcode NVARCHAR(10) NULL,\n",
                "  shipcountry    NVARCHAR(15) NOT NULL,\n",
                "  CONSTRAINT PK_Orders PRIMARY KEY(orderid)\n",
                ");\n",
                "\n",
                "CREATE TABLE dbo.OrderDetails\n",
                "(\n",
                "  orderid   INT           NOT NULL,\n",
                "  productid INT           NOT NULL,\n",
                "  unitprice MONEY         NOT NULL\n",
                "    CONSTRAINT DFT_OrderDetails_unitprice DEFAULT(0),\n",
                "  qty       SMALLINT      NOT NULL\n",
                "    CONSTRAINT DFT_OrderDetails_qty DEFAULT(1),\n",
                "  discount  NUMERIC(4, 3) NOT NULL\n",
                "    CONSTRAINT DFT_OrderDetails_discount DEFAULT(0),\n",
                "  CONSTRAINT PK_OrderDetails PRIMARY KEY(orderid, productid),\n",
                "  CONSTRAINT FK_OrderDetails_Orders FOREIGN KEY(orderid)\n",
                "    REFERENCES dbo.Orders(orderid),\n",
                "  CONSTRAINT CHK_discount  CHECK (discount BETWEEN 0 AND 1),\n",
                "  CONSTRAINT CHK_qty  CHECK (qty > 0),\n",
                "  CONSTRAINT CHK_unitprice CHECK (unitprice >= 0)\n",
                ");\n",
                "GO\n",
                "\n",
                "INSERT INTO dbo.Orders SELECT * FROM Sales.Orders;\n",
                "INSERT INTO dbo.OrderDetails SELECT * FROM Sales.OrderDetails;\n",
                "\n",
                "-- my truncate code\n",
                "-- TRUNCATE TABLE dbo.Orders \n",
                "-- Cannot truncate table 'dbo.Orders' because it is being \n",
                "-- referenced by a FOREIGN KEY constraint.\n",
                "\n",
                "-- drop the PK\n",
                "-- ALTER TABLE dbo.Orders \n",
                "-- DROP CONSTRAINT DFT_Orders_freight, PK_Orders\n",
                "\n",
                "-- The constraint 'PK_Orders' is being referenced by table 'OrderDetails', \n",
                "-- foreign key constraint 'FK_OrderDetails_Orders'.\n",
                "\n",
                "-- do OrdersDetails first!\n",
                "ALTER TABLE dbo.OrderDetails \n",
                "DROP CONSTRAINT DFT_OrderDetails_unitprice, \n",
                "    DFT_OrderDetails_qty, \n",
                "    DFT_OrderDetails_discount,\n",
                "    PK_OrderDetails,\n",
                "    FK_OrderDetails_Orders,\n",
                "    CHK_discount,\n",
                "    CHK_qty,\n",
                "    CHK_unitprice\n",
                "\n",
                "TRUNCATE TABLE dbo.OrderDetails\n",
                "SELECT * FROM dbo.OrderDetails\n",
                "\n",
                "-- now Orders\n",
                "ALTER TABLE dbo.Orders \n",
                "DROP CONSTRAINT DFT_Orders_freight, PK_Orders\n",
                "\n",
                "TRUNCATE TABLE dbo.Orders\n",
                "SELECT * FROM dbo.Orders\n",
                ""
            ],
            "metadata": {
                "language": "sql",
                "azdata_cell_guid": "84f724ca-fd18-4c57-843e-0e06935f1aef",
                "tags": []
            },
            "outputs": [
                {
                    "output_type": "display_data",
                    "data": {
                        "text/html": "Commands completed successfully."
                    },
                    "metadata": {}
                },
                {
                    "output_type": "display_data",
                    "data": {
                        "text/html": "(830 rows affected)"
                    },
                    "metadata": {}
                },
                {
                    "output_type": "display_data",
                    "data": {
                        "text/html": "(2155 rows affected)"
                    },
                    "metadata": {}
                },
                {
                    "output_type": "display_data",
                    "data": {
                        "text/html": "(0 rows affected)"
                    },
                    "metadata": {}
                },
                {
                    "output_type": "display_data",
                    "data": {
                        "text/html": "(0 rows affected)"
                    },
                    "metadata": {}
                },
                {
                    "output_type": "display_data",
                    "data": {
                        "text/html": "Total execution time: 00:00:00.122"
                    },
                    "metadata": {}
                },
                {
                    "output_type": "execute_result",
                    "execution_count": 45,
                    "data": {
                        "application/vnd.dataresource+json": {
                            "schema": {
                                "fields": [
                                    {
                                        "name": "orderid"
                                    },
                                    {
                                        "name": "productid"
                                    },
                                    {
                                        "name": "unitprice"
                                    },
                                    {
                                        "name": "qty"
                                    },
                                    {
                                        "name": "discount"
                                    }
                                ]
                            },
                            "data": []
                        },
                        "text/html": "<table><tr><th>orderid</th><th>productid</th><th>unitprice</th><th>qty</th><th>discount</th></tr></table>"
                    },
                    "metadata": {}
                },
                {
                    "output_type": "execute_result",
                    "execution_count": 45,
                    "data": {
                        "application/vnd.dataresource+json": {
                            "schema": {
                                "fields": [
                                    {
                                        "name": "orderid"
                                    },
                                    {
                                        "name": "custid"
                                    },
                                    {
                                        "name": "empid"
                                    },
                                    {
                                        "name": "orderdate"
                                    },
                                    {
                                        "name": "requireddate"
                                    },
                                    {
                                        "name": "shippeddate"
                                    },
                                    {
                                        "name": "shipperid"
                                    },
                                    {
                                        "name": "freight"
                                    },
                                    {
                                        "name": "shipname"
                                    },
                                    {
                                        "name": "shipaddress"
                                    },
                                    {
                                        "name": "shipcity"
                                    },
                                    {
                                        "name": "shipregion"
                                    },
                                    {
                                        "name": "shippostalcode"
                                    },
                                    {
                                        "name": "shipcountry"
                                    }
                                ]
                            },
                            "data": []
                        },
                        "text/html": "<table><tr><th>orderid</th><th>custid</th><th>empid</th><th>orderdate</th><th>requireddate</th><th>shippeddate</th><th>shipperid</th><th>freight</th><th>shipname</th><th>shipaddress</th><th>shipcity</th><th>shipregion</th><th>shippostalcode</th><th>shipcountry</th></tr></table>"
                    },
                    "metadata": {}
                }
            ],
            "execution_count": 45
        }
    ]
}